{
 "cells": [
  {
   "cell_type": "markdown",
   "metadata": {
    "toc": true
   },
   "source": [
    "<h1>Table of Contents<span class=\"tocSkip\"></span></h1>\n",
    "<div class=\"toc\" style=\"margin-top: 1em;\"><ul class=\"toc-item\"><li><span><a href=\"#Monocle-analysis-of-cell-gene-matrix\" data-toc-modified-id=\"Monocle-analysis-of-cell-gene-matrix-1\">Monocle analysis of cell-gene matrix</a></span><ul class=\"toc-item\"><li><span><a href=\"#Setup-for-analysis\" data-toc-modified-id=\"Setup-for-analysis-1.1\">Setup for analysis</a></span><ul class=\"toc-item\"><li><span><a href=\"#Load-/-install-packages\" data-toc-modified-id=\"Load-/-install-packages-1.1.1\">Load / install packages</a></span></li><li><span><a href=\"#Notebook-wide-variables-/-functions\" data-toc-modified-id=\"Notebook-wide-variables-/-functions-1.1.2\">Notebook-wide variables / functions</a></span></li></ul></li><li><span><a href=\"#Get-cell-gene-matrices\" data-toc-modified-id=\"Get-cell-gene-matrices-1.2\">Get cell-gene matrices</a></span><ul class=\"toc-item\"><li><span><a href=\"#Specify-cell-types\" data-toc-modified-id=\"Specify-cell-types-1.2.1\">Specify cell types</a></span></li><li><span><a href=\"#Specify-samples\" data-toc-modified-id=\"Specify-samples-1.2.2\">Specify samples</a></span></li><li><span><a href=\"#Load-cell-gene-matrix\" data-toc-modified-id=\"Load-cell-gene-matrix-1.2.3\">Load cell-gene matrix</a></span></li></ul></li><li><span><a href=\"#Estimate-multiplet-frequency\" data-toc-modified-id=\"Estimate-multiplet-frequency-1.3\">Estimate multiplet frequency</a></span><ul class=\"toc-item\"><li><span><a href=\"#Annotate-cross-celltype-multiplets\" data-toc-modified-id=\"Annotate-cross-celltype-multiplets-1.3.1\">Annotate cross-celltype multiplets</a></span></li><li><span><a href=\"#Tabulate-multiplet-frequency\" data-toc-modified-id=\"Tabulate-multiplet-frequency-1.3.2\">Tabulate multiplet frequency</a></span></li></ul></li><li><span><a href=\"#Filter-low-quality-cells\" data-toc-modified-id=\"Filter-low-quality-cells-1.4\">Filter low-quality cells</a></span><ul class=\"toc-item\"><li><span><a href=\"#Annotate-number-of-cellular-and-flu-mRNAs,-set-bounds-for-filtering\" data-toc-modified-id=\"Annotate-number-of-cellular-and-flu-mRNAs,-set-bounds-for-filtering-1.4.1\">Annotate number of cellular and flu mRNAs, set bounds for filtering</a></span></li><li><span><a href=\"#Plot-cellular-/-flu-mRNAs-with-filters\" data-toc-modified-id=\"Plot-cellular-/-flu-mRNAs-with-filters-1.4.2\">Plot cellular / flu mRNAs with filters</a></span></li></ul></li><li><span><a href=\"#Estimate-infected-thresholds-from-canine-cells\" data-toc-modified-id=\"Estimate-infected-thresholds-from-canine-cells-1.5\">Estimate infected thresholds from canine cells</a></span><ul class=\"toc-item\"><li><span><a href=\"#Check-for-constant-fraction-flu\" data-toc-modified-id=\"Check-for-constant-fraction-flu-1.5.1\">Check for constant fraction flu</a></span></li><li><span><a href=\"#Confirm-equal-mix-of-flu-barcodes-in-canine-cells\" data-toc-modified-id=\"Confirm-equal-mix-of-flu-barcodes-in-canine-cells-1.5.2\">Confirm equal mix of flu barcodes in canine cells</a></span></li><li><span><a href=\"#Look-at-segment-frequencies\" data-toc-modified-id=\"Look-at-segment-frequencies-1.5.3\">Look at segment frequencies</a></span></li></ul></li></ul></li></ul></div>"
   ]
  },
  {
   "cell_type": "markdown",
   "metadata": {},
   "source": [
    "# Monocle analysis of cell-gene matrix\n",
    "This notebook starts with the annotated cell-gene matrix, and performs analyses using [Monocle](http://cole-trapnell-lab.github.io/monocle-release/).\n",
    "\n",
    "Analysis by Alistair Russell and [Jesse Bloom](https://research.fhcrc.org/bloom/en.html)."
   ]
  },
  {
   "cell_type": "markdown",
   "metadata": {},
   "source": [
    "## Setup for analysis\n",
    "\n",
    "### Load / install packages\n",
    "Load or install the necessary `R` packages, print session information that describes the packages / versions used."
   ]
  },
  {
   "cell_type": "code",
   "execution_count": 1,
   "metadata": {},
   "outputs": [
    {
     "data": {
      "text/plain": [
       "R version 3.4.4 (2018-03-15)\n",
       "Platform: x86_64-apple-darwin15.6.0 (64-bit)\n",
       "Running under: macOS Sierra 10.12.6\n",
       "\n",
       "Matrix products: default\n",
       "BLAS: /Library/Frameworks/R.framework/Versions/3.4/Resources/lib/libRblas.0.dylib\n",
       "LAPACK: /Library/Frameworks/R.framework/Versions/3.4/Resources/lib/libRlapack.dylib\n",
       "\n",
       "locale:\n",
       "[1] en_US.UTF-8/en_US.UTF-8/en_US.UTF-8/C/en_US.UTF-8/en_US.UTF-8\n",
       "\n",
       "attached base packages:\n",
       " [1] splines   stats4    parallel  grid      stats     graphics  grDevices\n",
       " [8] utils     datasets  methods   base     \n",
       "\n",
       "other attached packages:\n",
       " [1] piano_1.16.1        monocle_2.5.3       DDRTree_0.1.5      \n",
       " [4] irlba_2.2.1         VGAM_1.0-3          Biobase_2.36.2     \n",
       " [7] BiocGenerics_0.22.0 DescTools_0.99.23   naturalsort_0.1.3  \n",
       "[10] RColorBrewer_1.1-2  purrr_0.2.2.2       readr_1.1.1        \n",
       "[13] tidyr_0.6.3         tibble_1.3.3        tidyverse_1.1.1    \n",
       "[16] ggpubr_0.1.4        colorRamps_2.3      qlcMatrix_0.9.5    \n",
       "[19] slam_0.1-40         Matrix_1.2-12       psych_1.7.5        \n",
       "[22] IRdisplay_0.4.4     rmarkdown_1.5       magrittr_1.5       \n",
       "[25] dplyr_0.7.1         reshape2_1.4.2      scales_0.4.1       \n",
       "[28] cowplot_0.7.0       gridExtra_2.2.1     ggExtra_0.6        \n",
       "[31] ggthemes_3.4.0      ggplot2_2.2.1       pacman_0.4.6       \n",
       "\n",
       "loaded via a namespace (and not attached):\n",
       " [1] fgsea_1.2.1            Rtsne_0.13             colorspace_1.3-2      \n",
       " [4] rprojroot_1.2          manipulate_1.0.1       mvtnorm_1.0-6         \n",
       " [7] lubridate_1.6.0        xml2_1.1.1             mnormt_1.5-5          \n",
       "[10] knitr_1.16             IRkernel_0.8.6.9000    jsonlite_1.5          \n",
       "[13] broom_0.4.2            cluster_2.0.6          pheatmap_1.0.8        \n",
       "[16] shiny_1.0.3            compiler_3.4.4         httr_1.2.1            \n",
       "[19] backports_1.1.0        assertthat_0.2.0       lazyeval_0.2.0        \n",
       "[22] limma_3.32.2           htmltools_0.3.6        tools_3.4.4           \n",
       "[25] bindrcpp_0.2           igraph_1.0.1           gtable_0.2.0          \n",
       "[28] glue_1.1.1             fastmatch_1.1-0        Rcpp_0.12.13          \n",
       "[31] cellranger_1.1.0       gdata_2.18.0           nlme_3.1-131.1        \n",
       "[34] stringr_1.2.0          rvest_0.3.2            mime_0.5              \n",
       "[37] miniUI_0.1.1           gtools_3.5.0           MASS_7.3-49           \n",
       "[40] hms_0.3                relations_0.6-6        expm_0.999-2          \n",
       "[43] sets_1.0-17            fastICA_1.2-1          stringi_1.1.5         \n",
       "[46] caTools_1.17.1         densityClust_0.2.1     boot_1.3-20           \n",
       "[49] BiocParallel_1.10.1    repr_0.12.0            rlang_0.1.1           \n",
       "[52] pkgconfig_2.0.1        matrixStats_0.52.2     bitops_1.0-6          \n",
       "[55] evaluate_0.10          lattice_0.20-35        bindr_0.1             \n",
       "[58] plyr_1.8.4             R6_2.2.2               gplots_3.0.1          \n",
       "[61] combinat_0.0-8         pbdZMQ_0.2-6           haven_1.1.0           \n",
       "[64] foreign_0.8-69         modelr_0.1.0           crayon_1.3.2          \n",
       "[67] uuid_0.1-2             KernSmooth_2.23-15     readxl_1.0.0          \n",
       "[70] data.table_1.10.4      marray_1.54.0          forcats_0.2.0         \n",
       "[73] HSMMSingleCell_0.110.0 digest_0.6.12          xtable_1.8-2          \n",
       "[76] httpuv_1.3.3           munsell_0.4.3         "
      ]
     },
     "metadata": {},
     "output_type": "display_data"
    }
   ],
   "source": [
    "options(warn=-1) # suppress warnings that otherwise clutter output\n",
    "\n",
    "if (!require(\"pacman\", quietly=TRUE)) \n",
    "  install.packages(\"pacman\")\n",
    "pacman::p_load(\"ggplot2\", \"ggthemes\", \"ggExtra\", \"gridExtra\", \"cowplot\", \"scales\", \"reshape2\", \n",
    "  \"dplyr\", \"magrittr\", \"rmarkdown\", \"IRdisplay\", \"psych\", \"qlcMatrix\", \"colorRamps\", \"ggpubr\",\n",
    "  \"tidyverse\", \"RColorBrewer\", \"naturalsort\", \"grid\", \"DescTools\")\n",
    "\n",
    "bioc.packages <- c(\"monocle\", \"piano\")\n",
    "if (!(all(suppressMessages(lapply(bioc.packages, require, quietly=TRUE, character.only=TRUE))))) {\n",
    "  source(\"http://bioconductor.org/biocLite.R\")\n",
    "  biocLite()\n",
    "  biocLite(bioc.packages, suppressWarnings=TRUE)\n",
    "}   \n",
    "    \n",
    "# print information on session\n",
    "sessionInfo()"
   ]
  },
  {
   "cell_type": "markdown",
   "metadata": {},
   "source": [
    "### Notebook-wide variables / functions\n",
    "Define some variables and functions that are used throughout the rest of the notebook."
   ]
  },
  {
   "cell_type": "code",
   "execution_count": 2,
   "metadata": {},
   "outputs": [],
   "source": [
    "# http://www.cookbook-r.com/Graphs/Colors_(ggplot2)/#a-colorblind-friendly-palette\n",
    "# The palette with grey:\n",
    "cbPalette <- c(\"#999999\", \"#E69F00\", \"#56B4E9\", \"#009E73\", \"#F0E442\", \n",
    "               \"#0072B2\", \"#D55E00\", \"#CC79A7\")\n",
    "# The palette with black\n",
    "cbbPalette <- c(\"#000000\", \"#E69F00\", \"#56B4E9\", \"#009E73\", \"#F0E442\", \n",
    "                \"#0072B2\", \"#D55E00\", \"#CC79A7\")\n",
    "\n",
    "# plots will be saved here\n",
    "plotsdir <- './results/plots/'\n",
    "if (!dir.exists(plotsdir)) \n",
    "  dir.create(plotsdir)    \n",
    "    \n",
    "# figures for paper will be saved here\n",
    "figsdir <- './paper/figures/'\n",
    "if (!dir.exists(figsdir))\n",
    "  dir.create(figsdir)\n",
    "\n",
    "saveShowPlot <- function(p, width, height, isfig=FALSE) {\n",
    "  # save plot with filename of variable name with dots replaced by _, then show\n",
    "  # if *isfig* is TRUE, then also saves a PDF to *figsdir*\n",
    "  pngfile <- file.path(plotsdir, sprintf(\"%s.png\", \n",
    "    gsub(\"\\\\.\", \"_\", deparse(substitute(p)))))\n",
    "  figfile <- file.path(figsdir, sprintf(\"%s.pdf\", \n",
    "    gsub(\"\\\\.\", \"_\", deparse(substitute(p)))))\n",
    "  ggsave(pngfile, plot=p, width=width, height=height, units=\"in\")\n",
    "  if (isfig)\n",
    "    ggsave(figfile, plot=p, width=width, height=height, units=\"in\")\n",
    "  display_png(file=pngfile, width=width * 90)\n",
    "}\n",
    "    \n",
    "fancy_scientific <- function(x, parse.str=TRUE, digits=NULL) {\n",
    "  # scientific notation formatting, based loosely on https://stackoverflow.com/a/24241954\n",
    "  # if `parse.str` is TRUE, then we parse the string into an expression\n",
    "  # `digits` indicates how many digits to include\n",
    "  x %>% format(scientific=TRUE, digits=digits) %>% gsub(\"^0e\\\\+00\",\"0\", .) %>%\n",
    "    gsub(\"^1e\\\\+00\", \"1\", .) %>% gsub(\"^(.*)e\", \"'\\\\1'e\", .) %>% \n",
    "    gsub(\"e\\\\+\",\"e\", .) %>% gsub(\"e\", \"%*%10^\", .) %>%\n",
    "    gsub(\"^\\'1\\'\\\\%\\\\*\\\\%\", \"\", .) %>% {if (parse.str) parse(text=.) else .}\n",
    "}"
   ]
  },
  {
   "cell_type": "markdown",
   "metadata": {},
   "source": [
    "## Get cell-gene matrices\n",
    "\n",
    "### Specify cell types\n",
    "\n",
    "We have two cell types in the experiments, and there is a separate cell-gene matrix for each cell type.\n",
    "The two cell types are:\n",
    "  - *humanplusflu*: A549 cells infected with influenza\n",
    "  - *canine*: MDCK cells spiked in as a control to estimate leakage / contamination rate.\n",
    "\n",
    "For most analyses, the *humanplusflu* cell types is the one of interest, the *canine* cells are the \"other\" cell type used as a control.\n",
    "We therefore specify variables giving the celltype of interest and the other cell type:"
   ]
  },
  {
   "cell_type": "code",
   "execution_count": 3,
   "metadata": {},
   "outputs": [],
   "source": [
    "celltype_interest <- \"humanplusflu\"\n",
    "celltype_other <- \"canine\"\n",
    "\n",
    "celltypes <- c(celltype_interest, celltype_other)"
   ]
  },
  {
   "cell_type": "markdown",
   "metadata": {},
   "source": [
    "### Specify samples\n",
    "We have two samples:\n",
    "  - *IFN_enriched*: cells that have been MACS-sorted for IFN+ at 13-hours post-infection\n",
    "  - *not_enriched*: cells at 10 hours post-infection that have not been sorted for IFN+"
   ]
  },
  {
   "cell_type": "code",
   "execution_count": 4,
   "metadata": {},
   "outputs": [],
   "source": [
    "samples <- c(\"IFN_enriched\", \"not_enriched\")"
   ]
  },
  {
   "cell_type": "markdown",
   "metadata": {},
   "source": [
    "### Load cell-gene matrix\n",
    "\n",
    "We load the cell-gene matrices that were created previously by [align_and_annotate.ipynb](align_and_annotate.ipynb).\n",
    "These matrices include all cells identified by [cellranger](https://support.10xgenomics.com/single-cell-gene-expression/software/pipelines/latest/what-is-cell-ranger).\n",
    "Note that the flu reads are annotated by the synonymous barcodes near the 3' ends by [align_and_annotate.ipynb](align_and_annotate.ipynb) after the [cellranger](https://support.10xgenomics.com/single-cell-gene-expression/software/pipelines/latest/what-is-cell-ranger) analysis\n",
    "\n",
    "Note that each cell-gene matrix has entries for all samples."
   ]
  },
  {
   "cell_type": "code",
   "execution_count": 5,
   "metadata": {},
   "outputs": [],
   "source": [
    "# Cell gene matrices in this directory\n",
    "matrixdir <- \"./results/cellgenecounts/\"\n",
    "\n",
    "# Read cell-gene matrices for each sample into a vector named by cell type.\n",
    "# These are in `matrixdir` with names like \"merged_humanplusflu_matrix.mtx\"\n",
    "all_cells <- lapply(\n",
    "  setNames(celltypes, celltypes),\n",
    "  function(celltype) {\n",
    "    newCellDataSet(\n",
    "      readMM(file.path(matrixdir, paste(\"merged\", celltype, \"matrix.mtx\", sep=\"_\"))),\n",
    "      phenoData=new(\n",
    "        \"AnnotatedDataFrame\",\n",
    "        data=read.delim(file.path(matrixdir, paste(\"merged\", celltype, \"cells.tsv\", sep=\"_\")))\n",
    "        ),\n",
    "      featureData=new(\n",
    "        \"AnnotatedDataFrame\",\n",
    "        data=read.delim(file.path(matrixdir, paste(\"merged\", celltype, \"genes.tsv\", sep=\"_\")))\n",
    "        ),\n",
    "      expressionFamily=negbinomial.size()\n",
    "      ) \n",
    "    }\n",
    "  )"
   ]
  },
  {
   "cell_type": "markdown",
   "metadata": {},
   "source": [
    "Here are some basic statistics about the number of cells in the matrix for each cell type and Sample.\n",
    "We see below that most of the cells are *humanplusflu*. \n",
    "This is expected, since the canine cells were spiked in at a relatively low fraction (targeting about 5 to 10%)."
   ]
  },
  {
   "cell_type": "code",
   "execution_count": 6,
   "metadata": {},
   "outputs": [
    {
     "data": {
      "text/html": [
       "<table>\n",
       "<thead><tr><th scope=col>Sample</th><th scope=col>celltype</th><th scope=col>ncells</th></tr></thead>\n",
       "<tbody>\n",
       "\t<tr><td>IFN_enriched</td><td>humanplusflu</td><td>1626        </td></tr>\n",
       "\t<tr><td>IFN_enriched</td><td>canine      </td><td>  62        </td></tr>\n",
       "\t<tr><td>not_enriched</td><td>humanplusflu</td><td>1634        </td></tr>\n",
       "\t<tr><td>not_enriched</td><td>canine      </td><td> 115        </td></tr>\n",
       "</tbody>\n",
       "</table>\n"
      ],
      "text/latex": [
       "\\begin{tabular}{r|lll}\n",
       " Sample & celltype & ncells\\\\\n",
       "\\hline\n",
       "\t IFN\\_enriched & humanplusflu   & 1626          \\\\\n",
       "\t IFN\\_enriched & canine         &   62          \\\\\n",
       "\t not\\_enriched & humanplusflu   & 1634          \\\\\n",
       "\t not\\_enriched & canine         &  115          \\\\\n",
       "\\end{tabular}\n"
      ],
      "text/markdown": [
       "\n",
       "Sample | celltype | ncells | \n",
       "|---|---|---|---|\n",
       "| IFN_enriched | humanplusflu | 1626         | \n",
       "| IFN_enriched | canine       |   62         | \n",
       "| not_enriched | humanplusflu | 1634         | \n",
       "| not_enriched | canine       |  115         | \n",
       "\n",
       "\n"
      ],
      "text/plain": [
       "  Sample       celltype     ncells\n",
       "1 IFN_enriched humanplusflu 1626  \n",
       "2 IFN_enriched canine         62  \n",
       "3 not_enriched humanplusflu 1634  \n",
       "4 not_enriched canine        115  "
      ]
     },
     "metadata": {},
     "output_type": "display_data"
    },
    {
     "data": {
      "image/png": "[encoded data removed]"
     },
     "metadata": {
      "width": 450
     },
     "output_type": "display_data"
    }
   ],
   "source": [
    "# get and show number of cells for each sample and celltype\n",
    "tab_ncells_nofilter <- lapply(\n",
    "    celltypes,\n",
    "    function (celltype) {pData(all_cells[[celltype]]) %>% mutate(celltype=celltype)}\n",
    "    ) %>%\n",
    "  bind_rows %>%\n",
    "  transform(Sample=factor(Sample, samples), celltype=factor(celltype, celltypes)) %>%\n",
    "  arrange(Sample, celltype) %>%\n",
    "  group_by(Sample, celltype) %>%\n",
    "  summarize(ncells=n())\n",
    "\n",
    "tab_ncells_nofilter\n",
    "\n",
    "# plot number of cells\n",
    "p_ncells_nofilter <- ggplot(tab_ncells_nofilter,\n",
    "    aes(Sample, y=ncells, x=Sample, fill=celltype)) +\n",
    "  geom_bar(width=0.75, position=\"dodge\", stat=\"identity\") +\n",
    "  scale_y_continuous(name=\"number of cells\") +\n",
    "  scale_x_discrete(name=NULL) + \n",
    "  theme(axis.text.x=element_text(angle=90, hjust=1, vjust=0.5)) +\n",
    "  coord_flip() +\n",
    "  scale_fill_manual(values=tail(cbbPalette, -1))\n",
    "\n",
    "saveShowPlot(p_ncells_nofilter, width=5, height=2.5)"
   ]
  },
  {
   "cell_type": "markdown",
   "metadata": {},
   "source": [
    "Note that the statistics above are for the cells called by the 10X [cellranger](https://support.10xgenomics.com/single-cell-gene-expression/software/pipelines/latest/what-is-cell-ranger) pipeline with **no filtering** of multiplets and outlier cells.\n",
    "These statistics change as we do the filtering below..."
   ]
  },
  {
   "cell_type": "markdown",
   "metadata": {},
   "source": [
    "## Estimate multiplet frequency\n",
    "We determine the \"multiplet rate\": the rate at which a droplet with a cell actually contains multiple cells.\n",
    "We do this by looking at the rate of cross-celltype multiplets, where we identify the same cell barcode on *humanplusflu* and *canine* cells.\n",
    "\n",
    "### Annotate cross-celltype multiplets\n",
    "We first look for cell barcodes that are called as both *humanplusflu* and *canine* cells.\n",
    "There are cross-species multiplets, and should be filtered from downstream analyses.\n",
    "Their identification also provides an estimate of the rate of multiplets in each sample overall.\n",
    "\n",
    "We annotate whether a cell is human / canine by adding a new *pData* attribute called *cross_celltype_multiplet*."
   ]
  },
  {
   "cell_type": "code",
   "execution_count": 7,
   "metadata": {},
   "outputs": [],
   "source": [
    "# Annotate cross-celltype multiplets\n",
    "for (celltype in celltypes) {\n",
    "  # get all barcodes for the other cell type  \n",
    "  other_cellbarcodes <- lapply(\n",
    "      celltypes,\n",
    "      function (other_celltype) {\n",
    "        if (celltype != other_celltype) { \n",
    "          pData(all_cells[[other_celltype]])$CellBarcode %>% as.character\n",
    "        }\n",
    "      }\n",
    "      ) %>%\n",
    "    unlist \n",
    "  # mark shared barcodes as multiplets  \n",
    "  pData(all_cells[[celltype]])$cross_celltype_multiplet <- all_cells[[celltype]] %>%\n",
    "    pData %$% \n",
    "    CellBarcode %in% other_cellbarcodes\n",
    "}"
   ]
  },
  {
   "cell_type": "markdown",
   "metadata": {},
   "source": [
    "Here are the statistics on these cross-celltype multiplets:"
   ]
  },
  {
   "cell_type": "code",
   "execution_count": 8,
   "metadata": {},
   "outputs": [
    {
     "data": {
      "text/html": [
       "<table>\n",
       "<thead><tr><th scope=col>Sample</th><th scope=col>celltype</th><th scope=col>cross_celltype_multiplet</th><th scope=col>ncells</th></tr></thead>\n",
       "<tbody>\n",
       "\t<tr><td>IFN_enriched</td><td>humanplusflu</td><td>FALSE       </td><td>1614        </td></tr>\n",
       "\t<tr><td>IFN_enriched</td><td>humanplusflu</td><td> TRUE       </td><td>  12        </td></tr>\n",
       "\t<tr><td>IFN_enriched</td><td>canine      </td><td>FALSE       </td><td>  50        </td></tr>\n",
       "\t<tr><td>IFN_enriched</td><td>canine      </td><td> TRUE       </td><td>  12        </td></tr>\n",
       "\t<tr><td>not_enriched</td><td>humanplusflu</td><td>FALSE       </td><td>1610        </td></tr>\n",
       "\t<tr><td>not_enriched</td><td>humanplusflu</td><td> TRUE       </td><td>  24        </td></tr>\n",
       "\t<tr><td>not_enriched</td><td>canine      </td><td>FALSE       </td><td>  91        </td></tr>\n",
       "\t<tr><td>not_enriched</td><td>canine      </td><td> TRUE       </td><td>  24        </td></tr>\n",
       "</tbody>\n",
       "</table>\n"
      ],
      "text/latex": [
       "\\begin{tabular}{r|llll}\n",
       " Sample & celltype & cross\\_celltype\\_multiplet & ncells\\\\\n",
       "\\hline\n",
       "\t IFN\\_enriched & humanplusflu   & FALSE          & 1614          \\\\\n",
       "\t IFN\\_enriched & humanplusflu   &  TRUE          &   12          \\\\\n",
       "\t IFN\\_enriched & canine         & FALSE          &   50          \\\\\n",
       "\t IFN\\_enriched & canine         &  TRUE          &   12          \\\\\n",
       "\t not\\_enriched & humanplusflu   & FALSE          & 1610          \\\\\n",
       "\t not\\_enriched & humanplusflu   &  TRUE          &   24          \\\\\n",
       "\t not\\_enriched & canine         & FALSE          &   91          \\\\\n",
       "\t not\\_enriched & canine         &  TRUE          &   24          \\\\\n",
       "\\end{tabular}\n"
      ],
      "text/markdown": [
       "\n",
       "Sample | celltype | cross_celltype_multiplet | ncells | \n",
       "|---|---|---|---|---|---|---|---|\n",
       "| IFN_enriched | humanplusflu | FALSE        | 1614         | \n",
       "| IFN_enriched | humanplusflu |  TRUE        |   12         | \n",
       "| IFN_enriched | canine       | FALSE        |   50         | \n",
       "| IFN_enriched | canine       |  TRUE        |   12         | \n",
       "| not_enriched | humanplusflu | FALSE        | 1610         | \n",
       "| not_enriched | humanplusflu |  TRUE        |   24         | \n",
       "| not_enriched | canine       | FALSE        |   91         | \n",
       "| not_enriched | canine       |  TRUE        |   24         | \n",
       "\n",
       "\n"
      ],
      "text/plain": [
       "  Sample       celltype     cross_celltype_multiplet ncells\n",
       "1 IFN_enriched humanplusflu FALSE                    1614  \n",
       "2 IFN_enriched humanplusflu  TRUE                      12  \n",
       "3 IFN_enriched canine       FALSE                      50  \n",
       "4 IFN_enriched canine        TRUE                      12  \n",
       "5 not_enriched humanplusflu FALSE                    1610  \n",
       "6 not_enriched humanplusflu  TRUE                      24  \n",
       "7 not_enriched canine       FALSE                      91  \n",
       "8 not_enriched canine        TRUE                      24  "
      ]
     },
     "metadata": {},
     "output_type": "display_data"
    }
   ],
   "source": [
    "tab_cross_celltype_multiplets <- lapply(\n",
    "    celltypes,\n",
    "    function (celltype) {\n",
    "      all_cells[[celltype]] %>% \n",
    "      pData %>% \n",
    "      mutate(celltype=celltype) %>%\n",
    "      group_by(Sample, celltype, cross_celltype_multiplet) %>% \n",
    "      summarize(ncells=n()) %>%\n",
    "      ungroup\n",
    "    }) %>%\n",
    "  bind_rows %>%\n",
    "  as_tibble %>%\n",
    "  arrange(Sample)\n",
    "\n",
    "tab_cross_celltype_multiplets"
   ]
  },
  {
   "cell_type": "markdown",
   "metadata": {},
   "source": [
    "### Tabulate multiplet frequency\n",
    "Now we put this data in a form that is easier to handle and visualize, and estimate the multiplet frequency. \n",
    "We estimate the multiplet frequency from the number of *canine* cells, *humanplusflu* cells, and multiplets using the function described in [Bloom (2018, DOI 10.1101/293639)](https://doi.org/10.1101/293639)."
   ]
  },
  {
   "cell_type": "code",
   "execution_count": 9,
   "metadata": {},
   "outputs": [
    {
     "data": {
      "text/html": [
       "<table>\n",
       "<thead><tr><th scope=col>Sample</th><th scope=col>canine</th><th scope=col>humanplusflu</th><th scope=col>multiplets</th><th scope=col>total_droplets</th><th scope=col>multiplet_freq</th></tr></thead>\n",
       "<tbody>\n",
       "\t<tr><td>IFN_enriched</td><td>50          </td><td>1614        </td><td>12          </td><td>1676        </td><td>0.1071366   </td></tr>\n",
       "\t<tr><td>not_enriched</td><td>91          </td><td>1610        </td><td>24          </td><td>1725        </td><td>0.1192787   </td></tr>\n",
       "</tbody>\n",
       "</table>\n"
      ],
      "text/latex": [
       "\\begin{tabular}{r|llllll}\n",
       " Sample & canine & humanplusflu & multiplets & total\\_droplets & multiplet\\_freq\\\\\n",
       "\\hline\n",
       "\t IFN\\_enriched & 50             & 1614           & 12             & 1676           & 0.1071366     \\\\\n",
       "\t not\\_enriched & 91             & 1610           & 24             & 1725           & 0.1192787     \\\\\n",
       "\\end{tabular}\n"
      ],
      "text/markdown": [
       "\n",
       "Sample | canine | humanplusflu | multiplets | total_droplets | multiplet_freq | \n",
       "|---|---|\n",
       "| IFN_enriched | 50           | 1614         | 12           | 1676         | 0.1071366    | \n",
       "| not_enriched | 91           | 1610         | 24           | 1725         | 0.1192787    | \n",
       "\n",
       "\n"
      ],
      "text/plain": [
       "  Sample       canine humanplusflu multiplets total_droplets multiplet_freq\n",
       "1 IFN_enriched 50     1614         12         1676           0.1071366     \n",
       "2 not_enriched 91     1610         24         1725           0.1192787     "
      ]
     },
     "metadata": {},
     "output_type": "display_data"
    }
   ],
   "source": [
    "# function from:\n",
    "# https://github.com/jbloomlab/multiplet_freq/blob/master/calcmultiplet.ipynb\n",
    "# Note that for this function, n1 and n2 are droplets with any cells from that\n",
    "# host (including doublets).\n",
    "multiplet_freq <- function(n1, n2, n12) {\n",
    "  n <- n1 * n2 / n12\n",
    "  mu1 <- -log((n - n1) / n)\n",
    "  mu2 <- -log((n - n2) / n)\n",
    "  mu <- mu1 + mu2\n",
    "  return (1 - mu * exp(-mu) / (1 - exp(-mu)))\n",
    "}\n",
    "\n",
    "# get number of multiplets for each sample\n",
    "n_multiplets <- tab_cross_celltype_multiplets %>%\n",
    "  filter(cross_celltype_multiplet) %>%\n",
    "  group_by(Sample) %>%\n",
    "  summarise(multiplets=mean(ncells)) \n",
    "\n",
    "# get single wide tibble with counts\n",
    "counts_celltypes_multiplets <- tab_cross_celltype_multiplets %>%\n",
    "  spread(celltype, ncells) %>%\n",
    "  filter(! cross_celltype_multiplet) %>%\n",
    "  select(-cross_celltype_multiplet) %>%\n",
    "  merge(n_multiplets) %>%\n",
    "  mutate(total_droplets=rowSums(.[2:4]),\n",
    "         multiplet_freq=multiplet_freq(humanplusflu + multiplets,\n",
    "                                       canine + multiplets,\n",
    "                                       multiplets))\n",
    "\n",
    "# display tibble\n",
    "counts_celltypes_multiplets "
   ]
  },
  {
   "cell_type": "markdown",
   "metadata": {},
   "source": [
    "So we see from the above analysis that only $\\sim$10% of the droplets are multiplets."
   ]
  },
  {
   "cell_type": "markdown",
   "metadata": {},
   "source": [
    "## Filter low-quality cells\n",
    "In the previous section, we estimated the multiplet frequency in the data returned by the `cellranger` pipeline.\n",
    "\n",
    "However, we can also try to filter the multiplets and other low-quality cells. We do this in two ways:\n",
    "\n",
    " 1. We can immediately remove any of the cross-celltype multiplets, as those are obviously multiplets.\n",
    " 2. We remove cells that have substantially more or less than the median number of cellular mRNAs detected for that cell type. This procedure is recommended in the [Monocle documentation](http://cole-trapnell-lab.github.io/monocle-release/docs/), and will remove multiplets since they will often have lots of mRNA detected, as well as some low-quality cells with little mRNA detected.\n",
    "\n",
    "\n",
    "### Annotate number of cellular and flu mRNAs, set bounds for filtering\n",
    "First we annotate cells with the number of total mRNAs, cellular mRNAs, total flu mRNAs, flu mRNAs for each gene, and fraction of total mRNA from flu.\n",
    "Note that for the *canine* cells, the flu genes are **not** in the reference genome, as the canine cells weren't infected. Nonetheless, they will have a small fraction of flu reads due to leakage. \n",
    "We get their number of flu reads from the pre-annotation of the cell-gene matrix.\n",
    "For the *humanplusflu* cells, we calculate the flu reads from the cell-gene matrix."
   ]
  },
  {
   "cell_type": "code",
   "execution_count": null,
   "metadata": {},
   "outputs": [],
   "source": [
    "# names of the flu genes\n",
    "# use \"flu\" prefix so \"NA\" isn't interpreted as not any\n",
    "flugenes <- c(\"fluPB2\", \"fluPB1\", \"fluPA\", \"fluHA\",\n",
    "               \"fluNP\", \"fluNA\", \"fluM\", \"fluNS\")\n",
    "flugenes_noprefix <- sapply(flugenes, function (x) gsub(\"flu\", \"\", x))\n",
    "\n",
    "# annotate by number of total, cellular, and flu mRNAs, and frac from flu\n",
    "all_cells <- lapply(\n",
    "  all_cells,\n",
    "  function (c) {\n",
    "    pData(c)$total_mRNAs <- Matrix::colSums(exprs(c))\n",
    "      \n",
    "    pData(c)$cell_mRNAs <- Matrix::colSums(exprs(c[\n",
    "      row.names(subset(fData(c), !(gene_short_name %in% flugenes))),]))\n",
    "      \n",
    "    flu_indices <- subset(fData(c), (gene_short_name %in% flugenes))\n",
    "    if (nrow(flu_indices) == length(flugenes)) {\n",
    "      # flu genes in cell-gene matrix, so calculate flu mRNAs from that\n",
    "      pData(c)$flu_mRNAs <- Matrix::colSums(exprs(c[\n",
    "        row.names(flu_indices),]))\n",
    "      for (g in flugenes) {\n",
    "        pData(c)[[paste0(g, \"_mRNAs\")]] = Matrix::colSums(\n",
    "          exprs(c[row.names(subset(fData(c), gene_short_name == g)), ]))    \n",
    "      }\n",
    "    } else {\n",
    "      # use flu count set during custom annotation of cell-gene matrix\n",
    "      pData(c)$flu_mRNAs <- pData(c)$total_annotated_flu\n",
    "      for (g in flugenes) {\n",
    "        pData(c)[[paste0(g, \"_mRNAs\")]] = pData(c)[[\n",
    "          paste0(\"annotated_\", g)]]\n",
    "      }\n",
    "    }\n",
    "\n",
    "    pData(c)$frac_mRNA_from_flu <- pData(c)$flu_mRNAs / pData(c)$total_mRNAs\n",
    "\n",
    "    return(c)\n",
    "  }\n",
    "  )"
   ]
  },
  {
   "cell_type": "markdown",
   "metadata": {},
   "source": [
    "Now we compute the median number of cellular mRNAs for each sample and exclude cells with substantially more or less than this median by setting upper and lower bounds.\n",
    "We set a *filtered* flag for all cells outside these bounds, as well as for any cells that are cross-celltype doublets:"
   ]
  },
  {
   "cell_type": "code",
   "execution_count": null,
   "metadata": {},
   "outputs": [],
   "source": [
    "bottom_bound = 2 # exclude if this many fold less than median\n",
    "top_bound = 2 # exclude if this many fold more than median\n",
    "\n",
    "# annotate cells with bounds\n",
    "all_cells <- lapply(\n",
    "  all_cells,\n",
    "  function (c) {\n",
    "    pData(c)$median_cell_mRNAs <- c %>%\n",
    "      pData %>%\n",
    "      group_by(Sample) %>%\n",
    "      mutate(median=median(cell_mRNAs)) %>%\n",
    "      ungroup %>%\n",
    "      select(median) %>%\n",
    "      unlist\n",
    "    pData(c)$lower_bound_cell_mRNAs <- pData(c)$median_cell_mRNAs / bottom_bound\n",
    "    pData(c)$upper_bound_cell_mRNAs <- pData(c)$median_cell_mRNAs * top_bound\n",
    "    pData(c)$filtered <- (\n",
    "      pData(c)$cell_mRNAs < pData(c)$lower_bound_cell_mRNAs |\n",
    "      pData(c)$cell_mRNAs > pData(c)$upper_bound_cell_mRNAs |\n",
    "      pData(c)$cross_celltype_multiplet)\n",
    "    return(c)\n",
    "    }\n",
    "    )\n",
    "\n",
    "# print the bounds and number of filtered cells\n",
    "lapply(\n",
    "  all_cells,\n",
    "  function (c) {\n",
    "    pData(c) %>% \n",
    "      group_by(Sample) %>%\n",
    "      summarize(median_cell_mRNAs=median_cell_mRNAs %>% first,\n",
    "                lower_bound_cell_mRNAs=lower_bound_cell_mRNAs %>% first,\n",
    "                upper_bound_cell_mRNAs=upper_bound_cell_mRNAs %>% first,\n",
    "                n_retained=sum(! filtered),\n",
    "                n_filtered=sum(filtered))\n",
    "  }\n",
    "  ) %>%\n",
    "  bind_rows(.id=\"cell_type\")"
   ]
  },
  {
   "cell_type": "markdown",
   "metadata": {},
   "source": [
    "### Plot cellular / flu mRNAs with filters\n",
    "Now we plot the number of cellular and viral mRNAs and show the filtering.\n",
    "Each point is a cell, the blue lines show the density over number of cellular mRNAs per cell, the green dotted lines show the lower and upper bounds for filtering, and the orange rug plots show the distribution of the number of flu mRNAs per cell.\n",
    "This plot does **not** show the cross-celltype multiplets, which are excluded from plotting since they have been filtered by another method already."
   ]
  },
  {
   "cell_type": "code",
   "execution_count": null,
   "metadata": {},
   "outputs": [],
   "source": [
    "# combine data for cell types to plot\n",
    "mRNA_counts_data <- all_cells %>%\n",
    "  lapply(function (c) {pData(c)}) %>%\n",
    "  bind_rows(.id=\"cell_type\") %>%\n",
    "  transform(Sample=factor(Sample, levels=samples),\n",
    "            cell_type=factor(cell_type, levels=celltypes)) %>%\n",
    "  filter(! cross_celltype_multiplet)\n",
    "\n",
    "# create scatter plot\n",
    "scatterplot <- ggplot(mRNA_counts_data,\n",
    "    aes(cell_mRNAs, flu_mRNAs), color=cbbPalette[[1]]) +\n",
    "  geom_point(alpha=0.4) + \n",
    "  geom_rug(sides='l', alpha=0.2, color=cbbPalette[[2]], size=0.8)\n",
    "\n",
    "# density plot, get value of maxy as here: https://stackoverflow.com/a/10659563\n",
    "densityplot <- eval(substitute(\n",
    "  {stat_density(aes(x=cell_mRNAs, y=maxy*(..scaled..)), geom=\"line\", color=cbbPalette[[3]])},\n",
    "  list(maxy=layer_scales(scatterplot)$y$range$range[2])))\n",
    "\n",
    "# combine into faceted plot\n",
    "p_flu_vs_cell <- scatterplot + densityplot + \n",
    "  theme(axis.text.x=element_text(angle=90, vjust=0.5, hjust=1)) +  \n",
    "  geom_vline(aes(xintercept=lower_bound_cell_mRNAs), \n",
    "                 color=cbbPalette[[4]], linetype='dotted') +\n",
    "  geom_vline(aes(xintercept=upper_bound_cell_mRNAs),\n",
    "                 color=cbbPalette[[4]], linetype='dotted') +\n",
    "  facet_grid(Sample ~ cell_type, scales='free_x') + \n",
    "  xlab(\"cellular mRNAs per cell\") + \n",
    "  ylab(\"flu mRNAs per cell\") \n",
    "\n",
    "saveShowPlot(p_flu_vs_cell, width=6.5, height=4.5)"
   ]
  },
  {
   "cell_type": "markdown",
   "metadata": {},
   "source": [
    "A key point in the above filtering is that we filtered based on the number of **cellular** mRNAs rather than total mRNAs.\n",
    "Our approach makes sense if the flu RNAs are extra in additional to the cellular mRNAs, but less sense if they replace the cellular mRNAs so that the total mRNA of infected cells is similar to uninfected cells.\n",
    "In the latter case, filtering out low cellular mRNA cells would preferentially remove infected cells.\n",
    "\n",
    "In our prior work ([Russell et al (2018)](https://elifesciences.org/articles/32303)), it seemed that viral mRNAs were mostly additional to cellular ones, supporting the idea of filtering on cellular mRNAs. \n",
    "To confirm that it is also the case here, we correlate the fraction of mRNA from flu with total and cellular mRNA.\n",
    "We see that for the infected cells (*humanplusflu*), it is much more correlated with total mRNA, with infected cells (lots of mRNA from flu) tending to have more total mRNA. \n",
    "Therefore, it makes more sense to filter on cellular mRNA as we have done above since it appears that highly infected cells tend to have similar amounts of cellular mRNA but more total mRNA."
   ]
  },
  {
   "cell_type": "code",
   "execution_count": null,
   "metadata": {},
   "outputs": [],
   "source": [
    "# creates string of correlation (R and P-value)\n",
    "cor_string <- function (x1, x2) {\n",
    "  cor <- cor.test(x1, x2, method='pearson')\n",
    "  sprintf(\"R = %.2f (P = %.1g)\", cor$estimate, cor$p.value)\n",
    "}\n",
    "\n",
    "mRNA_counts_data %>%\n",
    "  group_by(Sample, cell_type) %>%\n",
    "  summarize(fracflu_vs_total_mRNA=cor_string(\n",
    "              frac_mRNA_from_flu, total_mRNAs),\n",
    "            fracflu_vs_cellular_mRNA=cor_string(\n",
    "              frac_mRNA_from_flu, cell_mRNAs))"
   ]
  },
  {
   "cell_type": "markdown",
   "metadata": {},
   "source": [
    "## Estimate infected thresholds from canine cells\n",
    "We want to determine which cells we think are truly infected with flu various versus just having flu mRNA they have picked up from lysed cells.\n",
    "The canine cells provide a way to examine this, since they are **not** infected with flu and so should provide a baseline for how much viral mRNA to expect in non-infected cells.\n",
    "\n",
    "### Check for constant fraction flu\n",
    "The simplest scenario is one in which all non-infected cells simply acquire some fraction of their mRNA from flu.\n",
    "In this case, we would expect the number of flu mRNAs per cell to scale linearly with the total number of mRNA.\n",
    "First, we make some plots that suggest that this may be approximately true:"
   ]
  },
  {
   "cell_type": "code",
   "execution_count": null,
   "metadata": {},
   "outputs": [],
   "source": [
    "threshold_data <- all_cells[[celltype_other]] %>%\n",
    "  pData %>% \n",
    "  filter(! filtered) %>%\n",
    "  rename_all(funs(stringr::str_replace(., \"annotated_\", \"\"))) \n",
    "         \n",
    "p_threshold_linear <- ggplot(\n",
    "    threshold_data, aes(total_mRNAs, flu_mRNAs)) +\n",
    "  geom_point() +\n",
    "  geom_smooth(method='lm') + \n",
    "  facet_wrap(~Sample, scales='free')\n",
    "\n",
    "saveShowPlot(p_threshold_linear, width=6, height=3)"
   ]
  },
  {
   "cell_type": "markdown",
   "metadata": {},
   "source": [
    "Next, we estimate the fraction of mRNA in these infected cells that comes from flu.\n",
    "There are two ways we could do this:\n",
    "  1. Simply averaging over all cells\n",
    "  2. Taking a weighted average over cells, so that cells with more mRNA are weighted more strongly.\n",
    "  \n",
    "Below we see that these approaches given essentially identical results, so we just use the first approach."
   ]
  },
  {
   "cell_type": "code",
   "execution_count": null,
   "metadata": {},
   "outputs": [],
   "source": [
    "threshold_data %>% \n",
    "  group_by(Sample) %>%\n",
    "  summarize(mean_frac_flu=mean(frac_mRNA_from_flu),\n",
    "         weighted_mean_frac_flu=sum(flu_mRNAs) / sum(total_mRNAs))"
   ]
  },
  {
   "cell_type": "markdown",
   "metadata": {},
   "source": [
    "We now annotate cells by the predicted number of mRNAs from flu if they just have the average fractions calculated above: "
   ]
  },
  {
   "cell_type": "code",
   "execution_count": null,
   "metadata": {},
   "outputs": [],
   "source": [
    "threshold_data <- threshold_data %>% \n",
    "  group_by(Sample) %>%\n",
    "  mutate(mean_frac_flu=mean(frac_mRNA_from_flu)) %>%\n",
    "  ungroup %>%\n",
    "  mutate(predicted_flu_mRNAs=mean_frac_flu * total_mRNAs)\n",
    "\n",
    "p_actual_predicted_flu <- ggplot(\n",
    "    threshold_data, aes(predicted_flu_mRNAs, flu_mRNAs)) +\n",
    "  geom_point() +\n",
    "  facet_wrap(~Sample, scales='free') \n",
    "\n",
    "saveShowPlot(p_actual_predicted_flu, width=6, height=3)"
   ]
  },
  {
   "cell_type": "markdown",
   "metadata": {},
   "source": [
    "We now test if the predictions fit as well as expected if the data really Poisson distributed from the generated values.\n",
    "We do this using the [Poisson deviance goodness of fit test described here](http://thestatsgeek.com/2014/04/26/deviance-goodness-of-fit-test-for-poisson-regression/).\n",
    "We find that for the *IFN_enriched* sample, we can reject the Poisson fit.\n",
    "For the *not_enriched* sample, the idea of Poisson error around the estimated fraction provides a good fit.\n",
    "Still, the predicted values are reasonably close, so we are going to use the idea of a fraction of flu contamination to define \"infected cells.\""
   ]
  },
  {
   "cell_type": "code",
   "execution_count": null,
   "metadata": {},
   "outputs": [],
   "source": [
    "threshold_data %>%\n",
    "  mutate(dev_term=flu_mRNAs * log(flu_mRNAs / predicted_flu_mRNAs) -\n",
    "                  (flu_mRNAs - predicted_flu_mRNAs)) %>%\n",
    "  group_by(Sample) %>%\n",
    "  summarize(deviance=2 * sum(dev_term),\n",
    "            ndegrees=n() - 1,\n",
    "            P=pchisq(deviance, ndegrees, lower.tail=FALSE))"
   ]
  },
  {
   "cell_type": "markdown",
   "metadata": {},
   "source": [
    "### Confirm equal mix of flu barcodes in canine cells\n",
    "The human cells were infected with a mix of wildtype and synonymously barcoded virus.\n",
    "\n",
    "If the *canine* cells are just picking up environmental viral mRNA, then each should have a mix of mRNAs from these two viruses that should match the average composition of the *humanplusflu* cells.\n",
    "\n",
    "Below we verify that this is true: for both samples, we see that the fraction of flu reads with annotated wildtype or synonymous barcodes is about the same in *canine* and *humanplusflu* samples.\n",
    "Therefore, for the rest of this section, we will just use the fraction estimated from the *canine* cells."
   ]
  },
  {
   "cell_type": "code",
   "execution_count": null,
   "metadata": {},
   "outputs": [],
   "source": [
    "lapply(all_cells, function (c) pData(c)) %>%\n",
    "  bind_rows(.id=\"cell_type\") %>%\n",
    "  filter(! filtered) %>%\n",
    "  group_by(Sample, cell_type) %>%\n",
    "  summarize(n_wt_flu=sum(annotated_flu_wt),\n",
    "            n_syn_flu=sum(annotated_flu_syn),\n",
    "            frac_flu_wt=n_wt_flu / (n_wt_flu + n_syn_flu))"
   ]
  },
  {
   "cell_type": "markdown",
   "metadata": {},
   "source": [
    "Now we examine how well the fraction of flu reads from each barcode actually follows the predicted value assuming equal mixing.\n",
    "We obviously expect more statistical noise for samples with fewer reads with annotated barcodes, so we plot the fraction from each barcode as a function of the number of barcode-annotated reads.\n",
    "In the plots below, the horizontal line indicates the expected fraction from the sample averages.\n",
    "As the plot shows, the actual fractions are clustered around the horizontal line, with the clustering getting tighter as we increase the number of flu reads.\n",
    "This is as expected."
   ]
  },
  {
   "cell_type": "code",
   "execution_count": null,
   "metadata": {},
   "outputs": [],
   "source": [
    "threshold_data <- threshold_data %>%\n",
    "  group_by(Sample) %>%\n",
    "  mutate(avg_frac_flu_wt=sum(flu_wt) /\n",
    "          (sum(flu_wt) + sum(flu_syn))) %>%\n",
    "  ungroup %>%\n",
    "  mutate(n_annotated_flu=flu_wt + flu_syn,\n",
    "         frac_flu_wt=flu_wt / n_annotated_flu,\n",
    "         predicted_flu_wt=avg_frac_flu_wt * n_annotated_flu)\n",
    "\n",
    "p_barcode_fraction <- ggplot(\n",
    "    threshold_data, aes(n_annotated_flu, frac_flu_wt)) +\n",
    "  geom_point(alpha=0.33) +\n",
    "  geom_hline(aes(yintercept=avg_frac_flu_wt), color=cbbPalette[[2]]) + \n",
    "  facet_wrap(~Sample, scales='free_x')\n",
    "\n",
    "saveShowPlot(p_barcode_fraction, width=6, height=3)"
   ]
  },
  {
   "cell_type": "markdown",
   "metadata": {},
   "source": [
    "We now determine whether the observed \"noise\" in the fraction of flu with each barcode is consistent with a binomial distribution parameterized by the average fraction flu across the sample.\n",
    "We do this using the binomial deviance goodness of fit test, [calculating the deviance using the formula provided here](http://data.princeton.edu/wws509/notes/a2.pdf).\n",
    "As can be seen below, we cannot reject the null hypothesis of a binomial distribution, suggesting we can interprt the binomial as a good fit, and assume equal mixing of barcodes in the *canine* cells."
   ]
  },
  {
   "cell_type": "code",
   "execution_count": null,
   "metadata": {},
   "outputs": [],
   "source": [
    "threshold_data %>%\n",
    "  filter(n_annotated_flu > 0) %>%\n",
    "  mutate(dev_term1=ifelse(flu_wt == 0,\n",
    "                          0,\n",
    "                          flu_wt * log(flu_wt / predicted_flu_wt)),\n",
    "         dev_term2=ifelse(flu_syn == 0,\n",
    "                          0,\n",
    "                          log(flu_syn / (n_annotated_flu - \n",
    "                                         predicted_flu_wt))),\n",
    "         dev_term=dev_term1 + dev_term2) %>%\n",
    "  group_by(Sample) %>%\n",
    "  summarize(deviance=2 * sum(dev_term),\n",
    "            ndegrees=n() - 1,\n",
    "            P=pchisq(deviance, ndegrees, lower.tail=FALSE))"
   ]
  },
  {
   "cell_type": "markdown",
   "metadata": {},
   "source": [
    "### Look at segment frequencies\n",
    "Now we look at the individual segment frequencies to come up with thresholds to call whether each cell is expressing each segment.\n",
    "\n",
    "First, annotate all cells by the fraction of flu mRNA that comes from that segment for all segments:"
   ]
  },
  {
   "cell_type": "code",
   "execution_count": null,
   "metadata": {},
   "outputs": [],
   "source": [
    "all_cells <- lapply(\n",
    "  all_cells,\n",
    "  function (c) {\n",
    "    pData(c)[sapply(flugenes, function (x) paste0(x, \"_frac\"))] <- (\n",
    "      pData(c)[sapply(flugenes, function (x) paste0(x, \"_mRNAs\"))] /\n",
    "      pData(c)$flu_mRNAs)\n",
    "    c    \n",
    "  }    \n",
    "  )"
   ]
  },
  {
   "cell_type": "markdown",
   "metadata": {},
   "source": [
    "Now let's get the total number of flu mRNAs for each sample that match to each gene:"
   ]
  },
  {
   "cell_type": "code",
   "execution_count": null,
   "metadata": {},
   "outputs": [],
   "source": [
    "flu_gene_freqs <- lapply(all_cells, function (c) pData(c)) %>%\n",
    "  bind_rows(.id=\"cell_type\") %>%\n",
    "  filter(! filtered) %>%\n",
    "  group_by(Sample, cell_type) %>%\n",
    "  mutate_at(sapply(flugenes, function (x) paste0(x, \"_mRNAs\")),\n",
    "            return) %>%\n",
    "  summarize_at(c(flugenes, \"flu_mRNAs\"), sum)\n",
    "            \n",
    "flu_gene_freqs"
   ]
  },
  {
   "cell_type": "markdown",
   "metadata": {},
   "source": [
    "Now we plot these data to see if the fractions from each gene are similar among the *canine* and *humanplusflu* samples.\n",
    "We estimate the statistical noise on each estimate from counting statistics, and plot error bars that showt 1.96 times the estimated standard deviation (95% confidence interval).\n",
    "\n",
    "Overall, the plot below shows that *humanplusflu* samples look fairly similar to the *canine* ones in the distributions of reads among flu genes.\n",
    "The overall expression profiles for genes is also roughly similar to those from our previous study ([Russell et al, 2018](https://elifesciences.org/articles/32303#fig6)), with NS, M, NA and NP being highest, and then HA, and then the three polymerase genes.\n",
    "There are differences between the *IFN_enriched* and *not_enriched* samples, but this is not surprising both because of the enrichment and because they are different timepoints.\n",
    "The *not_enriched* looks a bit different than the data from the prior study for a few genes, but that could easily be because it is a different viral stock.\n",
    "\n",
    "Based on the plot below, we will use the gene frequencies in the *canine* sample to estimate cutoffs for whether each cell in *humanplusflu* is expressing a gene."
   ]
  },
  {
   "cell_type": "code",
   "execution_count": null,
   "metadata": {},
   "outputs": [],
   "source": [
    "p_flu_gene_freqs <- ggplot(\n",
    "    flu_gene_freqs %>% \n",
    "      gather(gene, counts, -Sample, -cell_type, -flu_mRNAs) %>%\n",
    "      mutate(frac=counts / flu_mRNAs,\n",
    "             frac_sd=1.96 * sqrt(counts) / flu_mRNAs) %>%\n",
    "      transform(gene=factor(gsub(\"flu\", \"\", gene), flugenes_noprefix)),\n",
    "    aes(gene, weight=frac, fill=cell_type)) +\n",
    "  geom_bar(position=position_dodge()) +\n",
    "  geom_errorbar(aes(ymin=frac - frac_sd,\n",
    "                    ymax=frac + frac_sd,\n",
    "                    fill=cell_type),\n",
    "                width=0.3, position=position_dodge(width=0.9)) +\n",
    "  ylab(\"fraction of flu mRNAs\") +\n",
    "  theme(axis.text.x=element_text(angle=90,hjust=1, vjust=0.5)) +\n",
    "  scale_fill_manual(values=cbbPalette[2:3]) +\n",
    "  facet_wrap(~Sample)\n",
    "\n",
    "saveShowPlot(p_flu_gene_freqs, width=7, height=3)"
   ]
  },
  {
   "cell_type": "code",
   "execution_count": null,
   "metadata": {},
   "outputs": [],
   "source": []
  }
 ],
 "metadata": {
  "kernelspec": {
   "display_name": "R",
   "language": "R",
   "name": "ir"
  },
  "language_info": {
   "codemirror_mode": "r",
   "file_extension": ".r",
   "mimetype": "text/x-r-source",
   "name": "R",
   "pygments_lexer": "r",
   "version": "3.4.4"
  },
  "toc": {
   "nav_menu": {},
   "number_sections": false,
   "sideBar": true,
   "skip_h1_title": false,
   "toc_cell": true,
   "toc_position": {},
   "toc_section_display": "block",
   "toc_window_display": true
  }
 },
 "nbformat": 4,
 "nbformat_minor": 2
}
