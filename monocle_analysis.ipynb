{
 "cells": [
  {
   "cell_type": "markdown",
   "metadata": {},
   "source": [
    "# Monocle analysis of cell-gene matrix\n",
    "This notebook starts with the annotated cell-gene matrix, and performs analyses using [Monocle](http://cole-trapnell-lab.github.io/monocle-release/).\n",
    "\n",
    "Analysis by Alistair Russell and [Jesse Bloom](https://research.fhcrc.org/bloom/en.html)."
   ]
  },
  {
   "cell_type": "markdown",
   "metadata": {},
   "source": [
    "## Setup for analysis\n",
    "Load or install the necessary `R` packages, print session information that describes the packages / versions used."
   ]
  },
  {
   "cell_type": "code",
   "execution_count": 1,
   "metadata": {},
   "outputs": [
    {
     "data": {
      "text/plain": [
       "R version 3.4.3 (2017-11-30)\n",
       "Platform: x86_64-apple-darwin15.6.0 (64-bit)\n",
       "Running under: macOS Sierra 10.12.6\n",
       "\n",
       "Matrix products: default\n",
       "BLAS: /Library/Frameworks/R.framework/Versions/3.4/Resources/lib/libRblas.0.dylib\n",
       "LAPACK: /Library/Frameworks/R.framework/Versions/3.4/Resources/lib/libRlapack.dylib\n",
       "\n",
       "locale:\n",
       "[1] en_US.UTF-8/en_US.UTF-8/en_US.UTF-8/C/en_US.UTF-8/en_US.UTF-8\n",
       "\n",
       "attached base packages:\n",
       " [1] splines   stats4    parallel  grid      stats     graphics  grDevices\n",
       " [8] utils     datasets  methods   base     \n",
       "\n",
       "other attached packages:\n",
       " [1] piano_1.16.1        monocle_2.5.3       DDRTree_0.1.5      \n",
       " [4] irlba_2.2.1         VGAM_1.0-3          Biobase_2.36.2     \n",
       " [7] BiocGenerics_0.22.0 DescTools_0.99.23   naturalsort_0.1.3  \n",
       "[10] RColorBrewer_1.1-2  purrr_0.2.2.2       readr_1.1.1        \n",
       "[13] tidyr_0.6.3         tibble_1.3.3        tidyverse_1.1.1    \n",
       "[16] ggpubr_0.1.4        colorRamps_2.3      qlcMatrix_0.9.5    \n",
       "[19] slam_0.1-40         Matrix_1.2-12       psych_1.7.5        \n",
       "[22] IRdisplay_0.4.4     rmarkdown_1.5       magrittr_1.5       \n",
       "[25] dplyr_0.7.1         reshape2_1.4.2      scales_0.4.1       \n",
       "[28] cowplot_0.7.0       gridExtra_2.2.1     ggExtra_0.6        \n",
       "[31] ggthemes_3.4.0      ggplot2_2.2.1       pacman_0.4.6       \n",
       "\n",
       "loaded via a namespace (and not attached):\n",
       " [1] fgsea_1.2.1            Rtsne_0.13             colorspace_1.3-2      \n",
       " [4] rprojroot_1.2          manipulate_1.0.1       mvtnorm_1.0-6         \n",
       " [7] lubridate_1.6.0        xml2_1.1.1             mnormt_1.5-5          \n",
       "[10] knitr_1.16             IRkernel_0.8.6.9000    jsonlite_1.5          \n",
       "[13] broom_0.4.2            cluster_2.0.6          pheatmap_1.0.8        \n",
       "[16] shiny_1.0.3            compiler_3.4.3         httr_1.2.1            \n",
       "[19] backports_1.1.0        assertthat_0.2.0       lazyeval_0.2.0        \n",
       "[22] limma_3.32.2           htmltools_0.3.6        tools_3.4.3           \n",
       "[25] bindrcpp_0.2           igraph_1.0.1           gtable_0.2.0          \n",
       "[28] glue_1.1.1             fastmatch_1.1-0        Rcpp_0.12.13          \n",
       "[31] cellranger_1.1.0       gdata_2.18.0           nlme_3.1-131          \n",
       "[34] stringr_1.2.0          rvest_0.3.2            mime_0.5              \n",
       "[37] miniUI_0.1.1           gtools_3.5.0           MASS_7.3-47           \n",
       "[40] hms_0.3                relations_0.6-6        expm_0.999-2          \n",
       "[43] sets_1.0-17            fastICA_1.2-1          stringi_1.1.5         \n",
       "[46] caTools_1.17.1         densityClust_0.2.1     boot_1.3-20           \n",
       "[49] BiocParallel_1.10.1    repr_0.12.0            rlang_0.1.1           \n",
       "[52] pkgconfig_2.0.1        matrixStats_0.52.2     bitops_1.0-6          \n",
       "[55] evaluate_0.10          lattice_0.20-35        bindr_0.1             \n",
       "[58] plyr_1.8.4             R6_2.2.2               gplots_3.0.1          \n",
       "[61] combinat_0.0-8         pbdZMQ_0.2-6           haven_1.1.0           \n",
       "[64] foreign_0.8-69         modelr_0.1.0           crayon_1.3.2          \n",
       "[67] uuid_0.1-2             KernSmooth_2.23-15     readxl_1.0.0          \n",
       "[70] data.table_1.10.4      marray_1.54.0          forcats_0.2.0         \n",
       "[73] HSMMSingleCell_0.110.0 digest_0.6.12          xtable_1.8-2          \n",
       "[76] httpuv_1.3.3           munsell_0.4.3         "
      ]
     },
     "metadata": {},
     "output_type": "display_data"
    }
   ],
   "source": [
    "options(warn=-1) # suppress warnings that otherwise clutter output\n",
    "\n",
    "if (!require(\"pacman\", quietly=TRUE)) \n",
    "  install.packages(\"pacman\")\n",
    "pacman::p_load(\"ggplot2\", \"ggthemes\", \"ggExtra\", \"gridExtra\", \"cowplot\", \"scales\", \"reshape2\", \n",
    "  \"dplyr\", \"magrittr\", \"rmarkdown\", \"IRdisplay\", \"psych\", \"qlcMatrix\", \"colorRamps\", \"ggpubr\",\n",
    "  \"tidyverse\", \"RColorBrewer\", \"naturalsort\", \"grid\", \"DescTools\")\n",
    "\n",
    "bioc.packages <- c(\"monocle\", \"piano\")\n",
    "if (!(all(suppressMessages(lapply(bioc.packages, require, quietly=TRUE, character.only=TRUE))))) {\n",
    "  source(\"http://bioconductor.org/biocLite.R\")\n",
    "  biocLite()\n",
    "  biocLite(bioc.packages, suppressWarnings=TRUE)\n",
    "}   \n",
    "    \n",
    "# print information on session\n",
    "sessionInfo()\n",
    "    \n",
    "# http://www.cookbook-r.com/Graphs/Colors_(ggplot2)/#a-colorblind-friendly-palette\n",
    "# The palette with grey:\n",
    "cbPalette <- c(\"#999999\", \"#E69F00\", \"#56B4E9\", \"#009E73\", \"#F0E442\", \n",
    "               \"#0072B2\", \"#D55E00\", \"#CC79A7\")\n",
    "# The palette with black\n",
    "cbbPalette <- c(\"#000000\", \"#E69F00\", \"#56B4E9\", \"#009E73\", \"#F0E442\", \n",
    "                \"#0072B2\", \"#D55E00\", \"#CC79A7\")\n",
    "\n",
    "# plots will be saved here\n",
    "plotsdir <- './results/plots/'\n",
    "if (!dir.exists(plotsdir)) \n",
    "  dir.create(plotsdir)    \n",
    "    \n",
    "# figures for paper will be saved here\n",
    "figsdir <- './paper/figures/'\n",
    "if (!dir.exists(figsdir))\n",
    "  dir.create(figsdir)\n",
    "\n",
    "saveShowPlot <- function(p, width, height, isfig=FALSE) {\n",
    "  # save plot with filename of variable name with dots replaced by _, then show\n",
    "  # if *isfig* is TRUE, then also saves a PDF to *figsdir*\n",
    "  pngfile <- file.path(plotsdir, sprintf(\"%s.png\", \n",
    "    gsub(\"\\\\.\", \"_\", deparse(substitute(p)))))\n",
    "  figfile <- file.path(figsdir, sprintf(\"%s.pdf\", \n",
    "    gsub(\"\\\\.\", \"_\", deparse(substitute(p)))))\n",
    "  ggsave(pngfile, plot=p, width=width, height=height, units=\"in\")\n",
    "  if (isfig)\n",
    "    ggsave(figfile, plot=p, width=width, height=height, units=\"in\")\n",
    "  display_png(file=pngfile, width=width * 90)\n",
    "}\n",
    "    \n",
    "fancy_scientific <- function(x, parse.str=TRUE, digits=NULL) {\n",
    "  # scientific notation formatting, based loosely on https://stackoverflow.com/a/24241954\n",
    "  # if `parse.str` is TRUE, then we parse the string into an expression\n",
    "  # `digits` indicates how many digits to include\n",
    "  x %>% format(scientific=TRUE, digits=digits) %>% gsub(\"^0e\\\\+00\",\"0\", .) %>%\n",
    "    gsub(\"^1e\\\\+00\", \"1\", .) %>% gsub(\"^(.*)e\", \"'\\\\1'e\", .) %>% \n",
    "    gsub(\"e\\\\+\",\"e\", .) %>% gsub(\"e\", \"%*%10^\", .) %>%\n",
    "    gsub(\"^\\'1\\'\\\\%\\\\*\\\\%\", \"\", .) %>% {if (parse.str) parse(text=.) else .}\n",
    "}"
   ]
  },
  {
   "cell_type": "markdown",
   "metadata": {},
   "source": [
    "## Load the cell-gene matrix\n",
    "We load the cell-gene matrix that was created previously by [align_and_annotate.ipynb](align_and_annotate.ipynb).\n",
    "There is a separate cell gene matrix for each cell type:\n",
    "  - *humanplusflu*: A549 cells infected with influenza\n",
    "  - *canine*: MDCK cells spiked in as a control to estimate leakage / contamination rate.\n",
    "\n",
    "Note that the flu reads are annotated by the synonymous barcodes near the 3' ends.\n",
    "\n",
    "The matrix for each cell type contains information for all samples:\n",
    "  - *IFN_enriched*: cells that have been MACS-sorted for IFN+ at 13-hours post-infection\n",
    "  - *not_enriched*: cells at 10 hours post-infection that have not been sorted for IFN+"
   ]
  },
  {
   "cell_type": "code",
   "execution_count": 3,
   "metadata": {},
   "outputs": [],
   "source": [
    "# We have data for these two types of cells\n",
    "celltypes <- c(\"humanplusflu\", \"canine\")\n",
    "\n",
    "# We have data for these two samples\n",
    "samples <- c(\"IFN_enriched\", \"not_enriched\")\n",
    "\n",
    "# Cell gene matrices in this directory\n",
    "matrixdir <- \"./results/cellgenecounts/\"\n",
    "\n",
    "# Read cell-gene matrices for each sample into a list named by cell type.\n",
    "# These are in `matrixdir` with names like \"merged_humanplusflu_matrix.mtx\"\n",
    "cells <- lapply(\n",
    "  setNames(celltypes, celltypes),\n",
    "  function(celltype) {\n",
    "    newCellDataSet(\n",
    "      readMM(file.path(matrixdir, paste(\"merged\", celltype, \"matrix.mtx\", sep=\"_\"))),\n",
    "      phenoData=new(\n",
    "        \"AnnotatedDataFrame\",\n",
    "        data=read.delim(file.path(matrixdir, paste(\"merged\", celltype, \"cells.tsv\", sep=\"_\")))\n",
    "        ),\n",
    "      featureData=new(\n",
    "        \"AnnotatedDataFrame\",\n",
    "        data=read.delim(file.path(matrixdir, paste(\"merged\", celltype, \"genes.tsv\", sep=\"_\")))\n",
    "        ),\n",
    "      expressionFamily=negbinomial.size()\n",
    "      ) \n",
    "    }\n",
    "  )"
   ]
  },
  {
   "cell_type": "code",
   "execution_count": 6,
   "metadata": {},
   "outputs": [
    {
     "data": {
      "text/plain": [
       "$humanplusflu\n",
       "CellDataSet (storageMode: environment)\n",
       "assayData: 19969 features, 3260 samples \n",
       "  element names: exprs \n",
       "protocolData: none\n",
       "phenoData\n",
       "  sampleNames: 1 2 ... 3260 (3260 total)\n",
       "  varLabels: CellBarcode Sample ... Size_Factor (21 total)\n",
       "  varMetadata: labelDescription\n",
       "featureData\n",
       "  featureNames: 1 2 ... 19969 (19969 total)\n",
       "  fvarLabels: gene_long_name gene_short_name\n",
       "  fvarMetadata: labelDescription\n",
       "experimentData: use 'experimentData(object)'\n",
       "Annotation:  \n"
      ]
     },
     "metadata": {},
     "output_type": "display_data"
    }
   ],
   "source": [
    "cells['humanplusflu']"
   ]
  },
  {
   "cell_type": "code",
   "execution_count": null,
   "metadata": {},
   "outputs": [],
   "source": []
  }
 ],
 "metadata": {
  "kernelspec": {
   "display_name": "R",
   "language": "R",
   "name": "ir"
  },
  "language_info": {
   "codemirror_mode": "r",
   "file_extension": ".r",
   "mimetype": "text/x-r-source",
   "name": "R",
   "pygments_lexer": "r",
   "version": "3.4.3"
  },
  "toc": {
   "nav_menu": {},
   "number_sections": true,
   "sideBar": true,
   "skip_h1_title": false,
   "toc_cell": false,
   "toc_position": {},
   "toc_section_display": "block",
   "toc_window_display": false
  }
 },
 "nbformat": 4,
 "nbformat_minor": 2
}
