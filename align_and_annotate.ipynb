{
 "cells": [
  {
   "cell_type": "markdown",
   "metadata": {
    "toc": true
   },
   "source": [
    "<h1>Table of Contents<span class=\"tocSkip\"></span></h1>\n",
    "<div class=\"toc\" style=\"margin-top: 1em;\"><ul class=\"toc-item\"><li><span><a href=\"#Align-and-annotate-reads-from-10X-single-cell-sequencing-of-influenza-infected-cells\" data-toc-modified-id=\"Align-and-annotate-reads-from-10X-single-cell-sequencing-of-influenza-infected-cells-1\">Align and annotate reads from 10X single-cell sequencing of influenza-infected cells</a></span><ul class=\"toc-item\"><li><span><a href=\"#Set-up\" data-toc-modified-id=\"Set-up-1.1\">Set up</a></span><ul class=\"toc-item\"><li><span><a href=\"#Modules,-programs,-directories\" data-toc-modified-id=\"Modules,-programs,-directories-1.1.1\">Modules, programs, directories</a></span></li><li><span><a href=\"#Samples-and-sequencing-runs\" data-toc-modified-id=\"Samples-and-sequencing-runs-1.1.2\">Samples and sequencing runs</a></span></li></ul></li><li><span><a href=\"#Build-the-reference-genome\" data-toc-modified-id=\"Build-the-reference-genome-1.2\">Build the reference genome</a></span></li><li><span><a href=\"#De-multiplex-the-deep-sequencing-reads\" data-toc-modified-id=\"De-multiplex-the-deep-sequencing-reads-1.3\">De-multiplex the deep sequencing reads</a></span></li><li><span><a href=\"#Align-the-reads-and-count-the-genes-per-cell\" data-toc-modified-id=\"Align-the-reads-and-count-the-genes-per-cell-1.4\">Align the reads and count the genes per cell</a></span></li><li><span><a href=\"#Annotate-synonymous-barcodes-on-the-influenza-reads\" data-toc-modified-id=\"Annotate-synonymous-barcodes-on-the-influenza-reads-1.5\">Annotate synonymous barcodes on the influenza reads</a></span></li><li><span><a href=\"#Build-merged-cell-gene-matrix-suitable-for-loading-into-Monocle\" data-toc-modified-id=\"Build-merged-cell-gene-matrix-suitable-for-loading-into-Monocle-1.6\">Build merged cell-gene matrix suitable for loading into Monocle</a></span></li></ul></li></ul></div>"
   ]
  },
  {
   "cell_type": "markdown",
   "metadata": {
    "collapsed": true
   },
   "source": [
    "# Align and annotate reads from 10X single-cell sequencing of influenza-infected cells\n",
    "This notebook processes the raw sequencing data from the 10X sequencing. \n",
    "\n",
    "The data are from A549 (human) cells infected with influenza at modest MOI, plus some MDCK (canine) cells that are **not** infected with virus and so serve as a lysis control.\n",
    "\n",
    "The influenza viruses are a mix of a  _wildtype_ population and a _synonymously barcoded_ A/WSN/1933 (H1N1) virus.\n",
    "The synonymously barcoded viruses have synonymous mutations near the 3' end of their mRNAs in order to enable them to be distinguished from the wildtype virus, thus quantifying the rate of cellular co-infection.\n",
    "\n",
    "Much of the the data processing is done using the 10X software [cellranger](https://support.10xgenomics.com/single-cell/software/pipelines/latest/what-is-cell-ranger).\n",
    "In some cases, custom scripts are used for non-standard steps relating to handling the influenza reads.\n",
    "\n",
    "Specifically, this notebook performs the following operations:\n",
    "\n",
    "   1. Builds a reference genome to which reads are aligned.\n",
    "   2. De-multiplexes the reads using `cellranger`.\n",
    "   3. Aligns the de-multiplexed reads to the reference genome to generate the cell-gene count matrix.\n",
    "   4. Annotates the synonymous barcodes on the influenza reads.\n",
    "   5. Gets all the results in a format that make them ready for downstream analysis with [Monocle](http://cole-trapnell-lab.github.io/monocle-release/)."
   ]
  },
  {
   "cell_type": "markdown",
   "metadata": {},
   "source": [
    "## Set up \n",
    "First some basic set up for the analysis.\n",
    "\n",
    "### Modules, programs, directories\n",
    "Import modules used in this notebook, print information about program versions, and define created directories.\n",
    "The [pymodules.utils](pymodules/utils.py) module contains custom functions used for this analysis."
   ]
  },
  {
   "cell_type": "code",
   "execution_count": null,
   "metadata": {},
   "outputs": [],
   "source": [
    "import os\n",
    "import collections\n",
    "import multiprocessing\n",
    "import shutil\n",
    "\n",
    "from IPython.display import Image, display\n",
    "import pymodules.utils\n",
    "\n",
    "print(\"Using following version of cellranger:\")\n",
    "!cellranger count --version\n",
    "\n",
    "resultsdir = './results/'\n",
    "if not os.path.isdir(resultsdir):\n",
    "    os.mkdir(resultsdir)\n",
    "plotsdir = os.path.join(resultsdir, './plots/')\n",
    "if not os.path.isdir(plotsdir):\n",
    "    os.mkdir(plotsdir)\n",
    "    \n",
    "maxcpus = min(15, multiprocessing.cpu_count())  "
   ]
  },
  {
   "cell_type": "markdown",
   "metadata": {},
   "source": [
    "### Samples and sequencing runs\n",
    "We are analyzing two populations.\n",
    "Both represent cells infected with the same virus stock.\n",
    "The samples are:\n",
    "\n",
    "  - *IFN_enriched*: MACS-sorted IFN+ cells collected at 13 hours. These cells should be enriched for IFN expression.\n",
    "  \n",
    "  - *not_enriched*: cells infected with virus and collected at 10 hours."
   ]
  },
  {
   "cell_type": "code",
   "execution_count": null,
   "metadata": {},
   "outputs": [],
   "source": [
    "samples = ['IFN_enriched', 'not_enriched']"
   ]
  },
  {
   "cell_type": "markdown",
   "metadata": {},
   "source": [
    "There were several sequencing runs. \n",
    "Below we define the relevant information for each run, referring to the location of the BCL files on the Hutch cluster."
   ]
  },
  {
   "cell_type": "code",
   "execution_count": null,
   "metadata": {},
   "outputs": [],
   "source": [
    "# sequencing runs\n",
    "seqruns = ['2017-03-14', '2017-07-21'] \n",
    "\n",
    "# BCLs on Hutch server for each run, flow cells extracted from BCL path\n",
    "bcl_dir = '/fh/fast/bloom_j/SR/ngs/illumina/bloom_lab/' \n",
    "bcl_dirs = {\n",
    "        '2017-03-14':os.path.join(bcl_dir, '170314_SN367_0883_AHJLLJBCXY.bcl'),\n",
    "        '2017-07-21':os.path.join(bcl_dir, '170721_SN367_0961_BHNGGKBCXY'),\n",
    "        }\n",
    "# flow cell is last 9 letters of directory name\n",
    "flow_cells = dict([\n",
    "        (sample, os.path.splitext(os.path.basename(sampledir))[0][-9 : ])\n",
    "            for (sample, sampledir) in bcl_dirs.items()\n",
    "        ])\n",
    "\n",
    "# sample sheets giving lanes and indices for each run\n",
    "bcl_samplesheets = {\n",
    "        '2017-03-14':'''Lane, Sample,       Index\n",
    "                           1, IFN_enriched, SI-GA-A3\n",
    "                           2, IFN_enriched, SI-GA-A3\n",
    "                           1, not_enriched, SI-GA-A2\n",
    "                           2, not_enriched, SI-GA-A2\n",
    "                     '''.replace(' ', ''),\n",
    "        '2017-07-21':'''Lane, Sample,      Index\n",
    "                           2, IFN_enriched, SI-GA-A3\n",
    "                           2, not_enriched, SI-GA-A2\n",
    "                     '''.replace(' ', ''),\n",
    "        }\n",
    "\n",
    "# set mask to trim extra reads from index as needed for each run\n",
    "# We used the v2 reagents, and so specify the mask appropriate for that on \n",
    "# the run that was sequenced with both v1 and v2\n",
    "# https://support.10xgenomics.com/single-cell-gene-expression/software/pipelines/latest/using/bcl2fastq-direct\n",
    "mask = {\n",
    "        '2017-03-14':'',\n",
    "        '2017-07-21':'--use-bases-mask=Y26n72,I8n6,n8,Y98'\n",
    "       }\n",
    "\n",
    "seqruns_for_sample = collections.defaultdict(set)\n",
    "for seqrun in seqruns:\n",
    "    for line in bcl_samplesheets[seqrun].splitlines():\n",
    "        sample = line.split(',')[1].strip()\n",
    "        seqruns_for_sample[sample].add(seqrun)\n",
    "            \n",
    "for sample in samples:\n",
    "    print(\"Sequenced {0} in the following runs: {1}\".format(sample,\n",
    "            ', '.join(seqruns_for_sample[sample])))"
   ]
  },
  {
   "cell_type": "markdown",
   "metadata": {},
   "source": [
    "## Build the reference genome\n",
    "We need a non-standard reference genome.\n",
    "Specifically, we expect three kinds of cells:\n",
    "\n",
    "   1. A549 (human) cells not infected with influenza,\n",
    "   \n",
    "   2. A549 cells infected with the WSN strain of influenza,\n",
    "   \n",
    "   3. MDCK-SIAT1 (canine) cells not infected with influenza\n",
    "   \n",
    "We therefore use `cellranger mkref` [to build a multi-species genome]( https://support.10xgenomics.com/single-cell/software/pipelines/latest/advanced/references). \n",
    "The two genomes are:\n",
    "\n",
    "  1. the concatenation of the human and influenza genomes, since we expect both human and viral mRNAs to be found in the same cell\n",
    "  \n",
    "  2. the canine genome.\n",
    "  \n",
    "\n",
    "The reference genome is built by [./scripts/mkrefgenome.bash](scripts/mkrefgenome.bash), which downloads the human and canine genomes from [ensembl](http://www.ensembl.org/index.html) and uses the flu genome in [./data/flu_sequences/](./data/flu_sequences/) (specifically, [flu-wsn.fasta](./data/flu_sequences/flu-wsn.fasta) and [flu-wsn.gtf](./data/flu_sequences/flu-wsn.gtf)), and then runs `cellrangermkref`.\n",
    "We do **not** worry about including both the wildtype and synonymously barcoded influenza genomes, since the `cellranger` aligner seems sufficiently permissive that it aligns both the barcoded and non-barcoded influenza reads to the wildtype genome -- therefore we only include the wildtype influenza genome.\n",
    "\n",
    "The resulting genome is named `humanplusflu_and_canine` to reflect the fact that it consists of the concatenated human + influenza genomes, and the canine genome."
   ]
  },
  {
   "cell_type": "code",
   "execution_count": null,
   "metadata": {},
   "outputs": [],
   "source": [
    "celltypes = ['humanplusflu', 'canine']\n",
    "\n",
    "refgenome = './humanplusflu_and_canine/'\n",
    "if not os.path.isdir(refgenome):\n",
    "    print(\"Creating reference genome...\")\n",
    "    log = !./scripts/mkrefgenome.bash || rm -r {refgenome}\n",
    "    assert os.path.isdir(refgenome), \"Failed to make reference genome\"\n",
    "    print(\"Reference genome is in {0}\".format(refgenome))\n",
    "else:\n",
    "    print(\"Using existing reference genome\")"
   ]
  },
  {
   "cell_type": "markdown",
   "metadata": {},
   "source": [
    "## De-multiplex the deep sequencing reads\n",
    "Next, we de-multiplex the deep sequencing reads from the BCL output of the Illumina sequencer to FASTQ files using `cellranger mkfastq` as [described here](https://support.10xgenomics.com/single-cell/software/pipelines/latest/using/mkfastq)."
   ]
  },
  {
   "cell_type": "code",
   "execution_count": null,
   "metadata": {},
   "outputs": [],
   "source": [
    "demuxdir = os.path.join(resultsdir, 'demultiplexed_reads/')\n",
    "if not os.path.isdir(demuxdir):\n",
    "    os.mkdir(demuxdir)\n",
    "    \n",
    "for seqrun in seqruns:\n",
    "    outdir = os.path.join(demuxdir, seqrun)\n",
    "    qcplot = os.path.join(plotsdir, '{0}_demux.pdf'.format(seqrun))\n",
    "    \n",
    "    if os.path.isdir(outdir):\n",
    "        print(\"De-multiplexed reads for {0} already in {1}\".format(seqrun, outdir))\n",
    "    else:\n",
    "        print(\"De-multiplexing {0} into {1}...\".format(seqrun, outdir))\n",
    "        samplesheet = os.path.join(demuxdir, '{0}_samplesheet.csv'.format(seqrun))\n",
    "        with open(samplesheet, 'w') as f:\n",
    "            f.write(bcl_samplesheets[seqrun])\n",
    "        flowcell = flow_cells[seqrun]\n",
    "        mro = '__{0}.mro'.format(flowcell)\n",
    "        \n",
    "        # run cellranger, move output files to outdir, delete unneeded output\n",
    "        log = !(cellranger mkfastq --run={bcl_dirs[seqrun]} --output-dir={outdir} \\\n",
    "                --csv={samplesheet} --project=fastq {mask[seqrun]} \\\n",
    "                && mv {mro} {outdir} && mv {flowcell} {outdir}/pipestance) || \\\n",
    "                (rm -r {outdir} && rm {mro} rm -r {flowcell})\n",
    "                \n",
    "    qc = os.path.join(outdir, 'pipestance/outs/qc_summary.json')\n",
    "    if not os.path.isfile(qcplot):\n",
    "        pymodules.utils.demuxSummary(qc, qcplot, '{0} sequencing'.format(seqrun))\n",
    "    pymodules.utils.showPDF(qcplot)\n",
    "    \n",
    "print(\"All de-multiplexing is complete.\")"
   ]
  },
  {
   "cell_type": "markdown",
   "metadata": {
    "collapsed": true
   },
   "source": [
    "The plots above summarize the de-multiplexing.\n",
    "The only thing that looks off is that that the _barcode exact match ratio_ is very low for the _2017-07-21_ sequencing run.\n",
    "However, I have looked at this extensively, and the actual data seem fine---the called barcodes match to the same ones in the _2017-03-14_ sequencing. \n",
    "So we'll proceed anyway."
   ]
  },
  {
   "cell_type": "markdown",
   "metadata": {
    "collapsed": true
   },
   "source": [
    "## Align the reads and count the genes per cell\n",
    "We use `cellranger count` to align the reads to the reference genome and classify the reads into cells.\n",
    "Because our samples are spread over multiple flow cells, we have to use MRO files to tell `cellranger` to combine these [as described here](https://support.10xgenomics.com/single-cell/software/pipelines/latest/advanced/multi-flowcell).\n",
    "\n",
    "We also copy the resulting cell-gene counts to a separate subdirectory so that they are easy to find and modify subsequently below.\n",
    "\n",
    "Finally, we print the links to the `cellranger` websummary pages, and make some plots summarizing the results."
   ]
  },
  {
   "cell_type": "code",
   "execution_count": null,
   "metadata": {},
   "outputs": [],
   "source": [
    "aligndir = os.path.join(resultsdir, './alignments_and_counts/')\n",
    "if not os.path.isdir(aligndir):\n",
    "    os.mkdir(aligndir)\n",
    "    \n",
    "countsdir = os.path.join(resultsdir, './cellgenecounts/')\n",
    "if not os.path.isdir(countsdir):\n",
    "    os.mkdir(countsdir)\n",
    "      \n",
    "alignmetrics = []\n",
    "cellgene_d = collections.defaultdict(lambda: collections.defaultdict(dict))\n",
    "counts = {} # directory with cellgenecounts for each sample\n",
    "bamfiles = {} # BAM files for each sample, used to annotate synonymous barcodes\n",
    "\n",
    "for sample in samples:\n",
    "    \n",
    "    # process the reads for the sample\n",
    "    sample_demuxdirs = [os.path.abspath(os.path.join(demuxdir, seqrun, 'fastq')) \n",
    "            for seqrun in seqruns_for_sample[sample]]\n",
    "    outdir = os.path.join(aligndir, sample)\n",
    "    websummary = os.path.join(plotsdir, 'cellranger_web_summary_{0}.html'.format(sample))\n",
    "    \n",
    "    if os.path.isdir(outdir):\n",
    "        print(\"Alignments and counts already created for {0} in {1}\".format(sample, outdir))\n",
    "    else:\n",
    "        print(\"Making alignments and counts for {0}...\".format(sample))\n",
    "        log = !cellranger count \\\n",
    "                          --id={sample} \\\n",
    "                          --transcriptome={refgenome} \\\n",
    "                          --sample={sample} \\\n",
    "                          --fastqs={','.join(sample_demuxdirs)} \\\n",
    "                          --localcores={maxcpus} \\\n",
    "                          --nosecondary \n",
    "        !mv {sample} {outdir}\n",
    "        assert os.path.isdir(outdir)\n",
    "        print(\"Alignments and counts for {0} now in {1}\".format(sample, outdir))\n",
    "        \n",
    "    if not os.path.isfile(websummary):\n",
    "        shutil.copy(os.path.join(outdir, 'outs', 'web_summary.html'), websummary)\n",
    "    assert os.path.isfile(websummary), \"Can't find {0}\".format(websummary)\n",
    "    print(\"The cellranger web summary for this {0} is in {1}\".format(sample, websummary))\n",
    "    \n",
    "    bamfiles[sample] = os.path.join(outdir, 'outs/possorted_genome_bam.bam')\n",
    "    counts[sample] = os.path.join(countsdir, sample)\n",
    "    if not os.path.isdir(counts[sample]):\n",
    "        os.mkdir(counts[sample])\n",
    "    for f in ['matrix.mtx', 'genes.tsv', 'barcodes.tsv']:\n",
    "        for celltype in celltypes:\n",
    "            fullf = os.path.join(counts[sample], '{0}_{1}'.format(celltype, f))\n",
    "            cellgene_d[celltype][os.path.splitext(f)[0]][sample] = fullf\n",
    "            if not os.path.isfile(fullf):\n",
    "                shutil.copy(os.path.join(outdir, 'outs', \n",
    "                        'filtered_gene_bc_matrices', celltype, f), fullf)\n",
    "    alignmetrics.append(os.path.join(outdir, 'outs', 'metrics_summary.csv'))\n",
    "\n",
    "print(\"\\nHere is a plot summarizing the results:\")\n",
    "countsummaryplot = os.path.join(plotsdir, 'align_and_count_summary.pdf')\n",
    "\n",
    "pymodules.utils.countSummary(samples, alignmetrics, countsummaryplot,\n",
    "        celltypes=['humanplusflu', 'canine'])\n",
    "pymodules.utils.showPDF(countsummaryplot)"
   ]
  },
  {
   "cell_type": "markdown",
   "metadata": {},
   "source": [
    "These summaries show that both samples have a bit over 1,500 cells, which is as expected.\n",
    "The two samples also have similar depth per cell.\n",
    "\n",
    "The fraction of reads in the cells is a bit less for the _IFN enriched_ sample, which makes sense as these are a later timepoint and went through MACS sorting.\n",
    "\n",
    "We have many more human than canine cells which is as expected, since we only put canine cells in at a low fraction.\n",
    "We also have more reads per cell for the human cells, which may be because they have more RNA content?\n",
    "\n",
    "Overall, these summaries appear to indicate that everything worked well."
   ]
  },
  {
   "cell_type": "markdown",
   "metadata": {
    "collapsed": true
   },
   "source": [
    "## Annotate synonymous barcodes on the influenza reads\n",
    "The cells were infected with a mix of wildtype virus and virus carrying \"barcodes\" (two synonymous mutations) so near each end of the vRNA. \n",
    "One of these barcodes should often be in the 3' region of the mRNA read by the 10X sequencing.\n",
    "The sequences of the wildtype and _double-syn_ barcoded viruses are in:\n",
    "  - [./data/flu_sequences/flu-wsn.fasta](./data/flu_sequences/flu-wsn.fasta)\n",
    "  - [./data/flu_sequences/flu-wsn-double-syn.fasta](./data/flu_sequences/flu-wsn-double-syn.fasta)"
   ]
  },
  {
   "cell_type": "code",
   "execution_count": null,
   "metadata": {},
   "outputs": [],
   "source": [
    "flu_genes = './data/flu_sequences/flu-wsn.fasta'\n",
    "flu_doublesyn_genes = './data/flu_sequences/flu-wsn-double-syn.fasta'"
   ]
  },
  {
   "cell_type": "markdown",
   "metadata": {},
   "source": [
    "The `cellranger` alignments were just done to the wildtype flu genes.\n",
    "The aligner is permissive enough that this appears to align all reads just fine, but we want to annotate reads with which viral variant they are from.\n",
    "We do that with the custom Python script [./scripts/annotate_synbarcodes.py](./scripts/annotate_synbarcodes.py).\n",
    "\n",
    "Note that this script only annotated reads based on the synonymous barcodes at the 3' end of the viral mRNAs, since the ones at the 5' end are not generally read by the 10X Illumina sequencing."
   ]
  },
  {
   "cell_type": "code",
   "execution_count": null,
   "metadata": {},
   "outputs": [],
   "source": [
    "synbarcodeplots = os.path.join(plotsdir, './synbarcodes/')\n",
    "if not os.path.isdir(synbarcodeplots):\n",
    "    os.mkdir(synbarcodeplots)\n",
    "\n",
    "for celltype in celltypes:\n",
    "    for sample in samples:\n",
    "        barcodes = os.path.join(counts[sample], '{0}_barcodes.tsv'.format(celltype))\n",
    "        annotations = os.path.join(counts[sample], '{0}_cellannotations.tsv'.format(celltype))\n",
    "        cellgene_d[celltype]['annotations'][sample] = annotations\n",
    "        outprefix = os.path.join(synbarcodeplots, '{0}_{1}_'.format(sample, celltype))\n",
    "        if os.path.isfile(annotations):\n",
    "            print(\"Synonymous barcodes already annotated for {0} {1}\".format(sample, celltype))\n",
    "        else:\n",
    "            print(\"Annotating synonymous barcodes for {0} {1}\".format(sample, celltype))\n",
    "            log = !python3 scripts/annotate_synbarcodes.py \\\n",
    "                    --flugenes {flu_genes} \\\n",
    "                    --synflugenes {flu_doublesyn_genes} \\\n",
    "                    --samplename {sample} \\\n",
    "                    --outprefix {outprefix} \\\n",
    "                    --cellbarcodes {barcodes} \\\n",
    "                    --bamfiles {bamfiles[sample]} \\\n",
    "                    && mv {outprefix}cellannotations.tsv {annotations}\n",
    "        assert os.path.isfile(annotations), \"Can't find {0}\".format(annotations)\n",
    "\n",
    "for plot in ['umistats', 'purity']:\n",
    "    print(\"\\n**********************\\nPlots on viral {0}\".format(plot))\n",
    "    for celltype in celltypes:\n",
    "        print(\"For the {0} cells:\".format(celltype))\n",
    "        outplot = os.path.join(plotsdir, 'synbarcodes_{0}.jpg'.format(plot))\n",
    "        pymodules.utils.tilePlots([os.path.join(synbarcodeplots, '{0}_{1}_{2}.pdf'.format(\n",
    "                sample, celltype, plot)) for sample in samples], outplot, ncols=3)\n",
    "        display(Image(outplot))"
   ]
  },
  {
   "cell_type": "markdown",
   "metadata": {},
   "source": [
    "From these plots we see several things:\n",
    "\n",
    "  1. We are able to call the synonymous barcodes in about half of the influenza UMIs from the 10X whole-transcriptome sequencing. This is about as expected -- sometimes these barcodes won't be overlapped by the Illumina read, and so won't be callable. When we can call the barcodes, they are usually \"valid\" (e.g., they either have both or neither synonymous mutation). \n",
    "  \n",
    "  2. The number of influenza UMIs is about as expected. There are more for the _IFN_enriched_ sample because this sample is at a later timepoint (13 hours), and also possibly because the enrichment gave more flu+ cells. Also, the relative number of viral UMIs per segment is about as expected in the _humanplusflu_ cells. The three polymerase genes are lowest, and other genes are higher. The leakage to canine cells appears to occur most for NS for an unclear reason...\n",
    "  \n",
    "  3. In all populations, we find a mix of the wildtype and synonymous barcoded viruses. In cells with low numbers of reads, these are about equal in frequency indicating that we are just seeing leakage. It appears that leakage is the main source of viral mRNAs for cells with <100 reads for the _IFN_enriched_, and for up to perhaps 20 reads for the _not_enriched_ cells. Beyond that, cells are often fairly pure indicating infection is the main source. As expected, the canine cells mostly appear to have RNA from leakage, but there are a few with lots of viral mRNA. There are probably doublets with infected human cells, but this is something we will look into in more detail in the Monocle analysis."
   ]
  },
  {
   "cell_type": "markdown",
   "metadata": {},
   "source": [
    "## Build merged cell-gene matrix suitable for loading into Monocle\n",
    "We merge all of the samples into a single cell-gene matrix file, and also make merged genes and cell annotation files giving the rows and columns.\n",
    "These cell-gene matrices and their annotations are appropriate for analysis with `Monocle`.\n",
    "\n",
    "We build a different merged matrix for each celltype.\n",
    "\n",
    "Also, in the genes file, we replace the prefix (e.g., `humanplusflu_`) from the genes. \n",
    "We don't need to annotate the genes with celltype since we don't merge the matrices across celltypes."
   ]
  },
  {
   "cell_type": "code",
   "execution_count": null,
   "metadata": {},
   "outputs": [],
   "source": [
    "for celltype in celltypes:\n",
    "    print(\"Building merged cell-gene matrix for {0}\".format(celltype))\n",
    "    mergedcounts = dict([(os.path.splitext(ftype)[0], os.path.join(countsdir, \n",
    "            'merged_{0}_{1}'.format(celltype, ftype))) \n",
    "            for ftype in ['genes.tsv', 'cells.tsv', 'matrix.mtx']])\n",
    "    if all(map(os.path.isfile, mergedcounts.values())):\n",
    "        print(\"The merged files already exist:\\n\\t{0}\\n\".format(\n",
    "                '\\n\\t'.join(mergedcounts.values())))\n",
    "    else:\n",
    "        pymodules.utils.mergeCellGeneMatrices(\n",
    "                mergedcounts['genes'],\n",
    "                mergedcounts['cells'],\n",
    "                mergedcounts['matrix'],\n",
    "                samples,\n",
    "                cellgene_d[celltype]['barcodes'],\n",
    "                cellgene_d[celltype]['annotations'],\n",
    "                cellgene_d[celltype]['genes'],\n",
    "                cellgene_d[celltype]['matrix'],\n",
    "                removeprefix=celltype\n",
    "                )\n",
    "        assert all(map(os.path.isfile, mergedcounts.values()))\n",
    "        print(\"Created merged files:\\n\\t{0}\\n\".format(\n",
    "                '\\n\\t'.join(mergedcounts.values())))"
   ]
  },
  {
   "cell_type": "code",
   "execution_count": null,
   "metadata": {},
   "outputs": [],
   "source": []
  }
 ],
 "metadata": {
  "kernelspec": {
   "display_name": "Python 3",
   "language": "python",
   "name": "python3"
  },
  "language_info": {
   "codemirror_mode": {
    "name": "ipython",
    "version": 3
   },
   "file_extension": ".py",
   "mimetype": "text/x-python",
   "name": "python",
   "nbconvert_exporter": "python",
   "pygments_lexer": "ipython3",
   "version": "3.6.4"
  },
  "toc": {
   "nav_menu": {},
   "number_sections": false,
   "sideBar": true,
   "skip_h1_title": false,
   "toc_cell": true,
   "toc_position": {},
   "toc_section_display": "block",
   "toc_window_display": true
  }
 },
 "nbformat": 4,
 "nbformat_minor": 1
}
