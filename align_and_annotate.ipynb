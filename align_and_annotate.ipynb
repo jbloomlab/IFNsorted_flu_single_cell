{
 "cells": [
  {
   "cell_type": "markdown",
   "metadata": {
    "toc": true
   },
   "source": [
    "<h1>Table of Contents<span class=\"tocSkip\"></span></h1>\n",
    "<div class=\"toc\" style=\"margin-top: 1em;\"><ul class=\"toc-item\"><li><span><a data-toc-modified-id=\"Align-and-annotate-reads-from-10X-single-cell-sequencing-of-influenza-infected-cells-1\" href=\"#Align-and-annotate-reads-from-10X-single-cell-sequencing-of-influenza-infected-cells\">Align and annotate reads from 10X single-cell sequencing of influenza-infected cells</a></span><ul class=\"toc-item\"><li><span><a data-toc-modified-id=\"Set-up-1.1\" href=\"#Set-up\">Set up</a></span><ul class=\"toc-item\"><li><span><a data-toc-modified-id=\"Modules,-programs,-directories-1.1.1\" href=\"#Modules,-programs,-directories\">Modules, programs, directories</a></span></li><li><span><a data-toc-modified-id=\"Samples-and-sequencing-runs-1.1.2\" href=\"#Samples-and-sequencing-runs\">Samples and sequencing runs</a></span></li></ul></li><li><span><a data-toc-modified-id=\"Build-the-reference-genome-1.2\" href=\"#Build-the-reference-genome\">Build the reference genome</a></span></li><li><span><a data-toc-modified-id=\"De-multiplex-the-deep-sequencing-reads-1.3\" href=\"#De-multiplex-the-deep-sequencing-reads\">De-multiplex the deep sequencing reads</a></span></li><li><span><a data-toc-modified-id=\"Align-the-reads-and-count-the-genes-per-cell-1.4\" href=\"#Align-the-reads-and-count-the-genes-per-cell\">Align the reads and count the genes per cell</a></span></li><li><span><a data-toc-modified-id=\"Annotate-synonymous-barcodes-on-the-influenza-reads-1.5\" href=\"#Annotate-synonymous-barcodes-on-the-influenza-reads\">Annotate synonymous barcodes on the influenza reads</a></span></li><li><span><a data-toc-modified-id=\"Build-merged-cell-gene-matrix-suitable-for-loading-into-Monocle-1.6\" href=\"#Build-merged-cell-gene-matrix-suitable-for-loading-into-Monocle\">Build merged cell-gene matrix suitable for loading into Monocle</a></span></li></ul></li></ul></div>"
   ]
  },
  {
   "cell_type": "markdown",
   "metadata": {
    "collapsed": true
   },
   "source": [
    "# Align and annotate reads from 10X single-cell sequencing of influenza-infected cells\n",
    "This notebook processes the raw sequencing data from the 10X sequencing. \n",
    "\n",
    "The data are from A549 (human) cells infected with influenza at modest MOI, plus some MDCK (canine) cells that are **not** infected with virus and so serve as a lysis control.\n",
    "\n",
    "The influenza viruses are a mix of a  _wildtype_ population and a _synonymously barcoded_ A/WSN/1933 (H1N1) virus.\n",
    "The synonymously barcoded viruses have synonymous mutations near the 3' end of their mRNAs in order to enable them to be distinguished from the wildtype virus, thus quantifying the rate of cellular co-infection.\n",
    "\n",
    "Much of the the data processing is done using the 10X software [cellranger](https://support.10xgenomics.com/single-cell/software/pipelines/latest/what-is-cell-ranger).\n",
    "In some cases, custom scripts are used for non-standard steps relating to handling the influenza reads.\n",
    "\n",
    "Specifically, this notebook performs the following operations:\n",
    "\n",
    "   1. Builds a reference genome to which reads are aligned.\n",
    "   2. De-multiplexes the reads using `cellranger`.\n",
    "   3. Aligns the de-multiplexed reads to the reference genome to generate the cell-gene count matrix.\n",
    "   4. Annotates the synonymous barcodes on the influenza reads.\n",
    "   5. Gets all the results in a format that make them ready for downstream analysis with [Monocle](http://cole-trapnell-lab.github.io/monocle-release/)."
   ]
  },
  {
   "cell_type": "markdown",
   "metadata": {},
   "source": [
    "## Set up \n",
    "First some basic set up for the analysis.\n",
    "\n",
    "### Modules, programs, directories\n",
    "Import modules used in this notebook, print information about program versions, and define created directories.\n",
    "The [pymodules.utils](pymodules/utils.py) module contains custom functions used for this analysis."
   ]
  },
  {
   "cell_type": "code",
   "execution_count": 1,
   "metadata": {},
   "outputs": [
    {
     "name": "stdout",
     "output_type": "stream",
     "text": [
      "Using following version of cellranger:\n",
      "cellranger count (2.0.0)\n",
      "Copyright (c) 2017 10x Genomics, Inc.  All rights reserved.\n",
      "-------------------------------------------------------------------------------\n",
      "\n",
      " \n"
     ]
    }
   ],
   "source": [
    "import os\n",
    "import collections\n",
    "import multiprocessing\n",
    "import shutil\n",
    "\n",
    "from IPython.display import Image, display\n",
    "import pymodules.utils\n",
    "\n",
    "print(\"Using following version of cellranger:\")\n",
    "!cellranger count --version\n",
    "\n",
    "resultsdir = './results/'\n",
    "if not os.path.isdir(resultsdir):\n",
    "    os.mkdir(resultsdir)\n",
    "plotsdir = os.path.join(resultsdir, './plots/')\n",
    "if not os.path.isdir(plotsdir):\n",
    "    os.mkdir(plotsdir)\n",
    "    \n",
    "maxcpus = min(15, multiprocessing.cpu_count())  "
   ]
  },
  {
   "cell_type": "markdown",
   "metadata": {},
   "source": [
    "### Samples and sequencing runs\n",
    "For now we are just analyzing one sample, which is the MACS-sorted IFN+ cells collected at 13 hours."
   ]
  },
  {
   "cell_type": "code",
   "execution_count": 2,
   "metadata": {},
   "outputs": [],
   "source": [
    "samples = ['IFNenriched']"
   ]
  },
  {
   "cell_type": "markdown",
   "metadata": {},
   "source": [
    "There were several sequencing runs. \n",
    "Below we define the relevant information for each run, referring to the location of the BCL files on the Hutch cluster."
   ]
  },
  {
   "cell_type": "code",
   "execution_count": 3,
   "metadata": {},
   "outputs": [
    {
     "name": "stdout",
     "output_type": "stream",
     "text": [
      "Sequenced IFNenriched in the following runs: 2017-07-21, 2017-03-14\n"
     ]
    }
   ],
   "source": [
    "# sequencing runs\n",
    "seqruns = ['2017-03-14', '2017-07-21'] \n",
    "\n",
    "# BCLs on Hutch server for each run, flow cells extracted from BCL path\n",
    "bcl_dir = '/fh/fast/bloom_j/SR/ngs/illumina/bloom_lab/' \n",
    "bcl_dirs = {\n",
    "        '2017-03-14':os.path.join(bcl_dir, '170314_SN367_0883_AHJLLJBCXY.bcl'),\n",
    "        '2017-07-21':os.path.join(bcl_dir, '170721_SN367_0961_BHNGGKBCXY'),\n",
    "        }\n",
    "# flow cell is last 9 letters of directory name\n",
    "flow_cells = dict([\n",
    "        (sample, os.path.splitext(os.path.basename(sampledir))[0][-9 : ])\n",
    "            for (sample, sampledir) in bcl_dirs.items()\n",
    "        ])\n",
    "\n",
    "# sample sheets giving lanes and indices for each run\n",
    "bcl_samplesheets = {\n",
    "        '2017-03-14':'''Lane, Sample,      Index\n",
    "                           1, IFNenriched, SI-GA-A3\n",
    "                           2, IFNenriched, SI-GA-A3\n",
    "                     '''.replace(' ', ''),\n",
    "        '2017-07-21':'''Lane, Sample,      Index\n",
    "                           2, IFNenriched, SI-GA-A3\n",
    "                     '''.replace(' ', ''),\n",
    "        }\n",
    "\n",
    "# set mask to trim extra reads from index as needed for each run\n",
    "# We used the v2 reagents, and so specify the mask appropriate for that on \n",
    "# the run that was sequenced with both v1 and v2\n",
    "# https://support.10xgenomics.com/single-cell-gene-expression/software/pipelines/latest/using/bcl2fastq-direct\n",
    "mask = {\n",
    "        '2017-03-14':'',\n",
    "        '2017-07-21':'--use-bases-mask=Y26n72,I8n6,n8,Y98'\n",
    "       }\n",
    "\n",
    "seqruns_for_sample = collections.defaultdict(set)\n",
    "for seqrun in seqruns:\n",
    "    for line in bcl_samplesheets[seqrun].splitlines():\n",
    "        sample = line.split(',')[1].strip()\n",
    "        seqruns_for_sample[sample].add(seqrun)\n",
    "            \n",
    "for sample in samples:\n",
    "    print(\"Sequenced {0} in the following runs: {1}\".format(sample,\n",
    "            ', '.join(seqruns_for_sample[sample])))"
   ]
  },
  {
   "cell_type": "markdown",
   "metadata": {},
   "source": [
    "## Build the reference genome\n",
    "We need a non-standard reference genome.\n",
    "Specifically, we expect three kinds of cells:\n",
    "\n",
    "   1. A549 (human) cells not infected with influenza,\n",
    "   \n",
    "   2. A549 cells infected with the WSN strain of influenza,\n",
    "   \n",
    "   3. MDCK-SIAT1 (canine) cells not infected with influenza\n",
    "   \n",
    "We therefore use `cellranger mkref` [to build a multi-species genome]( https://support.10xgenomics.com/single-cell/software/pipelines/latest/advanced/references). \n",
    "The two genomes are:\n",
    "\n",
    "  1. the concatenation of the human and influenza genomes, since we expect both human and viral mRNAs to be found in the same cell\n",
    "  \n",
    "  2. the canine genome.\n",
    "  \n",
    "\n",
    "The reference genome is built by [./scripts/mkrefgenome.bash](scripts/mkrefgenome.bash), which downloads the human and canine genomes from [ensembl](http://www.ensembl.org/index.html) and uses the flu genome in [./data/flu_sequences/](./data/flu_sequences/) (specifically, [flu-wsn.fasta](./data/flu_sequences/flu-wsn.fasta) and [flu-wsn.gtf](./data/flu_sequences/flu-wsn.gtf)), and then runs `cellrangermkref`.\n",
    "We do **not** worry about including both the wildtype and synonymously barcoded influenza genomes, since the `cellranger` aligner seems sufficiently permissive that it aligns both the barcoded and non-barcoded influenza reads to the wildtype genome -- therefore we only include the wildtype influenza genome.\n",
    "\n",
    "The resulting genome is named `humanplusflu_and_canine` to reflect the fact that it consists of the concatenated human + influenza genomes, and the canine genome."
   ]
  },
  {
   "cell_type": "code",
   "execution_count": 4,
   "metadata": {},
   "outputs": [
    {
     "name": "stdout",
     "output_type": "stream",
     "text": [
      "Using existing reference genome\n"
     ]
    }
   ],
   "source": [
    "refgenome = './humanplusflu_and_canine/'\n",
    "if not os.path.isdir(refgenome):\n",
    "    print(\"Creating reference genome...\")\n",
    "    log = !./scripts/mkrefgenome.bash || rm -r {refgenome}\n",
    "    assert os.path.isdir(refgenome), \"Failed to make reference genome\"\n",
    "    print(\"Reference genome is in {0}\".format(refgenome))\n",
    "else:\n",
    "    print(\"Using existing reference genome\")"
   ]
  },
  {
   "cell_type": "markdown",
   "metadata": {},
   "source": [
    "## De-multiplex the deep sequencing reads\n",
    "Next, we de-multiplex the deep sequencing reads from the BCL output of the Illumina sequencer to FASTQ files using `cellranger mkfastq` as [described here](https://support.10xgenomics.com/single-cell/software/pipelines/latest/using/mkfastq)."
   ]
  },
  {
   "cell_type": "code",
   "execution_count": 5,
   "metadata": {},
   "outputs": [
    {
     "name": "stdout",
     "output_type": "stream",
     "text": [
      "De-multiplexed reads for 2017-03-14 already in ./results/demultiplexed_reads/2017-03-14\n"
     ]
    },
    {
     "data": {
      "image/png": "[encoded data removed]",
      "text/plain": [
       "<IPython.core.display.Image object>"
      ]
     },
     "metadata": {},
     "output_type": "display_data"
    },
    {
     "name": "stdout",
     "output_type": "stream",
     "text": [
      "De-multiplexed reads for 2017-07-21 already in ./results/demultiplexed_reads/2017-07-21\n"
     ]
    },
    {
     "data": {
      "image/png": "[encoded data removed]",
      "text/plain": [
       "<IPython.core.display.Image object>"
      ]
     },
     "metadata": {},
     "output_type": "display_data"
    },
    {
     "name": "stdout",
     "output_type": "stream",
     "text": [
      "All de-multiplexing is complete.\n"
     ]
    }
   ],
   "source": [
    "demuxdir = os.path.join(resultsdir, 'demultiplexed_reads/')\n",
    "if not os.path.isdir(demuxdir):\n",
    "    os.mkdir(demuxdir)\n",
    "    \n",
    "for seqrun in seqruns:\n",
    "    outdir = os.path.join(demuxdir, seqrun)\n",
    "    qcplot = os.path.join(plotsdir, '{0}_demux.pdf'.format(seqrun))\n",
    "    \n",
    "    if os.path.isdir(outdir):\n",
    "        print(\"De-multiplexed reads for {0} already in {1}\".format(seqrun, outdir))\n",
    "    else:\n",
    "        print(\"De-multiplexing {0} into {1}...\".format(seqrun, outdir))\n",
    "        samplesheet = os.path.join(demuxdir, '{0}_samplesheet.csv'.format(seqrun))\n",
    "        with open(samplesheet, 'w') as f:\n",
    "            f.write(bcl_samplesheets[seqrun])\n",
    "        flowcell = flow_cells[seqrun]\n",
    "        mro = '__{0}.mro'.format(flowcell)\n",
    "        \n",
    "        # run cellranger, move output files to outdir, delete unneeded output\n",
    "        log = !(cellranger mkfastq --run={bcl_dirs[seqrun]} --output-dir={outdir} \\\n",
    "                --csv={samplesheet} --project=fastq {mask[seqrun]} \\\n",
    "                && mv {mro} {outdir} && mv {flowcell} {outdir}/pipestance) || \\\n",
    "                (rm -r {outdir} && rm {mro} rm -r {flowcell})\n",
    "                \n",
    "    qc = os.path.join(outdir, 'pipestance/outs/qc_summary.json')\n",
    "    if not os.path.isfile(qcplot):\n",
    "        pymodules.utils.demuxSummary(qc, qcplot, '{0} sequencing'.format(seqrun))\n",
    "    pymodules.utils.showPDF(qcplot)\n",
    "    \n",
    "print(\"All de-multiplexing is complete.\")"
   ]
  },
  {
   "cell_type": "markdown",
   "metadata": {
    "collapsed": true
   },
   "source": [
    "The plots above summarize the de-multiplexing.\n",
    "For all of these samples, the barcode match and Q30 values look good, so sequencing itself seems successful."
   ]
  },
  {
   "cell_type": "markdown",
   "metadata": {
    "collapsed": true
   },
   "source": [
    "## Align the reads and count the genes per cell\n",
    "We use `cellranger count` to align the reads to the reference genome and classify the reads into cells.\n",
    "Because our samples are spread over multiple flow cells, we have to use MRO files to tell `cellranger` to combine these [as described here](https://support.10xgenomics.com/single-cell/software/pipelines/latest/advanced/multi-flowcell).\n",
    "\n",
    "We also copy the resulting cell-gene counts to a separate subdirectory so that they are easy to find and modify subsequently below.\n",
    "\n",
    "Finally, we print the links to the `cellranger` websummary pages, and make some plots summarizing the results."
   ]
  },
  {
   "cell_type": "code",
   "execution_count": 13,
   "metadata": {},
   "outputs": [
    {
     "name": "stdout",
     "output_type": "stream",
     "text": [
      "Alignments and counts already created for IFNenriched in ./results/./alignments_and_counts/IFNenriched\n",
      "The cellranger web summary for this IFNenriched is in ./results/./plots/cellranger_web_summary_IFNenriched.html\n",
      "\n",
      "Here is a plot summarizing the results:\n"
     ]
    },
    {
     "name": "stderr",
     "output_type": "stream",
     "text": [
      "/home/jbloom/.local/lib/python3.4/site-packages/matplotlib/tight_layout.py:222: UserWarning: tight_layout : falling back to Agg renderer\n",
      "  warnings.warn(\"tight_layout : falling back to Agg renderer\")\n"
     ]
    },
    {
     "data": {
      "image/png": "[encoded data removed]",
      "text/plain": [
       "<IPython.core.display.Image object>"
      ]
     },
     "metadata": {},
     "output_type": "display_data"
    }
   ],
   "source": [
    "aligndir = os.path.join(resultsdir, './alignments_and_counts/')\n",
    "if not os.path.isdir(aligndir):\n",
    "    os.mkdir(aligndir)\n",
    "    \n",
    "countsdir = os.path.join(resultsdir, './cellgenecounts/')\n",
    "if not os.path.isdir(countsdir):\n",
    "    os.mkdir(countsdir)\n",
    "      \n",
    "alignmetrics = []\n",
    "cellgene_d = dict([(ftype, {}) for ftype in ['matrix', 'genes', 'barcodes']])\n",
    "counts = {} # directory with cellgenecounts for each sample\n",
    "bamfiles = {} # BAM files for each sample, used to annotate synonymous barcodes\n",
    "\n",
    "for sample in samples:\n",
    "    \n",
    "    # process the reads for the sample\n",
    "    sample_demuxdirs = [os.path.join(demuxdir, seqrun, 'fastq') for \n",
    "            seqrun in seqruns_for_sample[sample]]\n",
    "    outdir = os.path.join(aligndir, sample)\n",
    "    websummary = os.path.join(plotsdir, 'cellranger_web_summary_{0}.html'.format(sample))\n",
    "    \n",
    "    if os.path.isdir(outdir):\n",
    "        print(\"Alignments and counts already created for {0} in {1}\".format(sample, outdir))\n",
    "    else:\n",
    "        print(\"Making alignments and counts for {0}...\".format(sample))\n",
    "        mro = '_{0}_cellrangercount.mro'.format(sample)\n",
    "        with open(mro, 'w') as f:\n",
    "            f.write(pymodules.utils.multiFlowCellMRO(sample, sample_demuxdirs, refgenome))\n",
    "        log = !cellranger count {sample} {mro} --localcores={maxcpus} --nosecondary && mv {sample} {outdir} \\\n",
    "                && rm {mro}\n",
    "        assert os.path.isdir(outdir)\n",
    "        print(\"Alignments and counts for {0} now in {1}\".format(sample, outdir))\n",
    "        \n",
    "    if not os.path.isfile(websummary):\n",
    "        shutil.copy(os.path.join(outdir, 'outs', 'web_summary.html'), websummary)\n",
    "    assert os.path.isfile(websummary), \"Can't find {0}\".format(websummary)\n",
    "    print(\"The cellranger web summary for this {0} is in {1}\".format(sample, websummary))\n",
    "    \n",
    "    bamfiles[sample] = os.path.join(outdir, 'outs/possorted_genome_bam.bam')\n",
    "    counts[sample] = os.path.join(countsdir, sample)\n",
    "    if not os.path.isdir(counts[sample]):\n",
    "        os.mkdir(counts[sample])\n",
    "    for f in ['matrix.mtx', 'genes.tsv', 'barcodes.tsv']:\n",
    "        fullf = os.path.join(counts[sample], 'humanplusflu_{0}'.format(f))\n",
    "        cellgene_d[os.path.splitext(f)[0]][sample] = fullf\n",
    "        if not os.path.isfile(fullf):\n",
    "            shutil.copy(os.path.join(outdir, 'outs', 'filtered_gene_bc_matrices', \n",
    "                    'humanplusflu', f), fullf)\n",
    "    alignmetrics.append(os.path.join(outdir, 'outs', 'metrics_summary.csv'))\n",
    "\n",
    "print(\"\\nHere is a plot summarizing the results:\")\n",
    "countsummaryplot = os.path.join(plotsdir, 'align_and_count_summary.pdf')\n",
    "\n",
    "pymodules.utils.countSummary(samples, alignmetrics, countsummaryplot,\n",
    "        celltypes=['humanplusflu', 'canine'])\n",
    "pymodules.utils.showPDF(countsummaryplot)"
   ]
  },
  {
   "cell_type": "markdown",
   "metadata": {},
   "source": [
    "These summaries show that all samples have between 3000 and 4000 cells, which is as expected.\n",
    "\n",
    "We see that most reads successfully map to cells, and that the mean UMI counts per cell vary a bit, mostly based on sequencing depth per cell (there are more sequences per cell for some of the samples).\n",
    "\n",
    "Overall, these summaries appear to indicate that everything worked well."
   ]
  },
  {
   "cell_type": "markdown",
   "metadata": {
    "collapsed": true
   },
   "source": [
    "## Annotate synonymous barcodes on the influenza reads\n",
    "The cells were infected with a mix of wildtype virus and virus carrying a synonymous barcode (two synonymous mutations) so that they would appear near the 3' end of the mRNA and frequently be read in the 10X sequencing.\n",
    "\n",
    "However, the `cellranger` analysis does not annotate those barcodes, so we do that here with a custom Python script."
   ]
  },
  {
   "cell_type": "code",
   "execution_count": null,
   "metadata": {},
   "outputs": [],
   "source": [
    "synbarcodeplots = os.path.join(plotsdir, './synbarcodes/')\n",
    "if not os.path.isdir(synbarcodeplots):\n",
    "    os.mkdir(synbarcodeplots)\n",
    "\n",
    "cellgene_d['annotations'] = {} \n",
    "\n",
    "for sample in samples:\n",
    "    barcodes = os.path.join(counts[sample], 'humanplusflu_barcodes.tsv')\n",
    "    annotations = os.path.join(counts[sample], 'humanplusflu_cellannotations.tsv')\n",
    "    cellgene_d['annotations'][sample] = annotations\n",
    "    outprefix = os.path.join(synbarcodeplots, '{0}_'.format(sample))\n",
    "    if os.path.isfile(annotations):\n",
    "        print(\"Synonymous barcodes on influenza reads already annotated for {0}\".format(sample))\n",
    "    else:\n",
    "        print(\"Annotating synonymous barcodes on influenza reads for {0}\".format(sample))\n",
    "        log = !python scripts/annotate_synbarcodes.py --flugenes \\\n",
    "                data/flu_sequences/flu-wsn.fasta --synflugenes \\\n",
    "                data/flu_sequences/flu-wsn-syn.fasta --samplename {sample} \\\n",
    "                --outprefix {outprefix} --cellbarcodes {barcodes} --bamfiles \\\n",
    "                {bamfiles[sample]} && mv {outprefix}cellannotations.tsv {annotations}\n",
    "    assert os.path.isfile(annotations), \"Can't find {0}\".format(annotations)\n",
    "\n",
    "print(\"\\nHere are some summary plots:\")\n",
    "for plot in ['umistats', 'purity']:\n",
    "    outplot = os.path.join(plotsdir, 'synbarcodes_{0}.jpg'.format(plot))\n",
    "    pymodules.utils.tilePlots([os.path.join(synbarcodeplots, '{0}_{1}.pdf'.format(\n",
    "            sample, plot)) for sample in samples], outplot, ncols=3)\n",
    "    display(Image(outplot))\n",
    "    shutil.copy(outplot, figsdir)"
   ]
  },
  {
   "cell_type": "markdown",
   "metadata": {},
   "source": [
    "From these plots we see several things:\n",
    "\n",
    "  1. First, we are able to call the synonymous barcodes in about half of the influenza UMIs from the 10X whole-transcriptome sequencing. This is about as expected -- sometimes these barcodes won't be overlapped by the Illumina read, and so won't be callable. \n",
    "  \n",
    "  2. The number of influenza UMIs is about as expected. These numbers are zero for the *Uninfected* cells, very low for the *6hr* infection, low for the *8hr* infections, and moderate for the *10hr* infection.\n",
    "  \n",
    "  3. In all populations, we find a mix of the wildtype and synonymous barcoded viruses. In cells with low numbers of reads, these are about equal in frequency indicating that we are just seeing leakage. But in cells with more reads, the cells are mostly of one type or the other -- indicating that the actual rate of co-infection is low."
   ]
  },
  {
   "cell_type": "markdown",
   "metadata": {},
   "source": [
    "## Build merged cell-gene matrix suitable for loading into Monocle\n",
    "We merge all of the samples into a single cell-gene matrix file, and also make merged genes and cell annotation files giving the rows and columns.\n",
    "These cell-gene matrices and their annotations are appropriate for analysis with `Monocle`."
   ]
  },
  {
   "cell_type": "code",
   "execution_count": null,
   "metadata": {},
   "outputs": [],
   "source": [
    "print(\"Building cell-gene matrix that merges all samples...\")\n",
    "mergedcounts = dict([(os.path.splitext(ftype)[0], os.path.join(countsdir, \n",
    "        'merged_humanplusflu_{0}'.format(ftype))) \n",
    "        for ftype in ['genes.tsv', 'cells.tsv', 'matrix.mtx']])\n",
    "if all(map(os.path.isfile, mergedcounts.values())):\n",
    "    print(\"The merged files already exist: {0}\".format(', '.join(mergedcounts.values())))\n",
    "else:\n",
    "    pymodules.utils.mergeCellGeneMatrices(\n",
    "            mergedcounts['genes'],\n",
    "            mergedcounts['cells'],\n",
    "            mergedcounts['matrix'],\n",
    "            samples,\n",
    "            cellgene_d['barcodes'],\n",
    "            cellgene_d['annotations'],\n",
    "            cellgene_d['genes'],\n",
    "            cellgene_d['matrix'],\n",
    "            )\n",
    "    assert all(map(os.path.isfile, mergedcounts.values()))\n",
    "    print(\"Created merged files: {0}\\n\".format(', '.join(mergedcounts.values())))"
   ]
  },
  {
   "cell_type": "code",
   "execution_count": null,
   "metadata": {},
   "outputs": [],
   "source": []
  }
 ],
 "metadata": {
  "kernelspec": {
   "display_name": "Python 3",
   "language": "python",
   "name": "python3"
  },
  "language_info": {
   "codemirror_mode": {
    "name": "ipython",
    "version": 3
   },
   "file_extension": ".py",
   "mimetype": "text/x-python",
   "name": "python",
   "nbconvert_exporter": "python",
   "pygments_lexer": "ipython3",
   "version": "3.4.3"
  },
  "toc": {
   "nav_menu": {},
   "number_sections": false,
   "sideBar": true,
   "skip_h1_title": false,
   "toc_cell": true,
   "toc_position": {},
   "toc_section_display": "block",
   "toc_window_display": true
  }
 },
 "nbformat": 4,
 "nbformat_minor": 1
}
