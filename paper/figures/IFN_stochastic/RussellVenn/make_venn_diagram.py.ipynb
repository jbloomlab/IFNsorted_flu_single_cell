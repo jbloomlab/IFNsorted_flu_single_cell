{
 "cells": [
  {
   "cell_type": "markdown",
   "metadata": {},
   "source": [
    "# Venn diagram of IFN+ in prior single-cell\n",
    "Makes Venn diagram using data from [Russell et al (2018)](https://elifesciences.org/articles/32303).\n",
    "\n",
    "Make plot using [matplotlib-venn](https://github.com/konstantint/matplotlib-venn)."
   ]
  },
  {
   "cell_type": "code",
   "execution_count": 1,
   "metadata": {},
   "outputs": [
    {
     "name": "stderr",
     "output_type": "stream",
     "text": [
      "/Users/jbloom/Documents/software/conda/envs/BloomLab/lib/python3.6/importlib/_bootstrap.py:219: RuntimeWarning: numpy.dtype size changed, may indicate binary incompatibility. Expected 96, got 88\n",
      "  return f(*args, **kwds)\n"
     ]
    }
   ],
   "source": [
    "import numpy\n",
    "import matplotlib_venn\n",
    "import matplotlib.pyplot as plt\n",
    "\n",
    "from dms_tools2.plot import COLOR_BLIND_PALETTE_GRAY\n",
    "from dms_tools2.ipython_utils import showPDF"
   ]
  },
  {
   "cell_type": "markdown",
   "metadata": {},
   "source": [
    "Get counts for different combinations of infected, NS-, and IFN- .\n",
    "Numbers taken from results section of [Russell et al (2018)](https://elifesciences.org/articles/32303), looking at all four samples (6 hour, both 8 hour replicates, 10 hours).\n",
    "Specifically:\n",
    " - 368 infected cells total, see [Figure 4D](https://elifesciences.org/articles/32303#fig4)\n",
    " - 29 infected cells missing NS, estimated from weighted average of fraction of cells NS-1 (92%, calculated from [Figure 5 - source data 2](https://elifesciences.org/download/aHR0cHM6Ly9jZG4uZWxpZmVzY2llbmNlcy5vcmcvYXJ0aWNsZXMvMzIzMDMvZWxpZmUtMzIzMDMtZmlnNS1kYXRhMS12Mi5jc3Y=/elife-32303-fig5-data1-v2.csv?_hash=uRQpEsk5jxESjm57zijVO9KFEe859ED99LvGBA0kjcg%3D)) and total number of cells.\n",
    " - 1 cell IFN+, see [Figure 8D](https://doi.org/10.7554/eLife.32303.030)"
   ]
  },
  {
   "cell_type": "code",
   "execution_count": 2,
   "metadata": {},
   "outputs": [
    {
     "data": {
      "image/png": "[encoded data removed]",
      "text/plain": [
       "<IPython.core.display.Image object>"
      ]
     },
     "metadata": {},
     "output_type": "display_data"
    },
    {
     "data": {
      "text/plain": [
       "<Figure size 230.4x158.4 with 0 Axes>"
      ]
     },
     "metadata": {},
     "output_type": "display_data"
    }
   ],
   "source": [
    "groups = ['infected', 'NS-', 'IFN+']\n",
    "\n",
    "counts = {'infected':368,\n",
    "          'NS-':29,\n",
    "          'IFN+':1}\n",
    "\n",
    "subsets = {'100':counts['infected'] - counts['NS-'] - counts['IFN+'], \n",
    "           '110':counts['NS-'] - counts['IFN+'],\n",
    "           '111':counts['IFN+']\n",
    "          }\n",
    "\n",
    "# make Venn diagram\n",
    "plt.figure(figsize=(3.2, 2.2))\n",
    "v = matplotlib_venn.venn3(subsets, ['' for g in groups])\n",
    "\n",
    "v.get_patch_by_id('100').set_color(COLOR_BLIND_PALETTE_GRAY[0])\n",
    "v.get_patch_by_id('100').set_alpha(1)\n",
    "v.get_label_by_id('100').set_text(f'infected\\n({counts[\"infected\"]})')\n",
    "\n",
    "v.get_patch_by_id('110').set_color(COLOR_BLIND_PALETTE_GRAY[2])\n",
    "v.get_patch_by_id('110').set_alpha(1)\n",
    "v.get_label_by_id('110').set_text(f'NS-\\n({counts[\"NS-\"]})')\n",
    "\n",
    "v.get_patch_by_id('111').set_color(COLOR_BLIND_PALETTE_GRAY[1])\n",
    "v.get_patch_by_id('111').set_alpha(1)\n",
    "v.get_label_by_id('111').set_text('')\n",
    "\n",
    "plt.annotate(f'IFN+\\n({counts[\"IFN+\"]})',\n",
    "             xy=v.get_label_by_id('111').get_position() + numpy.array([0.05, 0]),\n",
    "             xytext=(20, 0),\n",
    "             ha='left', \n",
    "             va='center',\n",
    "             textcoords='offset points',\n",
    "             bbox=dict(boxstyle='round,pad=0.5', edgecolor=COLOR_BLIND_PALETTE_GRAY[1], facecolor='none'),\n",
    "             arrowprops=dict(arrowstyle='->', color=COLOR_BLIND_PALETTE_GRAY[1]),\n",
    "             )\n",
    "\n",
    "# save plot\n",
    "venn_plot = 'venn_diagram.pdf'\n",
    "#plt.tight_layout()\n",
    "plt.savefig(venn_plot, bbox_inches='tight', pad_inches=0.1)\n",
    "plt.clf()\n",
    "\n",
    "showPDF(venn_plot)"
   ]
  },
  {
   "cell_type": "code",
   "execution_count": null,
   "metadata": {},
   "outputs": [],
   "source": []
  }
 ],
 "metadata": {
  "kernelspec": {
   "display_name": "Python 3",
   "language": "python",
   "name": "python3"
  },
  "language_info": {
   "codemirror_mode": {
    "name": "ipython",
    "version": 3
   },
   "file_extension": ".py",
   "mimetype": "text/x-python",
   "name": "python",
   "nbconvert_exporter": "python",
   "pygments_lexer": "ipython3",
   "version": "3.6.5"
  },
  "toc": {
   "nav_menu": {},
   "number_sections": false,
   "sideBar": true,
   "skip_h1_title": false,
   "toc_cell": false,
   "toc_position": {},
   "toc_section_display": "block",
   "toc_window_display": true
  }
 },
 "nbformat": 4,
 "nbformat_minor": 2
}
