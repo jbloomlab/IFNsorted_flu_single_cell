{
 "cells": [
  {
   "cell_type": "markdown",
   "metadata": {
    "toc": true
   },
   "source": [
    "<h1>Table of Contents<span class=\"tocSkip\"></span></h1>\n",
    "<div class=\"toc\" style=\"margin-top: 1em;\"><ul class=\"toc-item\"><li><span><a href=\"#Steuerman-re-analysis\" data-toc-modified-id=\"Steuerman-re-analysis-1\">Steuerman re-analysis</a></span><ul class=\"toc-item\"><li><span><a href=\"#Set-up-for-analysis\" data-toc-modified-id=\"Set-up-for-analysis-1.1\">Set up for analysis</a></span><ul class=\"toc-item\"><li><span><a href=\"#Load-packages\" data-toc-modified-id=\"Load-packages-1.1.1\">Load packages</a></span></li><li><span><a href=\"#Specify-directories\" data-toc-modified-id=\"Specify-directories-1.1.2\">Specify directories</a></span></li></ul></li><li><span><a href=\"#Download-data\" data-toc-modified-id=\"Download-data-1.2\">Download data</a></span></li><li><span><a href=\"#Read-cell-gene-matrices\" data-toc-modified-id=\"Read-cell-gene-matrices-1.3\">Read cell-gene matrices</a></span></li></ul></li></ul></div>"
   ]
  },
  {
   "cell_type": "markdown",
   "metadata": {},
   "source": [
    "# Steuerman re-analysis\n",
    "Re-analyzes data from single-cell RNA-seq of cells from influenza-infected mice performed by [Steuerman et al (2018)](https://doi.org/10.1016/j.cels.2018.05.008).\n",
    "The goal is to determine what fraction of cells are IFN+.\n",
    "\n",
    "## Set up for analysis\n",
    "\n",
    "### Load packages"
   ]
  },
  {
   "cell_type": "code",
   "execution_count": 1,
   "metadata": {},
   "outputs": [
    {
     "data": {
      "text/plain": [
       "R version 3.4.3 (2017-11-30)\n",
       "Platform: x86_64-apple-darwin13.4.0 (64-bit)\n",
       "Running under: macOS Sierra 10.12.6\n",
       "\n",
       "Matrix products: default\n",
       "BLAS: /System/Library/Frameworks/Accelerate.framework/Versions/A/Frameworks/vecLib.framework/Versions/A/libBLAS.dylib\n",
       "LAPACK: /System/Library/Frameworks/Accelerate.framework/Versions/A/Frameworks/vecLib.framework/Versions/A/libLAPACK.dylib\n",
       "\n",
       "locale:\n",
       "[1] en_US.UTF-8/en_US.UTF-8/en_US.UTF-8/C/en_US.UTF-8/en_US.UTF-8\n",
       "\n",
       "attached base packages:\n",
       "[1] parallel  stats     graphics  grDevices utils     datasets  methods  \n",
       "[8] base     \n",
       "\n",
       "other attached packages:\n",
       " [1] GEOquery_2.46.15    Biobase_2.38.0      BiocGenerics_0.24.0\n",
       " [4] forcats_0.2.0       stringr_1.2.0       purrr_0.2.4        \n",
       " [7] readr_1.1.1         tidyr_0.7.2         tibble_1.4.1       \n",
       "[10] tidyverse_1.2.1     magrittr_1.5        dplyr_0.7.4        \n",
       "[13] ggplot2_3.0.0      \n",
       "\n",
       "loaded via a namespace (and not attached):\n",
       " [1] pbdZMQ_0.3-0     repr_0.12.0      reshape2_1.4.3   haven_1.1.0     \n",
       " [5] lattice_0.20-35  colorspace_1.3-2 rlang_0.2.1      pillar_1.0.1    \n",
       " [9] foreign_0.8-69   glue_1.2.0       withr_2.1.1      modelr_0.1.1    \n",
       "[13] readxl_1.0.0     bindrcpp_0.2     uuid_0.1-2       bindr_0.1       \n",
       "[17] plyr_1.8.4       munsell_0.4.3    gtable_0.2.0     cellranger_1.1.0\n",
       "[21] rvest_0.3.2      psych_1.7.8      evaluate_0.10.1  broom_0.4.3     \n",
       "[25] IRdisplay_0.4.4  Rcpp_0.12.14     scales_0.5.0     limma_3.34.9    \n",
       "[29] IRkernel_0.8.11  jsonlite_1.5     mnormt_1.5-5     hms_0.4.0       \n",
       "[33] digest_0.6.13    stringi_1.1.6    grid_3.4.3       cli_1.0.0       \n",
       "[37] tools_3.4.3      lazyeval_0.2.1   crayon_1.3.4     pkgconfig_2.0.1 \n",
       "[41] xml2_1.1.1       lubridate_1.7.1  assertthat_0.2.0 httr_1.3.1      \n",
       "[45] rstudioapi_0.7   R6_2.2.2         nlme_3.1-131     compiler_3.4.3  "
      ]
     },
     "metadata": {},
     "output_type": "display_data"
    }
   ],
   "source": [
    "options(warn=-1) # suppress warnings that clutter output\n",
    "\n",
    "# install R packages\n",
    "r_packages <- c(\n",
    "  \"ggplot2\", \"dplyr\", \"magrittr\", \"tidyverse\")\n",
    "suppressMessages(invisible(\n",
    "  lapply(r_packages, library, character.only=TRUE)))\n",
    "\n",
    "# install Bioconductor packages\n",
    "bioc_packages <- c(\"GEOquery\")\n",
    "suppressMessages(invisible(\n",
    "  lapply(bioc_packages, library, character.only=TRUE)))\n",
    "\n",
    "sessionInfo()"
   ]
  },
  {
   "cell_type": "markdown",
   "metadata": {},
   "source": [
    "### Specify directories"
   ]
  },
  {
   "cell_type": "code",
   "execution_count": 2,
   "metadata": {},
   "outputs": [],
   "source": [
    "datadir <- 'downloaded_data' # download data here\n",
    "if (!dir.exists(datadir)) \n",
    "  dir.create(datadir) \n",
    "\n",
    "plotsdir <- 'plots' # create plots here\n",
    "if (!dir.exists(plotsdir)) \n",
    "  dir.create(plotsdir) "
   ]
  },
  {
   "cell_type": "markdown",
   "metadata": {},
   "source": [
    "## Download data\n",
    "The cell-gene matrices are availabe on GEO under accession [GSE107947](https://www.ncbi.nlm.nih.gov/geo/query/acc.cgi?acc=GSE107947).\n",
    "\n",
    "There are matrices for 10 samples. representing CD45+ and CD45- cells of mice that were mock infected, infected with virus and collected at 48 (2 replicates) or 72 hours, or had a knockout in the key interferon transcription factor IRF7.\n",
    "\n",
    "Use [GEOquery](https://bioconductor.org/packages/release/bioc/vignettes/GEOquery/inst/doc/GEOquery.html) to download these data and store the names of the downloaded files in a data frame:"
   ]
  },
  {
   "cell_type": "code",
   "execution_count": 60,
   "metadata": {},
   "outputs": [
    {
     "name": "stderr",
     "output_type": "stream",
     "text": [
      "Using locally cached version of GSE107947 found here:\n",
      "downloaded_data/GSE107947.soft.gz \n",
      "Reading file....\n",
      "Parsing....\n",
      "Found 11 entities...\n",
      "GPL19057 (1 of 12 entities)\n",
      "GSM2884119 (2 of 12 entities)\n",
      "GSM2884120 (3 of 12 entities)\n",
      "GSM2884121 (4 of 12 entities)\n",
      "GSM2884122 (5 of 12 entities)\n",
      "GSM2884123 (6 of 12 entities)\n",
      "GSM2884124 (7 of 12 entities)\n",
      "GSM2884125 (8 of 12 entities)\n",
      "GSM2884126 (9 of 12 entities)\n",
      "GSM2884127 (10 of 12 entities)\n",
      "GSM2884128 (11 of 12 entities)\n"
     ]
    },
    {
     "data": {
      "text/html": [
       "<table>\n",
       "<thead><tr><th scope=col>filename</th><th scope=col>accession</th><th scope=col>sample</th></tr></thead>\n",
       "<tbody>\n",
       "\t<tr><td>downloaded_data/GSM2884119/GSM2884119_PBS_CD45p_treated_umis.txt.gz           </td><td>GSM2884119                                                                    </td><td>PBS_CD45p_treated                                                             </td></tr>\n",
       "\t<tr><td>downloaded_data/GSM2884120/GSM2884120_PBS_CD45n_treated_umis.txt.gz           </td><td>GSM2884120                                                                    </td><td>PBS_CD45n_treated                                                             </td></tr>\n",
       "\t<tr><td>downloaded_data/GSM2884121/GSM2884121_Flu_treated_CD45p_48h_rep1_umis.txt.gz  </td><td>GSM2884121                                                                    </td><td>Flu_treated_CD45p_48h_rep1                                                    </td></tr>\n",
       "\t<tr><td>downloaded_data/GSM2884122/GSM2884122_Flu_treated_CD45n_48h_rep1_umis.txt.gz  </td><td>GSM2884122                                                                    </td><td>Flu_treated_CD45n_48h_rep1                                                    </td></tr>\n",
       "\t<tr><td>downloaded_data/GSM2884123/GSM2884123_Flu_treated_CD45p_48h_rep2_umis.txt.gz  </td><td>GSM2884123                                                                    </td><td>Flu_treated_CD45p_48h_rep2                                                    </td></tr>\n",
       "\t<tr><td>downloaded_data/GSM2884124/GSM2884124_Flu_treated_CD45n_48h_rep2_umis.txt.gz  </td><td>GSM2884124                                                                    </td><td>Flu_treated_CD45n_48h_rep2                                                    </td></tr>\n",
       "\t<tr><td>downloaded_data/GSM2884125/GSM2884125_Flu_treated_CD45p_72h_umis.txt.gz       </td><td>GSM2884125                                                                    </td><td>Flu_treated_CD45p_72h                                                         </td></tr>\n",
       "\t<tr><td>downloaded_data/GSM2884126/GSM2884126_Flu_treated_CD45n_72h_umis.txt.gz       </td><td>GSM2884126                                                                    </td><td>Flu_treated_CD45n_72h                                                         </td></tr>\n",
       "\t<tr><td>downloaded_data/GSM2884127/GSM2884127_Flu_treated_CD45p_48h_Irf7KO_umis.txt.gz</td><td>GSM2884127                                                                    </td><td>Flu_treated_CD45p_48h_Irf7KO                                                  </td></tr>\n",
       "\t<tr><td>downloaded_data/GSM2884128/GSM2884128_Flu_treated_CD45n_48h_Irf7KO_umis.txt.gz</td><td>GSM2884128                                                                    </td><td>Flu_treated_CD45n_48h_Irf7KO                                                  </td></tr>\n",
       "</tbody>\n",
       "</table>\n"
      ],
      "text/latex": [
       "\\begin{tabular}{r|lll}\n",
       " filename & accession & sample\\\\\n",
       "\\hline\n",
       "\t downloaded\\_data/GSM2884119/GSM2884119\\_PBS\\_CD45p\\_treated\\_umis.txt.gz            & GSM2884119                                                                               & PBS\\_CD45p\\_treated                                                                   \\\\\n",
       "\t downloaded\\_data/GSM2884120/GSM2884120\\_PBS\\_CD45n\\_treated\\_umis.txt.gz            & GSM2884120                                                                               & PBS\\_CD45n\\_treated                                                                   \\\\\n",
       "\t downloaded\\_data/GSM2884121/GSM2884121\\_Flu\\_treated\\_CD45p\\_48h\\_rep1\\_umis.txt.gz   & GSM2884121                                                                                   & Flu\\_treated\\_CD45p\\_48h\\_rep1                                                          \\\\\n",
       "\t downloaded\\_data/GSM2884122/GSM2884122\\_Flu\\_treated\\_CD45n\\_48h\\_rep1\\_umis.txt.gz   & GSM2884122                                                                                   & Flu\\_treated\\_CD45n\\_48h\\_rep1                                                          \\\\\n",
       "\t downloaded\\_data/GSM2884123/GSM2884123\\_Flu\\_treated\\_CD45p\\_48h\\_rep2\\_umis.txt.gz   & GSM2884123                                                                                   & Flu\\_treated\\_CD45p\\_48h\\_rep2                                                          \\\\\n",
       "\t downloaded\\_data/GSM2884124/GSM2884124\\_Flu\\_treated\\_CD45n\\_48h\\_rep2\\_umis.txt.gz   & GSM2884124                                                                                   & Flu\\_treated\\_CD45n\\_48h\\_rep2                                                          \\\\\n",
       "\t downloaded\\_data/GSM2884125/GSM2884125\\_Flu\\_treated\\_CD45p\\_72h\\_umis.txt.gz        & GSM2884125                                                                                 & Flu\\_treated\\_CD45p\\_72h                                                               \\\\\n",
       "\t downloaded\\_data/GSM2884126/GSM2884126\\_Flu\\_treated\\_CD45n\\_72h\\_umis.txt.gz        & GSM2884126                                                                                 & Flu\\_treated\\_CD45n\\_72h                                                               \\\\\n",
       "\t downloaded\\_data/GSM2884127/GSM2884127\\_Flu\\_treated\\_CD45p\\_48h\\_Irf7KO\\_umis.txt.gz & GSM2884127                                                                                   & Flu\\_treated\\_CD45p\\_48h\\_Irf7KO                                                        \\\\\n",
       "\t downloaded\\_data/GSM2884128/GSM2884128\\_Flu\\_treated\\_CD45n\\_48h\\_Irf7KO\\_umis.txt.gz & GSM2884128                                                                                   & Flu\\_treated\\_CD45n\\_48h\\_Irf7KO                                                        \\\\\n",
       "\\end{tabular}\n"
      ],
      "text/markdown": [
       "\n",
       "filename | accession | sample | \n",
       "|---|---|---|---|---|---|---|---|---|---|\n",
       "| downloaded_data/GSM2884119/GSM2884119_PBS_CD45p_treated_umis.txt.gz            | GSM2884119                                                                     | PBS_CD45p_treated                                                              | \n",
       "| downloaded_data/GSM2884120/GSM2884120_PBS_CD45n_treated_umis.txt.gz            | GSM2884120                                                                     | PBS_CD45n_treated                                                              | \n",
       "| downloaded_data/GSM2884121/GSM2884121_Flu_treated_CD45p_48h_rep1_umis.txt.gz   | GSM2884121                                                                     | Flu_treated_CD45p_48h_rep1                                                     | \n",
       "| downloaded_data/GSM2884122/GSM2884122_Flu_treated_CD45n_48h_rep1_umis.txt.gz   | GSM2884122                                                                     | Flu_treated_CD45n_48h_rep1                                                     | \n",
       "| downloaded_data/GSM2884123/GSM2884123_Flu_treated_CD45p_48h_rep2_umis.txt.gz   | GSM2884123                                                                     | Flu_treated_CD45p_48h_rep2                                                     | \n",
       "| downloaded_data/GSM2884124/GSM2884124_Flu_treated_CD45n_48h_rep2_umis.txt.gz   | GSM2884124                                                                     | Flu_treated_CD45n_48h_rep2                                                     | \n",
       "| downloaded_data/GSM2884125/GSM2884125_Flu_treated_CD45p_72h_umis.txt.gz        | GSM2884125                                                                     | Flu_treated_CD45p_72h                                                          | \n",
       "| downloaded_data/GSM2884126/GSM2884126_Flu_treated_CD45n_72h_umis.txt.gz        | GSM2884126                                                                     | Flu_treated_CD45n_72h                                                          | \n",
       "| downloaded_data/GSM2884127/GSM2884127_Flu_treated_CD45p_48h_Irf7KO_umis.txt.gz | GSM2884127                                                                     | Flu_treated_CD45p_48h_Irf7KO                                                   | \n",
       "| downloaded_data/GSM2884128/GSM2884128_Flu_treated_CD45n_48h_Irf7KO_umis.txt.gz | GSM2884128                                                                     | Flu_treated_CD45n_48h_Irf7KO                                                   | \n",
       "\n",
       "\n"
      ],
      "text/plain": [
       "   filename                                                                      \n",
       "1  downloaded_data/GSM2884119/GSM2884119_PBS_CD45p_treated_umis.txt.gz           \n",
       "2  downloaded_data/GSM2884120/GSM2884120_PBS_CD45n_treated_umis.txt.gz           \n",
       "3  downloaded_data/GSM2884121/GSM2884121_Flu_treated_CD45p_48h_rep1_umis.txt.gz  \n",
       "4  downloaded_data/GSM2884122/GSM2884122_Flu_treated_CD45n_48h_rep1_umis.txt.gz  \n",
       "5  downloaded_data/GSM2884123/GSM2884123_Flu_treated_CD45p_48h_rep2_umis.txt.gz  \n",
       "6  downloaded_data/GSM2884124/GSM2884124_Flu_treated_CD45n_48h_rep2_umis.txt.gz  \n",
       "7  downloaded_data/GSM2884125/GSM2884125_Flu_treated_CD45p_72h_umis.txt.gz       \n",
       "8  downloaded_data/GSM2884126/GSM2884126_Flu_treated_CD45n_72h_umis.txt.gz       \n",
       "9  downloaded_data/GSM2884127/GSM2884127_Flu_treated_CD45p_48h_Irf7KO_umis.txt.gz\n",
       "10 downloaded_data/GSM2884128/GSM2884128_Flu_treated_CD45n_48h_Irf7KO_umis.txt.gz\n",
       "   accession  sample                      \n",
       "1  GSM2884119 PBS_CD45p_treated           \n",
       "2  GSM2884120 PBS_CD45n_treated           \n",
       "3  GSM2884121 Flu_treated_CD45p_48h_rep1  \n",
       "4  GSM2884122 Flu_treated_CD45n_48h_rep1  \n",
       "5  GSM2884123 Flu_treated_CD45p_48h_rep2  \n",
       "6  GSM2884124 Flu_treated_CD45n_48h_rep2  \n",
       "7  GSM2884125 Flu_treated_CD45p_72h       \n",
       "8  GSM2884126 Flu_treated_CD45n_72h       \n",
       "9  GSM2884127 Flu_treated_CD45p_48h_Irf7KO\n",
       "10 GSM2884128 Flu_treated_CD45n_48h_Irf7KO"
      ]
     },
     "metadata": {},
     "output_type": "display_data"
    }
   ],
   "source": [
    "# get the GEO experiment\n",
    "gse <- getGEO(\"GSE107947\", GSEMatrix=FALSE, destdir=datadir)\n",
    "\n",
    "# download the individual datasets and store downloaded files in data frame\n",
    "datasets <- lapply(\n",
    "    gse %>% GSMList %>% names, \n",
    "    function (gsm) getGEOSuppFiles(gsm, baseDir=datadir) %>% rownames) %>%\n",
    "  unlist %>%\n",
    "  data.frame %>%\n",
    "  rename_all(function (c) \"filename\") %>%\n",
    "  mutate(filename=as.character(filename)) %>% \n",
    "  mutate(acc_sample=gsub(\"_umis.txt.gz\", \"\", basename(filename))) %>%\n",
    "  separate(acc_sample, c(\"accession\", \"sample\"), '_', extra=\"merge\")\n",
    "    \n",
    "datasets"
   ]
  },
  {
   "cell_type": "markdown",
   "metadata": {},
   "source": [
    "## Read cell-gene matrices\n",
    "First we read the cell-gene matrices for each sample into an ExpressionSet."
   ]
  },
  {
   "cell_type": "code",
   "execution_count": 119,
   "metadata": {},
   "outputs": [],
   "source": [
    "expr_list <- apply(\n",
    "  datasets,\n",
    "  1,\n",
    "  function (dataset) {\n",
    "    expr_matrix <- read.csv(dataset[\"filename\"], header=TRUE, \n",
    "                            row.names=1, sep='\\t') %>% \n",
    "                   data.matrix\n",
    "    pData <- expr_matrix %>%\n",
    "               colnames %>%\n",
    "               data.frame %>%\n",
    "               mutate(sample=dataset['sample']) %>%\n",
    "               remove_rownames %>%\n",
    "               column_to_rownames(var='.') %>%\n",
    "               AnnotatedDataFrame\n",
    "    ExpressionSet(expr_matrix, phenoData=pData)\n",
    "    }\n",
    "  )"
   ]
  },
  {
   "cell_type": "markdown",
   "metadata": {},
   "source": [
    "Then we combine into one merged ExpressionSet:"
   ]
  },
  {
   "cell_type": "code",
   "execution_count": 135,
   "metadata": {},
   "outputs": [],
   "source": [
    "expr_set <- do.call(\"combine\", expr_list)"
   ]
  },
  {
   "cell_type": "code",
   "execution_count": 138,
   "metadata": {},
   "outputs": [
    {
     "data": {
      "text/html": [
       "<table>\n",
       "<thead><tr><th scope=col>sample</th><th scope=col>n()</th></tr></thead>\n",
       "<tbody>\n",
       "\t<tr><td>Flu_treated_CD45n_48h_Irf7KO</td><td> 768                        </td></tr>\n",
       "\t<tr><td>Flu_treated_CD45n_48h_rep1  </td><td>1152                        </td></tr>\n",
       "\t<tr><td>Flu_treated_CD45n_48h_rep2  </td><td>1152                        </td></tr>\n",
       "\t<tr><td>Flu_treated_CD45n_72h       </td><td> 384                        </td></tr>\n",
       "\t<tr><td>Flu_treated_CD45p_48h_Irf7KO</td><td> 768                        </td></tr>\n",
       "\t<tr><td>Flu_treated_CD45p_48h_rep1  </td><td>1152                        </td></tr>\n",
       "\t<tr><td>Flu_treated_CD45p_48h_rep2  </td><td> 768                        </td></tr>\n",
       "\t<tr><td>Flu_treated_CD45p_72h       </td><td> 768                        </td></tr>\n",
       "\t<tr><td>PBS_CD45n_treated           </td><td>1152                        </td></tr>\n",
       "\t<tr><td>PBS_CD45p_treated           </td><td>1152                        </td></tr>\n",
       "</tbody>\n",
       "</table>\n"
      ],
      "text/latex": [
       "\\begin{tabular}{r|ll}\n",
       " sample & n()\\\\\n",
       "\\hline\n",
       "\t Flu\\_treated\\_CD45n\\_48h\\_Irf7KO &  768                                \\\\\n",
       "\t Flu\\_treated\\_CD45n\\_48h\\_rep1   & 1152                                \\\\\n",
       "\t Flu\\_treated\\_CD45n\\_48h\\_rep2   & 1152                                \\\\\n",
       "\t Flu\\_treated\\_CD45n\\_72h        &  384                              \\\\\n",
       "\t Flu\\_treated\\_CD45p\\_48h\\_Irf7KO &  768                                \\\\\n",
       "\t Flu\\_treated\\_CD45p\\_48h\\_rep1   & 1152                                \\\\\n",
       "\t Flu\\_treated\\_CD45p\\_48h\\_rep2   &  768                                \\\\\n",
       "\t Flu\\_treated\\_CD45p\\_72h        &  768                              \\\\\n",
       "\t PBS\\_CD45n\\_treated            & 1152                            \\\\\n",
       "\t PBS\\_CD45p\\_treated            & 1152                            \\\\\n",
       "\\end{tabular}\n"
      ],
      "text/markdown": [
       "\n",
       "sample | n() | \n",
       "|---|---|---|---|---|---|---|---|---|---|\n",
       "| Flu_treated_CD45n_48h_Irf7KO |  768                         | \n",
       "| Flu_treated_CD45n_48h_rep1   | 1152                         | \n",
       "| Flu_treated_CD45n_48h_rep2   | 1152                         | \n",
       "| Flu_treated_CD45n_72h        |  384                         | \n",
       "| Flu_treated_CD45p_48h_Irf7KO |  768                         | \n",
       "| Flu_treated_CD45p_48h_rep1   | 1152                         | \n",
       "| Flu_treated_CD45p_48h_rep2   |  768                         | \n",
       "| Flu_treated_CD45p_72h        |  768                         | \n",
       "| PBS_CD45n_treated            | 1152                         | \n",
       "| PBS_CD45p_treated            | 1152                         | \n",
       "\n",
       "\n"
      ],
      "text/plain": [
       "   sample                       n() \n",
       "1  Flu_treated_CD45n_48h_Irf7KO  768\n",
       "2  Flu_treated_CD45n_48h_rep1   1152\n",
       "3  Flu_treated_CD45n_48h_rep2   1152\n",
       "4  Flu_treated_CD45n_72h         384\n",
       "5  Flu_treated_CD45p_48h_Irf7KO  768\n",
       "6  Flu_treated_CD45p_48h_rep1   1152\n",
       "7  Flu_treated_CD45p_48h_rep2    768\n",
       "8  Flu_treated_CD45p_72h         768\n",
       "9  PBS_CD45n_treated            1152\n",
       "10 PBS_CD45p_treated            1152"
      ]
     },
     "metadata": {},
     "output_type": "display_data"
    }
   ],
   "source": [
    "expr_set %>% pData %>% group_by(sample) %>% summarize(n()) %>% arrange(sample)"
   ]
  },
  {
   "cell_type": "code",
   "execution_count": 139,
   "metadata": {},
   "outputs": [
    {
     "data": {
      "text/html": [
       "6912"
      ],
      "text/latex": [
       "6912"
      ],
      "text/markdown": [
       "6912"
      ],
      "text/plain": [
       "[1] 6912"
      ]
     },
     "metadata": {},
     "output_type": "display_data"
    }
   ],
   "source": [
    "768 + 1152 * 2 + 384 + 768 + 1152 + 768 * 2"
   ]
  },
  {
   "cell_type": "code",
   "execution_count": null,
   "metadata": {},
   "outputs": [],
   "source": []
  }
 ],
 "metadata": {
  "kernelspec": {
   "display_name": "R",
   "language": "R",
   "name": "ir"
  },
  "language_info": {
   "codemirror_mode": "r",
   "file_extension": ".r",
   "mimetype": "text/x-r-source",
   "name": "R",
   "pygments_lexer": "r",
   "version": "3.4.3"
  },
  "toc": {
   "nav_menu": {},
   "number_sections": false,
   "sideBar": true,
   "skip_h1_title": false,
   "toc_cell": true,
   "toc_position": {},
   "toc_section_display": "block",
   "toc_window_display": true
  }
 },
 "nbformat": 4,
 "nbformat_minor": 2
}
