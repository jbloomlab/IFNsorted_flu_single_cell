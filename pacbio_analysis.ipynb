{
 "cells": [
  {
   "cell_type": "markdown",
   "metadata": {
    "toc": true
   },
   "source": [
    "<h1>Table of Contents<span class=\"tocSkip\"></span></h1>\n",
    "<div class=\"toc\" style=\"margin-top: 1em;\"><ul class=\"toc-item\"><li><span><a href=\"#Analysis-of-full-length-PacBio-sequencing-of-influenza-mRNAs\" data-toc-modified-id=\"Analysis-of-full-length-PacBio-sequencing-of-influenza-mRNAs-1\">Analysis of full-length PacBio sequencing of influenza mRNAs</a></span><ul class=\"toc-item\"><li><span><a href=\"#Set-up-for-analysis\" data-toc-modified-id=\"Set-up-for-analysis-1.1\">Set up for analysis</a></span><ul class=\"toc-item\"><li><span><a href=\"#Import-Python-modules\" data-toc-modified-id=\"Import-Python-modules-1.1.1\">Import Python modules</a></span></li><li><span><a href=\"#Define-/-create-directories\" data-toc-modified-id=\"Define-/-create-directories-1.1.2\">Define / create directories</a></span></li><li><span><a href=\"#How-many-CPUs-to-use\" data-toc-modified-id=\"How-many-CPUs-to-use-1.1.3\">How many CPUs to use</a></span></li></ul></li><li><span><a href=\"#Build-CCSs\" data-toc-modified-id=\"Build-CCSs-1.2\">Build CCSs</a></span><ul class=\"toc-item\"><li><span><a href=\"#Get-subreads-files\" data-toc-modified-id=\"Get-subreads-files-1.2.1\">Get subreads files</a></span></li><li><span><a href=\"#Run-ccs-and-read-results\" data-toc-modified-id=\"Run-ccs-and-read-results-1.2.2\">Run <code>ccs</code> and read results</a></span></li></ul></li><li><span><a href=\"#Process-CCS's\" data-toc-modified-id=\"Process-CCS's-1.3\">Process CCS's</a></span><ul class=\"toc-item\"><li><span><a href=\"#Barcoded-CCS-features\" data-toc-modified-id=\"Barcoded-CCS-features-1.3.1\">Barcoded CCS features</a></span></li><li><span><a href=\"#Flu-alignment-targets\" data-toc-modified-id=\"Flu-alignment-targets-1.3.2\">Flu alignment targets</a></span></li><li><span><a href=\"#Match-and-align-CCSs\" data-toc-modified-id=\"Match-and-align-CCSs-1.3.3\">Match and align CCSs</a></span></li><li><span><a href=\"#Stats-on-matching-/-alignment\" data-toc-modified-id=\"Stats-on-matching-/-alignment-1.3.4\">Stats on matching / alignment</a></span></li><li><span><a href=\"#Get-CCSs-with-gene-aligned\" data-toc-modified-id=\"Get-CCSs-with-gene-aligned-1.3.5\">Get CCSs with gene aligned</a></span></li></ul></li><li><span><a href=\"#Quality-control-alignments\" data-toc-modified-id=\"Quality-control-alignments-1.4\">Quality-control alignments</a></span><ul class=\"toc-item\"><li><span><a href=\"#Barcode-accuracy\" data-toc-modified-id=\"Barcode-accuracy-1.4.1\">Barcode accuracy</a></span></li><li><span><a href=\"#Additional-alignments\" data-toc-modified-id=\"Additional-alignments-1.4.2\">Additional alignments</a></span></li><li><span><a href=\"#Excessive-alignment-trimming\" data-toc-modified-id=\"Excessive-alignment-trimming-1.4.3\">Excessive alignment trimming</a></span><ul class=\"toc-item\"><li><span><a href=\"#Trimming-of-query-start\" data-toc-modified-id=\"Trimming-of-query-start-1.4.3.1\">Trimming of query start</a></span></li><li><span><a href=\"#Trimming-of-target-start\" data-toc-modified-id=\"Trimming-of-target-start-1.4.3.2\">Trimming of target start</a></span></li><li><span><a href=\"#Trimming-of-target-/-query-ends\" data-toc-modified-id=\"Trimming-of-target-/-query-ends-1.4.3.3\">Trimming of target / query ends</a></span></li></ul></li></ul></li></ul></li></ul></div>"
   ]
  },
  {
   "cell_type": "markdown",
   "metadata": {},
   "source": [
    "# Analysis of full-length PacBio sequencing of influenza mRNAs\n",
    "The material from the 10X libraries for the *IFN_enriched* sample was enriched for viral mRNAs by semi-specific PCR, and then sequenced by PacBio.\n",
    "Here we analyze those data.\n",
    "\n",
    "## Set up for analysis\n",
    "First, we do some things to set up this Jupyter notebook.\n",
    "\n",
    "### Import Python modules\n",
    "We import the Python modules used.\n",
    "\n",
    "We make extensive use of [dms_tools2](https://jbloomlab.github.io/dms_tools2/) to handle the PacBio data.\n",
    "\n",
    "We import [plotnine](https://plotnine.readthedocs.io/en/latest/) for plotting using a ggplot2-like syntax."
   ]
  },
  {
   "cell_type": "code",
   "execution_count": 1,
   "metadata": {},
   "outputs": [
    {
     "name": "stdout",
     "output_type": "stream",
     "text": [
      "Using dms_tools2 version 2.3.dev0\n"
     ]
    }
   ],
   "source": [
    "import os\n",
    "import glob\n",
    "import subprocess\n",
    "import shutil\n",
    "import multiprocessing\n",
    "import warnings\n",
    "import collections\n",
    "warnings.simplefilter('ignore')\n",
    "\n",
    "import pandas\n",
    "from IPython.display import display, HTML\n",
    "import Bio.SeqIO\n",
    "\n",
    "import dms_tools2\n",
    "print(\"Using dms_tools2 version {0}\".format(dms_tools2.__version__))\n",
    "from dms_tools2.ipython_utils import showPDF\n",
    "from dms_tools2.plot import COLOR_BLIND_PALETTE_GRAY\n",
    "\n",
    "# import plotnine for plotting\n",
    "from plotnine import *\n",
    "_ = theme_set(theme_bw(base_size=12))"
   ]
  },
  {
   "cell_type": "markdown",
   "metadata": {},
   "source": [
    "### Define / create directories\n",
    "We define the names of key directories for input and output, and create these directories if needed:"
   ]
  },
  {
   "cell_type": "code",
   "execution_count": 2,
   "metadata": {},
   "outputs": [],
   "source": [
    "# top results directory\n",
    "resultsdir = './results/'\n",
    "\n",
    "# directory for PacBio results\n",
    "pacbioresultsdir = os.path.join(resultsdir, 'pacbio')\n",
    "os.makedirs(pacbioresultsdir, exist_ok=True)"
   ]
  },
  {
   "cell_type": "markdown",
   "metadata": {},
   "source": [
    "### How many CPUs to use\n",
    "Specify max number to use:"
   ]
  },
  {
   "cell_type": "code",
   "execution_count": 3,
   "metadata": {},
   "outputs": [],
   "source": [
    "max_cpus = 14 # max number of CPUs to use\n",
    "ncpus = max(multiprocessing.cpu_count(), max_cpus)"
   ]
  },
  {
   "cell_type": "markdown",
   "metadata": {},
   "source": [
    "## Build CCSs \n",
    "We build the circular consensus sequences (CCSs) using the PacBio software.\n",
    "\n",
    "### Get subreads files \n",
    "We have multiple sequencing runs:\n",
    "  - A run from June-8-2017 done at the UW PacBio core. This run used a PacBio RSII machine.\n",
    "  - A run from December-7-2017 done at the Fred Hutch Genomics core. This run used a PacBio Sequel machine.\n",
    "  \n",
    "Note that the material sequenced for these two runs was **not** identical. \n",
    "The balance of genes that were mixed differed, as well as the size selection and the way that the libraries were loaded.\n",
    "Therefore, we do not expect the same balance of different reads in the two runs.\n",
    "\n",
    "In addition, the data were processed differently.\n",
    "For the Hutch Genomics Core runs, the data are already processed into a `*.subreads.bam` file, while for UW PacBio core runs it is still in the `*.bas.h5` file."
   ]
  },
  {
   "cell_type": "code",
   "execution_count": 4,
   "metadata": {},
   "outputs": [],
   "source": [
    "seqruns = ['2017-06-08', '2017-12-07']\n",
    "\n",
    "seqdirs = {\n",
    "        '2017-06-08':'/fh/fast/bloom_j/SR/ngs/pacbio_UW/170608 Pacbio single cell/Emulsion Reaction/ABR_C_MACS.AR_0kb',\n",
    "        '2017-12-07':'/fh/fast/bloom_j/SR/ngs/pacbio/171207_bloom_j/r54228_20171201_171054/1_A01',\n",
    "        }\n",
    "\n",
    "bam_already = {'2017-06-08':False, '2017-12-07':True}"
   ]
  },
  {
   "cell_type": "markdown",
   "metadata": {},
   "source": [
    "Now we get the `*.subreads.bam` file for each run.\n",
    "If they already exist (e.g., if data were returned by the Fred Hutch Genomics Core), we just need to get the name of the file.\n",
    "But if they don't exist (e.g., if data were returned from UW PacBio Core), we need to run the PacBio [bax2bam](https://github.com/PacificBiosciences/bax2bam) software to create the `*subreads.bam` files from the `*.bas.h5` files."
   ]
  },
  {
   "cell_type": "code",
   "execution_count": 5,
   "metadata": {},
   "outputs": [
    {
     "name": "stdout",
     "output_type": "stream",
     "text": [
      "\n",
      "Getting subreads for 2017-06-08 sequencing run\n",
      "Subreads file already exists: ./results/pacbio/subreads/2017-06-08.subreads.bam\n",
      "\n",
      "Getting subreads for 2017-12-07 sequencing run\n",
      "Subreads file already exists: ./results/pacbio/subreads/2017-12-07.subreads.bam\n"
     ]
    }
   ],
   "source": [
    "# put or copy subreads into this directory\n",
    "subreadsdir = os.path.join(pacbioresultsdir, 'subreads')\n",
    "os.makedirs(subreadsdir, exist_ok=True)\n",
    "\n",
    "# store name of subreads files for each sequencing run\n",
    "subreads = dict([(seqrun, os.path.join(subreadsdir, seqrun + '.subreads.bam'))\n",
    "                 for seqrun in seqruns])\n",
    "\n",
    "# get subreads files\n",
    "for (seqrun, subreadsfile) in subreads.items():\n",
    "    print(\"\\nGetting subreads for {0} sequencing run\".format(seqrun))\n",
    "    \n",
    "    if os.path.isfile(subreadsfile):\n",
    "        print(\"Subreads file already exists: {0}\".format(subreadsfile))\n",
    "    \n",
    "    elif bam_already[seqrun]:\n",
    "        print(\"Looking for existing subreads file...\")\n",
    "        filepattern = os.path.join(seqdirs[seqrun], '*.subreads.bam')\n",
    "        existingfiles = glob.glob(filepattern)\n",
    "        assert existingfiles, \"No file matching expected pattern of {0}\".format(filepattern)\n",
    "        assert len(existingfiles) == 1, \"Expected one file, but found multiple:\\n{0}\".format(\n",
    "                '\\n'.join(existingfiles))\n",
    "        print(\"Copying subreads file {0} to {1}...\".format(existingfiles[0], subreadsfile))\n",
    "        shutil.copy(existingfiles[0], subreadsfile)\n",
    "        shutil.copy(existingfiles[0] + '.pbi', subreadsfile + '.pbi')\n",
    "        print(\"Completed copying file.\")\n",
    "    \n",
    "    else:\n",
    "        print(\"Building subreads using `bax2bam` version {0}\".format(\n",
    "                subprocess.check_output(['bax2bam', '--version']).decode('utf-8').strip()))\n",
    "        baxfiles = []\n",
    "        for (dpath, dirnames, fnames) in os.walk(seqdirs[seqrun]):\n",
    "            baxfiles += [os.path.join(dpath, fname) for fname in fnames if fname.endswith('.bax.h5')] \n",
    "        assert len(baxfiles) > 0, \"found no `*.bax.h5` files\"\n",
    "        print(\"Will build subreads from the following `*.bax.h5` files:\\n\\t{0}\".format(\n",
    "                '\\n\\t'.join(baxfiles)))\n",
    "        print(\"Now running `bax2bam`...\")\n",
    "        ! bax2bam \\\n",
    "                {' '.join(['\"' + x + '\"' for x in baxfiles])} \\\n",
    "                -o {subreadsfile.replace('.subreads.bam', '')} \\\n",
    "                --subread\n",
    "        print(\"Completed running `bax2bam` to create {0}\".format(subreadsfile))\n",
    "        assert os.path.isfile(subreadsfile)"
   ]
  },
  {
   "cell_type": "markdown",
   "metadata": {},
   "source": [
    "### Run `ccs` and read results\n",
    "We build CCS's using PacBio's algorithm as implemented in the [ccs program](https://github.com/PacificBiosciences/unanimity/blob/develop/doc/PBCCS.md).\n",
    "\n",
    "We only want reasonably high-quality CCSs.\n",
    "The [ccs program](https://github.com/PacificBiosciences/unanimity/blob/master/doc/PBCCS.md) provides two ways to control the \"accuracy\" of reads.\n",
    "The first is the `--minPasses` option, which corresponds to how many subreads we require to call a circular consensus sequence.\n",
    "The second is the `--minPredictedAccuracy` option, which provides an explicit estimate of the accuracy.\n",
    "We will further post-process the CCSs, so we set reasonably high but not extremely stringent values: 3 passes, and at least 99.9% accuracy.\n",
    "\n",
    "We then read the results of each sequencing run into ` dms_tools2.pacbio.CCS` object and summarize the results on the number of high-quality CCSs generated:"
   ]
  },
  {
   "cell_type": "code",
   "execution_count": 6,
   "metadata": {},
   "outputs": [
    {
     "name": "stdout",
     "output_type": "stream",
     "text": [
      "\n",
      "Running `ccs` for sequencing run 2017-06-08\n",
      "The `ccs` output already exists, so using that existing output.\n",
      "\n",
      "Running `ccs` for sequencing run 2017-12-07\n",
      "The `ccs` output already exists, so using that existing output.\n",
      "\n",
      "Here are statistics on the `ccs` results:\n"
     ]
    },
    {
     "data": {
      "image/png": "[encoded data removed]",
      "text/plain": [
       "<IPython.core.display.Image object>"
      ]
     },
     "metadata": {},
     "output_type": "display_data"
    },
    {
     "data": {
      "text/html": [
       "<table border=\"1\" class=\"dataframe\">\n",
       "  <thead>\n",
       "    <tr style=\"text-align: right;\">\n",
       "      <th>sample</th>\n",
       "      <th>status</th>\n",
       "      <th>number</th>\n",
       "      <th>fraction</th>\n",
       "    </tr>\n",
       "  </thead>\n",
       "  <tbody>\n",
       "    <tr>\n",
       "      <td>2017-12-07</td>\n",
       "      <td>Success -- CCS generated</td>\n",
       "      <td>209930</td>\n",
       "      <td>0.4428</td>\n",
       "    </tr>\n",
       "    <tr>\n",
       "      <td>2017-12-07</td>\n",
       "      <td>Failed -- Not enough full passes</td>\n",
       "      <td>152429</td>\n",
       "      <td>0.3215</td>\n",
       "    </tr>\n",
       "    <tr>\n",
       "      <td>2017-12-07</td>\n",
       "      <td>Failed -- CCS below minimum predicted accuracy</td>\n",
       "      <td>110974</td>\n",
       "      <td>0.2341</td>\n",
       "    </tr>\n",
       "    <tr>\n",
       "      <td>2017-06-08</td>\n",
       "      <td>Failed -- Not enough full passes</td>\n",
       "      <td>36289</td>\n",
       "      <td>0.3371</td>\n",
       "    </tr>\n",
       "    <tr>\n",
       "      <td>2017-06-08</td>\n",
       "      <td>Failed -- Below SNR threshold</td>\n",
       "      <td>24052</td>\n",
       "      <td>0.2235</td>\n",
       "    </tr>\n",
       "    <tr>\n",
       "      <td>2017-06-08</td>\n",
       "      <td>Failed -- CCS below minimum predicted accuracy</td>\n",
       "      <td>22063</td>\n",
       "      <td>0.2050</td>\n",
       "    </tr>\n",
       "    <tr>\n",
       "      <td>2017-06-08</td>\n",
       "      <td>Success -- CCS generated</td>\n",
       "      <td>18063</td>\n",
       "      <td>0.1678</td>\n",
       "    </tr>\n",
       "    <tr>\n",
       "      <td>2017-06-08</td>\n",
       "      <td>Failed -- No usable subreads</td>\n",
       "      <td>6810</td>\n",
       "      <td>0.0633</td>\n",
       "    </tr>\n",
       "  </tbody>\n",
       "</table>"
      ],
      "text/plain": [
       "<IPython.core.display.HTML object>"
      ]
     },
     "metadata": {},
     "output_type": "display_data"
    }
   ],
   "source": [
    "ccsdir = os.path.join(pacbioresultsdir, 'ccs')\n",
    "os.makedirs(ccsdir, exist_ok=True)\n",
    "\n",
    "ccslist = []\n",
    "for (seqrun, subreadsfile) in subreads.items():\n",
    "    print(\"\\nRunning `ccs` for sequencing run {0}\".format(seqrun))\n",
    "        \n",
    "    reportfile = os.path.join(ccsdir, seqrun + '_report.csv')\n",
    "    bamfile = os.path.join(ccsdir, seqrun + '_ccs.bam')\n",
    "    logfile = os.path.join(ccsdir, seqrun + '_log.txt')\n",
    "        \n",
    "    if all(map(os.path.isfile, [reportfile, bamfile])):\n",
    "        print(\"The `ccs` output already exists, so using that existing output.\")\n",
    "    else:  \n",
    "        print(\"Running {0}...\".format(\n",
    "                subprocess.check_output(['ccs', '--version']).decode(\n",
    "                'utf-8').strip()))\n",
    "        ! ccs \\\n",
    "            --minLength 100 \\\n",
    "            --maxLength 5000 \\\n",
    "            --minPasses 3 \\\n",
    "            --minPredictedAccuracy 0.999 \\\n",
    "            --logFile {logfile} \\\n",
    "            --reportFile {reportfile} \\\n",
    "            --polish \\\n",
    "            --numThreads {ncpus} \\\n",
    "            {subreadsfile} \\\n",
    "            {bamfile}\n",
    "        print(\"Completed `ccs` run.\")\n",
    "        \n",
    "    ccslist.append(dms_tools2.pacbio.CCS(seqrun, bamfile, reportfile))\n",
    "\n",
    "print(\"\\nHere are statistics on the `ccs` results:\")\n",
    "zmw_plot = os.path.join(ccsdir, 'ZMW_plot.pdf')\n",
    "showPDF(zmw_plot)\n",
    "\n",
    "ccs_report = dms_tools2.pacbio.summarizeCCSreports(\n",
    "                ccslist, 'zmw', zmw_plot)\n",
    "display(HTML(ccs_report.query('fraction > 0.005').to_html(index=False)))"
   ]
  },
  {
   "cell_type": "markdown",
   "metadata": {},
   "source": [
    "## Process CCS's\n",
    "The PacBio sequencing was performed on PCR-amplified product.\n",
    "This PCR product was amplified off the 10X barcoded material using semi-specific PCR with one end specifically annealing to flu transcripts.\n",
    "We want to identify the CCS's that represent properly barcoded 10X material from influenza genes, and then call the barcodes and align the barcoded mRNA to influenza transcripts."
   ]
  },
  {
   "cell_type": "markdown",
   "metadata": {},
   "source": [
    "### Barcoded CCS features\n",
    "This [10X technical note](https://teichlab.github.io/scg_lib_structs/data/CG000108_AssayConfiguration_SC3v2.pdf) outlines the sequences appended by the v2 10X single-cell 3' kit used in these experiments. \n",
    "Specifically:\n",
    "![./data/images/10Xschematic.png](./data/images/10Xschematic.png)\n",
    "\n",
    "Zooming in on the 3' adaptor sequence, it is:\n",
    "`CTACACGACGCTCTTCCGATCT-NNNNNNNNNNNNNNNN-NNNNNNNNNN-TTTTTTTTTTTTTTTTTTTTTTTTTTTTTTVN` where the dash-delimited sequences are the read-1 priming site, the 16XN cell barcode, the 10XN UMI, the 30XT oligo-dT primer, followed by `V` (anything but `T`) and `N` (nominally, first nucleotide of upstream of mRNA polyA tail).\n",
    "\n",
    "For the PCR to enrich the 10X product, Alistair used a 3' primer that anneals to this adaptor, namely:"
   ]
  },
  {
   "cell_type": "code",
   "execution_count": 7,
   "metadata": {},
   "outputs": [
    {
     "name": "stdout",
     "output_type": "stream",
     "text": [
      "The length of the 3' primer is 22 nt\n"
     ]
    }
   ],
   "source": [
    "primer3 = 'CTACACGACGCTCTTCCGATCT'\n",
    "print(\"The length of the 3' primer is {0} nt\".format(len(primer3)))"
   ]
  },
  {
   "cell_type": "markdown",
   "metadata": {},
   "source": [
    "For the 5' primer, Alistair used a mix of primers that covered each of the 8 flu gene segments:"
   ]
  },
  {
   "cell_type": "code",
   "execution_count": 8,
   "metadata": {},
   "outputs": [
    {
     "name": "stdout",
     "output_type": "stream",
     "text": [
      "The length of the 5' primer ranges from 22 to 34 nt\n"
     ]
    }
   ],
   "source": [
    "primer5_mix = {'PB2':'GCGAAAGCAGGTCAATTATATTCAATATGGAAAG',\n",
    "               'PB1':'GCGAAAGCAGGCAAACCATTTG',\n",
    "               'PA':'GCGAAAGCAGGTACTGATTCAAAATGG',\n",
    "               'HA':'GCAAAAGCAGGGGAAAATAAAAACAACC',\n",
    "               'NP':'GCAAAAGCAGGGTAGATAATCACTCAC',\n",
    "               'NA':'GCGAAAGCAGGAGTTTAAATGAATCCAAAC',\n",
    "               'M':'GCAAAAGCAGGTAGATATTGAAAGATGAGTC',\n",
    "               'NS':'GCAAAAGCAGGGTGACAAAGACATAATG',\n",
    "              }\n",
    "print(\"The length of the 5' primer ranges from {0} to {1} nt\".format(\n",
    "        min(map(len, primer5_mix.values())), max(map(len, primer5_mix.values()))))"
   ]
  },
  {
   "cell_type": "markdown",
   "metadata": {},
   "source": [
    "### Flu alignment targets\n",
    "We want to align the barcoded sequences to the flu mRNAs.\n",
    "We will just align to the wildtype flu sequences, and then call the synonymous barcodes later.\n",
    "The flu mRNA sequences are in [./data/flu_sequences/flu-wsn-mRNA.fasta](./data/flu_sequences/flu-wsn-mRNA.fasta).\n",
    "We want to align to the sequence **interior** to the primer binding sites defined above: the region between the custom 5' primer and the polyA tail.\n",
    "We therefore read in the mRNAs, and then trim each from the 5' termini to the end of the primer binding site, and then write these to a file to use as the alignment targets:"
   ]
  },
  {
   "cell_type": "code",
   "execution_count": 9,
   "metadata": {},
   "outputs": [
    {
     "name": "stdout",
     "output_type": "stream",
     "text": [
      "Aligning to a 2285 nt region of fluPB2\n",
      "Aligning to a 2297 nt region of fluPB1\n",
      "Aligning to a 2183 nt region of fluPA\n",
      "Aligning to a 1725 nt region of fluHA\n",
      "Aligning to a 1516 nt region of fluNP\n",
      "Aligning to a 1357 nt region of fluNA\n",
      "Aligning to a 973 nt region of fluM1\n",
      "Aligning to a 285 nt region of fluM2\n",
      "Aligning to a 839 nt region of fluNS1\n",
      "Aligning to a 367 nt region of fluNS2\n"
     ]
    }
   ],
   "source": [
    "targets = []\n",
    "for full_mRNA in Bio.SeqIO.parse('./data/flu_sequences/flu-wsn-mRNA.fasta', 'fasta'):\n",
    "    full_mRNA_seq = str(full_mRNA.seq)\n",
    "    primer = [p for p in primer5_mix.values() if full_mRNA_seq.count(p)]\n",
    "    assert len(primer) == 1, \"matched multiple primers in {0}\".format(full_mRNA.name)\n",
    "    targetseq = full_mRNA_seq[full_mRNA_seq.index(primer[0]) + len(primer[0]) : ]\n",
    "    print(\"Aligning to a {0} nt region of {1}\".format(len(targetseq), full_mRNA.name))\n",
    "    targets.append((full_mRNA.name, targetseq))\n",
    "\n",
    "aligndir = os.path.join(pacbioresultsdir, 'alignments')\n",
    "os.makedirs(aligndir, exist_ok=True)\n",
    "targetfile = os.path.join(aligndir, 'targets.fasta')\n",
    "with open(targetfile, 'w') as f:\n",
    "    f.write('\\n'.join('>{0}\\n{1}'.format(*tup) for tup in targets))"
   ]
  },
  {
   "cell_type": "markdown",
   "metadata": {},
   "source": [
    "### Match and align CCSs\n",
    "We use the function `dms_tools2.pacbio.matchAndAlignCCS` to go through the CCS's, find the ones that are \"barcoded\" (have the proper elements), and the align these barcoded genes.\n",
    "All the results go into a pandas data frame.\n",
    "\n",
    "Specifically, we look for CCS's that have:\n",
    "  - Any 5' primer from Alistair's mix, trimmed a bit at the start since the first few nucleotides in the CCS might be off. We call this *termini5*.\n",
    "  - The mRNA itself, which we call the *gene*. Since we define the polyA tail as beginning on the first `A` at the polyA signal, the gene must end on a non-`A` nucleotide (which is the IUPAC code `B`).\n",
    "  - The polyA tail, which is effectively a spacer between the *gene* and the *UMI* / *barcode*. This tail is expected to be 30 `A`'s from 10X primer, but we allow it to be anything greater than 25 to account for the sloppiness in sequencing and primer synthesis associated with runs. We also use [regex fuzzy matching](https://stackoverflow.com/a/15975649) to allow the polyA to have up to two non-`A` nucleotides internal to it, since for instance the `VN` tooth in the oligo-dT primer might sometimes anneal in the wrong spot. We call this the *spacer* in the call to `dms_tools2.pacbio.matchAndAlignCCS`, but then rename to *polyA*.\n",
    "  - The 10-nucleotide UMI from the 10X primer, which we call *UMI*.\n",
    "  - The 16-nucleotide cell barcode from the 10X primer, which we call *barcode*.\n",
    "  - The 3' primer that Alistair used, which anneals in the read 1 primer binding site on the 10X primer. We call this *termini3*.\n",
    "  \n",
    "Note also that in the call to `dms_tools2.pacbio.matchAndAlignCCS`, we specify that *M1* and *M2* are isoforms, and *NS1* and *NS2* are isoforms.\n",
    "  \n",
    "We don't require a match to the first 5 nt of each termini, as sometimes the ends of the CCS's can be \"sloppy\":"
   ]
  },
  {
   "cell_type": "code",
   "execution_count": 10,
   "metadata": {},
   "outputs": [
    {
     "name": "stdout",
     "output_type": "stream",
     "text": [
      "Performing alignments with minimap2 version 2.10-r761\n",
      "Attempted to match and align all 227993 CCSs\n"
     ]
    }
   ],
   "source": [
    "mapper = dms_tools2.minimap2.Mapper(targetfile,\n",
    "        dms_tools2.minimap2.OPTIONS_VIRUS_W_DEL,\n",
    "        target_isoforms={'fluM1':['fluM2'], 'fluM2':['fluM1'],\n",
    "                         'fluNS1':['fluNS2'], 'fluNS2':['fluNS1']})\n",
    "print(\"Performing alignments with minimap2 version {0}\".format(mapper.version))\n",
    "\n",
    "trim_ends = 5 # trim this many off each termini\n",
    "\n",
    "df_all = dms_tools2.pacbio.matchAndAlignCCS(\n",
    "        ccslist=ccslist,\n",
    "        mapper=mapper,\n",
    "        termini5='|'.join([s[trim_ends : ] for s in primer5_mix.values()]),\n",
    "        gene='N+B',\n",
    "        spacer='AAA(A{19,}){e<=2}AAA', # regex fuzzy matching allows 2 mismatch\n",
    "        umi='N{10}',\n",
    "        barcode='N{16}',\n",
    "        termini3=dms_tools2.utils.reverseComplement(primer3)[ : trim_ends],\n",
    "        ).rename(columns={'has_spacer':'has_polyA'})\n",
    "\n",
    "print(\"Attempted to match and align all {0} CCSs\".format(len(df_all)))"
   ]
  },
  {
   "cell_type": "markdown",
   "metadata": {},
   "source": [
    "### Stats on matching / alignment\n",
    "Below we analyze the statistics on the matching and aligning of the CCSs:"
   ]
  },
  {
   "cell_type": "code",
   "execution_count": 11,
   "metadata": {},
   "outputs": [
    {
     "name": "stdout",
     "output_type": "stream",
     "text": [
      "Here is a table of the matching / alignment statistics:\n"
     ]
    },
    {
     "data": {
      "text/html": [
       "<table border=\"1\" class=\"dataframe\">\n",
       "  <thead>\n",
       "    <tr style=\"text-align: right;\">\n",
       "      <th>samplename</th>\n",
       "      <th>category</th>\n",
       "      <th>number of CCSs</th>\n",
       "      <th>percent</th>\n",
       "    </tr>\n",
       "  </thead>\n",
       "  <tbody>\n",
       "    <tr>\n",
       "      <td>2017-06-08</td>\n",
       "      <td>total</td>\n",
       "      <td>18063</td>\n",
       "      <td>100</td>\n",
       "    </tr>\n",
       "    <tr>\n",
       "      <td>2017-06-08</td>\n",
       "      <td>has termini3</td>\n",
       "      <td>18057</td>\n",
       "      <td>99</td>\n",
       "    </tr>\n",
       "    <tr>\n",
       "      <td>2017-06-08</td>\n",
       "      <td>has polyA</td>\n",
       "      <td>16731</td>\n",
       "      <td>92</td>\n",
       "    </tr>\n",
       "    <tr>\n",
       "      <td>2017-06-08</td>\n",
       "      <td>has termini5</td>\n",
       "      <td>4248</td>\n",
       "      <td>23</td>\n",
       "    </tr>\n",
       "    <tr>\n",
       "      <td>2017-06-08</td>\n",
       "      <td>barcoded</td>\n",
       "      <td>3634</td>\n",
       "      <td>20</td>\n",
       "    </tr>\n",
       "    <tr>\n",
       "      <td>2017-06-08</td>\n",
       "      <td>gene aligned</td>\n",
       "      <td>3633</td>\n",
       "      <td>20</td>\n",
       "    </tr>\n",
       "    <tr>\n",
       "      <td>2017-06-08</td>\n",
       "      <td>CCS aligned</td>\n",
       "      <td>4455</td>\n",
       "      <td>24</td>\n",
       "    </tr>\n",
       "    <tr>\n",
       "      <td>2017-12-07</td>\n",
       "      <td>total</td>\n",
       "      <td>209930</td>\n",
       "      <td>100</td>\n",
       "    </tr>\n",
       "    <tr>\n",
       "      <td>2017-12-07</td>\n",
       "      <td>has termini3</td>\n",
       "      <td>209788</td>\n",
       "      <td>99</td>\n",
       "    </tr>\n",
       "    <tr>\n",
       "      <td>2017-12-07</td>\n",
       "      <td>has polyA</td>\n",
       "      <td>190750</td>\n",
       "      <td>90</td>\n",
       "    </tr>\n",
       "    <tr>\n",
       "      <td>2017-12-07</td>\n",
       "      <td>has termini5</td>\n",
       "      <td>45533</td>\n",
       "      <td>21</td>\n",
       "    </tr>\n",
       "    <tr>\n",
       "      <td>2017-12-07</td>\n",
       "      <td>barcoded</td>\n",
       "      <td>37443</td>\n",
       "      <td>17</td>\n",
       "    </tr>\n",
       "    <tr>\n",
       "      <td>2017-12-07</td>\n",
       "      <td>gene aligned</td>\n",
       "      <td>37416</td>\n",
       "      <td>17</td>\n",
       "    </tr>\n",
       "    <tr>\n",
       "      <td>2017-12-07</td>\n",
       "      <td>CCS aligned</td>\n",
       "      <td>47206</td>\n",
       "      <td>22</td>\n",
       "    </tr>\n",
       "  </tbody>\n",
       "</table>"
      ],
      "text/plain": [
       "<IPython.core.display.HTML object>"
      ]
     },
     "metadata": {},
     "output_type": "display_data"
    },
    {
     "name": "stdout",
     "output_type": "stream",
     "text": [
      "\n",
      "Here is a plot of the results:\n"
     ]
    },
    {
     "data": {
      "image/png": "[encoded data removed]",
      "text/plain": [
       "<IPython.core.display.Image object>"
      ]
     },
     "metadata": {
      "image/png": {
       "width": 700
      }
     },
     "output_type": "display_data"
    }
   ],
   "source": [
    "# possible matching / alignment categories\n",
    "match_align_cats = ['total', 'has_termini3', 'has_polyA', 'has_termini5',\n",
    "                    'barcoded', 'gene_aligned', 'CCS_aligned']\n",
    "\n",
    "# tabulate statistics on matching / alignment\n",
    "match_align_df = (\n",
    "    df_all\n",
    "    .assign(total=True)\n",
    "    .melt(id_vars=['samplename'], \n",
    "          value_vars=match_align_cats,\n",
    "          var_name='category',\n",
    "          value_name='number of CCSs')\n",
    "    .groupby(['samplename', 'category'], as_index=False)\n",
    "    .aggregate('sum')\n",
    "    .assign(category=lambda x: pandas.Categorical(\n",
    "            x.category.str.replace('_', ' '), \n",
    "            [col.replace('_', ' ') for col in match_align_cats]))\n",
    "    .sort_values(['samplename', 'category'])\n",
    "    .assign(percent=lambda x: 100 * x['number of CCSs'] / \n",
    "               x.groupby('samplename')['number of CCSs'].transform('max'))\n",
    "    )\n",
    "print(\"Here is a table of the matching / alignment statistics:\")\n",
    "display(HTML(match_align_df.to_html(index=False, float_format='%d')))\n",
    "\n",
    "# plot the matching alignment statistics\n",
    "match_align_plot = os.path.join(aligndir, 'match_align_plot.pdf')\n",
    "(ggplot(match_align_df, aes('samplename', 'number of CCSs')) +\n",
    "    geom_bar(aes(fill='category'), position='dodge', stat='identity') +\n",
    "    scale_fill_manual(COLOR_BLIND_PALETTE_GRAY) +\n",
    "    xlab('sequencing run') \n",
    "    ).save(match_align_plot,\n",
    "           width=1.5 * (1 + len(seqruns)),\n",
    "           height=3)\n",
    "print(\"\\nHere is a plot of the results:\")\n",
    "showPDF(match_align_plot, width=700)"
   ]
  },
  {
   "cell_type": "markdown",
   "metadata": {},
   "source": [
    "We see that across both samples, the vast majority of CCSs have the 3' termini and the polyA, as might be expected given that those need to be there for the 3' primer to work.\n",
    "\n",
    "However, only a bit over 20% have the 5' termini.\n",
    "This could be because only a small fraction of all sequences in the initial PCR template pool will be flu mRNAs with the right termini for the 5' primer, so there may be spurious amplification (by the 3' primer or just linear amplification product) that doesn't have the 5' termini.\n",
    "\n",
    "Most of the CCSs that have the 5' termini are also *barcoded* in the sense that they fully match the expected patterns that allow us to call a barcode and UMI.\n",
    "\n",
    "Of these *barcoded* CCSs, most of them have mRNA inserts (\"genes\") that align to the flu targets, and so are in the *gene aligned* category.\n",
    "\n",
    "We also see that if we align the full CCS without requiring it to match the termini / barcode / polyA, we get a few more than for the *gene aligned* category, indicating that some of the CCSs for which we can't call barcodes still have flu in them.\n",
    "These may have mutations in the termini / polyA, or they may be some sort of chimera.\n",
    "In any case, since the *CCS aligned* category is only modestly larger than the *gene aligned* category, for all subsequent analyses we'll focus just on the *gene aligned* CCSs."
   ]
  },
  {
   "cell_type": "markdown",
   "metadata": {},
   "source": [
    "### Get CCSs with gene aligned\n",
    "For the reasons explained immediately above, all remaining analyses will focus only on the CCSs in the *gene aligned* category.\n",
    "Get these in a data frame:"
   ]
  },
  {
   "cell_type": "code",
   "execution_count": 12,
   "metadata": {},
   "outputs": [],
   "source": [
    "df_aligned = df_all.query('gene_aligned').reset_index(drop=True)"
   ]
  },
  {
   "cell_type": "markdown",
   "metadata": {},
   "source": [
    "## Quality-control alignments\n",
    "For the CCSs for which the gene insert aligned to flu, we now do some quality controlling on several important aspects.\n",
    "\n",
    "We do this by adding a column to our data frame named `QC_filtered`.\n",
    "Initially all entries in this columns are the string \"passes_filters\".\n",
    "As we go through each filter in order below, we add a string describing the filtering reason for each CCS that fails that filter.\n",
    "Once a CCS fails one filter (in the order they are provided below), we don't continue checking it against the other filters."
   ]
  },
  {
   "cell_type": "code",
   "execution_count": 13,
   "metadata": {},
   "outputs": [],
   "source": [
    "df_aligned['pass_QC'] = True\n",
    "df_aligned['QC_fail_reason'] = 'passes'"
   ]
  },
  {
   "cell_type": "markdown",
   "metadata": {},
   "source": [
    "### Barcode accuracy\n",
    "We want the barcodes called in the CCSs to be high accuracy. \n",
    "This might not be the case if molecules with different barcodes anneal during the PCR, such that a different barcode is sequenced on each strand of the SMRTbell that forms the CCS.\n",
    "So we tabulate some statistics about the distribution of barcode accuracies among CCSs that pass our filters so far:"
   ]
  },
  {
   "cell_type": "code",
   "execution_count": 14,
   "metadata": {},
   "outputs": [
    {
     "data": {
      "text/html": [
       "<div>\n",
       "<style scoped>\n",
       "    .dataframe tbody tr th:only-of-type {\n",
       "        vertical-align: middle;\n",
       "    }\n",
       "\n",
       "    .dataframe tbody tr th {\n",
       "        vertical-align: top;\n",
       "    }\n",
       "\n",
       "    .dataframe thead th {\n",
       "        text-align: right;\n",
       "    }\n",
       "</style>\n",
       "<table border=\"1\" class=\"dataframe\">\n",
       "  <thead>\n",
       "    <tr style=\"text-align: right;\">\n",
       "      <th></th>\n",
       "      <th>count</th>\n",
       "      <th>mean</th>\n",
       "      <th>std</th>\n",
       "      <th>min</th>\n",
       "      <th>0.1%</th>\n",
       "      <th>1%</th>\n",
       "      <th>2%</th>\n",
       "      <th>50%</th>\n",
       "      <th>max</th>\n",
       "    </tr>\n",
       "    <tr>\n",
       "      <th>samplename</th>\n",
       "      <th></th>\n",
       "      <th></th>\n",
       "      <th></th>\n",
       "      <th></th>\n",
       "      <th></th>\n",
       "      <th></th>\n",
       "      <th></th>\n",
       "      <th></th>\n",
       "      <th></th>\n",
       "    </tr>\n",
       "  </thead>\n",
       "  <tbody>\n",
       "    <tr>\n",
       "      <th>2017-06-08</th>\n",
       "      <td>3633.0</td>\n",
       "      <td>0.999863</td>\n",
       "      <td>0.001430</td>\n",
       "      <td>0.968363</td>\n",
       "      <td>0.979985</td>\n",
       "      <td>0.996868</td>\n",
       "      <td>0.999685</td>\n",
       "      <td>1.0</td>\n",
       "      <td>1.0</td>\n",
       "    </tr>\n",
       "    <tr>\n",
       "      <th>2017-12-07</th>\n",
       "      <td>37416.0</td>\n",
       "      <td>0.999962</td>\n",
       "      <td>0.000684</td>\n",
       "      <td>0.968675</td>\n",
       "      <td>0.989011</td>\n",
       "      <td>0.999828</td>\n",
       "      <td>0.999980</td>\n",
       "      <td>1.0</td>\n",
       "      <td>1.0</td>\n",
       "    </tr>\n",
       "  </tbody>\n",
       "</table>\n",
       "</div>"
      ],
      "text/plain": [
       "              count      mean       std       min      0.1%        1%  \\\n",
       "samplename                                                              \n",
       "2017-06-08   3633.0  0.999863  0.001430  0.968363  0.979985  0.996868   \n",
       "2017-12-07  37416.0  0.999962  0.000684  0.968675  0.989011  0.999828   \n",
       "\n",
       "                  2%  50%  max  \n",
       "samplename                      \n",
       "2017-06-08  0.999685  1.0  1.0  \n",
       "2017-12-07  0.999980  1.0  1.0  "
      ]
     },
     "execution_count": 14,
     "metadata": {},
     "output_type": "execute_result"
    }
   ],
   "source": [
    "(df_aligned\n",
    "    .query('pass_QC')\n",
    "    .groupby('samplename')\n",
    "    .barcode_accuracy\n",
    "    .describe(percentiles=[0.001, 0.01, 0.02])\n",
    "    )"
   ]
  },
  {
   "cell_type": "markdown",
   "metadata": {},
   "source": [
    "Below we see that the barcode accuracies are consistently very high, with over 98% having accuracies that exceed the accuracy threshold of 0.999 used when building the CCSs with PacBio's [ccs program](https://github.com/PacificBiosciences/unanimity/blob/develop/doc/PBCCS.md), and all of them having accuracies of >96%.\n",
    "Just to be safe, we will filter for CCSs that have a barcode accuracy $\\ge$0.999, which will eliminate only a very small fraction.\n",
    "\n",
    "We not in the data frame which of the CCSs that have not already been filtered fail this barcode accuracy filter:"
   ]
  },
  {
   "cell_type": "code",
   "execution_count": 15,
   "metadata": {},
   "outputs": [],
   "source": [
    "fail_index = df_aligned.query('pass_QC & (barcode_accuracy < 0.999)').index\n",
    "df_aligned.loc[fail_index, 'pass_QC'] = False\n",
    "df_aligned.loc[fail_index, 'QC_fail_reason'] = 'low barcode accuracy'"
   ]
  },
  {
   "cell_type": "markdown",
   "metadata": {},
   "source": [
    "### Additional alignments\n",
    "We want to get rid of CCSs that align to multiple different influenza genes.\n",
    "The reason is that these probably represent some sort of PCR chimera / fusion during the library preparation.\n",
    "Note that we are only looking at multiple alignments to different targets / isoforms (we specified that M1 / M2 and NS1 / NS2 are isoforms in the `target_isoforms` argument to the `dms_tools2.minimap2.Mapper`), so this will not alignments that involve the same gene (these could be complex deletions) or different splice forms.\n",
    "First, we tabulate some statistics about the distribution of the number of additional alignments to different targets among CCSs that pass our filters so far:"
   ]
  },
  {
   "cell_type": "code",
   "execution_count": 22,
   "metadata": {},
   "outputs": [
    {
     "data": {
      "text/html": [
       "<div>\n",
       "<style scoped>\n",
       "    .dataframe tbody tr th:only-of-type {\n",
       "        vertical-align: middle;\n",
       "    }\n",
       "\n",
       "    .dataframe tbody tr th {\n",
       "        vertical-align: top;\n",
       "    }\n",
       "\n",
       "    .dataframe thead th {\n",
       "        text-align: right;\n",
       "    }\n",
       "</style>\n",
       "<table border=\"1\" class=\"dataframe\">\n",
       "  <thead>\n",
       "    <tr style=\"text-align: right;\">\n",
       "      <th></th>\n",
       "      <th>count</th>\n",
       "      <th>mean</th>\n",
       "      <th>std</th>\n",
       "      <th>min</th>\n",
       "      <th>50%</th>\n",
       "      <th>99%</th>\n",
       "      <th>99.9%</th>\n",
       "      <th>99.99%</th>\n",
       "      <th>max</th>\n",
       "    </tr>\n",
       "    <tr>\n",
       "      <th>samplename</th>\n",
       "      <th></th>\n",
       "      <th></th>\n",
       "      <th></th>\n",
       "      <th></th>\n",
       "      <th></th>\n",
       "      <th></th>\n",
       "      <th></th>\n",
       "      <th></th>\n",
       "      <th></th>\n",
       "    </tr>\n",
       "  </thead>\n",
       "  <tbody>\n",
       "    <tr>\n",
       "      <th>2017-06-08</th>\n",
       "      <td>3580.0</td>\n",
       "      <td>0.001397</td>\n",
       "      <td>0.037351</td>\n",
       "      <td>0.0</td>\n",
       "      <td>0.0</td>\n",
       "      <td>0.0</td>\n",
       "      <td>1.0</td>\n",
       "      <td>1.0</td>\n",
       "      <td>1.0</td>\n",
       "    </tr>\n",
       "    <tr>\n",
       "      <th>2017-12-07</th>\n",
       "      <td>37224.0</td>\n",
       "      <td>0.001827</td>\n",
       "      <td>0.048588</td>\n",
       "      <td>0.0</td>\n",
       "      <td>0.0</td>\n",
       "      <td>0.0</td>\n",
       "      <td>1.0</td>\n",
       "      <td>2.0</td>\n",
       "      <td>2.0</td>\n",
       "    </tr>\n",
       "  </tbody>\n",
       "</table>\n",
       "</div>"
      ],
      "text/plain": [
       "              count      mean       std  min  50%  99%  99.9%  99.99%  max\n",
       "samplename                                                                \n",
       "2017-06-08   3580.0  0.001397  0.037351  0.0  0.0  0.0    1.0     1.0  1.0\n",
       "2017-12-07  37224.0  0.001827  0.048588  0.0  0.0  0.0    1.0     2.0  2.0"
      ]
     },
     "execution_count": 22,
     "metadata": {},
     "output_type": "execute_result"
    }
   ],
   "source": [
    "(df_aligned\n",
    "    .query('pass_QC')\n",
    "    .groupby('samplename')\n",
    "    .gene_aligned_n_additional_difftarget\n",
    "    .describe(percentiles=[0.99, 0.999, 0.9999])\n",
    "    )"
   ]
  },
  {
   "cell_type": "markdown",
   "metadata": {},
   "source": [
    "There are very few CCSs with additional alignments to other targets (less than 1%), and we remove them:"
   ]
  },
  {
   "cell_type": "code",
   "execution_count": 23,
   "metadata": {},
   "outputs": [],
   "source": [
    "fail_index = df_aligned.query('pass_QC & gene_aligned_n_additional_difftarget').index\n",
    "df_aligned.loc[fail_index, 'pass_QC'] = False\n",
    "df_aligned.loc[fail_index, 'QC_fail_reason'] = 'aligns to multiple targets'"
   ]
  },
  {
   "cell_type": "markdown",
   "metadata": {},
   "source": [
    "### Excessive alignment trimming\n",
    "For perfect matches the of query CCSs to the target flu mRNAs, alignment of the query to the target is end-to-end, with no trimming of either the query or the target at either end.\n",
    "\n",
    "However, in practice, in many cases there is trimming of the query or the target.\n",
    "Here we QC filter based on the presence of excessive trimming.\n",
    "\n",
    "#### Trimming of query start\n",
    "Based on the way that the products were PCR-amplified, we expect the query starts to align exactly with the target start, so there shouldn't be any need for trimming.\n",
    "Below are tabulated statistics about the distribution of trimming at the query start:"
   ]
  },
  {
   "cell_type": "code",
   "execution_count": 43,
   "metadata": {},
   "outputs": [
    {
     "data": {
      "text/html": [
       "<div>\n",
       "<style scoped>\n",
       "    .dataframe tbody tr th:only-of-type {\n",
       "        vertical-align: middle;\n",
       "    }\n",
       "\n",
       "    .dataframe tbody tr th {\n",
       "        vertical-align: top;\n",
       "    }\n",
       "\n",
       "    .dataframe thead th {\n",
       "        text-align: right;\n",
       "    }\n",
       "</style>\n",
       "<table border=\"1\" class=\"dataframe\">\n",
       "  <thead>\n",
       "    <tr style=\"text-align: right;\">\n",
       "      <th></th>\n",
       "      <th>count</th>\n",
       "      <th>mean</th>\n",
       "      <th>std</th>\n",
       "      <th>min</th>\n",
       "      <th>50%</th>\n",
       "      <th>99%</th>\n",
       "      <th>99.9%</th>\n",
       "      <th>99.99%</th>\n",
       "      <th>max</th>\n",
       "    </tr>\n",
       "    <tr>\n",
       "      <th>samplename</th>\n",
       "      <th></th>\n",
       "      <th></th>\n",
       "      <th></th>\n",
       "      <th></th>\n",
       "      <th></th>\n",
       "      <th></th>\n",
       "      <th></th>\n",
       "      <th></th>\n",
       "      <th></th>\n",
       "    </tr>\n",
       "  </thead>\n",
       "  <tbody>\n",
       "    <tr>\n",
       "      <th>2017-06-08</th>\n",
       "      <td>3573.0</td>\n",
       "      <td>0.008116</td>\n",
       "      <td>0.150368</td>\n",
       "      <td>0.0</td>\n",
       "      <td>0.0</td>\n",
       "      <td>0.0</td>\n",
       "      <td>3.0</td>\n",
       "      <td>4.0</td>\n",
       "      <td>4.0</td>\n",
       "    </tr>\n",
       "    <tr>\n",
       "      <th>2017-12-07</th>\n",
       "      <td>37153.0</td>\n",
       "      <td>0.007079</td>\n",
       "      <td>0.144816</td>\n",
       "      <td>0.0</td>\n",
       "      <td>0.0</td>\n",
       "      <td>0.0</td>\n",
       "      <td>3.0</td>\n",
       "      <td>4.0</td>\n",
       "      <td>4.0</td>\n",
       "    </tr>\n",
       "  </tbody>\n",
       "</table>\n",
       "</div>"
      ],
      "text/plain": [
       "              count      mean       std  min  50%  99%  99.9%  99.99%  max\n",
       "samplename                                                                \n",
       "2017-06-08   3573.0  0.008116  0.150368  0.0  0.0  0.0    3.0     4.0  4.0\n",
       "2017-12-07  37153.0  0.007079  0.144816  0.0  0.0  0.0    3.0     4.0  4.0"
      ]
     },
     "execution_count": 43,
     "metadata": {},
     "output_type": "execute_result"
    }
   ],
   "source": [
    "(df_aligned\n",
    "    .query('pass_QC')\n",
    "    .groupby('samplename')\n",
    "    .gene_aligned_n_trimmed_query_start\n",
    "    .describe(percentiles=[0.99, 0.999, 0.9999])\n",
    "    )"
   ]
  },
  {
   "cell_type": "markdown",
   "metadata": {},
   "source": [
    "Most (>99%) queries align exactly with the target at their start, with no trimming. \n",
    "There are a few nucleotides trimmed from a modest fraction (<1%).\n",
    "This modest trimming is explainable---the 5' primers are similar for the different flu genes, so there may occassionally be mis-priming so that the primer amplifies a different flu mRNA, which might lead to a bit of trimming at the very start of the alignment.\n",
    "There are then a very small number (less than <0.01%) that have very large amounts trimmed.\n",
    "We will discard CCSs with more than 5 nucleotides trimmed from the query start:"
   ]
  },
  {
   "cell_type": "code",
   "execution_count": 42,
   "metadata": {},
   "outputs": [],
   "source": [
    "fail_index = df_aligned.query('pass_QC & (gene_aligned_n_trimmed_query_start > 5)').index\n",
    "df_aligned.loc[fail_index, 'pass_QC'] = False\n",
    "df_aligned.loc[fail_index, 'QC_fail_reason'] = 'excessive trimming of query start'"
   ]
  },
  {
   "cell_type": "markdown",
   "metadata": {},
   "source": [
    "#### Trimming of target start\n",
    "We also expect all of the alignments to start exactly at the begin of the target, because the PCR-amplification should lead to this.\n",
    "Below are tabulated statistics about the distribution of trimming at the target start:"
   ]
  },
  {
   "cell_type": "code",
   "execution_count": 46,
   "metadata": {},
   "outputs": [
    {
     "data": {
      "text/html": [
       "<div>\n",
       "<style scoped>\n",
       "    .dataframe tbody tr th:only-of-type {\n",
       "        vertical-align: middle;\n",
       "    }\n",
       "\n",
       "    .dataframe tbody tr th {\n",
       "        vertical-align: top;\n",
       "    }\n",
       "\n",
       "    .dataframe thead th {\n",
       "        text-align: right;\n",
       "    }\n",
       "</style>\n",
       "<table border=\"1\" class=\"dataframe\">\n",
       "  <thead>\n",
       "    <tr style=\"text-align: right;\">\n",
       "      <th></th>\n",
       "      <th>count</th>\n",
       "      <th>mean</th>\n",
       "      <th>std</th>\n",
       "      <th>min</th>\n",
       "      <th>50%</th>\n",
       "      <th>99%</th>\n",
       "      <th>99.9%</th>\n",
       "      <th>99.99%</th>\n",
       "      <th>max</th>\n",
       "    </tr>\n",
       "    <tr>\n",
       "      <th>samplename</th>\n",
       "      <th></th>\n",
       "      <th></th>\n",
       "      <th></th>\n",
       "      <th></th>\n",
       "      <th></th>\n",
       "      <th></th>\n",
       "      <th></th>\n",
       "      <th></th>\n",
       "      <th></th>\n",
       "    </tr>\n",
       "  </thead>\n",
       "  <tbody>\n",
       "    <tr>\n",
       "      <th>2017-06-08</th>\n",
       "      <td>3573.0</td>\n",
       "      <td>0.291912</td>\n",
       "      <td>16.120231</td>\n",
       "      <td>0.0</td>\n",
       "      <td>0.0</td>\n",
       "      <td>0.0</td>\n",
       "      <td>3.0</td>\n",
       "      <td>638.0196</td>\n",
       "      <td>962.0</td>\n",
       "    </tr>\n",
       "    <tr>\n",
       "      <th>2017-12-07</th>\n",
       "      <td>37153.0</td>\n",
       "      <td>0.134067</td>\n",
       "      <td>14.180187</td>\n",
       "      <td>0.0</td>\n",
       "      <td>0.0</td>\n",
       "      <td>0.0</td>\n",
       "      <td>3.0</td>\n",
       "      <td>60.9680</td>\n",
       "      <td>1884.0</td>\n",
       "    </tr>\n",
       "  </tbody>\n",
       "</table>\n",
       "</div>"
      ],
      "text/plain": [
       "              count      mean        std  min  50%  99%  99.9%    99.99%  \\\n",
       "samplename                                                                 \n",
       "2017-06-08   3573.0  0.291912  16.120231  0.0  0.0  0.0    3.0  638.0196   \n",
       "2017-12-07  37153.0  0.134067  14.180187  0.0  0.0  0.0    3.0   60.9680   \n",
       "\n",
       "               max  \n",
       "samplename          \n",
       "2017-06-08   962.0  \n",
       "2017-12-07  1884.0  "
      ]
     },
     "execution_count": 46,
     "metadata": {},
     "output_type": "execute_result"
    }
   ],
   "source": [
    "(df_aligned\n",
    "    .query('pass_QC')\n",
    "    .groupby('samplename')\n",
    "    .gene_aligned_n_trimmed_target_start\n",
    "    .describe(percentiles=[0.99, 0.999, 0.9999])\n",
    "    )"
   ]
  },
  {
   "cell_type": "markdown",
   "metadata": {},
   "source": [
    "This distribution looks very similar to that for trimming of the query starts immediately above, and (for the same logic explained there), we will discard CCSs with more than 5 nucleotides trimmed from the target start:"
   ]
  },
  {
   "cell_type": "code",
   "execution_count": 47,
   "metadata": {},
   "outputs": [],
   "source": [
    "fail_index = df_aligned.query('pass_QC & (gene_aligned_n_trimmed_target_start > 5)').index\n",
    "df_aligned.loc[fail_index, 'pass_QC'] = False\n",
    "df_aligned.loc[fail_index, 'QC_fail_reason'] = 'excessive trimming of target start'"
   ]
  },
  {
   "cell_type": "markdown",
   "metadata": {},
   "source": [
    "#### Trimming of target / query ends"
   ]
  },
  {
   "cell_type": "code",
   "execution_count": 51,
   "metadata": {},
   "outputs": [
    {
     "data": {
      "text/html": [
       "<div>\n",
       "<style scoped>\n",
       "    .dataframe tbody tr th:only-of-type {\n",
       "        vertical-align: middle;\n",
       "    }\n",
       "\n",
       "    .dataframe tbody tr th {\n",
       "        vertical-align: top;\n",
       "    }\n",
       "\n",
       "    .dataframe thead tr th {\n",
       "        text-align: left;\n",
       "    }\n",
       "\n",
       "    .dataframe thead tr:last-of-type th {\n",
       "        text-align: right;\n",
       "    }\n",
       "</style>\n",
       "<table border=\"1\" class=\"dataframe\">\n",
       "  <thead>\n",
       "    <tr>\n",
       "      <th></th>\n",
       "      <th></th>\n",
       "      <th colspan=\"8\" halign=\"left\">gene_aligned_n_trimmed_query_end</th>\n",
       "      <th colspan=\"8\" halign=\"left\">gene_aligned_n_trimmed_target_end</th>\n",
       "    </tr>\n",
       "    <tr>\n",
       "      <th></th>\n",
       "      <th></th>\n",
       "      <th>count</th>\n",
       "      <th>mean</th>\n",
       "      <th>std</th>\n",
       "      <th>min</th>\n",
       "      <th>50%</th>\n",
       "      <th>99%</th>\n",
       "      <th>99.9%</th>\n",
       "      <th>max</th>\n",
       "      <th>count</th>\n",
       "      <th>mean</th>\n",
       "      <th>std</th>\n",
       "      <th>min</th>\n",
       "      <th>50%</th>\n",
       "      <th>99%</th>\n",
       "      <th>99.9%</th>\n",
       "      <th>max</th>\n",
       "    </tr>\n",
       "    <tr>\n",
       "      <th>samplename</th>\n",
       "      <th>gene_aligned_n_additional</th>\n",
       "      <th></th>\n",
       "      <th></th>\n",
       "      <th></th>\n",
       "      <th></th>\n",
       "      <th></th>\n",
       "      <th></th>\n",
       "      <th></th>\n",
       "      <th></th>\n",
       "      <th></th>\n",
       "      <th></th>\n",
       "      <th></th>\n",
       "      <th></th>\n",
       "      <th></th>\n",
       "      <th></th>\n",
       "      <th></th>\n",
       "      <th></th>\n",
       "    </tr>\n",
       "  </thead>\n",
       "  <tbody>\n",
       "    <tr>\n",
       "      <th rowspan=\"3\" valign=\"top\">2017-06-08</th>\n",
       "      <th>0</th>\n",
       "      <td>2341.0</td>\n",
       "      <td>7.404955</td>\n",
       "      <td>49.649430</td>\n",
       "      <td>0.0</td>\n",
       "      <td>1.0</td>\n",
       "      <td>88.00</td>\n",
       "      <td>736.040</td>\n",
       "      <td>1161.0</td>\n",
       "      <td>2341.0</td>\n",
       "      <td>94.398975</td>\n",
       "      <td>335.755355</td>\n",
       "      <td>0.0</td>\n",
       "      <td>1.0</td>\n",
       "      <td>1771.00</td>\n",
       "      <td>1776.000</td>\n",
       "      <td>1782.0</td>\n",
       "    </tr>\n",
       "    <tr>\n",
       "      <th>1</th>\n",
       "      <td>1229.0</td>\n",
       "      <td>8.800651</td>\n",
       "      <td>38.460396</td>\n",
       "      <td>0.0</td>\n",
       "      <td>1.0</td>\n",
       "      <td>83.72</td>\n",
       "      <td>525.320</td>\n",
       "      <td>1028.0</td>\n",
       "      <td>1229.0</td>\n",
       "      <td>2.252238</td>\n",
       "      <td>16.112335</td>\n",
       "      <td>0.0</td>\n",
       "      <td>0.0</td>\n",
       "      <td>30.32</td>\n",
       "      <td>195.000</td>\n",
       "      <td>224.0</td>\n",
       "    </tr>\n",
       "    <tr>\n",
       "      <th>2</th>\n",
       "      <td>1.0</td>\n",
       "      <td>391.000000</td>\n",
       "      <td>NaN</td>\n",
       "      <td>391.0</td>\n",
       "      <td>391.0</td>\n",
       "      <td>391.00</td>\n",
       "      <td>391.000</td>\n",
       "      <td>391.0</td>\n",
       "      <td>1.0</td>\n",
       "      <td>1.000000</td>\n",
       "      <td>NaN</td>\n",
       "      <td>1.0</td>\n",
       "      <td>1.0</td>\n",
       "      <td>1.00</td>\n",
       "      <td>1.000</td>\n",
       "      <td>1.0</td>\n",
       "    </tr>\n",
       "    <tr>\n",
       "      <th rowspan=\"4\" valign=\"top\">2017-12-07</th>\n",
       "      <th>0</th>\n",
       "      <td>33687.0</td>\n",
       "      <td>9.994894</td>\n",
       "      <td>46.500014</td>\n",
       "      <td>0.0</td>\n",
       "      <td>1.0</td>\n",
       "      <td>101.14</td>\n",
       "      <td>840.338</td>\n",
       "      <td>1799.0</td>\n",
       "      <td>33687.0</td>\n",
       "      <td>160.454745</td>\n",
       "      <td>483.462755</td>\n",
       "      <td>0.0</td>\n",
       "      <td>0.0</td>\n",
       "      <td>1775.00</td>\n",
       "      <td>1900.130</td>\n",
       "      <td>2165.0</td>\n",
       "    </tr>\n",
       "    <tr>\n",
       "      <th>1</th>\n",
       "      <td>3456.0</td>\n",
       "      <td>11.169850</td>\n",
       "      <td>37.529455</td>\n",
       "      <td>0.0</td>\n",
       "      <td>1.0</td>\n",
       "      <td>125.00</td>\n",
       "      <td>586.080</td>\n",
       "      <td>1009.0</td>\n",
       "      <td>3456.0</td>\n",
       "      <td>2.105324</td>\n",
       "      <td>15.032099</td>\n",
       "      <td>0.0</td>\n",
       "      <td>0.0</td>\n",
       "      <td>8.00</td>\n",
       "      <td>195.000</td>\n",
       "      <td>224.0</td>\n",
       "    </tr>\n",
       "    <tr>\n",
       "      <th>2</th>\n",
       "      <td>4.0</td>\n",
       "      <td>217.250000</td>\n",
       "      <td>39.466230</td>\n",
       "      <td>174.0</td>\n",
       "      <td>215.0</td>\n",
       "      <td>263.98</td>\n",
       "      <td>264.898</td>\n",
       "      <td>265.0</td>\n",
       "      <td>4.0</td>\n",
       "      <td>841.000000</td>\n",
       "      <td>537.998141</td>\n",
       "      <td>38.0</td>\n",
       "      <td>1076.0</td>\n",
       "      <td>1172.05</td>\n",
       "      <td>1173.805</td>\n",
       "      <td>1174.0</td>\n",
       "    </tr>\n",
       "    <tr>\n",
       "      <th>3</th>\n",
       "      <td>1.0</td>\n",
       "      <td>732.000000</td>\n",
       "      <td>NaN</td>\n",
       "      <td>732.0</td>\n",
       "      <td>732.0</td>\n",
       "      <td>732.00</td>\n",
       "      <td>732.000</td>\n",
       "      <td>732.0</td>\n",
       "      <td>1.0</td>\n",
       "      <td>1935.000000</td>\n",
       "      <td>NaN</td>\n",
       "      <td>1935.0</td>\n",
       "      <td>1935.0</td>\n",
       "      <td>1935.00</td>\n",
       "      <td>1935.000</td>\n",
       "      <td>1935.0</td>\n",
       "    </tr>\n",
       "  </tbody>\n",
       "</table>\n",
       "</div>"
      ],
      "text/plain": [
       "                                     gene_aligned_n_trimmed_query_end  \\\n",
       "                                                                count   \n",
       "samplename gene_aligned_n_additional                                    \n",
       "2017-06-08 0                                                   2341.0   \n",
       "           1                                                   1229.0   \n",
       "           2                                                      1.0   \n",
       "2017-12-07 0                                                  33687.0   \n",
       "           1                                                   3456.0   \n",
       "           2                                                      4.0   \n",
       "           3                                                      1.0   \n",
       "\n",
       "                                                                           \\\n",
       "                                            mean        std    min    50%   \n",
       "samplename gene_aligned_n_additional                                        \n",
       "2017-06-08 0                            7.404955  49.649430    0.0    1.0   \n",
       "           1                            8.800651  38.460396    0.0    1.0   \n",
       "           2                          391.000000        NaN  391.0  391.0   \n",
       "2017-12-07 0                            9.994894  46.500014    0.0    1.0   \n",
       "           1                           11.169850  37.529455    0.0    1.0   \n",
       "           2                          217.250000  39.466230  174.0  215.0   \n",
       "           3                          732.000000        NaN  732.0  732.0   \n",
       "\n",
       "                                                               \\\n",
       "                                         99%    99.9%     max   \n",
       "samplename gene_aligned_n_additional                            \n",
       "2017-06-08 0                           88.00  736.040  1161.0   \n",
       "           1                           83.72  525.320  1028.0   \n",
       "           2                          391.00  391.000   391.0   \n",
       "2017-12-07 0                          101.14  840.338  1799.0   \n",
       "           1                          125.00  586.080  1009.0   \n",
       "           2                          263.98  264.898   265.0   \n",
       "           3                          732.00  732.000   732.0   \n",
       "\n",
       "                                     gene_aligned_n_trimmed_target_end  \\\n",
       "                                                                 count   \n",
       "samplename gene_aligned_n_additional                                     \n",
       "2017-06-08 0                                                    2341.0   \n",
       "           1                                                    1229.0   \n",
       "           2                                                       1.0   \n",
       "2017-12-07 0                                                   33687.0   \n",
       "           1                                                    3456.0   \n",
       "           2                                                       4.0   \n",
       "           3                                                       1.0   \n",
       "\n",
       "                                                                               \\\n",
       "                                             mean         std     min     50%   \n",
       "samplename gene_aligned_n_additional                                            \n",
       "2017-06-08 0                            94.398975  335.755355     0.0     1.0   \n",
       "           1                             2.252238   16.112335     0.0     0.0   \n",
       "           2                             1.000000         NaN     1.0     1.0   \n",
       "2017-12-07 0                           160.454745  483.462755     0.0     0.0   \n",
       "           1                             2.105324   15.032099     0.0     0.0   \n",
       "           2                           841.000000  537.998141    38.0  1076.0   \n",
       "           3                          1935.000000         NaN  1935.0  1935.0   \n",
       "\n",
       "                                                                 \n",
       "                                          99%     99.9%     max  \n",
       "samplename gene_aligned_n_additional                             \n",
       "2017-06-08 0                          1771.00  1776.000  1782.0  \n",
       "           1                            30.32   195.000   224.0  \n",
       "           2                             1.00     1.000     1.0  \n",
       "2017-12-07 0                          1775.00  1900.130  2165.0  \n",
       "           1                             8.00   195.000   224.0  \n",
       "           2                          1172.05  1173.805  1174.0  \n",
       "           3                          1935.00  1935.000  1935.0  "
      ]
     },
     "execution_count": 51,
     "metadata": {},
     "output_type": "execute_result"
    }
   ],
   "source": [
    "(df_aligned\n",
    "    .query('pass_QC')\n",
    "    .groupby(['samplename', 'gene_aligned_n_additional'])\n",
    "    [['gene_aligned_n_trimmed_query_end', 'gene_aligned_n_trimmed_target_end']]\n",
    "    .describe(percentiles=[0.99, 0.999])\n",
    "    )"
   ]
  },
  {
   "cell_type": "code",
   "execution_count": null,
   "metadata": {},
   "outputs": [],
   "source": []
  }
 ],
 "metadata": {
  "kernelspec": {
   "display_name": "Python 3",
   "language": "python",
   "name": "python3"
  },
  "language_info": {
   "codemirror_mode": {
    "name": "ipython",
    "version": 3
   },
   "file_extension": ".py",
   "mimetype": "text/x-python",
   "name": "python",
   "nbconvert_exporter": "python",
   "pygments_lexer": "ipython3",
   "version": "3.6.4"
  },
  "toc": {
   "nav_menu": {},
   "number_sections": false,
   "sideBar": true,
   "skip_h1_title": false,
   "toc_cell": true,
   "toc_position": {
    "height": "1152px",
    "left": "0px",
    "right": "1214px",
    "top": "111px",
    "width": "271px"
   },
   "toc_section_display": "block",
   "toc_window_display": true
  }
 },
 "nbformat": 4,
 "nbformat_minor": 2
}
