{
 "cells": [
  {
   "cell_type": "markdown",
   "metadata": {
    "toc": true
   },
   "source": [
    "<h1>Table of Contents<span class=\"tocSkip\"></span></h1>\n",
    "<div class=\"toc\" style=\"margin-top: 1em;\"><ul class=\"toc-item\"><li><span><a href=\"#Analysis-of-full-length-PacBio-sequencing-of-influenza-mRNAs\" data-toc-modified-id=\"Analysis-of-full-length-PacBio-sequencing-of-influenza-mRNAs-1\">Analysis of full-length PacBio sequencing of influenza mRNAs</a></span><ul class=\"toc-item\"><li><span><a href=\"#Set-up-for-analysis\" data-toc-modified-id=\"Set-up-for-analysis-1.1\">Set up for analysis</a></span><ul class=\"toc-item\"><li><span><a href=\"#Import-Python-modules\" data-toc-modified-id=\"Import-Python-modules-1.1.1\">Import Python modules</a></span></li><li><span><a href=\"#Define-/-create-directories\" data-toc-modified-id=\"Define-/-create-directories-1.1.2\">Define / create directories</a></span></li><li><span><a href=\"#How-many-CPUs-to-use\" data-toc-modified-id=\"How-many-CPUs-to-use-1.1.3\">How many CPUs to use</a></span></li></ul></li><li><span><a href=\"#Build-CCSs\" data-toc-modified-id=\"Build-CCSs-1.2\">Build CCSs</a></span><ul class=\"toc-item\"><li><span><a href=\"#Get-subreads-files\" data-toc-modified-id=\"Get-subreads-files-1.2.1\">Get subreads files</a></span></li><li><span><a href=\"#Run-ccs-and-read-results\" data-toc-modified-id=\"Run-ccs-and-read-results-1.2.2\">Run <code>ccs</code> and read results</a></span></li></ul></li><li><span><a href=\"#Process-CCS's\" data-toc-modified-id=\"Process-CCS's-1.3\">Process CCS's</a></span><ul class=\"toc-item\"><li><span><a href=\"#Barcoded-CCS-features\" data-toc-modified-id=\"Barcoded-CCS-features-1.3.1\">Barcoded CCS features</a></span></li><li><span><a href=\"#Flu-alignment-targets\" data-toc-modified-id=\"Flu-alignment-targets-1.3.2\">Flu alignment targets</a></span></li><li><span><a href=\"#Match-and-align-CCSs\" data-toc-modified-id=\"Match-and-align-CCSs-1.3.3\">Match and align CCSs</a></span></li><li><span><a href=\"#Stats-on-matching-/-alignment\" data-toc-modified-id=\"Stats-on-matching-/-alignment-1.3.4\">Stats on matching / alignment</a></span></li><li><span><a href=\"#Get-CCSs-with-gene-aligned\" data-toc-modified-id=\"Get-CCSs-with-gene-aligned-1.3.5\">Get CCSs with gene aligned</a></span></li></ul></li><li><span><a href=\"#Quality-control-alignments\" data-toc-modified-id=\"Quality-control-alignments-1.4\">Quality-control alignments</a></span><ul class=\"toc-item\"><li><span><a href=\"#Barcode-accuracy\" data-toc-modified-id=\"Barcode-accuracy-1.4.1\">Barcode accuracy</a></span></li><li><span><a href=\"#Additional-alignments\" data-toc-modified-id=\"Additional-alignments-1.4.2\">Additional alignments</a></span></li><li><span><a href=\"#Excessive-alignment-trimming\" data-toc-modified-id=\"Excessive-alignment-trimming-1.4.3\">Excessive alignment trimming</a></span><ul class=\"toc-item\"><li><span><a href=\"#Trimming-of-query-start\" data-toc-modified-id=\"Trimming-of-query-start-1.4.3.1\">Trimming of query start</a></span></li><li><span><a href=\"#Trimming-of-target-start\" data-toc-modified-id=\"Trimming-of-target-start-1.4.3.2\">Trimming of target start</a></span></li><li><span><a href=\"#Trimming-query-ends\" data-toc-modified-id=\"Trimming-query-ends-1.4.3.3\">Trimming query ends</a></span></li><li><span><a href=\"#Trimming-target-ends\" data-toc-modified-id=\"Trimming-target-ends-1.4.3.4\">Trimming target ends</a></span></li></ul></li><li><span><a href=\"#Get-QC-ed-alignments\" data-toc-modified-id=\"Get-QC-ed-alignments-1.4.4\">Get QC-ed alignments</a></span></li></ul></li><li><span><a href=\"#Summary-of-QC-ed-alignments\" data-toc-modified-id=\"Summary-of-QC-ed-alignments-1.5\">Summary of QC-ed alignments</a></span><ul class=\"toc-item\"><li><span><a href=\"#Number-of-alignments-per-gene\" data-toc-modified-id=\"Number-of-alignments-per-gene-1.5.1\">Number of alignments per gene</a></span></li><li><span><a href=\"#Distribution-of-alignment-lengths\" data-toc-modified-id=\"Distribution-of-alignment-lengths-1.5.2\">Distribution of alignment lengths</a></span></li></ul></li></ul></li></ul></div>"
   ]
  },
  {
   "cell_type": "markdown",
   "metadata": {},
   "source": [
    "# Analysis of full-length PacBio sequencing of influenza mRNAs\n",
    "The material from the 10X libraries for the *IFN_enriched* sample was enriched for viral mRNAs by semi-specific PCR, and then sequenced by PacBio.\n",
    "Here we analyze those data.\n",
    "\n",
    "## Set up for analysis\n",
    "First, we do some things to set up this Jupyter notebook.\n",
    "\n",
    "### Import Python modules\n",
    "We import the Python modules used.\n",
    "\n",
    "We make extensive use of [dms_tools2](https://jbloomlab.github.io/dms_tools2/) to handle the PacBio data.\n",
    "\n",
    "We import [plotnine](https://plotnine.readthedocs.io/en/latest/) for plotting using a ggplot2-like syntax."
   ]
  },
  {
   "cell_type": "code",
   "execution_count": 1,
   "metadata": {},
   "outputs": [
    {
     "name": "stdout",
     "output_type": "stream",
     "text": [
      "Using dms_tools2 version 2.3.dev0\n"
     ]
    }
   ],
   "source": [
    "import os\n",
    "import glob\n",
    "import subprocess\n",
    "import shutil\n",
    "import multiprocessing\n",
    "import warnings\n",
    "import collections\n",
    "warnings.simplefilter('ignore')\n",
    "\n",
    "import pandas\n",
    "from IPython.display import display, HTML\n",
    "import Bio.SeqIO\n",
    "\n",
    "import dms_tools2\n",
    "print(\"Using dms_tools2 version {0}\".format(dms_tools2.__version__))\n",
    "from dms_tools2.ipython_utils import showPDF\n",
    "from dms_tools2.plot import COLOR_BLIND_PALETTE_GRAY\n",
    "\n",
    "# import plotnine for plotting\n",
    "from plotnine import *\n",
    "_ = theme_set(theme_bw(base_size=12))"
   ]
  },
  {
   "cell_type": "markdown",
   "metadata": {},
   "source": [
    "### Define / create directories\n",
    "We define the names of key directories for input and output, and create these directories if needed:"
   ]
  },
  {
   "cell_type": "code",
   "execution_count": 2,
   "metadata": {},
   "outputs": [],
   "source": [
    "# top results directory\n",
    "resultsdir = './results/'\n",
    "\n",
    "# directory for PacBio results\n",
    "pacbioresultsdir = os.path.join(resultsdir, 'pacbio')\n",
    "os.makedirs(pacbioresultsdir, exist_ok=True)"
   ]
  },
  {
   "cell_type": "markdown",
   "metadata": {},
   "source": [
    "### How many CPUs to use\n",
    "Specify max number to use:"
   ]
  },
  {
   "cell_type": "code",
   "execution_count": 3,
   "metadata": {},
   "outputs": [],
   "source": [
    "max_cpus = 14 # max number of CPUs to use\n",
    "ncpus = max(multiprocessing.cpu_count(), max_cpus)"
   ]
  },
  {
   "cell_type": "markdown",
   "metadata": {},
   "source": [
    "## Build CCSs \n",
    "We build the circular consensus sequences (CCSs) using the PacBio software.\n",
    "\n",
    "### Get subreads files \n",
    "We have multiple sequencing runs:\n",
    "  - A run from June-8-2017 done at the UW PacBio core. This run used a PacBio RSII machine.\n",
    "  - A run from December-7-2017 done at the Fred Hutch Genomics core. This run used a PacBio Sequel machine.\n",
    "  \n",
    "Note that the material sequenced for these two runs was **not** identical. \n",
    "The balance of genes that were mixed differed, as well as the size selection and the way that the libraries were loaded.\n",
    "Therefore, we do not expect the same balance of different reads in the two runs.\n",
    "\n",
    "In addition, the data were processed differently.\n",
    "For the Hutch Genomics Core runs, the data are already processed into a `*.subreads.bam` file, while for UW PacBio core runs it is still in the `*.bas.h5` file."
   ]
  },
  {
   "cell_type": "code",
   "execution_count": 4,
   "metadata": {},
   "outputs": [],
   "source": [
    "seqruns = ['2017-06-08', '2017-12-07']\n",
    "\n",
    "seqdirs = {\n",
    "        '2017-06-08':'/fh/fast/bloom_j/SR/ngs/pacbio_UW/170608 Pacbio single cell/Emulsion Reaction/ABR_C_MACS.AR_0kb',\n",
    "        '2017-12-07':'/fh/fast/bloom_j/SR/ngs/pacbio/171207_bloom_j/r54228_20171201_171054/1_A01',\n",
    "        }\n",
    "\n",
    "bam_already = {'2017-06-08':False, '2017-12-07':True}"
   ]
  },
  {
   "cell_type": "markdown",
   "metadata": {},
   "source": [
    "Now we get the `*.subreads.bam` file for each run.\n",
    "If they already exist (e.g., if data were returned by the Fred Hutch Genomics Core), we just need to get the name of the file.\n",
    "But if they don't exist (e.g., if data were returned from UW PacBio Core), we need to run the PacBio [bax2bam](https://github.com/PacificBiosciences/bax2bam) software to create the `*subreads.bam` files from the `*.bas.h5` files."
   ]
  },
  {
   "cell_type": "code",
   "execution_count": 5,
   "metadata": {},
   "outputs": [
    {
     "name": "stdout",
     "output_type": "stream",
     "text": [
      "\n",
      "Getting subreads for 2017-06-08 sequencing run\n",
      "Subreads file already exists: ./results/pacbio/subreads/2017-06-08.subreads.bam\n",
      "\n",
      "Getting subreads for 2017-12-07 sequencing run\n",
      "Subreads file already exists: ./results/pacbio/subreads/2017-12-07.subreads.bam\n"
     ]
    }
   ],
   "source": [
    "# put or copy subreads into this directory\n",
    "subreadsdir = os.path.join(pacbioresultsdir, 'subreads')\n",
    "os.makedirs(subreadsdir, exist_ok=True)\n",
    "\n",
    "# store name of subreads files for each sequencing run\n",
    "subreads = dict([(seqrun, os.path.join(subreadsdir, seqrun + '.subreads.bam'))\n",
    "                 for seqrun in seqruns])\n",
    "\n",
    "# get subreads files\n",
    "for (seqrun, subreadsfile) in subreads.items():\n",
    "    print(\"\\nGetting subreads for {0} sequencing run\".format(seqrun))\n",
    "    \n",
    "    if os.path.isfile(subreadsfile):\n",
    "        print(\"Subreads file already exists: {0}\".format(subreadsfile))\n",
    "    \n",
    "    elif bam_already[seqrun]:\n",
    "        print(\"Looking for existing subreads file...\")\n",
    "        filepattern = os.path.join(seqdirs[seqrun], '*.subreads.bam')\n",
    "        existingfiles = glob.glob(filepattern)\n",
    "        assert existingfiles, \"No file matching expected pattern of {0}\".format(filepattern)\n",
    "        assert len(existingfiles) == 1, \"Expected one file, but found multiple:\\n{0}\".format(\n",
    "                '\\n'.join(existingfiles))\n",
    "        print(\"Copying subreads file {0} to {1}...\".format(existingfiles[0], subreadsfile))\n",
    "        shutil.copy(existingfiles[0], subreadsfile)\n",
    "        shutil.copy(existingfiles[0] + '.pbi', subreadsfile + '.pbi')\n",
    "        print(\"Completed copying file.\")\n",
    "    \n",
    "    else:\n",
    "        print(\"Building subreads using `bax2bam` version {0}\".format(\n",
    "                subprocess.check_output(['bax2bam', '--version']).decode('utf-8').strip()))\n",
    "        baxfiles = []\n",
    "        for (dpath, dirnames, fnames) in os.walk(seqdirs[seqrun]):\n",
    "            baxfiles += [os.path.join(dpath, fname) for fname in fnames if fname.endswith('.bax.h5')] \n",
    "        assert len(baxfiles) > 0, \"found no `*.bax.h5` files\"\n",
    "        print(\"Will build subreads from the following `*.bax.h5` files:\\n\\t{0}\".format(\n",
    "                '\\n\\t'.join(baxfiles)))\n",
    "        print(\"Now running `bax2bam`...\")\n",
    "        ! bax2bam \\\n",
    "                {' '.join(['\"' + x + '\"' for x in baxfiles])} \\\n",
    "                -o {subreadsfile.replace('.subreads.bam', '')} \\\n",
    "                --subread\n",
    "        print(\"Completed running `bax2bam` to create {0}\".format(subreadsfile))\n",
    "        assert os.path.isfile(subreadsfile)"
   ]
  },
  {
   "cell_type": "markdown",
   "metadata": {},
   "source": [
    "### Run `ccs` and read results\n",
    "We build CCS's using PacBio's algorithm as implemented in the [ccs program](https://github.com/PacificBiosciences/unanimity/blob/develop/doc/PBCCS.md).\n",
    "\n",
    "We only want reasonably high-quality CCSs.\n",
    "The [ccs program](https://github.com/PacificBiosciences/unanimity/blob/master/doc/PBCCS.md) provides two ways to control the \"accuracy\" of reads.\n",
    "The first is the `--minPasses` option, which corresponds to how many subreads we require to call a circular consensus sequence.\n",
    "The second is the `--minPredictedAccuracy` option, which provides an explicit estimate of the accuracy.\n",
    "We will further post-process the CCSs, so we set reasonably high but not extremely stringent values: 3 passes, and at least 99.9% accuracy.\n",
    "\n",
    "We then read the results of each sequencing run into ` dms_tools2.pacbio.CCS` object and summarize the results on the number of high-quality CCSs generated:"
   ]
  },
  {
   "cell_type": "code",
   "execution_count": 6,
   "metadata": {},
   "outputs": [
    {
     "name": "stdout",
     "output_type": "stream",
     "text": [
      "\n",
      "Running `ccs` for sequencing run 2017-06-08\n",
      "The `ccs` output already exists, so using that existing output.\n",
      "\n",
      "Running `ccs` for sequencing run 2017-12-07\n",
      "The `ccs` output already exists, so using that existing output.\n",
      "\n",
      "Here are statistics on the `ccs` results:\n"
     ]
    },
    {
     "data": {
      "image/png": "[encoded data removed]",
      "text/plain": [
       "<IPython.core.display.Image object>"
      ]
     },
     "metadata": {},
     "output_type": "display_data"
    },
    {
     "data": {
      "text/html": [
       "<table border=\"1\" class=\"dataframe\">\n",
       "  <thead>\n",
       "    <tr style=\"text-align: right;\">\n",
       "      <th>sample</th>\n",
       "      <th>status</th>\n",
       "      <th>number</th>\n",
       "      <th>fraction</th>\n",
       "    </tr>\n",
       "  </thead>\n",
       "  <tbody>\n",
       "    <tr>\n",
       "      <td>2017-12-07</td>\n",
       "      <td>Success -- CCS generated</td>\n",
       "      <td>209930</td>\n",
       "      <td>0.4428</td>\n",
       "    </tr>\n",
       "    <tr>\n",
       "      <td>2017-12-07</td>\n",
       "      <td>Failed -- Not enough full passes</td>\n",
       "      <td>152429</td>\n",
       "      <td>0.3215</td>\n",
       "    </tr>\n",
       "    <tr>\n",
       "      <td>2017-12-07</td>\n",
       "      <td>Failed -- CCS below minimum predicted accuracy</td>\n",
       "      <td>110974</td>\n",
       "      <td>0.2341</td>\n",
       "    </tr>\n",
       "    <tr>\n",
       "      <td>2017-06-08</td>\n",
       "      <td>Failed -- Not enough full passes</td>\n",
       "      <td>36289</td>\n",
       "      <td>0.3371</td>\n",
       "    </tr>\n",
       "    <tr>\n",
       "      <td>2017-06-08</td>\n",
       "      <td>Failed -- Below SNR threshold</td>\n",
       "      <td>24052</td>\n",
       "      <td>0.2235</td>\n",
       "    </tr>\n",
       "    <tr>\n",
       "      <td>2017-06-08</td>\n",
       "      <td>Failed -- CCS below minimum predicted accuracy</td>\n",
       "      <td>22063</td>\n",
       "      <td>0.2050</td>\n",
       "    </tr>\n",
       "    <tr>\n",
       "      <td>2017-06-08</td>\n",
       "      <td>Success -- CCS generated</td>\n",
       "      <td>18063</td>\n",
       "      <td>0.1678</td>\n",
       "    </tr>\n",
       "    <tr>\n",
       "      <td>2017-06-08</td>\n",
       "      <td>Failed -- No usable subreads</td>\n",
       "      <td>6810</td>\n",
       "      <td>0.0633</td>\n",
       "    </tr>\n",
       "  </tbody>\n",
       "</table>"
      ],
      "text/plain": [
       "<IPython.core.display.HTML object>"
      ]
     },
     "metadata": {},
     "output_type": "display_data"
    }
   ],
   "source": [
    "ccsdir = os.path.join(pacbioresultsdir, 'ccs')\n",
    "os.makedirs(ccsdir, exist_ok=True)\n",
    "\n",
    "ccslist = []\n",
    "for (seqrun, subreadsfile) in subreads.items():\n",
    "    print(\"\\nRunning `ccs` for sequencing run {0}\".format(seqrun))\n",
    "        \n",
    "    reportfile = os.path.join(ccsdir, seqrun + '_report.csv')\n",
    "    bamfile = os.path.join(ccsdir, seqrun + '_ccs.bam')\n",
    "    logfile = os.path.join(ccsdir, seqrun + '_log.txt')\n",
    "        \n",
    "    if all(map(os.path.isfile, [reportfile, bamfile])):\n",
    "        print(\"The `ccs` output already exists, so using that existing output.\")\n",
    "    else:  \n",
    "        print(\"Running {0}...\".format(\n",
    "                subprocess.check_output(['ccs', '--version']).decode(\n",
    "                'utf-8').strip()))\n",
    "        ! ccs \\\n",
    "            --minLength 100 \\\n",
    "            --maxLength 5000 \\\n",
    "            --minPasses 3 \\\n",
    "            --minPredictedAccuracy 0.999 \\\n",
    "            --logFile {logfile} \\\n",
    "            --reportFile {reportfile} \\\n",
    "            --polish \\\n",
    "            --numThreads {ncpus} \\\n",
    "            {subreadsfile} \\\n",
    "            {bamfile}\n",
    "        print(\"Completed `ccs` run.\")\n",
    "        \n",
    "    ccslist.append(dms_tools2.pacbio.CCS(seqrun, bamfile, reportfile))\n",
    "\n",
    "print(\"\\nHere are statistics on the `ccs` results:\")\n",
    "zmw_plot = os.path.join(ccsdir, 'ZMW_plot.pdf')\n",
    "showPDF(zmw_plot)\n",
    "\n",
    "ccs_report = dms_tools2.pacbio.summarizeCCSreports(\n",
    "                ccslist, 'zmw', zmw_plot)\n",
    "display(HTML(ccs_report.query('fraction > 0.005').to_html(index=False)))"
   ]
  },
  {
   "cell_type": "markdown",
   "metadata": {},
   "source": [
    "## Process CCS's\n",
    "The PacBio sequencing was performed on PCR-amplified product.\n",
    "This PCR product was amplified off the 10X barcoded material using semi-specific PCR with one end specifically annealing to flu transcripts.\n",
    "We want to identify the CCS's that represent properly barcoded 10X material from influenza genes, and then call the barcodes and align the barcoded mRNA to influenza transcripts."
   ]
  },
  {
   "cell_type": "markdown",
   "metadata": {},
   "source": [
    "### Barcoded CCS features\n",
    "This [10X technical note](https://teichlab.github.io/scg_lib_structs/data/CG000108_AssayConfiguration_SC3v2.pdf) outlines the sequences appended by the v2 10X single-cell 3' kit used in these experiments. \n",
    "Specifically:\n",
    "![./data/images/10Xschematic.png](./data/images/10Xschematic.png)\n",
    "\n",
    "Zooming in on the 3' adaptor sequence, it is:\n",
    "`CTACACGACGCTCTTCCGATCT-NNNNNNNNNNNNNNNN-NNNNNNNNNN-TTTTTTTTTTTTTTTTTTTTTTTTTTTTTTVN` where the dash-delimited sequences are the read-1 priming site, the 16XN cell barcode, the 10XN UMI, the 30XT oligo-dT primer, followed by `V` (anything but `T`) and `N` (nominally, first nucleotide of upstream of mRNA polyA tail).\n",
    "\n",
    "For the PCR to enrich the 10X product, Alistair used a 3' primer that anneals to this adaptor, namely:"
   ]
  },
  {
   "cell_type": "code",
   "execution_count": 7,
   "metadata": {},
   "outputs": [
    {
     "name": "stdout",
     "output_type": "stream",
     "text": [
      "The length of the 3' primer is 22 nt\n"
     ]
    }
   ],
   "source": [
    "primer3 = 'CTACACGACGCTCTTCCGATCT'\n",
    "print(\"The length of the 3' primer is {0} nt\".format(len(primer3)))"
   ]
  },
  {
   "cell_type": "markdown",
   "metadata": {},
   "source": [
    "For the 5' primer, Alistair used a mix of primers that covered each of the 8 flu gene segments:"
   ]
  },
  {
   "cell_type": "code",
   "execution_count": 8,
   "metadata": {},
   "outputs": [
    {
     "name": "stdout",
     "output_type": "stream",
     "text": [
      "The length of the 5' primer ranges from 22 to 34 nt\n"
     ]
    }
   ],
   "source": [
    "primer5_mix = {'PB2':'GCGAAAGCAGGTCAATTATATTCAATATGGAAAG',\n",
    "               'PB1':'GCGAAAGCAGGCAAACCATTTG',\n",
    "               'PA':'GCGAAAGCAGGTACTGATTCAAAATGG',\n",
    "               'HA':'GCAAAAGCAGGGGAAAATAAAAACAACC',\n",
    "               'NP':'GCAAAAGCAGGGTAGATAATCACTCAC',\n",
    "               'NA':'GCGAAAGCAGGAGTTTAAATGAATCCAAAC',\n",
    "               'M':'GCAAAAGCAGGTAGATATTGAAAGATGAGTC',\n",
    "               'NS':'GCAAAAGCAGGGTGACAAAGACATAATG',\n",
    "              }\n",
    "print(\"The length of the 5' primer ranges from {0} to {1} nt\".format(\n",
    "        min(map(len, primer5_mix.values())), max(map(len, primer5_mix.values()))))"
   ]
  },
  {
   "cell_type": "markdown",
   "metadata": {},
   "source": [
    "### Flu alignment targets\n",
    "We want to align the barcoded sequences to the flu mRNAs.\n",
    "We will just align to the wildtype flu sequences, and then call the synonymous barcodes later.\n",
    "The flu mRNA sequences are in [./data/flu_sequences/flu-wsn-mRNA.fasta](./data/flu_sequences/flu-wsn-mRNA.fasta).\n",
    "We want to align to the sequence **interior** to the primer binding sites defined above: the region between the custom 5' primer and the polyA tail.\n",
    "We therefore read in the mRNAs, and then trim each from the 5' termini to the end of the primer binding site, and then write these to a file to use as the alignment targets:"
   ]
  },
  {
   "cell_type": "code",
   "execution_count": 9,
   "metadata": {},
   "outputs": [
    {
     "name": "stdout",
     "output_type": "stream",
     "text": [
      "Aligning to a 2285 nt region of fluPB2\n",
      "Aligning to a 2297 nt region of fluPB1\n",
      "Aligning to a 2183 nt region of fluPA\n",
      "Aligning to a 1725 nt region of fluHA\n",
      "Aligning to a 1516 nt region of fluNP\n",
      "Aligning to a 1357 nt region of fluNA\n",
      "Aligning to a 973 nt region of fluM1\n",
      "Aligning to a 285 nt region of fluM2\n",
      "Aligning to a 839 nt region of fluNS1\n",
      "Aligning to a 367 nt region of fluNS2\n"
     ]
    }
   ],
   "source": [
    "targets = []\n",
    "for full_mRNA in Bio.SeqIO.parse('./data/flu_sequences/flu-wsn-mRNA.fasta', 'fasta'):\n",
    "    full_mRNA_seq = str(full_mRNA.seq)\n",
    "    primer = [p for p in primer5_mix.values() if full_mRNA_seq.count(p)]\n",
    "    assert len(primer) == 1, \"matched multiple primers in {0}\".format(full_mRNA.name)\n",
    "    targetseq = full_mRNA_seq[full_mRNA_seq.index(primer[0]) + len(primer[0]) : ]\n",
    "    print(\"Aligning to a {0} nt region of {1}\".format(len(targetseq), full_mRNA.name))\n",
    "    targets.append((full_mRNA.name, targetseq))\n",
    "\n",
    "aligndir = os.path.join(pacbioresultsdir, 'alignments')\n",
    "os.makedirs(aligndir, exist_ok=True)\n",
    "targetfile = os.path.join(aligndir, 'targets.fasta')\n",
    "with open(targetfile, 'w') as f:\n",
    "    f.write('\\n'.join('>{0}\\n{1}'.format(*tup) for tup in targets))"
   ]
  },
  {
   "cell_type": "markdown",
   "metadata": {},
   "source": [
    "### Match and align CCSs\n",
    "We use the function `dms_tools2.pacbio.matchAndAlignCCS` to go through the CCS's, find the ones that are \"barcoded\" (have the proper elements), and the align these barcoded genes.\n",
    "All the results go into a pandas data frame.\n",
    "\n",
    "Specifically, we look for CCS's that have:\n",
    "  - Any 5' primer from Alistair's mix, trimmed a bit at the start since the first few nucleotides in the CCS might be off. We call this *termini5*.\n",
    "  - The mRNA itself, which we call the *gene*. Since we define the polyA tail as beginning on the first `A` at the polyA signal, the gene must end on a non-`A` nucleotide (which is the IUPAC code `B`).\n",
    "  - The polyA tail, which is effectively a spacer between the *gene* and the *UMI* / *barcode*. This tail is expected to be 30 `A`'s from 10X primer, but we allow it to be anything greater than 25 to account for the sloppiness in sequencing and primer synthesis associated with runs. We also use [regex fuzzy matching](https://stackoverflow.com/a/15975649) to allow the polyA to have up to two non-`A` nucleotides internal to it, since for instance the `VN` tooth in the oligo-dT primer might sometimes anneal in the wrong spot. We call this the *spacer* in the call to `dms_tools2.pacbio.matchAndAlignCCS`, but then rename to *polyA*.\n",
    "  - The 10-nucleotide UMI from the 10X primer, which we call *UMI*.\n",
    "  - The 16-nucleotide cell barcode from the 10X primer, which we call *barcode*.\n",
    "  - The 3' primer that Alistair used, which anneals in the read 1 primer binding site on the 10X primer. We call this *termini3*.\n",
    "  \n",
    "Note also that in the call to `dms_tools2.pacbio.matchAndAlignCCS`, we specify that *M1* and *M2* are isoforms, and *NS1* and *NS2* are isoforms.\n",
    "  \n",
    "We don't require a match to the first 5 nt of each termini, as sometimes the ends of the CCS's can be \"sloppy\":"
   ]
  },
  {
   "cell_type": "code",
   "execution_count": 10,
   "metadata": {},
   "outputs": [
    {
     "name": "stdout",
     "output_type": "stream",
     "text": [
      "Performing alignments with minimap2 version 2.10-r761\n",
      "Attempted to match and align all 227993 CCSs\n"
     ]
    }
   ],
   "source": [
    "mapper = dms_tools2.minimap2.Mapper(targetfile,\n",
    "        dms_tools2.minimap2.OPTIONS_VIRUS_W_DEL,\n",
    "        target_isoforms={'fluM1':['fluM2'], 'fluM2':['fluM1'],\n",
    "                         'fluNS1':['fluNS2'], 'fluNS2':['fluNS1']})\n",
    "print(\"Performing alignments with minimap2 version {0}\".format(mapper.version))\n",
    "\n",
    "trim_ends = 5 # trim this many off each termini\n",
    "\n",
    "df_all = dms_tools2.pacbio.matchAndAlignCCS(\n",
    "        ccslist=ccslist,\n",
    "        mapper=mapper,\n",
    "        termini5='|'.join([s[trim_ends : ] for s in primer5_mix.values()]),\n",
    "        gene='N+B',\n",
    "        spacer='AAA(A{19,}){e<=2}AAA', # regex fuzzy matching allows 2 mismatch\n",
    "        umi='N{10}',\n",
    "        barcode='N{16}',\n",
    "        termini3=dms_tools2.utils.reverseComplement(primer3)[ : trim_ends],\n",
    "        ).rename(columns={'has_spacer':'has_polyA'})\n",
    "\n",
    "print(\"Attempted to match and align all {0} CCSs\".format(len(df_all)))"
   ]
  },
  {
   "cell_type": "markdown",
   "metadata": {},
   "source": [
    "### Stats on matching / alignment\n",
    "Below we analyze the statistics on the matching and aligning of the CCSs:"
   ]
  },
  {
   "cell_type": "code",
   "execution_count": 11,
   "metadata": {},
   "outputs": [
    {
     "name": "stdout",
     "output_type": "stream",
     "text": [
      "Here is a table of the matching / alignment statistics:\n"
     ]
    },
    {
     "data": {
      "text/html": [
       "<table border=\"1\" class=\"dataframe\">\n",
       "  <thead>\n",
       "    <tr style=\"text-align: right;\">\n",
       "      <th>samplename</th>\n",
       "      <th>category</th>\n",
       "      <th>number of CCSs</th>\n",
       "      <th>percent</th>\n",
       "    </tr>\n",
       "  </thead>\n",
       "  <tbody>\n",
       "    <tr>\n",
       "      <td>2017-06-08</td>\n",
       "      <td>total</td>\n",
       "      <td>18063</td>\n",
       "      <td>100</td>\n",
       "    </tr>\n",
       "    <tr>\n",
       "      <td>2017-06-08</td>\n",
       "      <td>has termini3</td>\n",
       "      <td>18057</td>\n",
       "      <td>99</td>\n",
       "    </tr>\n",
       "    <tr>\n",
       "      <td>2017-06-08</td>\n",
       "      <td>has polyA</td>\n",
       "      <td>16731</td>\n",
       "      <td>92</td>\n",
       "    </tr>\n",
       "    <tr>\n",
       "      <td>2017-06-08</td>\n",
       "      <td>has termini5</td>\n",
       "      <td>4248</td>\n",
       "      <td>23</td>\n",
       "    </tr>\n",
       "    <tr>\n",
       "      <td>2017-06-08</td>\n",
       "      <td>barcoded</td>\n",
       "      <td>3634</td>\n",
       "      <td>20</td>\n",
       "    </tr>\n",
       "    <tr>\n",
       "      <td>2017-06-08</td>\n",
       "      <td>gene aligned</td>\n",
       "      <td>3633</td>\n",
       "      <td>20</td>\n",
       "    </tr>\n",
       "    <tr>\n",
       "      <td>2017-06-08</td>\n",
       "      <td>CCS aligned</td>\n",
       "      <td>4455</td>\n",
       "      <td>24</td>\n",
       "    </tr>\n",
       "    <tr>\n",
       "      <td>2017-12-07</td>\n",
       "      <td>total</td>\n",
       "      <td>209930</td>\n",
       "      <td>100</td>\n",
       "    </tr>\n",
       "    <tr>\n",
       "      <td>2017-12-07</td>\n",
       "      <td>has termini3</td>\n",
       "      <td>209788</td>\n",
       "      <td>99</td>\n",
       "    </tr>\n",
       "    <tr>\n",
       "      <td>2017-12-07</td>\n",
       "      <td>has polyA</td>\n",
       "      <td>190750</td>\n",
       "      <td>90</td>\n",
       "    </tr>\n",
       "    <tr>\n",
       "      <td>2017-12-07</td>\n",
       "      <td>has termini5</td>\n",
       "      <td>45533</td>\n",
       "      <td>21</td>\n",
       "    </tr>\n",
       "    <tr>\n",
       "      <td>2017-12-07</td>\n",
       "      <td>barcoded</td>\n",
       "      <td>37443</td>\n",
       "      <td>17</td>\n",
       "    </tr>\n",
       "    <tr>\n",
       "      <td>2017-12-07</td>\n",
       "      <td>gene aligned</td>\n",
       "      <td>37416</td>\n",
       "      <td>17</td>\n",
       "    </tr>\n",
       "    <tr>\n",
       "      <td>2017-12-07</td>\n",
       "      <td>CCS aligned</td>\n",
       "      <td>47206</td>\n",
       "      <td>22</td>\n",
       "    </tr>\n",
       "  </tbody>\n",
       "</table>"
      ],
      "text/plain": [
       "<IPython.core.display.HTML object>"
      ]
     },
     "metadata": {},
     "output_type": "display_data"
    },
    {
     "name": "stdout",
     "output_type": "stream",
     "text": [
      "\n",
      "Here is a plot of the results:\n"
     ]
    },
    {
     "data": {
      "image/png": "[encoded data removed]",
      "text/plain": [
       "<IPython.core.display.Image object>"
      ]
     },
     "metadata": {
      "image/png": {
       "width": 700
      }
     },
     "output_type": "display_data"
    }
   ],
   "source": [
    "# possible matching / alignment categories\n",
    "match_align_cats = ['total', 'has_termini3', 'has_polyA', 'has_termini5',\n",
    "                    'barcoded', 'gene_aligned', 'CCS_aligned']\n",
    "\n",
    "# tabulate statistics on matching / alignment\n",
    "match_align_df = (\n",
    "    df_all\n",
    "    .assign(total=True)\n",
    "    .melt(id_vars=['samplename'], \n",
    "          value_vars=match_align_cats,\n",
    "          var_name='category',\n",
    "          value_name='number of CCSs')\n",
    "    .groupby(['samplename', 'category'], as_index=False)\n",
    "    .aggregate('sum')\n",
    "    .assign(category=lambda x: pandas.Categorical(\n",
    "            x.category.str.replace('_', ' '), \n",
    "            [col.replace('_', ' ') for col in match_align_cats]))\n",
    "    .sort_values(['samplename', 'category'])\n",
    "    .assign(percent=lambda x: 100 * x['number of CCSs'] / \n",
    "               x.groupby('samplename')['number of CCSs'].transform('max'))\n",
    "    )\n",
    "print(\"Here is a table of the matching / alignment statistics:\")\n",
    "display(HTML(match_align_df.to_html(index=False, float_format='%d')))\n",
    "\n",
    "# plot the matching alignment statistics\n",
    "match_align_plot = os.path.join(aligndir, 'match_align_plot.pdf')\n",
    "(ggplot(match_align_df, aes('samplename', 'number of CCSs')) +\n",
    "    geom_bar(aes(fill='category'), position='dodge', stat='identity') +\n",
    "    scale_fill_manual(COLOR_BLIND_PALETTE_GRAY) +\n",
    "    xlab('sequencing run') \n",
    "    ).save(match_align_plot,\n",
    "           width=1.5 * (1 + len(seqruns)),\n",
    "           height=3)\n",
    "print(\"\\nHere is a plot of the results:\")\n",
    "showPDF(match_align_plot, width=700)"
   ]
  },
  {
   "cell_type": "markdown",
   "metadata": {},
   "source": [
    "We see that across both samples, the vast majority of CCSs have the 3' termini and the polyA, as might be expected given that those need to be there for the 3' primer to work.\n",
    "\n",
    "However, only a bit over 20% have the 5' termini.\n",
    "This could be because only a small fraction of all sequences in the initial PCR template pool will be flu mRNAs with the right termini for the 5' primer, so there may be spurious amplification (by the 3' primer or just linear amplification product) that doesn't have the 5' termini.\n",
    "\n",
    "Most of the CCSs that have the 5' termini are also *barcoded* in the sense that they fully match the expected patterns that allow us to call a barcode and UMI.\n",
    "\n",
    "Of these *barcoded* CCSs, most of them have mRNA inserts (\"genes\") that align to the flu targets, and so are in the *gene aligned* category.\n",
    "\n",
    "We also see that if we align the full CCS without requiring it to match the termini / barcode / polyA, we get a few more than for the *gene aligned* category, indicating that some of the CCSs for which we can't call barcodes still have flu in them.\n",
    "These may have mutations in the termini / polyA, or they may be some sort of chimera.\n",
    "In any case, since the *CCS aligned* category is only modestly larger than the *gene aligned* category, for all subsequent analyses we'll focus just on the *gene aligned* CCSs."
   ]
  },
  {
   "cell_type": "markdown",
   "metadata": {},
   "source": [
    "### Get CCSs with gene aligned\n",
    "For the reasons explained immediately above, all remaining analyses will focus only on the CCSs in the *gene aligned* category.\n",
    "Get these in a data frame:"
   ]
  },
  {
   "cell_type": "code",
   "execution_count": 12,
   "metadata": {},
   "outputs": [],
   "source": [
    "df_aligned = df_all.query('gene_aligned').reset_index(drop=True)"
   ]
  },
  {
   "cell_type": "markdown",
   "metadata": {},
   "source": [
    "## Quality-control alignments\n",
    "For the CCSs for which the gene insert aligned to flu, we now do some quality controlling on several important aspects.\n",
    "\n",
    "We do this by adding a column to our data frame named `QC_filtered`.\n",
    "Initially all entries in this columns are the string \"passes_filters\".\n",
    "As we go through each filter in order below, we add a string describing the filtering reason for each CCS that fails that filter.\n",
    "Once a CCS fails one filter (in the order they are provided below), we don't continue checking it against the other filters."
   ]
  },
  {
   "cell_type": "code",
   "execution_count": 13,
   "metadata": {},
   "outputs": [],
   "source": [
    "df_aligned['pass_QC'] = True\n",
    "df_aligned['QC_fail_reason'] = 'passes_QC'"
   ]
  },
  {
   "cell_type": "markdown",
   "metadata": {},
   "source": [
    "### Barcode accuracy\n",
    "We want the barcodes called in the CCSs to be high accuracy. \n",
    "This might not be the case if molecules with different barcodes anneal during the PCR, such that a different barcode is sequenced on each strand of the SMRTbell that forms the CCS.\n",
    "So we tabulate some statistics about the distribution of barcode accuracies among CCSs that pass our filters so far:"
   ]
  },
  {
   "cell_type": "code",
   "execution_count": 14,
   "metadata": {},
   "outputs": [
    {
     "data": {
      "text/html": [
       "<div>\n",
       "<style scoped>\n",
       "    .dataframe tbody tr th:only-of-type {\n",
       "        vertical-align: middle;\n",
       "    }\n",
       "\n",
       "    .dataframe tbody tr th {\n",
       "        vertical-align: top;\n",
       "    }\n",
       "\n",
       "    .dataframe thead th {\n",
       "        text-align: right;\n",
       "    }\n",
       "</style>\n",
       "<table border=\"1\" class=\"dataframe\">\n",
       "  <thead>\n",
       "    <tr style=\"text-align: right;\">\n",
       "      <th></th>\n",
       "      <th>count</th>\n",
       "      <th>mean</th>\n",
       "      <th>std</th>\n",
       "      <th>min</th>\n",
       "      <th>0.1%</th>\n",
       "      <th>1%</th>\n",
       "      <th>2%</th>\n",
       "      <th>50%</th>\n",
       "      <th>max</th>\n",
       "    </tr>\n",
       "    <tr>\n",
       "      <th>samplename</th>\n",
       "      <th></th>\n",
       "      <th></th>\n",
       "      <th></th>\n",
       "      <th></th>\n",
       "      <th></th>\n",
       "      <th></th>\n",
       "      <th></th>\n",
       "      <th></th>\n",
       "      <th></th>\n",
       "    </tr>\n",
       "  </thead>\n",
       "  <tbody>\n",
       "    <tr>\n",
       "      <th>2017-06-08</th>\n",
       "      <td>3633.0</td>\n",
       "      <td>0.999863</td>\n",
       "      <td>0.001430</td>\n",
       "      <td>0.968363</td>\n",
       "      <td>0.979985</td>\n",
       "      <td>0.996868</td>\n",
       "      <td>0.999685</td>\n",
       "      <td>1.0</td>\n",
       "      <td>1.0</td>\n",
       "    </tr>\n",
       "    <tr>\n",
       "      <th>2017-12-07</th>\n",
       "      <td>37416.0</td>\n",
       "      <td>0.999962</td>\n",
       "      <td>0.000684</td>\n",
       "      <td>0.968675</td>\n",
       "      <td>0.989011</td>\n",
       "      <td>0.999828</td>\n",
       "      <td>0.999980</td>\n",
       "      <td>1.0</td>\n",
       "      <td>1.0</td>\n",
       "    </tr>\n",
       "  </tbody>\n",
       "</table>\n",
       "</div>"
      ],
      "text/plain": [
       "              count      mean       std       min      0.1%        1%  \\\n",
       "samplename                                                              \n",
       "2017-06-08   3633.0  0.999863  0.001430  0.968363  0.979985  0.996868   \n",
       "2017-12-07  37416.0  0.999962  0.000684  0.968675  0.989011  0.999828   \n",
       "\n",
       "                  2%  50%  max  \n",
       "samplename                      \n",
       "2017-06-08  0.999685  1.0  1.0  \n",
       "2017-12-07  0.999980  1.0  1.0  "
      ]
     },
     "execution_count": 14,
     "metadata": {},
     "output_type": "execute_result"
    }
   ],
   "source": [
    "(df_aligned\n",
    "    .query('pass_QC')\n",
    "    .groupby('samplename')\n",
    "    .barcode_accuracy\n",
    "    .describe(percentiles=[0.001, 0.01, 0.02])\n",
    "    )"
   ]
  },
  {
   "cell_type": "markdown",
   "metadata": {},
   "source": [
    "Below we see that the barcode accuracies are consistently very high, with over 98% having accuracies that exceed the accuracy threshold of 0.999 used when building the CCSs with PacBio's [ccs program](https://github.com/PacificBiosciences/unanimity/blob/develop/doc/PBCCS.md), and all of them having accuracies of >96%.\n",
    "Just to be safe, we will filter for CCSs that have a barcode accuracy $\\ge$0.999, which will eliminate only a very small fraction.\n",
    "\n",
    "We not in the data frame which of the CCSs that have not already been filtered fail this barcode accuracy filter:"
   ]
  },
  {
   "cell_type": "code",
   "execution_count": 15,
   "metadata": {},
   "outputs": [],
   "source": [
    "fail_index = df_aligned.query('pass_QC & (barcode_accuracy < 0.999)').index\n",
    "df_aligned.loc[fail_index, 'pass_QC'] = False\n",
    "df_aligned.loc[fail_index, 'QC_fail_reason'] = 'low barcode accuracy'"
   ]
  },
  {
   "cell_type": "markdown",
   "metadata": {},
   "source": [
    "### Additional alignments\n",
    "We want to get rid of CCSs that align to multiple different influenza genes.\n",
    "The reason is that these probably represent some sort of PCR chimera / fusion during the library preparation.\n",
    "Note that we are only looking at multiple alignments to different targets / isoforms (we specified that M1 / M2 and NS1 / NS2 are isoforms in the `target_isoforms` argument to the `dms_tools2.minimap2.Mapper`), so this will not alignments that involve the same gene (these could be complex deletions) or different splice forms.\n",
    "First, we tabulate some statistics about the distribution of the number of additional alignments to different targets among CCSs that pass our filters so far:"
   ]
  },
  {
   "cell_type": "code",
   "execution_count": 16,
   "metadata": {},
   "outputs": [
    {
     "data": {
      "text/html": [
       "<div>\n",
       "<style scoped>\n",
       "    .dataframe tbody tr th:only-of-type {\n",
       "        vertical-align: middle;\n",
       "    }\n",
       "\n",
       "    .dataframe tbody tr th {\n",
       "        vertical-align: top;\n",
       "    }\n",
       "\n",
       "    .dataframe thead th {\n",
       "        text-align: right;\n",
       "    }\n",
       "</style>\n",
       "<table border=\"1\" class=\"dataframe\">\n",
       "  <thead>\n",
       "    <tr style=\"text-align: right;\">\n",
       "      <th></th>\n",
       "      <th>count</th>\n",
       "      <th>mean</th>\n",
       "      <th>std</th>\n",
       "      <th>min</th>\n",
       "      <th>50%</th>\n",
       "      <th>99%</th>\n",
       "      <th>99.9%</th>\n",
       "      <th>99.99%</th>\n",
       "      <th>max</th>\n",
       "    </tr>\n",
       "    <tr>\n",
       "      <th>samplename</th>\n",
       "      <th></th>\n",
       "      <th></th>\n",
       "      <th></th>\n",
       "      <th></th>\n",
       "      <th></th>\n",
       "      <th></th>\n",
       "      <th></th>\n",
       "      <th></th>\n",
       "      <th></th>\n",
       "    </tr>\n",
       "  </thead>\n",
       "  <tbody>\n",
       "    <tr>\n",
       "      <th>2017-06-08</th>\n",
       "      <td>3580.0</td>\n",
       "      <td>0.001397</td>\n",
       "      <td>0.037351</td>\n",
       "      <td>0.0</td>\n",
       "      <td>0.0</td>\n",
       "      <td>0.0</td>\n",
       "      <td>1.0</td>\n",
       "      <td>1.0</td>\n",
       "      <td>1.0</td>\n",
       "    </tr>\n",
       "    <tr>\n",
       "      <th>2017-12-07</th>\n",
       "      <td>37224.0</td>\n",
       "      <td>0.001827</td>\n",
       "      <td>0.048588</td>\n",
       "      <td>0.0</td>\n",
       "      <td>0.0</td>\n",
       "      <td>0.0</td>\n",
       "      <td>1.0</td>\n",
       "      <td>2.0</td>\n",
       "      <td>2.0</td>\n",
       "    </tr>\n",
       "  </tbody>\n",
       "</table>\n",
       "</div>"
      ],
      "text/plain": [
       "              count      mean       std  min  50%  99%  99.9%  99.99%  max\n",
       "samplename                                                                \n",
       "2017-06-08   3580.0  0.001397  0.037351  0.0  0.0  0.0    1.0     1.0  1.0\n",
       "2017-12-07  37224.0  0.001827  0.048588  0.0  0.0  0.0    1.0     2.0  2.0"
      ]
     },
     "execution_count": 16,
     "metadata": {},
     "output_type": "execute_result"
    }
   ],
   "source": [
    "(df_aligned\n",
    "    .query('pass_QC')\n",
    "    .groupby('samplename')\n",
    "    .gene_aligned_n_additional_difftarget\n",
    "    .describe(percentiles=[0.99, 0.999, 0.9999])\n",
    "    )"
   ]
  },
  {
   "cell_type": "markdown",
   "metadata": {},
   "source": [
    "There are very few CCSs with additional alignments to other targets (less than 1%), and we remove them:"
   ]
  },
  {
   "cell_type": "code",
   "execution_count": 17,
   "metadata": {},
   "outputs": [],
   "source": [
    "fail_index = df_aligned.query('pass_QC & gene_aligned_n_additional_difftarget').index\n",
    "df_aligned.loc[fail_index, 'pass_QC'] = False\n",
    "df_aligned.loc[fail_index, 'QC_fail_reason'] = 'aligns to multiple targets'"
   ]
  },
  {
   "cell_type": "markdown",
   "metadata": {},
   "source": [
    "### Excessive alignment trimming\n",
    "For perfect matches the of query CCSs to the target flu mRNAs, alignment of the query to the target is end-to-end, with no trimming of either the query or the target at either end.\n",
    "\n",
    "However, in practice, in many cases there is trimming of the query or the target.\n",
    "Here we QC filter based on the presence of excessive trimming.\n",
    "\n",
    "#### Trimming of query start\n",
    "Based on the way that the products were PCR-amplified, we expect the query starts to align exactly with the target start, so there shouldn't be any need for trimming.\n",
    "Below are tabulated statistics about the distribution of trimming at the query start:"
   ]
  },
  {
   "cell_type": "code",
   "execution_count": 18,
   "metadata": {},
   "outputs": [
    {
     "data": {
      "text/html": [
       "<div>\n",
       "<style scoped>\n",
       "    .dataframe tbody tr th:only-of-type {\n",
       "        vertical-align: middle;\n",
       "    }\n",
       "\n",
       "    .dataframe tbody tr th {\n",
       "        vertical-align: top;\n",
       "    }\n",
       "\n",
       "    .dataframe thead th {\n",
       "        text-align: right;\n",
       "    }\n",
       "</style>\n",
       "<table border=\"1\" class=\"dataframe\">\n",
       "  <thead>\n",
       "    <tr style=\"text-align: right;\">\n",
       "      <th></th>\n",
       "      <th>count</th>\n",
       "      <th>mean</th>\n",
       "      <th>std</th>\n",
       "      <th>min</th>\n",
       "      <th>50%</th>\n",
       "      <th>99%</th>\n",
       "      <th>99.9%</th>\n",
       "      <th>99.99%</th>\n",
       "      <th>max</th>\n",
       "    </tr>\n",
       "    <tr>\n",
       "      <th>samplename</th>\n",
       "      <th></th>\n",
       "      <th></th>\n",
       "      <th></th>\n",
       "      <th></th>\n",
       "      <th></th>\n",
       "      <th></th>\n",
       "      <th></th>\n",
       "      <th></th>\n",
       "      <th></th>\n",
       "    </tr>\n",
       "  </thead>\n",
       "  <tbody>\n",
       "    <tr>\n",
       "      <th>2017-06-08</th>\n",
       "      <td>3575.0</td>\n",
       "      <td>0.276084</td>\n",
       "      <td>15.790498</td>\n",
       "      <td>0.0</td>\n",
       "      <td>0.0</td>\n",
       "      <td>0.0</td>\n",
       "      <td>3.426</td>\n",
       "      <td>611.6180</td>\n",
       "      <td>944.0</td>\n",
       "    </tr>\n",
       "    <tr>\n",
       "      <th>2017-12-07</th>\n",
       "      <td>37176.0</td>\n",
       "      <td>0.214601</td>\n",
       "      <td>12.043206</td>\n",
       "      <td>0.0</td>\n",
       "      <td>0.0</td>\n",
       "      <td>0.0</td>\n",
       "      <td>3.000</td>\n",
       "      <td>594.6675</td>\n",
       "      <td>1092.0</td>\n",
       "    </tr>\n",
       "  </tbody>\n",
       "</table>\n",
       "</div>"
      ],
      "text/plain": [
       "              count      mean        std  min  50%  99%  99.9%    99.99%  \\\n",
       "samplename                                                                 \n",
       "2017-06-08   3575.0  0.276084  15.790498  0.0  0.0  0.0  3.426  611.6180   \n",
       "2017-12-07  37176.0  0.214601  12.043206  0.0  0.0  0.0  3.000  594.6675   \n",
       "\n",
       "               max  \n",
       "samplename          \n",
       "2017-06-08   944.0  \n",
       "2017-12-07  1092.0  "
      ]
     },
     "execution_count": 18,
     "metadata": {},
     "output_type": "execute_result"
    }
   ],
   "source": [
    "(df_aligned\n",
    "    .query('pass_QC')\n",
    "    .groupby('samplename')\n",
    "    .gene_aligned_n_trimmed_query_start\n",
    "    .describe(percentiles=[0.99, 0.999, 0.9999])\n",
    "    )"
   ]
  },
  {
   "cell_type": "markdown",
   "metadata": {},
   "source": [
    "Most (>99%) queries align exactly with the target at their start, with no trimming. \n",
    "There are a few nucleotides trimmed from a modest fraction (<1%).\n",
    "This modest trimming is explainable---the 5' primers are similar for the different flu genes, so there may occassionally be mis-priming so that the primer amplifies a different flu mRNA, which might lead to a bit of trimming at the very start of the alignment.\n",
    "There are then a very small number (less than <0.01%) that have very large amounts trimmed.\n",
    "We will discard CCSs with more than 5 nucleotides trimmed from the query start:"
   ]
  },
  {
   "cell_type": "code",
   "execution_count": 19,
   "metadata": {},
   "outputs": [],
   "source": [
    "fail_index = df_aligned.query('pass_QC & (gene_aligned_n_trimmed_query_start > 5)').index\n",
    "df_aligned.loc[fail_index, 'pass_QC'] = False\n",
    "df_aligned.loc[fail_index, 'QC_fail_reason'] = 'excessive trimming of query start'"
   ]
  },
  {
   "cell_type": "markdown",
   "metadata": {},
   "source": [
    "#### Trimming of target start\n",
    "We also expect all of the alignments to start exactly at the begin of the target, because the PCR-amplification should lead to this.\n",
    "Below are tabulated statistics about the distribution of trimming at the target start:"
   ]
  },
  {
   "cell_type": "code",
   "execution_count": 20,
   "metadata": {},
   "outputs": [
    {
     "data": {
      "text/html": [
       "<div>\n",
       "<style scoped>\n",
       "    .dataframe tbody tr th:only-of-type {\n",
       "        vertical-align: middle;\n",
       "    }\n",
       "\n",
       "    .dataframe tbody tr th {\n",
       "        vertical-align: top;\n",
       "    }\n",
       "\n",
       "    .dataframe thead th {\n",
       "        text-align: right;\n",
       "    }\n",
       "</style>\n",
       "<table border=\"1\" class=\"dataframe\">\n",
       "  <thead>\n",
       "    <tr style=\"text-align: right;\">\n",
       "      <th></th>\n",
       "      <th>count</th>\n",
       "      <th>mean</th>\n",
       "      <th>std</th>\n",
       "      <th>min</th>\n",
       "      <th>50%</th>\n",
       "      <th>99%</th>\n",
       "      <th>99.9%</th>\n",
       "      <th>99.99%</th>\n",
       "      <th>max</th>\n",
       "    </tr>\n",
       "    <tr>\n",
       "      <th>samplename</th>\n",
       "      <th></th>\n",
       "      <th></th>\n",
       "      <th></th>\n",
       "      <th></th>\n",
       "      <th></th>\n",
       "      <th></th>\n",
       "      <th></th>\n",
       "      <th></th>\n",
       "      <th></th>\n",
       "    </tr>\n",
       "  </thead>\n",
       "  <tbody>\n",
       "    <tr>\n",
       "      <th>2017-06-08</th>\n",
       "      <td>3573.0</td>\n",
       "      <td>0.291912</td>\n",
       "      <td>16.120231</td>\n",
       "      <td>0.0</td>\n",
       "      <td>0.0</td>\n",
       "      <td>0.0</td>\n",
       "      <td>3.0</td>\n",
       "      <td>638.0196</td>\n",
       "      <td>962.0</td>\n",
       "    </tr>\n",
       "    <tr>\n",
       "      <th>2017-12-07</th>\n",
       "      <td>37153.0</td>\n",
       "      <td>0.134067</td>\n",
       "      <td>14.180187</td>\n",
       "      <td>0.0</td>\n",
       "      <td>0.0</td>\n",
       "      <td>0.0</td>\n",
       "      <td>3.0</td>\n",
       "      <td>60.9680</td>\n",
       "      <td>1884.0</td>\n",
       "    </tr>\n",
       "  </tbody>\n",
       "</table>\n",
       "</div>"
      ],
      "text/plain": [
       "              count      mean        std  min  50%  99%  99.9%    99.99%  \\\n",
       "samplename                                                                 \n",
       "2017-06-08   3573.0  0.291912  16.120231  0.0  0.0  0.0    3.0  638.0196   \n",
       "2017-12-07  37153.0  0.134067  14.180187  0.0  0.0  0.0    3.0   60.9680   \n",
       "\n",
       "               max  \n",
       "samplename          \n",
       "2017-06-08   962.0  \n",
       "2017-12-07  1884.0  "
      ]
     },
     "execution_count": 20,
     "metadata": {},
     "output_type": "execute_result"
    }
   ],
   "source": [
    "(df_aligned\n",
    "    .query('pass_QC')\n",
    "    .groupby('samplename')\n",
    "    .gene_aligned_n_trimmed_target_start\n",
    "    .describe(percentiles=[0.99, 0.999, 0.9999])\n",
    "    )"
   ]
  },
  {
   "cell_type": "markdown",
   "metadata": {},
   "source": [
    "This distribution looks very similar to that for trimming of the query starts immediately above, and (for the same logic explained there), we will discard CCSs with more than 5 nucleotides trimmed from the target start:"
   ]
  },
  {
   "cell_type": "code",
   "execution_count": 21,
   "metadata": {},
   "outputs": [],
   "source": [
    "fail_index = df_aligned.query('pass_QC & (gene_aligned_n_trimmed_target_start > 5)').index\n",
    "df_aligned.loc[fail_index, 'pass_QC'] = False\n",
    "df_aligned.loc[fail_index, 'QC_fail_reason'] = 'excessive trimming of target start'"
   ]
  },
  {
   "cell_type": "markdown",
   "metadata": {},
   "source": [
    "#### Trimming query ends\n",
    "We expect the queries to end at the end of the target, and so there to be no clipping of teh query ends. \n",
    "There are three plausible reasons for clipping of the query ends:\n",
    "  1. A PCR artifact that leads to fusion of a flu gene with a cellular gene. We tried to filter out fusions of two different flu genes above by removing CCSs with additional alignments to a different flu target, but that filter won't remove fusions to things that aren't flu genes--although these are expected to be much more abundant. We would like to filter CCSs for which this occurs.\n",
    "  2. The transcription of the mRNA from the query continuing past the polyA tail, or the polyA tail not be fully trimmed and removed. We might want to retain these. However, we expect the extension that has tobe trimmed in this case to be small, probably less than 50 nt.\n",
    "  3. There is an internal deletion and for whatever reason the mapping failed to handle it properly and just trimmed the region after the deletion. We want to keep these. We would expect them to align with \"additional alignments\" since the trimmed region should be in a different alignment.\n",
    "  \n",
    "Below we tabulate some statistics on the distribution of trimming, for CCSs both with and without additional alignments (these distributions are hard to plot since they are so skewed):"
   ]
  },
  {
   "cell_type": "code",
   "execution_count": 22,
   "metadata": {},
   "outputs": [
    {
     "data": {
      "text/html": [
       "<div>\n",
       "<style scoped>\n",
       "    .dataframe tbody tr th:only-of-type {\n",
       "        vertical-align: middle;\n",
       "    }\n",
       "\n",
       "    .dataframe tbody tr th {\n",
       "        vertical-align: top;\n",
       "    }\n",
       "\n",
       "    .dataframe thead th {\n",
       "        text-align: right;\n",
       "    }\n",
       "</style>\n",
       "<table border=\"1\" class=\"dataframe\">\n",
       "  <thead>\n",
       "    <tr style=\"text-align: right;\">\n",
       "      <th></th>\n",
       "      <th></th>\n",
       "      <th>count</th>\n",
       "      <th>mean</th>\n",
       "      <th>std</th>\n",
       "      <th>min</th>\n",
       "      <th>50%</th>\n",
       "      <th>90%</th>\n",
       "      <th>95%</th>\n",
       "      <th>98%</th>\n",
       "      <th>99%</th>\n",
       "      <th>99.9%</th>\n",
       "      <th>max</th>\n",
       "    </tr>\n",
       "    <tr>\n",
       "      <th>samplename</th>\n",
       "      <th>has_additional_alignment</th>\n",
       "      <th></th>\n",
       "      <th></th>\n",
       "      <th></th>\n",
       "      <th></th>\n",
       "      <th></th>\n",
       "      <th></th>\n",
       "      <th></th>\n",
       "      <th></th>\n",
       "      <th></th>\n",
       "      <th></th>\n",
       "      <th></th>\n",
       "    </tr>\n",
       "  </thead>\n",
       "  <tbody>\n",
       "    <tr>\n",
       "      <th rowspan=\"2\" valign=\"top\">2017-06-08</th>\n",
       "      <th>False</th>\n",
       "      <td>2341.0</td>\n",
       "      <td>7.404955</td>\n",
       "      <td>49.649430</td>\n",
       "      <td>0.0</td>\n",
       "      <td>1.0</td>\n",
       "      <td>8.0</td>\n",
       "      <td>29.0</td>\n",
       "      <td>61.2</td>\n",
       "      <td>88.00</td>\n",
       "      <td>736.040</td>\n",
       "      <td>1161.0</td>\n",
       "    </tr>\n",
       "    <tr>\n",
       "      <th>True</th>\n",
       "      <td>1230.0</td>\n",
       "      <td>9.111382</td>\n",
       "      <td>39.959476</td>\n",
       "      <td>0.0</td>\n",
       "      <td>1.0</td>\n",
       "      <td>27.0</td>\n",
       "      <td>50.1</td>\n",
       "      <td>71.0</td>\n",
       "      <td>85.42</td>\n",
       "      <td>549.055</td>\n",
       "      <td>1028.0</td>\n",
       "    </tr>\n",
       "    <tr>\n",
       "      <th rowspan=\"2\" valign=\"top\">2017-12-07</th>\n",
       "      <th>False</th>\n",
       "      <td>33687.0</td>\n",
       "      <td>9.994894</td>\n",
       "      <td>46.500014</td>\n",
       "      <td>0.0</td>\n",
       "      <td>1.0</td>\n",
       "      <td>28.0</td>\n",
       "      <td>54.0</td>\n",
       "      <td>82.0</td>\n",
       "      <td>101.14</td>\n",
       "      <td>840.338</td>\n",
       "      <td>1799.0</td>\n",
       "    </tr>\n",
       "    <tr>\n",
       "      <th>True</th>\n",
       "      <td>3461.0</td>\n",
       "      <td>11.616296</td>\n",
       "      <td>40.085474</td>\n",
       "      <td>0.0</td>\n",
       "      <td>1.0</td>\n",
       "      <td>39.0</td>\n",
       "      <td>63.0</td>\n",
       "      <td>96.8</td>\n",
       "      <td>128.40</td>\n",
       "      <td>600.780</td>\n",
       "      <td>1009.0</td>\n",
       "    </tr>\n",
       "  </tbody>\n",
       "</table>\n",
       "</div>"
      ],
      "text/plain": [
       "                                       count       mean        std  min  50%  \\\n",
       "samplename has_additional_alignment                                            \n",
       "2017-06-08 False                      2341.0   7.404955  49.649430  0.0  1.0   \n",
       "           True                       1230.0   9.111382  39.959476  0.0  1.0   \n",
       "2017-12-07 False                     33687.0   9.994894  46.500014  0.0  1.0   \n",
       "           True                       3461.0  11.616296  40.085474  0.0  1.0   \n",
       "\n",
       "                                      90%   95%   98%     99%    99.9%     max  \n",
       "samplename has_additional_alignment                                             \n",
       "2017-06-08 False                      8.0  29.0  61.2   88.00  736.040  1161.0  \n",
       "           True                      27.0  50.1  71.0   85.42  549.055  1028.0  \n",
       "2017-12-07 False                     28.0  54.0  82.0  101.14  840.338  1799.0  \n",
       "           True                      39.0  63.0  96.8  128.40  600.780  1009.0  "
      ]
     },
     "execution_count": 22,
     "metadata": {},
     "output_type": "execute_result"
    }
   ],
   "source": [
    "(df_aligned\n",
    "    .query('pass_QC')\n",
    "    .assign(has_additional_alignment=lambda x: x.gene_aligned_n_additional > 0)\n",
    "    .groupby(['samplename', 'has_additional_alignment'])\n",
    "    .gene_aligned_n_trimmed_query_end\n",
    "    .describe(percentiles=[0.9, 0.95, 0.98, 0.99, 0.999])\n",
    "    )"
   ]
  },
  {
   "cell_type": "markdown",
   "metadata": {},
   "source": [
    "We see that the distributions don't look much different between CCSs with and without additional alignments, so the internal deletion explanation doesn't appear to explain most of the clipping.\n",
    "We will discard CCSs with more than 50 nt of trimming at the query end as almost certainly spurious, but keep those with less than 50 nt in case there is transcription past the polyA and/or problems calling the polyA.\n",
    "Looking at the table above, we can see that this means we are discarding about 5% of the CCSs:"
   ]
  },
  {
   "cell_type": "code",
   "execution_count": 23,
   "metadata": {},
   "outputs": [],
   "source": [
    "fail_index = df_aligned.query('pass_QC & (gene_aligned_n_trimmed_query_end > 50)').index\n",
    "df_aligned.loc[fail_index, 'pass_QC'] = False\n",
    "df_aligned.loc[fail_index, 'QC_fail_reason'] = 'excessive trimming of query end'"
   ]
  },
  {
   "cell_type": "markdown",
   "metadata": {},
   "source": [
    "#### Trimming target ends\n",
    "If transcription proceeds all the way to the target end, there should also not be trimming of the target ends.\n",
    "Here are some actual tabulated statistics:"
   ]
  },
  {
   "cell_type": "code",
   "execution_count": 24,
   "metadata": {},
   "outputs": [
    {
     "data": {
      "text/html": [
       "<div>\n",
       "<style scoped>\n",
       "    .dataframe tbody tr th:only-of-type {\n",
       "        vertical-align: middle;\n",
       "    }\n",
       "\n",
       "    .dataframe tbody tr th {\n",
       "        vertical-align: top;\n",
       "    }\n",
       "\n",
       "    .dataframe thead th {\n",
       "        text-align: right;\n",
       "    }\n",
       "</style>\n",
       "<table border=\"1\" class=\"dataframe\">\n",
       "  <thead>\n",
       "    <tr style=\"text-align: right;\">\n",
       "      <th></th>\n",
       "      <th>count</th>\n",
       "      <th>mean</th>\n",
       "      <th>std</th>\n",
       "      <th>min</th>\n",
       "      <th>50%</th>\n",
       "      <th>90%</th>\n",
       "      <th>95%</th>\n",
       "      <th>98%</th>\n",
       "      <th>99%</th>\n",
       "      <th>99.9%</th>\n",
       "      <th>max</th>\n",
       "    </tr>\n",
       "    <tr>\n",
       "      <th>samplename</th>\n",
       "      <th></th>\n",
       "      <th></th>\n",
       "      <th></th>\n",
       "      <th></th>\n",
       "      <th></th>\n",
       "      <th></th>\n",
       "      <th></th>\n",
       "      <th></th>\n",
       "      <th></th>\n",
       "      <th></th>\n",
       "      <th></th>\n",
       "    </tr>\n",
       "  </thead>\n",
       "  <tbody>\n",
       "    <tr>\n",
       "      <th>2017-06-08</th>\n",
       "      <td>3445.0</td>\n",
       "      <td>62.832221</td>\n",
       "      <td>275.622433</td>\n",
       "      <td>0.0</td>\n",
       "      <td>1.0</td>\n",
       "      <td>6.0</td>\n",
       "      <td>473.0</td>\n",
       "      <td>1197.96</td>\n",
       "      <td>1735.0</td>\n",
       "      <td>1775.112</td>\n",
       "      <td>1782.0</td>\n",
       "    </tr>\n",
       "    <tr>\n",
       "      <th>2017-12-07</th>\n",
       "      <td>35052.0</td>\n",
       "      <td>152.883088</td>\n",
       "      <td>472.673698</td>\n",
       "      <td>0.0</td>\n",
       "      <td>0.0</td>\n",
       "      <td>321.9</td>\n",
       "      <td>1735.0</td>\n",
       "      <td>1771.00</td>\n",
       "      <td>1775.0</td>\n",
       "      <td>1882.000</td>\n",
       "      <td>2057.0</td>\n",
       "    </tr>\n",
       "  </tbody>\n",
       "</table>\n",
       "</div>"
      ],
      "text/plain": [
       "              count        mean         std  min  50%    90%     95%      98%  \\\n",
       "samplename                                                                      \n",
       "2017-06-08   3445.0   62.832221  275.622433  0.0  1.0    6.0   473.0  1197.96   \n",
       "2017-12-07  35052.0  152.883088  472.673698  0.0  0.0  321.9  1735.0  1771.00   \n",
       "\n",
       "               99%     99.9%     max  \n",
       "samplename                            \n",
       "2017-06-08  1735.0  1775.112  1782.0  \n",
       "2017-12-07  1775.0  1882.000  2057.0  "
      ]
     },
     "execution_count": 24,
     "metadata": {},
     "output_type": "execute_result"
    }
   ],
   "source": [
    "(df_aligned\n",
    "    .query('pass_QC')\n",
    "    .groupby('samplename')\n",
    "    .gene_aligned_n_trimmed_target_end\n",
    "    .describe(percentiles=[0.9, 0.95, 0.98, 0.99, 0.999])\n",
    "    )"
   ]
  },
  {
   "cell_type": "markdown",
   "metadata": {},
   "source": [
    "We see that in reality there is quite a bit of trimming of the target ends in 5-10% of CCSs.\n",
    "However, there is a legitimate possible explanation: premature poly-adenylation of the flu transcripts leading to truncation of the query, or some form of internal deletion in the vRNA moving the polyA signal up in the transcript.\n",
    "Since both of these seem plausible, for now we do not do any filtering based on the trimming of the target ends."
   ]
  },
  {
   "cell_type": "markdown",
   "metadata": {},
   "source": [
    "### Get QC-ed alignments\n",
    "Now we tabulate the number of alignments that failed QC for each reason:"
   ]
  },
  {
   "cell_type": "code",
   "execution_count": 25,
   "metadata": {},
   "outputs": [
    {
     "data": {
      "text/html": [
       "<div>\n",
       "<style scoped>\n",
       "    .dataframe tbody tr th:only-of-type {\n",
       "        vertical-align: middle;\n",
       "    }\n",
       "\n",
       "    .dataframe tbody tr th {\n",
       "        vertical-align: top;\n",
       "    }\n",
       "\n",
       "    .dataframe thead th {\n",
       "        text-align: right;\n",
       "    }\n",
       "</style>\n",
       "<table border=\"1\" class=\"dataframe\">\n",
       "  <thead>\n",
       "    <tr style=\"text-align: right;\">\n",
       "      <th></th>\n",
       "      <th></th>\n",
       "      <th></th>\n",
       "      <th>number</th>\n",
       "    </tr>\n",
       "    <tr>\n",
       "      <th>samplename</th>\n",
       "      <th>pass_QC</th>\n",
       "      <th>QC_fail_reason</th>\n",
       "      <th></th>\n",
       "    </tr>\n",
       "  </thead>\n",
       "  <tbody>\n",
       "    <tr>\n",
       "      <th rowspan=\"6\" valign=\"top\">2017-06-08</th>\n",
       "      <th rowspan=\"5\" valign=\"top\">False</th>\n",
       "      <th>aligns to multiple targets</th>\n",
       "      <td>5</td>\n",
       "    </tr>\n",
       "    <tr>\n",
       "      <th>excessive trimming of query end</th>\n",
       "      <td>126</td>\n",
       "    </tr>\n",
       "    <tr>\n",
       "      <th>excessive trimming of query start</th>\n",
       "      <td>2</td>\n",
       "    </tr>\n",
       "    <tr>\n",
       "      <th>excessive trimming of target start</th>\n",
       "      <td>2</td>\n",
       "    </tr>\n",
       "    <tr>\n",
       "      <th>low barcode accuracy</th>\n",
       "      <td>53</td>\n",
       "    </tr>\n",
       "    <tr>\n",
       "      <th>True</th>\n",
       "      <th>passes_QC</th>\n",
       "      <td>3445</td>\n",
       "    </tr>\n",
       "    <tr>\n",
       "      <th rowspan=\"6\" valign=\"top\">2017-12-07</th>\n",
       "      <th rowspan=\"5\" valign=\"top\">False</th>\n",
       "      <th>aligns to multiple targets</th>\n",
       "      <td>48</td>\n",
       "    </tr>\n",
       "    <tr>\n",
       "      <th>excessive trimming of query end</th>\n",
       "      <td>2096</td>\n",
       "    </tr>\n",
       "    <tr>\n",
       "      <th>excessive trimming of query start</th>\n",
       "      <td>23</td>\n",
       "    </tr>\n",
       "    <tr>\n",
       "      <th>excessive trimming of target start</th>\n",
       "      <td>5</td>\n",
       "    </tr>\n",
       "    <tr>\n",
       "      <th>low barcode accuracy</th>\n",
       "      <td>192</td>\n",
       "    </tr>\n",
       "    <tr>\n",
       "      <th>True</th>\n",
       "      <th>passes_QC</th>\n",
       "      <td>35052</td>\n",
       "    </tr>\n",
       "  </tbody>\n",
       "</table>\n",
       "</div>"
      ],
      "text/plain": [
       "                                                       number\n",
       "samplename pass_QC QC_fail_reason                            \n",
       "2017-06-08 False   aligns to multiple targets               5\n",
       "                   excessive trimming of query end        126\n",
       "                   excessive trimming of query start        2\n",
       "                   excessive trimming of target start       2\n",
       "                   low barcode accuracy                    53\n",
       "           True    passes_QC                             3445\n",
       "2017-12-07 False   aligns to multiple targets              48\n",
       "                   excessive trimming of query end       2096\n",
       "                   excessive trimming of query start       23\n",
       "                   excessive trimming of target start       5\n",
       "                   low barcode accuracy                   192\n",
       "           True    passes_QC                            35052"
      ]
     },
     "execution_count": 25,
     "metadata": {},
     "output_type": "execute_result"
    }
   ],
   "source": [
    "(df_aligned\n",
    "    .assign(number=1)\n",
    "    .groupby(['samplename', 'pass_QC', 'QC_fail_reason'])\n",
    "    [['number']]\n",
    "    .agg('count')\n",
    "    )"
   ]
  },
  {
   "cell_type": "markdown",
   "metadata": {},
   "source": [
    "As the table above shows, less than 10% of the alignments fail the filters, and most of the failures are due to excessive trimming of the query end.\n",
    "\n",
    "We get a new data frame with just the QC-ed aligned CCSs for subsequent work:"
   ]
  },
  {
   "cell_type": "code",
   "execution_count": 26,
   "metadata": {},
   "outputs": [],
   "source": [
    "df_QC = df_aligned.query('pass_QC')"
   ]
  },
  {
   "cell_type": "markdown",
   "metadata": {},
   "source": [
    "## Summary of QC-ed alignments\n",
    "We are now going to analyze how many QC-ed alignments we have for each gene, and the length distribution of these alignments.\n",
    "\n",
    "First, make the aligned genes a categorical variable so gene names are displayed in the desired order:"
   ]
  },
  {
   "cell_type": "code",
   "execution_count": 27,
   "metadata": {},
   "outputs": [],
   "source": [
    "targetnames = [targetname for targetname, targetseq in targets]\n",
    "df_QC.gene_aligned_target = pandas.Categorical(df_QC.gene_aligned_target, targetnames)"
   ]
  },
  {
   "cell_type": "markdown",
   "metadata": {},
   "source": [
    "### Number of alignments per gene\n",
    "Now we examine the number of QC-ed aligned CCSs for each gene.\n",
    "We do this both aggregating over all sequencing runs and looking at the runs individually:"
   ]
  },
  {
   "cell_type": "code",
   "execution_count": 53,
   "metadata": {},
   "outputs": [
    {
     "name": "stdout",
     "output_type": "stream",
     "text": [
      "\n",
      "Number of alignments total:\n"
     ]
    },
    {
     "data": {
      "image/png": "[encoded data removed]",
      "text/plain": [
       "<IPython.core.display.Image object>"
      ]
     },
     "metadata": {
      "image/png": {
       "width": 280
      }
     },
     "output_type": "display_data"
    },
    {
     "name": "stdout",
     "output_type": "stream",
     "text": [
      "\n",
      "Number of alignments by run:\n"
     ]
    },
    {
     "data": {
      "image/png": "[encoded data removed]",
      "text/plain": [
       "<IPython.core.display.Image object>"
      ]
     },
     "metadata": {
      "image/png": {
       "width": 480
      }
     },
     "output_type": "display_data"
    }
   ],
   "source": [
    "# base plot of number of sequences per gene\n",
    "plot_nseqs = (\n",
    "    ggplot(df_QC, aes('gene_aligned_target')) +\n",
    "        geom_bar() +\n",
    "        theme(axis_text_x=element_text(angle=90, hjust=0.5)) +\n",
    "        xlab(\"flu gene\") +\n",
    "        ylab(\"QC-ed aligned sequenced\")\n",
    "    )\n",
    "\n",
    "# plot total for all runs and by run\n",
    "for plottype, facet, n in [\n",
    "        ('all_runs', geom_blank(), 1),\n",
    "        ('by_run', facet_wrap('~samplename'), len(seqruns))]:\n",
    "    print(\"\\nNumber of alignments, {0}:\".format(plottype.replace('_', ' ')))\n",
    "    nseqs_plot = os.path.join(aligndir, 'nsequences_{0}.pdf'.format(plottype))\n",
    "    (plot_nseqs + facet).save(nseqs_plot, height=2.6, width=0.8 + 2 * n)\n",
    "    showPDF(nseqs_plot, width=80 + 200 * n)"
   ]
  },
  {
   "cell_type": "markdown",
   "metadata": {},
   "source": [
    "The plots above show that in total we have many more alignments for the polymerase genes, mostly due to the 2017-12-07 run being highly biased towards these genes.\n",
    "This is because whereas the first run tried to amplify everything equally, the second run overloaded PB2 / PB1 / PA because they were much rarer in the first run.\n",
    "But see the caveat about deletions that becomes apparent below...\n",
    "\n",
    "Also, we see that there are many fewer alignments for M2 than M1, and for NS2 than NS1. \n",
    "This is as expected based on the known ratios of these splice forms."
   ]
  },
  {
   "cell_type": "markdown",
   "metadata": {},
   "source": [
    "### Distribution of alignment lengths\n",
    "Not all of the alignments necessarily cover the entire gene, as there are often deletions in flu segments and can in principle also be insertions.\n",
    "So we also plot the distribution of alignments by length for each segment, where we define the *alignment length* as the total number of aligned nucleotides, which can be either identities or mismatches (but not indels).\n",
    "Note that each subplot below is shown with **its own y-axis**, so the plots show the distribution of lengths within each gene / sequencing run, but not the relative numbers of alignments across them:"
   ]
  },
  {
   "cell_type": "code",
   "execution_count": 77,
   "metadata": {},
   "outputs": [
    {
     "name": "stdout",
     "output_type": "stream",
     "text": [
      "\n",
      "Alignment lengths, all runs:\n"
     ]
    },
    {
     "data": {
      "image/png": "[encoded data removed]",
      "text/plain": [
       "<IPython.core.display.Image object>"
      ]
     },
     "metadata": {},
     "output_type": "display_data"
    },
    {
     "name": "stdout",
     "output_type": "stream",
     "text": [
      "\n",
      "Alignment lengths, by run:\n"
     ]
    },
    {
     "data": {
      "image/png": "[encoded data removed]",
      "text/plain": [
       "<IPython.core.display.Image object>"
      ]
     },
     "metadata": {},
     "output_type": "display_data"
    }
   ],
   "source": [
    "# add columnn with alignment lengths\n",
    "df_QC['alignment_length'] = df_QC.gene_aligned_cigar.apply(dms_tools2.minimap2.numAligned)\n",
    "\n",
    "# base plot of alignment lengths\n",
    "plot_align_len = (\n",
    "    ggplot(df_QC, aes('alignment_length')) +\n",
    "        geom_histogram(aes(x='alignment_length', y='..density..'), bins=15) +\n",
    "        theme(axis_text_x=element_text(angle=90, hjust=0.5),\n",
    "              axis_text_y=element_blank(), axis_ticks=element_blank()) +\n",
    "        ylab(\"rekatuve number of alignments\") +\n",
    "        xlab(\"alignment length\")\n",
    "        )\n",
    "\n",
    "# plot for all runs and by run\n",
    "for plottype, facet, n in [\n",
    "        ('all_runs', facet_wrap('~ gene_aligned_target', nrow=1), 1),\n",
    "        ('by_run', facet_grid('samplename ~ gene_aligned_target'), len(seqruns))]:\n",
    "    print(\"\\nAlignment lengths, {0}:\".format(plottype.replace('_', ' ')))\n",
    "    align_len_plot = os.path.join(aligndir, 'alignment_len_{0}.pdf'.format(plottype))\n",
    "    (plot_align_len + facet).save(align_len_plot, width=15, height=1.7 * n)\n",
    "    showPDF(align_len_plot)"
   ]
  },
  {
   "cell_type": "markdown",
   "metadata": {},
   "source": [
    "As can be seen above, for most genes the alignments are strongly peaked at the length expected for the full-length gene.\n",
    "But for the polymerase genes (PB2, PB1, and PA), most of the reads are actually deletions that are much smaller than the full-length size.\n",
    "For HA, there are also prominent peaks at smaller sizes."
   ]
  },
  {
   "cell_type": "code",
   "execution_count": null,
   "metadata": {},
   "outputs": [],
   "source": []
  }
 ],
 "metadata": {
  "kernelspec": {
   "display_name": "Python 3",
   "language": "python",
   "name": "python3"
  },
  "language_info": {
   "codemirror_mode": {
    "name": "ipython",
    "version": 3
   },
   "file_extension": ".py",
   "mimetype": "text/x-python",
   "name": "python",
   "nbconvert_exporter": "python",
   "pygments_lexer": "ipython3",
   "version": "3.6.4"
  },
  "toc": {
   "nav_menu": {},
   "number_sections": false,
   "sideBar": true,
   "skip_h1_title": false,
   "toc_cell": true,
   "toc_position": {
    "height": "1152px",
    "left": "0px",
    "right": "1214px",
    "top": "111px",
    "width": "271px"
   },
   "toc_section_display": "block",
   "toc_window_display": true
  }
 },
 "nbformat": 4,
 "nbformat_minor": 2
}
