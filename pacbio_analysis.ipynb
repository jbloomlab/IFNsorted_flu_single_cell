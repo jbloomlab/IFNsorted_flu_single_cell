{
 "cells": [
  {
   "cell_type": "markdown",
   "metadata": {
    "toc": true
   },
   "source": [
    "<h1>Table of Contents<span class=\"tocSkip\"></span></h1>\n",
    "<div class=\"toc\" style=\"margin-top: 1em;\"><ul class=\"toc-item\"><li><span><a href=\"#Analysis-of-full-length-PacBio-sequencing-of-influenza-mRNAs\" data-toc-modified-id=\"Analysis-of-full-length-PacBio-sequencing-of-influenza-mRNAs-1\">Analysis of full-length PacBio sequencing of influenza mRNAs</a></span><ul class=\"toc-item\"><li><span><a href=\"#Set-up-for-analysis\" data-toc-modified-id=\"Set-up-for-analysis-1.1\">Set up for analysis</a></span><ul class=\"toc-item\"><li><span><a href=\"#Import-Python-modules\" data-toc-modified-id=\"Import-Python-modules-1.1.1\">Import Python modules</a></span></li><li><span><a href=\"#Define-/-create-directories\" data-toc-modified-id=\"Define-/-create-directories-1.1.2\">Define / create directories</a></span></li></ul></li><li><span><a href=\"#Get-subreads-files-for-each-sequencing-run\" data-toc-modified-id=\"Get-subreads-files-for-each-sequencing-run-1.2\">Get subreads files for each sequencing run</a></span></li><li><span><a href=\"#Build-circular-consensus-sequences\" data-toc-modified-id=\"Build-circular-consensus-sequences-1.3\">Build circular consensus sequences</a></span></li></ul></li></ul></div>"
   ]
  },
  {
   "cell_type": "markdown",
   "metadata": {},
   "source": [
    "# Analysis of full-length PacBio sequencing of influenza mRNAs\n",
    "The material from the 10X libraries for the *IFN_enriched* sample was enriched for viral mRNAs by semi-specific PCR, and then sequenced by PacBio.\n",
    "Here we analyze those data.\n",
    "\n",
    "## Set up for analysis\n",
    "First, we do some things to set up the parameters of the analysis.\n",
    "\n",
    "### Import Python modules\n",
    "We import the Python modules used.\n",
    "\n",
    "Note we use some functions from [dms_tools2](https://jbloomlab.github.io/dms_tools2/)."
   ]
  },
  {
   "cell_type": "code",
   "execution_count": 1,
   "metadata": {},
   "outputs": [
    {
     "name": "stderr",
     "output_type": "stream",
     "text": [
      "/Users/jbloom/Library/Python/3.6/lib/python/site-packages/statsmodels/compat/pandas.py:56: FutureWarning: The pandas.core.datetools module is deprecated and will be removed in a future version. Please use the pandas.tseries module instead.\n",
      "  from pandas.core import datetools\n"
     ]
    }
   ],
   "source": [
    "import os\n",
    "import glob\n",
    "import subprocess\n",
    "import shutil\n",
    "import multiprocessing\n",
    "\n",
    "from IPython.display import display, HTML\n",
    "\n",
    "import dms_tools2.pacbio\n",
    "from dms_tools2.ipython_utils import showPDF"
   ]
  },
  {
   "cell_type": "markdown",
   "metadata": {},
   "source": [
    "### Define / create directories\n",
    "We define the names of key directories for input and output, and create these directories if needed:"
   ]
  },
  {
   "cell_type": "code",
   "execution_count": 2,
   "metadata": {},
   "outputs": [],
   "source": [
    "# top results directory\n",
    "resultsdir = './results/'\n",
    "if not os.path.isdir(resultsdir):\n",
    "    os.mkdir(resultsdir)\n",
    "\n",
    "# directory for PacBio results\n",
    "pacbioresultsdir = os.path.join(resultsdir, 'pacbio')\n",
    "if not os.path.isdir(pacbioresultsdir):\n",
    "    os.mkdir(pacbioresultsdir)"
   ]
  },
  {
   "cell_type": "markdown",
   "metadata": {},
   "source": [
    "## Get subreads files for each sequencing run\n",
    "We have multiple sequencing runs:\n",
    "  - A run from June-8-2017 done at the UW PacBio core. This run used a PacBio RSII machine.\n",
    "  - A run from December-7-2017 done at the Fred Hutch Genomics core. This run used a PacBio Sequel machine.\n",
    "  \n",
    "Note that the material sequenced for these two runs was **not** identical. \n",
    "The balance of genes that were mixed differed, as well as the size selection and the way that the libraries were loaded.\n",
    "Therefore, we do not expect the same balance of different reads in the two runs.\n",
    "\n",
    "In addition, the data were processed differently.\n",
    "For the Hutch Genomics Core runs, the data are already processed into a `*.subreads.bam` file, while for UW PacBio core runs it is still in the `*.bas.h5` file."
   ]
  },
  {
   "cell_type": "code",
   "execution_count": 3,
   "metadata": {},
   "outputs": [],
   "source": [
    "seqruns = ['2017-06-08', '2017-12-07']\n",
    "\n",
    "seqdirs = {\n",
    "        '2017-06-08':'/fh/fast/bloom_j/SR/ngs/pacbio_UW/170608 Pacbio single cell/Emulsion Reaction/ABR_C_MACS.AR_0kb',\n",
    "        '2017-12-07':'/fh/fast/bloom_j/SR/ngs/pacbio/171207_bloom_j/r54228_20171201_171054/1_A01',\n",
    "        }\n",
    "\n",
    "bam_already = {'2017-06-08':False, '2017-12-07':True}"
   ]
  },
  {
   "cell_type": "markdown",
   "metadata": {},
   "source": [
    "Now we get the `*.subreads.bam` file for each run.\n",
    "If they already exist (e.g., if data were returned by the Fred Hutch Genomics Core), we just need to get the name of the file.\n",
    "But if they don't exist (e.g., if data were returned from UW PacBio Core), we need to run the PacBio [bax2bam](https://github.com/PacificBiosciences/bax2bam) software to create the `*subreads.bam` files from the `*.bas.h5` files."
   ]
  },
  {
   "cell_type": "code",
   "execution_count": 4,
   "metadata": {},
   "outputs": [
    {
     "name": "stdout",
     "output_type": "stream",
     "text": [
      "\n",
      "Getting subreads for 2017-06-08 sequencing run\n",
      "Subreads file already exists: ./results/pacbio/subreads/2017-06-08.subreads.bam\n",
      "\n",
      "Getting subreads for 2017-12-07 sequencing run\n",
      "Subreads file already exists: ./results/pacbio/subreads/2017-12-07.subreads.bam\n"
     ]
    }
   ],
   "source": [
    "# put or copy subreads into this directory\n",
    "subreadsdir = os.path.join(pacbioresultsdir, 'subreads')\n",
    "if not os.path.isdir(subreadsdir):\n",
    "    os.mkdir(subreadsdir)\n",
    "\n",
    "# store name of subreads files for each sequencing run\n",
    "subreads = dict([(seqrun, os.path.join(subreadsdir, seqrun + '.subreads.bam'))\n",
    "                 for seqrun in seqruns])\n",
    "\n",
    "# get subreads files\n",
    "for (seqrun, subreadsfile) in subreads.items():\n",
    "    print(\"\\nGetting subreads for {0} sequencing run\".format(seqrun))\n",
    "    \n",
    "    if os.path.isfile(subreadsfile):\n",
    "        print(\"Subreads file already exists: {0}\".format(subreadsfile))\n",
    "    \n",
    "    elif bam_already[seqrun]:\n",
    "        print(\"Looking for existing subreads file...\")\n",
    "        filepattern = os.path.join(seqdirs[seqrun], '*.subreads.bam')\n",
    "        existingfiles = glob.glob(filepattern)\n",
    "        assert existingfiles, \"No file matching expected pattern of {0}\".format(filepattern)\n",
    "        assert len(existingfiles) == 1, \"Expected one file, but found multiple:\\n{0}\".format(\n",
    "                '\\n'.join(existingfiles))\n",
    "        print(\"Copying subreads file {0} to {1}...\".format(existingfiles[0], subreadsfile))\n",
    "        shutil.copy(existingfiles[0], subreadsfile)\n",
    "        shutil.copy(existingfiles[0] + '.pbi', subreadsfile + '.pbi')\n",
    "        print(\"Completed copying file.\")\n",
    "    \n",
    "    else:\n",
    "        print(\"Building subreads using `bax2bam` version {0}\".format(\n",
    "                subprocess.check_output(['bax2bam', '--version']).decode('utf-8').strip()))\n",
    "        baxfiles = []\n",
    "        for (dpath, dirnames, fnames) in os.walk(seqdirs[seqrun]):\n",
    "            baxfiles += [os.path.join(dpath, fname) for fname in fnames if fname.endswith('.bax.h5')] \n",
    "        assert len(baxfiles) > 0, \"found no `*.bax.h5` files\"\n",
    "        print(\"Will build subreads from the following `*.bax.h5` files:\\n\\t{0}\".format(\n",
    "                '\\n\\t'.join(baxfiles)))\n",
    "        print(\"Now running `bax2bam`...\")\n",
    "        ! bax2bam \\\n",
    "                {' '.join(['\"' + x + '\"' for x in baxfiles])} \\\n",
    "                -o {subreadsfile.replace('.subreads.bam', '')} \\\n",
    "                --subread\n",
    "        print(\"Completed running `bax2bam` to create {0}\".format(subreadsfile))\n",
    "        assert os.path.isfile(subreadsfile)"
   ]
  },
  {
   "cell_type": "markdown",
   "metadata": {},
   "source": [
    "## Build circular consensus sequences\n",
    "We build circular consensus sequences (CCS) using PacBio's algorithm as implemented in the [ccs program](https://github.com/PacificBiosciences/unanimity/blob/develop/doc/PBCCS.md).\n",
    "\n",
    "We only want reasonably high-quality CCSs.\n",
    "The [ccs program](https://github.com/PacificBiosciences/unanimity/blob/master/doc/PBCCS.md) provides two ways to control the \"accuracy\" of reads.\n",
    "The first is the `--minPasses` option, which corresponds to how many subreads we require to call a circular consensus sequence.\n",
    "The second is the `--minPredictedAccuracy` option, which provides an explicit estimate of the accuracy.\n",
    "We will further post-process the CCSs, so we set reasonably high but not overly stringent values: 3 passes, and at least 99% accuracy:"
   ]
  },
  {
   "cell_type": "code",
   "execution_count": 23,
   "metadata": {},
   "outputs": [
    {
     "name": "stdout",
     "output_type": "stream",
     "text": [
      "\n",
      "Running `ccs` for sequencing run 2017-06-08\n",
      "The `ccs` output already exists, so using that existing output.\n",
      "\n",
      "Running `ccs` for sequencing run 2017-12-07\n",
      "The `ccs` output already exists, so using that existing output.\n",
      "\n",
      "Here are statistics on the `ccs` results:\n"
     ]
    },
    {
     "data": {
      "image/png": "[encoded data removed]",
      "text/plain": [
       "<IPython.core.display.Image object>"
      ]
     },
     "metadata": {},
     "output_type": "display_data"
    },
    {
     "data": {
      "text/html": [
       "<table border=\"1\" class=\"dataframe\">\n",
       "  <thead>\n",
       "    <tr style=\"text-align: right;\">\n",
       "      <th>sample</th>\n",
       "      <th>status</th>\n",
       "      <th>number</th>\n",
       "      <th>fraction</th>\n",
       "    </tr>\n",
       "  </thead>\n",
       "  <tbody>\n",
       "    <tr>\n",
       "      <td>2017-12-07</td>\n",
       "      <td>Success -- CCS generated</td>\n",
       "      <td>292339</td>\n",
       "      <td>0.6167</td>\n",
       "    </tr>\n",
       "    <tr>\n",
       "      <td>2017-12-07</td>\n",
       "      <td>Failed -- Not enough full passes</td>\n",
       "      <td>152429</td>\n",
       "      <td>0.3215</td>\n",
       "    </tr>\n",
       "    <tr>\n",
       "      <td>2017-12-07</td>\n",
       "      <td>Failed -- CCS below minimum predicted accuracy</td>\n",
       "      <td>28565</td>\n",
       "      <td>0.0603</td>\n",
       "    </tr>\n",
       "    <tr>\n",
       "      <td>2017-06-08</td>\n",
       "      <td>Failed -- Not enough full passes</td>\n",
       "      <td>36289</td>\n",
       "      <td>0.3371</td>\n",
       "    </tr>\n",
       "    <tr>\n",
       "      <td>2017-06-08</td>\n",
       "      <td>Success -- CCS generated</td>\n",
       "      <td>33507</td>\n",
       "      <td>0.3113</td>\n",
       "    </tr>\n",
       "    <tr>\n",
       "      <td>2017-06-08</td>\n",
       "      <td>Failed -- Below SNR threshold</td>\n",
       "      <td>24052</td>\n",
       "      <td>0.2235</td>\n",
       "    </tr>\n",
       "    <tr>\n",
       "      <td>2017-06-08</td>\n",
       "      <td>Failed -- No usable subreads</td>\n",
       "      <td>6810</td>\n",
       "      <td>0.0633</td>\n",
       "    </tr>\n",
       "    <tr>\n",
       "      <td>2017-06-08</td>\n",
       "      <td>Failed -- CCS below minimum predicted accuracy</td>\n",
       "      <td>6619</td>\n",
       "      <td>0.0615</td>\n",
       "    </tr>\n",
       "  </tbody>\n",
       "</table>"
      ],
      "text/plain": [
       "<IPython.core.display.HTML object>"
      ]
     },
     "metadata": {},
     "output_type": "display_data"
    }
   ],
   "source": [
    "max_cpus = 14 # max number of CPUs to use\n",
    "ncpus = max(multiprocessing.cpu_count(), max_cpus)\n",
    "\n",
    "ccsdir = os.path.join(pacbioresultsdir, 'ccs')\n",
    "if not os.path.isdir(ccsdir):\n",
    "    os.mkdir(ccsdir)\n",
    "\n",
    "ccslist = []\n",
    "for (seqrun, subreadsfile) in subreads.items():\n",
    "    print(\"\\nRunning `ccs` for sequencing run {0}\".format(seqrun))\n",
    "        \n",
    "    reportfile = os.path.join(ccsdir, seqrun + '_report.csv')\n",
    "    bamfile = os.path.join(ccsdir, seqrun + '_ccs.bam')\n",
    "    logfile = os.path.join(ccsdir, seqrun + '_log.txt')\n",
    "        \n",
    "    if all(map(os.path.isfile, [reportfile, bamfile])):\n",
    "        print(\"The `ccs` output already exists, so using that existing output.\")\n",
    "    else:  \n",
    "        print(\"Running {0}...\".format(\n",
    "                subprocess.check_output(['ccs', '--version']).decode(\n",
    "                'utf-8').strip()))\n",
    "        ! ccs \\\n",
    "            --minLength 50 \\\n",
    "            --maxLength 5000 \\\n",
    "            --minPasses 3 \\\n",
    "            --minPredictedAccuracy 0.99 \\\n",
    "            --logFile {logfile} \\\n",
    "            --reportFile {reportfile} \\\n",
    "            --polish \\\n",
    "            --numThreads {ncpus} \\\n",
    "            {subreadsfile} \\\n",
    "            {bamfile}\n",
    "        print(\"Completed `ccs` run.\")\n",
    "        \n",
    "    ccslist.append(dms_tools2.pacbio.CCS(seqrun, bamfile, reportfile))\n",
    "\n",
    "print(\"\\nHere are statistics on the `ccs` results:\")\n",
    "zmw_plot = os.path.join(ccsdir, 'ZMW_plot.pdf')\n",
    "\n",
    "ccs_report = dms_tools2.pacbio.summarizeCCSreports(\n",
    "                ccslist, 'zmw', zmw_plot)\n",
    "\n",
    "showPDF(zmw_plot)\n",
    "\n",
    "display(HTML(ccs_report.query('fraction > 0.005').to_html(index=False)))  "
   ]
  },
  {
   "cell_type": "code",
   "execution_count": 21,
   "metadata": {},
   "outputs": [
    {
     "data": {
      "text/plain": [
       "<module 'dms_tools2.pacbio' from '/Users/jbloom/Documents/dms_tools2/dms_tools2/pacbio.py'>"
      ]
     },
     "execution_count": 21,
     "metadata": {},
     "output_type": "execute_result"
    }
   ],
   "source": [
    "import importlib\n",
    "importlib.reload(dms_tools2.pacbio)"
   ]
  },
  {
   "cell_type": "code",
   "execution_count": null,
   "metadata": {},
   "outputs": [],
   "source": []
  }
 ],
 "metadata": {
  "kernelspec": {
   "display_name": "Python 3",
   "language": "python",
   "name": "python3"
  },
  "language_info": {
   "codemirror_mode": {
    "name": "ipython",
    "version": 3
   },
   "file_extension": ".py",
   "mimetype": "text/x-python",
   "name": "python",
   "nbconvert_exporter": "python",
   "pygments_lexer": "ipython3",
   "version": "3.6.4"
  },
  "toc": {
   "nav_menu": {},
   "number_sections": false,
   "sideBar": true,
   "skip_h1_title": false,
   "toc_cell": true,
   "toc_position": {},
   "toc_section_display": "block",
   "toc_window_display": true
  }
 },
 "nbformat": 4,
 "nbformat_minor": 2
}
