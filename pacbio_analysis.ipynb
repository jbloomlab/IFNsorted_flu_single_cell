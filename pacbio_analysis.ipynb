{
 "cells": [
  {
   "cell_type": "markdown",
   "metadata": {
    "toc": true
   },
   "source": [
    "<h1>Table of Contents<span class=\"tocSkip\"></span></h1>\n",
    "<div class=\"toc\" style=\"margin-top: 1em;\"><ul class=\"toc-item\"><li><span><a href=\"#Analysis-of-full-length-PacBio-sequencing-of-influenza-mRNAs\" data-toc-modified-id=\"Analysis-of-full-length-PacBio-sequencing-of-influenza-mRNAs-1\">Analysis of full-length PacBio sequencing of influenza mRNAs</a></span><ul class=\"toc-item\"><li><span><a href=\"#Set-up-for-analysis\" data-toc-modified-id=\"Set-up-for-analysis-1.1\">Set up for analysis</a></span><ul class=\"toc-item\"><li><span><a href=\"#Import-Python-modules\" data-toc-modified-id=\"Import-Python-modules-1.1.1\">Import Python modules</a></span></li><li><span><a href=\"#Define-/-create-directories\" data-toc-modified-id=\"Define-/-create-directories-1.1.2\">Define / create directories</a></span></li></ul></li><li><span><a href=\"#Get-the-CCSs\" data-toc-modified-id=\"Get-the-CCSs-1.2\">Get the CCSs</a></span><ul class=\"toc-item\"><li><span><a href=\"#Specify-PacBio-runs-of-interest\" data-toc-modified-id=\"Specify-PacBio-runs-of-interest-1.2.1\">Specify PacBio runs of interest</a></span></li><li><span><a href=\"#Read-CCSs\" data-toc-modified-id=\"Read-CCSs-1.2.2\">Read CCSs</a></span></li><li><span><a href=\"#Filter-for-CCS-accuracy\" data-toc-modified-id=\"Filter-for-CCS-accuracy-1.2.3\">Filter for CCS accuracy</a></span></li><li><span><a href=\"#CCS-accuracy-/-length\" data-toc-modified-id=\"CCS-accuracy-/-length-1.2.4\">CCS accuracy / length</a></span></li></ul></li><li><span><a href=\"#Align-CCSs-to-flu-genes\" data-toc-modified-id=\"Align-CCSs-to-flu-genes-1.3\">Align CCSs to flu genes</a></span><ul class=\"toc-item\"><li><span><a href=\"#Barcoded-CCS-features\" data-toc-modified-id=\"Barcoded-CCS-features-1.3.1\">Barcoded CCS features</a></span></li><li><span><a href=\"#Flu-alignment-targets\" data-toc-modified-id=\"Flu-alignment-targets-1.3.2\">Flu alignment targets</a></span></li><li><span><a href=\"#Amount-to-trim-termini\" data-toc-modified-id=\"Amount-to-trim-termini-1.3.3\">Amount to trim termini</a></span></li><li><span><a href=\"#Un-circularize-CCSs-on-circularized-template\" data-toc-modified-id=\"Un-circularize-CCSs-on-circularized-template-1.3.4\">Un-circularize CCSs on circularized template</a></span></li><li><span><a href=\"#Match-and-align-CCSs\" data-toc-modified-id=\"Match-and-align-CCSs-1.3.5\">Match and align CCSs</a></span></li><li><span><a href=\"#Stats-on-matching-/-alignment\" data-toc-modified-id=\"Stats-on-matching-/-alignment-1.3.6\">Stats on matching / alignment</a></span></li><li><span><a href=\"#Get-CCSs-with-gene-aligned\" data-toc-modified-id=\"Get-CCSs-with-gene-aligned-1.3.7\">Get CCSs with gene aligned</a></span></li></ul></li><li><span><a href=\"#Quality-control-alignments\" data-toc-modified-id=\"Quality-control-alignments-1.4\">Quality-control alignments</a></span><ul class=\"toc-item\"><li><span><a href=\"#Barcode-accuracy\" data-toc-modified-id=\"Barcode-accuracy-1.4.1\">Barcode accuracy</a></span></li><li><span><a href=\"#Additional-alignments\" data-toc-modified-id=\"Additional-alignments-1.4.2\">Additional alignments</a></span></li><li><span><a href=\"#Excessive-alignment-trimming\" data-toc-modified-id=\"Excessive-alignment-trimming-1.4.3\">Excessive alignment trimming</a></span><ul class=\"toc-item\"><li><span><a href=\"#Trimming-of-query-start\" data-toc-modified-id=\"Trimming-of-query-start-1.4.3.1\">Trimming of query start</a></span></li><li><span><a href=\"#Trimming-of-target-start\" data-toc-modified-id=\"Trimming-of-target-start-1.4.3.2\">Trimming of target start</a></span></li><li><span><a href=\"#Trimming-query-ends\" data-toc-modified-id=\"Trimming-query-ends-1.4.3.3\">Trimming query ends</a></span></li><li><span><a href=\"#Trimming-target-ends\" data-toc-modified-id=\"Trimming-target-ends-1.4.3.4\">Trimming target ends</a></span></li></ul></li><li><span><a href=\"#Get-QC-ed-alignments\" data-toc-modified-id=\"Get-QC-ed-alignments-1.4.4\">Get QC-ed alignments</a></span></li></ul></li><li><span><a href=\"#Summary-of-QC-ed-alignments\" data-toc-modified-id=\"Summary-of-QC-ed-alignments-1.5\">Summary of QC-ed alignments</a></span><ul class=\"toc-item\"><li><span><a href=\"#Number-of-alignments-per-gene\" data-toc-modified-id=\"Number-of-alignments-per-gene-1.5.1\">Number of alignments per gene</a></span></li><li><span><a href=\"#Distribution-of-alignment-lengths\" data-toc-modified-id=\"Distribution-of-alignment-lengths-1.5.2\">Distribution of alignment lengths</a></span></li><li><span><a href=\"#Near-full-length-alignments\" data-toc-modified-id=\"Near-full-length-alignments-1.5.3\">Near full-length alignments</a></span></li><li><span><a href=\"#Passes/accuracy-for-alignments\" data-toc-modified-id=\"Passes/accuracy-for-alignments-1.5.4\">Passes/accuracy for alignments</a></span></li></ul></li><li><span><a href=\"#Analyze-viral-barcodes\" data-toc-modified-id=\"Analyze-viral-barcodes-1.6\">Analyze viral barcodes</a></span><ul class=\"toc-item\"><li><span><a href=\"#Inspect-viral-barcodes-by-gene\" data-toc-modified-id=\"Inspect-viral-barcodes-by-gene-1.6.1\">Inspect viral barcodes by gene</a></span></li><li><span><a href=\"#Estimate-rate-of-PCR-strand-exchange\" data-toc-modified-id=\"Estimate-rate-of-PCR-strand-exchange-1.6.2\">Estimate rate of PCR strand exchange</a></span></li><li><span><a href=\"#Filter-chimeras,-assign-viral-barcodes\" data-toc-modified-id=\"Filter-chimeras,-assign-viral-barcodes-1.6.3\">Filter chimeras, assign viral barcodes</a></span></li></ul></li><li><span><a href=\"#10X-cell-barcodes-/-UMIs\" data-toc-modified-id=\"10X-cell-barcodes-/-UMIs-1.7\">10X cell barcodes / UMIs</a></span><ul class=\"toc-item\"><li><span><a href=\"#Get-valid-cell-barcodes\" data-toc-modified-id=\"Get-valid-cell-barcodes-1.7.1\">Get valid cell barcodes</a></span></li><li><span><a href=\"#Filter-alignments-from-valid-cells\" data-toc-modified-id=\"Filter-alignments-from-valid-cells-1.7.2\">Filter alignments from valid cells</a></span></li><li><span><a href=\"#Per-gene-barcodes-/-UMI-sampling\" data-toc-modified-id=\"Per-gene-barcodes-/-UMI-sampling-1.7.3\">Per-gene barcodes / UMI sampling</a></span></li><li><span><a href=\"#Get-just-one-sequence-per-UMI\" data-toc-modified-id=\"Get-just-one-sequence-per-UMI-1.7.4\">Get just one sequence per UMI</a></span></li><li><span><a href=\"#Genes-sequenced-per-cell\" data-toc-modified-id=\"Genes-sequenced-per-cell-1.7.5\">Genes sequenced per cell</a></span></li></ul></li><li><span><a href=\"#Call-mutations\" data-toc-modified-id=\"Call-mutations-1.8\">Call mutations</a></span><ul class=\"toc-item\"><li><span><a href=\"#Number-of-mutations-per-gene\" data-toc-modified-id=\"Number-of-mutations-per-gene-1.8.1\">Number of mutations per gene</a></span></li><li><span><a href=\"#Lengths-of-indels\" data-toc-modified-id=\"Lengths-of-indels-1.8.2\">Lengths of indels</a></span></li><li><span><a href=\"#Accuracy-of-mutations\" data-toc-modified-id=\"Accuracy-of-mutations-1.8.3\">Accuracy of mutations</a></span></li></ul></li><li><span><a href=\"#Analyze-flu-sequences-at-cell-level\" data-toc-modified-id=\"Analyze-flu-sequences-at-cell-level-1.9\">Analyze flu sequences at cell level</a></span><ul class=\"toc-item\"><li><span><a href=\"#Aggregate-data-at-the-cell-level\" data-toc-modified-id=\"Aggregate-data-at-the-cell-level-1.9.1\">Aggregate data at the cell level</a></span></li><li><span><a href=\"#Genes-sequenced-per-cell\" data-toc-modified-id=\"Genes-sequenced-per-cell-1.9.2\">Genes sequenced per cell</a></span></li></ul></li><li><span><a href=\"#Call-mutations-for-viruses-in-cells\" data-toc-modified-id=\"Call-mutations-for-viruses-in-cells-1.10\">Call mutations for viruses in cells</a></span><ul class=\"toc-item\"><li><span><a href=\"#Call-consensus-mutations\" data-toc-modified-id=\"Call-consensus-mutations-1.10.1\">Call consensus mutations</a></span></li><li><span><a href=\"#Frequency-of-mutations\" data-toc-modified-id=\"Frequency-of-mutations-1.10.2\">Frequency of mutations</a></span></li><li><span><a href=\"#Mutations-vs-number-of-sequences\" data-toc-modified-id=\"Mutations-vs-number-of-sequences-1.10.3\">Mutations vs number of sequences</a></span></li></ul></li><li><span><a href=\"#Add-to-cell-gene-matrix-annotations\" data-toc-modified-id=\"Add-to-cell-gene-matrix-annotations-1.11\">Add to cell-gene matrix annotations</a></span></li><li><span><a href=\"#Should-we-sequence-an-existing-sample-more?\" data-toc-modified-id=\"Should-we-sequence-an-existing-sample-more?-1.12\">Should we sequence an existing sample more?</a></span></li></ul></li></ul></div>"
   ]
  },
  {
   "cell_type": "markdown",
   "metadata": {},
   "source": [
    "# Analysis of full-length PacBio sequencing of influenza mRNAs\n",
    "The material from the 10X libraries for the *IFN_enriched* sample was enriched for viral mRNAs by semi-specific PCR, and then sequenced by PacBio.\n",
    "Here we analyze those data.\n",
    "\n",
    "## Set up for analysis\n",
    "First, we do some things to set up this Jupyter notebook.\n",
    "\n",
    "### Import Python modules\n",
    "We make extensive use of [dms_tools2](https://jbloomlab.github.io/dms_tools2/) to handle the PacBio data.\n",
    "\n",
    "We import [plotnine](https://plotnine.readthedocs.io/en/latest/) for plotting using a ggplot2-like syntax."
   ]
  },
  {
   "cell_type": "code",
   "execution_count": 1,
   "metadata": {},
   "outputs": [
    {
     "name": "stderr",
     "output_type": "stream",
     "text": [
      "/Users/jbloom/Documents/software/conda/envs/BloomLab/lib/python3.6/importlib/_bootstrap.py:219: RuntimeWarning: numpy.dtype size changed, may indicate binary incompatibility. Expected 96, got 88\n",
      "  return f(*args, **kwds)\n",
      "/Users/jbloom/Documents/software/conda/envs/BloomLab/lib/python3.6/importlib/_bootstrap.py:219: RuntimeWarning: numpy.dtype size changed, may indicate binary incompatibility. Expected 96, got 88\n",
      "  return f(*args, **kwds)\n"
     ]
    },
    {
     "name": "stdout",
     "output_type": "stream",
     "text": [
      "Using dms_tools2 version 2.3.dev0\n"
     ]
    }
   ],
   "source": [
    "import os\n",
    "import re\n",
    "import math\n",
    "import glob\n",
    "import subprocess\n",
    "import shutil\n",
    "import multiprocessing\n",
    "import warnings\n",
    "import collections\n",
    "\n",
    "import numpy\n",
    "import pandas\n",
    "from IPython.display import display, HTML, Image\n",
    "import Bio.SeqIO\n",
    "\n",
    "# import plotnine for ggplot2 style plotting\n",
    "from plotnine import *\n",
    "_ = theme_set(theme_bw(base_size=12))\n",
    "\n",
    "# ignore warnings that clutter output\n",
    "warnings.simplefilter('ignore')\n",
    "\n",
    "import dms_tools2\n",
    "print(\"Using dms_tools2 version {0}\".format(dms_tools2.__version__))\n",
    "from dms_tools2.ipython_utils import showPDF\n",
    "from dms_tools2.plot import COLOR_BLIND_PALETTE_GRAY"
   ]
  },
  {
   "cell_type": "markdown",
   "metadata": {},
   "source": [
    "### Define / create directories\n",
    "We define the names of key directories for input and output, and create these directories if needed:"
   ]
  },
  {
   "cell_type": "code",
   "execution_count": 2,
   "metadata": {},
   "outputs": [],
   "source": [
    "# top results directory\n",
    "resultsdir = './results/'\n",
    "\n",
    "# directory with PacBio results\n",
    "pacbioresultsdir = os.path.join(resultsdir, 'pacbio')"
   ]
  },
  {
   "cell_type": "markdown",
   "metadata": {},
   "source": [
    "## Get the CCSs \n",
    "We will work with the circular consensus sequences (CCSs) generated by the PacBio [ccs program](https://github.com/PacificBiosciences/unanimity/blob/develop/doc/PBCCS.md).\n",
    "\n",
    "The actual generation of these CCSs is time consuming, and is performed by the commands in [Snakefile](Snakefile).\n",
    "This notebook assumes that those CCSs have already been generated.\n",
    "\n",
    "### Specify PacBio runs of interest\n",
    "We read the list of PacBio runs for which we have generated CCSs from [./data/PacBio_runs.tsv](./data/PacBio_runs.tsv):"
   ]
  },
  {
   "cell_type": "code",
   "execution_count": 5,
   "metadata": {},
   "outputs": [
    {
     "name": "stdout",
     "output_type": "stream",
     "text": [
      "Using the following PacBio sequencing runs:\n",
      "\t2017-06-08\n",
      "\t2017-12-07\n",
      "\t2018-06-22_nonPol\n",
      "\t2018-06-22_Pol-1\n",
      "\t2018-06-22_Pol-2\n",
      "\t2018-06-22_Pol_open\n",
      "\t2018-08-08_Pol_circ\n"
     ]
    }
   ],
   "source": [
    "seqrunsfile = 'data/PacBio_runs.csv'\n",
    "\n",
    "with open(seqrunsfile) as f:\n",
    "    seqruns = [line.split(',')[0] for line in f]\n",
    "    \n",
    "print(\"Using the following PacBio sequencing runs:\\n\\t{0}\".format('\\n\\t'.join(seqruns)))"
   ]
  },
  {
   "cell_type": "markdown",
   "metadata": {},
   "source": [
    "Note that we have multiple sequencing runs:\n",
    "  - A run from June-8-2017 done at the UW PacBio core. This run used a PacBio RSII machine.\n",
    "  - A run from December-7-2017 done at the Fred Hutch Genomics core. This run used a PacBio Sequel machine.\n",
    "  - A series of runs done on June-22-2018 at the Fred Hutch Genomics Core using a PacBio Sequel machine. These runs were:\n",
    "      - One that was run on a mix of all non-polymerase genes\n",
    "      - Two that were run on a mix of just the polymerase genes\n",
    "      - One that was run on a mix of just the polymerase genes that were amplified using an open PCR rather than an emulsion PCR, and for which a size-selection was performed to attempt to obtain more full-length genes.\n",
    "  - A run from August-8-2018 designed to target full-length polymerase genes in which the products were circularized and then linearized by PCR from the center of the genes.\n",
    "  \n",
    "The material sequenced for these various runs was **not** identical. \n",
    "The relative amount of each viral gene differed across runs, as well as the size selection and the way that the libraries were loaded.\n",
    "Therefore, we do not expect the same balance of different reads in the two runs."
   ]
  },
  {
   "cell_type": "markdown",
   "metadata": {},
   "source": [
    "### Read CCSs\n",
    "We now read each set of results into a ` dms_tools2.pacbio.CCS` object, taking only CCSs with at least the minimum accuracy indicated below:"
   ]
  },
  {
   "cell_type": "code",
   "execution_count": 6,
   "metadata": {},
   "outputs": [],
   "source": [
    "ccsdir = os.path.join(pacbioresultsdir, 'ccs')\n",
    "\n",
    "ccslist = []\n",
    "for seqrun in seqruns:       \n",
    "    reportfile = os.path.join(ccsdir, seqrun + '_report.csv')\n",
    "    bamfile = os.path.join(ccsdir, seqrun + '_ccs.bam')\n",
    "    ccslist.append(dms_tools2.pacbio.CCS(seqrun, bamfile, reportfile))"
   ]
  },
  {
   "cell_type": "markdown",
   "metadata": {},
   "source": [
    "Here are the number of CCSs from each run:"
   ]
  },
  {
   "cell_type": "code",
   "execution_count": 7,
   "metadata": {},
   "outputs": [
    {
     "data": {
      "image/png": "[encoded data removed]",
      "text/plain": [
       "<IPython.core.display.Image object>"
      ]
     },
     "metadata": {},
     "output_type": "display_data"
    }
   ],
   "source": [
    "zmw_plot = os.path.join(ccsdir, 'ZMW_plot.pdf')\n",
    "\n",
    "ccs_report = dms_tools2.pacbio.summarizeCCSreports(\n",
    "                ccslist, 'zmw', zmw_plot)\n",
    "showPDF(zmw_plot)"
   ]
  },
  {
   "cell_type": "markdown",
   "metadata": {},
   "source": [
    "As expected, we get fewer CCSs from the first run on the UW RSII machine, and then similar numbers of CCSs for all runs on the Sequel at the Hutch. \n",
    "It consistently looks like about a third of ZMWs give successful CCSs.\n",
    "When they're not successful, it's usually because there weren't enough passes."
   ]
  },
  {
   "cell_type": "markdown",
   "metadata": {},
   "source": [
    "### Filter for CCS accuracy\n",
    "Only retain CCSs with accuracy of at least 99.9%.\n",
    "Depending on the settings used to run `ccs` in [Snakefile](Snakefile), this may be all the CCSs."
   ]
  },
  {
   "cell_type": "code",
   "execution_count": 8,
   "metadata": {},
   "outputs": [
    {
     "name": "stdout",
     "output_type": "stream",
     "text": [
      "For 2017-06-08 CCSs, 18063 of 18063 met the accuracy threshold of 0.999\n",
      "For 2017-12-07 CCSs, 209930 of 209930 met the accuracy threshold of 0.999\n",
      "For 2018-06-22_nonPol CCSs, 177109 of 177109 met the accuracy threshold of 0.999\n",
      "For 2018-06-22_Pol-1 CCSs, 145507 of 145507 met the accuracy threshold of 0.999\n",
      "For 2018-06-22_Pol-2 CCSs, 168907 of 168907 met the accuracy threshold of 0.999\n",
      "For 2018-06-22_Pol_open CCSs, 133137 of 133137 met the accuracy threshold of 0.999\n",
      "For 2018-08-08_Pol_circ CCSs, 126668 of 126668 met the accuracy threshold of 0.999\n"
     ]
    }
   ],
   "source": [
    "ccsminaccuracy = 0.999\n",
    "\n",
    "for ccs in ccslist:\n",
    "    n_orig = len(ccs.df)\n",
    "    ccs.df = ccs.df.query('CCS_accuracy >= @ccsminaccuracy')\n",
    "    print(\"For {0} CCSs, {1} of {2} met the accuracy threshold of {3:.3f}\"\n",
    "            .format(ccs.samplename, len(ccs.df), n_orig, ccsminaccuracy))"
   ]
  },
  {
   "cell_type": "markdown",
   "metadata": {},
   "source": [
    "### CCS accuracy / length\n",
    "Now we plot the distributions of lengths, accuracies, and number of passes for the CCSs.\n",
    "We do this on all of the CCSs combined rather than on the individual runs:"
   ]
  },
  {
   "cell_type": "code",
   "execution_count": 9,
   "metadata": {},
   "outputs": [
    {
     "data": {
      "image/png": "[encoded data removed]",
      "text/plain": [
       "<IPython.core.display.Image object>"
      ]
     },
     "metadata": {
      "image/png": {
       "width": 700
      }
     },
     "output_type": "display_data"
    }
   ],
   "source": [
    "ccs_plot = os.path.join(ccsdir, 'ccs_plot.pdf')\n",
    "\n",
    "dms_tools2.plot.plotColCorrs(\n",
    "            pandas.concat([ccs.df for ccs in ccslist]), \n",
    "            ccs_plot,\n",
    "            ['passes', 'CCS_accuracy', 'CCS_length'])\n",
    "\n",
    "showPDF(ccs_plot, width=700)"
   ]
  },
  {
   "cell_type": "markdown",
   "metadata": {},
   "source": [
    "We see that most CCSs have high accuracy and plenty of passes, well above the thresholds used when running `ccs` in [Snakefile](Snakefile)."
   ]
  },
  {
   "cell_type": "markdown",
   "metadata": {},
   "source": [
    "## Align CCSs to flu genes\n",
    "The PacBio sequencing was performed on PCR-amplified product.\n",
    "This PCR product was amplified off the 10X barcoded material using semi-specific PCR with one end specifically annealing to flu transcripts.\n",
    "We want to identify the CCS's that represent properly barcoded 10X material from influenza genes, and then call the barcodes and align the barcoded mRNA to influenza transcripts."
   ]
  },
  {
   "cell_type": "markdown",
   "metadata": {},
   "source": [
    "### Barcoded CCS features\n",
    "This [10X technical note](https://teichlab.github.io/scg_lib_structs/data/CG000108_AssayConfiguration_SC3v2.pdf) outlines the sequences appended by the v2 10X single-cell 3' kit used in these experiments. \n",
    "Specifically:"
   ]
  },
  {
   "cell_type": "code",
   "execution_count": 17,
   "metadata": {},
   "outputs": [
    {
     "data": {
      "image/png": "[encoded data removed]",
      "text/plain": [
       "<IPython.core.display.Image object>"
      ]
     },
     "metadata": {},
     "output_type": "display_data"
    }
   ],
   "source": [
    "display(Image('./data/images/10Xschematic.png'))"
   ]
  },
  {
   "cell_type": "markdown",
   "metadata": {},
   "source": [
    "Zooming in on the 3' adaptor sequence, it is:\n",
    "`CTACACGACGCTCTTCCGATCT-NNNNNNNNNNNNNNNN-NNNNNNNNNN-TTTTTTTTTTTTTTTTTTTTTTTTTTTTTTVN` where the dash-delimited sequences are the read-1 priming site, the 16XN cell barcode, the 10XN UMI, the 30XT oligo-dT primer, followed by `V` (anything but `T`) and `N` (nominally, first nucleotide of upstream of mRNA polyA tail).\n",
    "\n",
    "For the PCR to enrich the 10X product, Alistair used a 3' primer that anneals to this adaptor, namely:"
   ]
  },
  {
   "cell_type": "code",
   "execution_count": 18,
   "metadata": {},
   "outputs": [
    {
     "name": "stdout",
     "output_type": "stream",
     "text": [
      "The length of the 3' primer is 22 nt\n"
     ]
    }
   ],
   "source": [
    "primer3 = 'CTACACGACGCTCTTCCGATCT'\n",
    "print(\"The length of the 3' primer is {0} nt\".format(len(primer3)))"
   ]
  },
  {
   "cell_type": "markdown",
   "metadata": {},
   "source": [
    "For the 5' primer, Alistair used a mix of primers that covered each of the 8 flu gene segments:"
   ]
  },
  {
   "cell_type": "code",
   "execution_count": 45,
   "metadata": {},
   "outputs": [
    {
     "name": "stdout",
     "output_type": "stream",
     "text": [
      "The length of the 5' primer ranges from 22 to 34 nt\n"
     ]
    }
   ],
   "source": [
    "primer5_mix = {'fluPB2':'GCGAAAGCAGGTCAATTATATTCAATATGGAAAG',\n",
    "               'fluPB1':'GCGAAAGCAGGCAAACCATTTG',\n",
    "               'fluPA' :'GCGAAAGCAGGTACTGATTCAAAATGG',\n",
    "               'fluHA' :'GCAAAAGCAGGGGAAAATAAAAACAACC',\n",
    "               'fluNP' :'GCAAAAGCAGGGTAGATAATCACTCAC',\n",
    "               'fluNA' :'GCGAAAGCAGGAGTTTAAATGAATCCAAAC',\n",
    "               'fluM'  :'GCAAAAGCAGGTAGATATTGAAAGATGAGTC',\n",
    "               'fluNS' :'GCAAAAGCAGGGTGACAAAGACATAATG',\n",
    "              }\n",
    "print(\"The length of the 5' primer ranges from {0} to {1} nt\".format(\n",
    "        min(map(len, primer5_mix.values())), max(map(len, primer5_mix.values()))))"
   ]
  },
  {
   "cell_type": "markdown",
   "metadata": {},
   "source": [
    "### Flu alignment targets\n",
    "We want to align the barcoded sequences to the flu mRNAs.\n",
    "We will align to the wildtype flu sequences using a `dms_tools2.minimap2.Mapper`, and then call the synonymous barcodes using a `dms_tools2.minimap2.TargetVariants` object.\n",
    "Both of these objects are initialized here.\n",
    "\n",
    "The wildtype flu mRNA sequences are in [./data/flu_sequences/flu-wsn-mRNA.fasta](./data/flu_sequences/flu-wsn-mRNA.fasta), and the synonymous barcoded ones are in [./data/flu_sequences/flu-wsn-mRNA-double-syn.fasta](./data/flu_sequences/flu-wsn-mRNA-double-syn.fasta).\n",
    "We want to align to the sequence **interior** to the primer binding sites defined above: the region between the custom 5' primer and the polyA tail.\n",
    "We therefore read in the mRNAs, and then trim each from the 5' termini to the end of the primer binding site:"
   ]
  },
  {
   "cell_type": "code",
   "execution_count": 20,
   "metadata": {},
   "outputs": [
    {
     "name": "stdout",
     "output_type": "stream",
     "text": [
      "Aligning to 2285 nts of fluPB2\n",
      "Aligning to 2297 nts of fluPB1\n",
      "Aligning to 2183 nts of fluPA\n",
      "Aligning to 1725 nts of fluHA\n",
      "Aligning to 1516 nts of fluNP\n",
      "Aligning to 1357 nts of fluNA\n",
      "Aligning to 973 nts of fluM1\n",
      "Aligning to 285 nts of fluM2\n",
      "Aligning to 839 nts of fluNS1\n",
      "Aligning to 367 nts of fluNS2\n",
      "\n",
      "Aligning with minimap2 version 2.11-r797\n"
     ]
    }
   ],
   "source": [
    "# get the targets and synonymous-barcoded targets mRNAs\n",
    "targets = collections.defaultdict(list)\n",
    "for variant in ['', '-double-syn']:\n",
    "    for full_mRNA in Bio.SeqIO.parse(\n",
    "            './data/flu_sequences/flu-wsn{0}-mRNA.fasta'.format(variant), 'fasta'):\n",
    "        full_mRNA_seq = str(full_mRNA.seq)\n",
    "        primer = [p for p in primer5_mix.values() if full_mRNA_seq.count(p)]\n",
    "        assert len(primer) == 1, \"match multiple primers in {0}\".format(full_mRNA.name)\n",
    "        targetseq = full_mRNA_seq[full_mRNA_seq.index(primer[0]) + len(primer[0]) : ]\n",
    "        targets[variant].append((full_mRNA.name, targetseq))\n",
    "        if not variant:\n",
    "            print(\"Aligning to {0} nts of {1}\".format(len(targetseq), full_mRNA.name))\n",
    "\n",
    "# write the targets to files\n",
    "aligndir = os.path.join(pacbioresultsdir, 'alignments')\n",
    "os.makedirs(aligndir, exist_ok=True)\n",
    "targetfile = os.path.join(aligndir, 'targets.fasta')\n",
    "with open(targetfile, 'w') as f:\n",
    "    f.write('\\n'.join('>{0}\\n{1}'.format(*tup) for tup in targets['']))\n",
    "syntargetfile = os.path.join(aligndir, 'targets-double-syn.fasta')\n",
    "with open(syntargetfile, 'w') as f:\n",
    "    f.write('\\n'.join('>{0}\\n{1}'.format(*tup) for tup in targets['-double-syn']))\n",
    "\n",
    "# initialize mapper\n",
    "mapper = dms_tools2.minimap2.Mapper(targetfile,\n",
    "        dms_tools2.minimap2.OPTIONS_VIRUS_W_DEL,\n",
    "        target_isoforms={'fluM1':['fluM2'], 'fluM2':['fluM1'],\n",
    "                         'fluNS1':['fluNS2'], 'fluNS2':['fluNS1']})\n",
    "print(\"\\nAligning with minimap2 version {0}\".format(mapper.version))\n",
    "\n",
    "# initialize target variant caller\n",
    "targetvariants = dms_tools2.minimap2.TargetVariants({'wildtype':targetfile,\n",
    "        'synonymously barcoded':syntargetfile}, mapper, variantsites_min_acc=0.99)"
   ]
  },
  {
   "cell_type": "markdown",
   "metadata": {},
   "source": [
    "### Amount to trim termini\n",
    "In looking for the linear amplicons described above, we allow a bit of trimming of the 5' termini (defined by *primer5_mix*) and the 3' termini (defined by *primer3*) since sometimes the CCSs don't seem to begin exactly on the expected nucleotide, perhaps due to additions during end repair or slopping adaptor trimming by CCS.\n",
    "\n",
    "Therefore, we trim a few nucleotides from our required termini ends:"
   ]
  },
  {
   "cell_type": "code",
   "execution_count": 52,
   "metadata": {},
   "outputs": [],
   "source": [
    "trim_termini = 5"
   ]
  },
  {
   "cell_type": "markdown",
   "metadata": {},
   "source": [
    "### Un-circularize CCSs on circularized template\n",
    "For the polymerase genes, a major problem was that a disproportionate number of the reads aligned to short segments with internal deletions rather than full-length genes.\n",
    "The reason is that many cycles of PCR were done in the library prep, and these preferentially enriched the shorter segments.\n",
    "\n",
    "Alistair therefore devised a strategy to specifically enrich for full-length polymerase reads in one sample.\n",
    "This strategy involved circularizing the amplicons from the 10X, and then re-linearizing them with primers that annealed near the center of the polymerase genes.\n",
    "This strategy only create linear product from amplicons with polymerase genes that include a region near the center the gene.\n",
    "\n",
    "However, for the downstream analysis we need to \"un-circularize\" these CCSs by identifying the ends of the original amplicon from the 10X material and re-slicing the CCSs to make those the termini.\n",
    "Here we do this.\n",
    "\n",
    "First, get the samples that were circularized in the way described above:"
   ]
  },
  {
   "cell_type": "code",
   "execution_count": 59,
   "metadata": {},
   "outputs": [
    {
     "name": "stdout",
     "output_type": "stream",
     "text": [
      "Un-circularizing the following samples:\n",
      "\t2018-08-08_Pol_circ\n"
     ]
    }
   ],
   "source": [
    "circ_samples = [ccs.samplename for ccs in ccslist if 'circ' in ccs.samplename]\n",
    "print(\"Un-circularizing the following samples:\\n\\t\" + \n",
    "      '\\n\\t'.join([sample for sample in circ_samples]))"
   ]
  },
  {
   "cell_type": "markdown",
   "metadata": {},
   "source": [
    "Now define the sequences of the primers used for the linearization of the circularized products, and make sure that these primers anneal uniquely and end-to-end in the expected flu genes:"
   ]
  },
  {
   "cell_type": "code",
   "execution_count": 33,
   "metadata": {},
   "outputs": [
    {
     "name": "stdout",
     "output_type": "stream",
     "text": [
      "For fluPB2 (length 2285), rev and for circ primer span nts 1156 to 1176 and 1177 to 1198.\n",
      "For fluPB1 (length 2297), rev and for circ primer span nts 1193 to 1213 and 1214 to 1234.\n",
      "For fluPA (length 2183), rev and for circ primer span nts 1140 to 1164 and 1165 to 1191.\n"
     ]
    }
   ],
   "source": [
    "circ_primers = {\n",
    "    'fluPB2':{\n",
    "        'for':'CGAAGCAATAATTGTGGCCATG',\n",
    "        'rev':dms_tools2.utils.reverseComplement('GCAATCGACTGTTCGTCTCTC')\n",
    "        },\n",
    "    'fluPB1':{\n",
    "        'for':'CCTGGAATGATGATGGGCATG',\n",
    "        'rev':dms_tools2.utils.reverseComplement('GCTCAATGATGCAGTCCCATC')\n",
    "        },\n",
    "    'fluPA':{\n",
    "        'for':'TGAAGCAATATGATAGTGATGAACCAG',\n",
    "        'rev':dms_tools2.utils.reverseComplement('AATCGCCTACATCTTTACAATCGTC')\n",
    "        }\n",
    "    }\n",
    "\n",
    "for flugene, primers in circ_primers.items():\n",
    "    geneseq = mapper.targetseqs[flugene]\n",
    "    assert all(geneseq.count(primer) == 1 for primer in primers.values())\n",
    "    ifor = geneseq.index(primers['for']) \n",
    "    irev = geneseq.index(primers['rev'])\n",
    "    print(f\"For {flugene} (length {len(geneseq)}), rev and for circ primer span nts \"\n",
    "          f\"{irev + 1} to {irev + len(primers['rev'])} and \"\n",
    "          f\"{ifor + 1} to {ifor + len(primers['for'])}.\")\n",
    "    assert ifor == irev + len(primers['rev']), \"primers not end-to-end\""
   ]
  },
  {
   "cell_type": "markdown",
   "metadata": {},
   "source": [
    "Now we create a regular expression match string that gives the sequence expected for the CCSs from the circularized amplicons.\n",
    "These should have termini defined by the linearization primers above, and internally should have the sequences that will be the termini after our un-circularization.\n",
    "We create a match string that can match any of the genes that were circularized in Alistair's library prep:"
   ]
  },
  {
   "cell_type": "code",
   "execution_count": 93,
   "metadata": {},
   "outputs": [
    {
     "name": "stdout",
     "output_type": "stream",
     "text": [
      "^(?P<oriented_CCS>(?P<circ_for>CGAAGCAATAATTGTGGCCATG)N+(?P<gene_termini3>AGATCGGAAGAGCGTCG)N+(?P<gene_termini5>AGCAGGTCAATTATATTCAATATGGAAAG)N+(?P<circ_rev>GAGAGACGAACAGTCGATTGC)|(?P<circ_for>CCTGGAATGATGATGGGCATG)N+(?P<gene_termini3>AGATCGGAAGAGCGTCG)N+(?P<gene_termini5>AGCAGGCAAACCATTTG)N+(?P<circ_rev>GATGGGACTGCATCATTGAGC)|(?P<circ_for>TGAAGCAATATGATAGTGATGAACCAG)N+(?P<gene_termini3>AGATCGGAAGAGCGTCG)N+(?P<gene_termini5>AGCAGGTACTGATTCAAAATGG)N+(?P<circ_rev>GACGATTGTAAAGATGTAGGCGATT))$\n"
     ]
    }
   ],
   "source": [
    "circ_match_str = []\n",
    "for flugene, primers in circ_primers.items():\n",
    "    # 5' and 3' termini of gene when un-circularized\n",
    "    gene_termini5 = primer5_mix[flugene][trim_termini :] \n",
    "    gene_termini3 = dms_tools2.utils.reverseComplement(primer3)[ : -trim_termini] \n",
    "    \n",
    "    # match str for gene\n",
    "    circ_match_str.append(\n",
    "            f'(?P<circ_for>{primers[\"for\"]})' + # forward circularization primer\n",
    "            'N+' + # chunk of un-circularized amplicon\n",
    "            f'(?P<gene_termini3>{gene_termini3})' +\n",
    "            'N+' + # a few nucleotides between circularized termini\n",
    "            f'(?P<gene_termini5>{gene_termini5})' +\n",
    "            'N+' + # chunk of un-circularized amplicon\n",
    "            f'(?P<circ_rev>{primers[\"rev\"]})' # reverse circularization primer\n",
    "            )\n",
    "    \n",
    "# call whole match *oriented_CCS* to get CCS and qvals in match orientation\n",
    "circ_match_str = f\"^(?P<oriented_CCS>{'|'.join(circ_match_str)})$\""
   ]
  },
  {
   "cell_type": "markdown",
   "metadata": {},
   "source": [
    "Now we match all sequences with the expected patterns using `dms_tools2.pacbio.matchSeqs`, indicating the matched ones as *circularized* in the resulting data frame:"
   ]
  },
  {
   "cell_type": "code",
   "execution_count": 94,
   "metadata": {},
   "outputs": [],
   "source": [
    "circ_df = dms_tools2.pacbio.matchSeqs(\n",
    "        pandas.concat(ccs.df for ccs in ccslist if ccs.samplename in circ_samples),\n",
    "        circ_match_str,\n",
    "        'CCS',\n",
    "        'circularized'\n",
    "        )"
   ]
  },
  {
   "cell_type": "markdown",
   "metadata": {},
   "source": [
    "Plot how many of the CCSs had the sequence as expected if they were from the circularized products.\n",
    "As shown below, a large majority can be identified as the expected circularized products:"
   ]
  },
  {
   "cell_type": "code",
   "execution_count": 95,
   "metadata": {},
   "outputs": [
    {
     "data": {
      "image/png": "[encoded data removed]",
      "text/plain": [
       "<IPython.core.display.Image object>"
      ]
     },
     "metadata": {
      "image/png": {
       "width": 400
      }
     },
     "output_type": "display_data"
    }
   ],
   "source": [
    "circ_plot = os.path.join(aligndir, 'circ_match_plot.pdf')\n",
    "\n",
    "(ggplot(circ_df, aes('samplename', fill='circularized')) +\n",
    "    geom_bar(position='dodge') +\n",
    "    scale_fill_manual(COLOR_BLIND_PALETTE_GRAY[1 : ])\n",
    "    ).save(circ_plot, width=1.5 * (1 + len(circ_samples)), height=3)\n",
    "\n",
    "showPDF(circ_plot, width=400)"
   ]
  },
  {
   "cell_type": "markdown",
   "metadata": {},
   "source": [
    "Now we un-circularize all of the identified circularized CCSs.\n",
    "To do this, we slice from start of the gene's 5'-termini to the end of the CCS, and then concatenate from the start of the CCS to the end of the genes' 3'-termini.\n",
    "Note that we do this on the CCSs that have already been oriented above, and also un-circularize the Q-values.\n",
    "Finally, we add the un-circularized CCSs back to the original list of CCSs:"
   ]
  },
  {
   "cell_type": "code",
   "execution_count": 112,
   "metadata": {},
   "outputs": [],
   "source": [
    "# un-circularize in `circ_df`\n",
    "circ_df = (\n",
    "    circ_df\n",
    "    # only un-circularize circularized CCSs\n",
    "    .query('circularized')\n",
    "    # get start of gene's 5 termini, and end of 3' termini\n",
    "    .assign(istart=lambda x: x.apply(lambda row: \n",
    "                row.oriented_CCS.index(row.gene_termini5), axis=1),\n",
    "            iend=lambda x: x.apply(lambda row:\n",
    "                row.oriented_CCS.index(row.gene_termini3) + len(row.gene_termini3),\n",
    "                axis=1))\n",
    "    .assign(CCS=lambda x: x.apply(lambda row:\n",
    "                row.oriented_CCS[row.istart : ] + row.oriented_CCS[ : row.iend],\n",
    "                axis=1),\n",
    "            CCS_qvals=lambda x: x.apply(lambda row: numpy.concatenate(\n",
    "                [row.oriented_CCS_qvals[row.istart : ], \n",
    "                row.oriented_CCS_qvals[ : row.iend]]), axis=1))\n",
    "    # keep only columns present in all entries in all CCS dfs\n",
    "    [ccslist[0].df.columns] \n",
    "    )\n",
    "\n",
    "for ccs in ccslist:\n",
    "    if ccs.samplename in circ_samples:\n",
    "        ccs.df = circ_df.query('samplename == @ccs.samplename')"
   ]
  },
  {
   "cell_type": "markdown",
   "metadata": {},
   "source": [
    "### Match and align CCSs\n",
    "We use the function `dms_tools2.pacbio.matchAndAlignCCS` to go through the CCS's, find the ones that are \"barcoded\" (have the proper elements), and the align these barcoded genes.\n",
    "All the results go into a pandas data frame called *df_ccs*.\n",
    "\n",
    "Specifically, we look for CCS's that have:\n",
    "  - Any 5' primer from Alistair's mix, trimmed a bit at the start since the first few nucleotides in the CCS might be off. We call this *termini5*.\n",
    "  - The mRNA itself, which we call the *gene*. Since we define the polyA tail as beginning on the first `A` at the polyA signal, the gene must end on a non-`A` nucleotide (which is the IUPAC code `B`).\n",
    "  - The polyA tail, which is effectively a spacer between the *gene* and the *UMI* / *barcode*. This tail is expected to be 30 `A`'s from 10X primer, but we allow it to be anything greater than 25 to account for the sloppiness in sequencing and primer synthesis associated with runs. We also use [regex fuzzy matching](https://stackoverflow.com/a/15975649) to allow the polyA to have up to two non-`A` nucleotides internal to it, since for instance the `VN` tooth in the oligo-dT primer might sometimes anneal in the wrong spot. We call this the *spacer* in the call to `dms_tools2.pacbio.matchAndAlignCCS`, but then rename to *polyA*.\n",
    "  - The 10-nucleotide UMI from the 10X primer, which we call *UMI*.\n",
    "  - The 16-nucleotide cell barcode from the 10X primer, which we call *barcode*.\n",
    "  - The 3' primer that Alistair used, which anneals in the read 1 primer binding site on the 10X primer. We call this *termini3*.\n",
    "  \n",
    "Note also that in the call to `dms_tools2.pacbio.matchAndAlignCCS`, we specify that *M1* and *M2* are isoforms, and *NS1* and *NS2* are isoforms.\n",
    "\n",
    "We use a `dms_tools2.minimap2.MutationCaller` to call mutations.\n",
    "The mutation calling uses modest clipping of the target and soft clipping of the query to avoid calling mutations right at the ends.\n",
    "We use a `dms_tools2.seqnumbering.TranscriptConverter` to convert the numbers of the mutations into 1-based numbering of the full viral RNA (in mRNA orientation) and call amino-acid substitutions, using the mRNA / CDS annotations in [./data/flu_sequences/flu-wsn.gb](.data/flu_sequences/flu-wsn.gb)."
   ]
  },
  {
   "cell_type": "code",
   "execution_count": null,
   "metadata": {},
   "outputs": [],
   "source": [
    "transcriptconverter = dms_tools2.seqnumbering.TranscriptConverter(\n",
    "        'data/flu_sequences/flu-wsn.gb', ignore_other_features=True)\n",
    "\n",
    "mutationcaller = dms_tools2.minimap2.MutationCaller(mapper,\n",
    "        transcriptconverter=transcriptconverter,\n",
    "        query_softclip=10, target_clip=20)\n",
    "\n",
    "df_ccs = dms_tools2.pacbio.matchAndAlignCCS(\n",
    "        ccslist=ccslist,\n",
    "        mapper=mapper,\n",
    "        termini5='|'.join([s[trim_termini : ] for s in primer5_mix.values()]),\n",
    "        gene='N+B',\n",
    "        spacer='AAA(A{19,}){e<=2}AAA', # regex fuzzy matching allows 2 mismatch\n",
    "        umi='N{10}',\n",
    "        barcode='N{16}',\n",
    "        termini3=dms_tools2.utils.reverseComplement(primer3)[ : -trim_termini],\n",
    "        targetvariants=targetvariants,\n",
    "        mutationcaller=mutationcaller\n",
    "        ).rename(columns={'has_spacer':'has_polyA'})\n",
    "\n",
    "print(\"Attempted to match and align all {0} CCSs\".format(len(df_ccs)))"
   ]
  },
  {
   "cell_type": "markdown",
   "metadata": {},
   "source": [
    "### Stats on matching / alignment\n",
    "Below we analyze the statistics on the matching and aligning of the CCSs:"
   ]
  },
  {
   "cell_type": "code",
   "execution_count": null,
   "metadata": {},
   "outputs": [],
   "source": [
    "# possible matching / alignment categories\n",
    "match_align_cats = ['total', 'has_termini3', 'has_polyA', 'has_termini5',\n",
    "                    'barcoded', 'gene_aligned', 'CCS_aligned']\n",
    "\n",
    "# tabulate statistics on matching / alignment\n",
    "match_align_df = (\n",
    "    df_ccs\n",
    "    .assign(total=True)\n",
    "    .melt(id_vars=['samplename'], \n",
    "          value_vars=match_align_cats,\n",
    "          var_name='category',\n",
    "          value_name='number of CCSs')\n",
    "    .groupby(['samplename', 'category'], as_index=False)\n",
    "    .aggregate('sum')\n",
    "    .assign(category=lambda x: pandas.Categorical(\n",
    "            x.category.str.replace('_', ' '), \n",
    "            [col.replace('_', ' ') for col in match_align_cats]))\n",
    "    .sort_values(['samplename', 'category'])\n",
    "    .assign(percent=lambda x: 100 * x['number of CCSs'] / \n",
    "               x.groupby('samplename')['number of CCSs'].transform('max'))\n",
    "    )\n",
    "\n",
    "# plot the matching alignment statistics\n",
    "match_align_plot = os.path.join(aligndir, 'match_align_plot.pdf')\n",
    "(ggplot(match_align_df, aes('samplename', 'number of CCSs')) +\n",
    "    geom_bar(aes(fill='category'), position='dodge', stat='identity') +\n",
    "    scale_fill_manual(COLOR_BLIND_PALETTE_GRAY) +\n",
    "    xlab('sequencing run') \n",
    "    ).save(match_align_plot,\n",
    "           width=1.7 * (1 + len(seqruns)),\n",
    "           height=3)\n",
    "showPDF(match_align_plot)"
   ]
  },
  {
   "cell_type": "markdown",
   "metadata": {},
   "source": [
    "We see that across all samples, the vast majority of CCSs have the 3' termini and the polyA, as expected given that those need to be there for the 3' primer to work.\n",
    "\n",
    "However, only a fraction have the 5' termini.\n",
    "This could be because only a small fraction of all sequences in the initial PCR template pool will be flu mRNAs with the right termini for the 5' primer, so there may be spurious amplification (by the 3' primer or just linear amplification product) that doesn't have the 5' termini.\n",
    "\n",
    "Most of the CCSs that have the 5' termini are also *barcoded* in the sense that they fully match the expected patterns that allow us to call a barcode and UMI.\n",
    "The frequency with which CCSs have the 5' termini is lower for the samples that only contain polymerase genes, as expected if these are amplified less efficiently.\n",
    "\n",
    "Of these *barcoded* CCSs, most of them have mRNA inserts (\"genes\") that align to the flu targets, and so are in the *gene aligned* category.\n",
    "\n",
    "We also see that if we align the full CCS without requiring it to match the termini / barcode / polyA, we get a few more than for the *gene aligned* category, indicating that some of the CCSs for which we can't call barcodes still have flu in them.\n",
    "These may have mutations in the termini / polyA, or they may be some sort of chimera.\n",
    "In any case, since the *CCS aligned* category is only modestly larger than the *gene aligned* category, for all subsequent analyses we'll focus just on the *gene aligned* CCSs."
   ]
  },
  {
   "cell_type": "markdown",
   "metadata": {},
   "source": [
    "### Get CCSs with gene aligned\n",
    "For the reasons explained immediately above, all remaining analyses will focus only on the CCSs for which the gene aligned.\n",
    "So only keep these in our *df_ccs* data frame."
   ]
  },
  {
   "cell_type": "code",
   "execution_count": null,
   "metadata": {},
   "outputs": [],
   "source": [
    "df_ccs = df_ccs.query('gene_aligned').reset_index(drop=True)"
   ]
  },
  {
   "cell_type": "markdown",
   "metadata": {},
   "source": [
    "## Quality-control alignments\n",
    "For the CCSs for which the gene insert aligned to flu, we now do some quality controlling on several important aspects.\n",
    "\n",
    "We do this by adding a column to our data frame named `QC_filtered`.\n",
    "Initially all entries in this columns are the string \"passes_filters\".\n",
    "As we go through each filter in order below, we add a string describing the filtering reason for each CCS that fails that filter.\n",
    "Once a CCS fails one filter (in the order they are provided below), we don't continue checking it against the other filters."
   ]
  },
  {
   "cell_type": "code",
   "execution_count": null,
   "metadata": {},
   "outputs": [],
   "source": [
    "df_ccs['pass_QC'] = True\n",
    "df_ccs['QC_fail_reason'] = 'passes_QC'"
   ]
  },
  {
   "cell_type": "markdown",
   "metadata": {},
   "source": [
    "### Barcode accuracy\n",
    "We want the barcodes called in the CCSs to be high accuracy. \n",
    "This might not be the case if molecules with different barcodes anneal during the PCR, such that a different barcode is sequenced on each strand of the SMRTbell that forms the CCS.\n",
    "So we tabulate some statistics about the distribution of barcode accuracies among CCSs that pass our filters so far:"
   ]
  },
  {
   "cell_type": "code",
   "execution_count": null,
   "metadata": {},
   "outputs": [],
   "source": [
    "(df_ccs\n",
    "    .query('pass_QC')\n",
    "    [['barcode_accuracy']]\n",
    "    .describe(percentiles=[0.001, 0.01])\n",
    "    )"
   ]
  },
  {
   "cell_type": "markdown",
   "metadata": {},
   "source": [
    "Above we see that the barcode accuracies are consistently very high, with over 99% having accuracies that exceed the accuracy threshold of 0.999 used when building the CCSs with PacBio's [ccs program](https://github.com/PacificBiosciences/unanimity/blob/develop/doc/PBCCS.md), and virtually all of them having accuracies of >98%.\n",
    "Just to be safe, we will filter for CCSs that have a barcode accuracy $\\ge$0.999, which will eliminate only a very small fraction:"
   ]
  },
  {
   "cell_type": "code",
   "execution_count": null,
   "metadata": {},
   "outputs": [],
   "source": [
    "fail_index = df_ccs.query('pass_QC & (barcode_accuracy < 0.999)').index\n",
    "df_ccs.loc[fail_index, 'pass_QC'] = False\n",
    "df_ccs.loc[fail_index, 'QC_fail_reason'] = 'low barcode accuracy'"
   ]
  },
  {
   "cell_type": "markdown",
   "metadata": {},
   "source": [
    "### Additional alignments\n",
    "We want to get rid of CCSs that align to multiple different influenza genes.\n",
    "The reason is that these probably represent some sort of PCR chimera / fusion during the library preparation.\n",
    "Note that we are only looking at multiple alignments to different targets / isoforms (we specified that M1 / M2 and NS1 / NS2 are isoforms in the `target_isoforms` argument to the `dms_tools2.minimap2.Mapper`), so this will not purge alignments that involve the same gene (these could be complex deletions) or different splice forms.\n",
    "First, we tabulate some statistics about the distribution of the number of additional alignments to different targets among CCSs that pass our filters so far:"
   ]
  },
  {
   "cell_type": "code",
   "execution_count": null,
   "metadata": {},
   "outputs": [],
   "source": [
    "(df_ccs\n",
    "    .query('pass_QC')\n",
    "    [['gene_aligned_n_additional_difftarget']]\n",
    "    .describe(percentiles=[0.995, 0.999, 0.9999])\n",
    "    )"
   ]
  },
  {
   "cell_type": "markdown",
   "metadata": {},
   "source": [
    "There are very few CCSs with additional alignments to other targets (less than 1%), and we remove them:"
   ]
  },
  {
   "cell_type": "code",
   "execution_count": null,
   "metadata": {},
   "outputs": [],
   "source": [
    "fail_index = df_ccs.query('pass_QC & gene_aligned_n_additional_difftarget').index\n",
    "df_ccs.loc[fail_index, 'pass_QC'] = False\n",
    "df_ccs.loc[fail_index, 'QC_fail_reason'] = 'aligns to multiple targets'"
   ]
  },
  {
   "cell_type": "markdown",
   "metadata": {},
   "source": [
    "### Excessive alignment trimming\n",
    "For perfect matches the of query CCSs to the target flu mRNAs, alignment of the query to the target is end-to-end, with no trimming of either the query or the target at either end.\n",
    "\n",
    "However, in practice, in many cases there is trimming of the query or the target.\n",
    "Here we QC filter based on the presence of excessive trimming.\n",
    "\n",
    "#### Trimming of query start\n",
    "Based on the way that the products were PCR-amplified, we expect the query starts to align exactly with the target start, so there shouldn't be any need for trimming.\n",
    "Below are tabulated statistics about the distribution of trimming at the query start:"
   ]
  },
  {
   "cell_type": "code",
   "execution_count": null,
   "metadata": {},
   "outputs": [],
   "source": [
    "(df_ccs\n",
    "    .query('pass_QC')\n",
    "    [['gene_aligned_n_trimmed_query_start']]\n",
    "    .describe(percentiles=[0.99, 0.999, 0.9999])\n",
    "    )"
   ]
  },
  {
   "cell_type": "markdown",
   "metadata": {},
   "source": [
    "Most (>99%) queries align exactly with the target at their start, with no trimming. \n",
    "There are a few nucleotides trimmed from a modest fraction (<1%).\n",
    "This modest trimming is explainable---the 5' primers are similar for the different flu genes, so there may occassionally be mis-priming so that the primer amplifies a different flu mRNA, which might lead to a bit of trimming at the very start of the alignment.\n",
    "There are then a very small number (less than <0.01%) that have very large amounts trimmed.\n",
    "We will discard CCSs with more than 5 nucleotides trimmed from the query start:"
   ]
  },
  {
   "cell_type": "code",
   "execution_count": null,
   "metadata": {},
   "outputs": [],
   "source": [
    "fail_index = df_ccs.query('pass_QC & (gene_aligned_n_trimmed_query_start > 5)').index\n",
    "df_ccs.loc[fail_index, 'pass_QC'] = False\n",
    "df_ccs.loc[fail_index, 'QC_fail_reason'] = 'excessive trimming of query start'"
   ]
  },
  {
   "cell_type": "markdown",
   "metadata": {},
   "source": [
    "#### Trimming of target start\n",
    "We also expect all of the alignments to start exactly at the beginning of the target, because the PCR-amplification should lead to this.\n",
    "Below are tabulated statistics about the distribution of trimming at the target start:"
   ]
  },
  {
   "cell_type": "code",
   "execution_count": null,
   "metadata": {},
   "outputs": [],
   "source": [
    "(df_ccs\n",
    "    .query('pass_QC')\n",
    "    [['gene_aligned_n_trimmed_target_start']]\n",
    "    .describe(percentiles=[0.99, 0.999, 0.9999])\n",
    "    )"
   ]
  },
  {
   "cell_type": "markdown",
   "metadata": {},
   "source": [
    "This distribution looks very similar to that for trimming of the query starts immediately above, and (for the same logic explained there), we will discard CCSs with more than 5 nucleotides trimmed from the target start:"
   ]
  },
  {
   "cell_type": "code",
   "execution_count": null,
   "metadata": {},
   "outputs": [],
   "source": [
    "fail_index = df_ccs.query('pass_QC & (gene_aligned_n_trimmed_target_start > 5)').index\n",
    "df_ccs.loc[fail_index, 'pass_QC'] = False\n",
    "df_ccs.loc[fail_index, 'QC_fail_reason'] = 'excessive trimming of target start'"
   ]
  },
  {
   "cell_type": "markdown",
   "metadata": {},
   "source": [
    "#### Trimming query ends\n",
    "We expect the queries to end at the end of the target, and so there to be no clipping of the query ends. \n",
    "There are three plausible reasons for clipping of the query ends:\n",
    "  1. A PCR artifact that leads to fusion of a flu gene with a cellular gene. We tried to filter out fusions of two different flu genes above by removing CCSs with additional alignments to a different flu target, but that filter won't remove fusions to things that aren't flu genes--although these are expected to be much more abundant. We would like to filter CCSs for which this occurs.\n",
    "  2. The transcription of the mRNA from the query continuing past the polyA tail, or the polyA tail not being fully trimmed and removed. We might want to retain these. However, we expect the extension that has to be trimmed in this case to be small, probably less than 50 nt.\n",
    "  3. There is an internal deletion and for whatever reason the mapping failed to handle it properly and just trimmed the region after the deletion. We want to keep these. We would expect them to align with \"additional alignments\" since the trimmed region should be in a different alignment.\n",
    "  \n",
    "Below we tabulate some statistics on the distribution of trimming, for CCSs both with and without additional alignments (these distributions are hard to plot since they are so skewed):"
   ]
  },
  {
   "cell_type": "code",
   "execution_count": null,
   "metadata": {},
   "outputs": [],
   "source": [
    "(df_ccs\n",
    "    .query('pass_QC')\n",
    "    .assign(has_additional_alignment=lambda x: x.gene_aligned_n_additional > 0)\n",
    "    .groupby(['has_additional_alignment'])\n",
    "    .gene_aligned_n_trimmed_query_end\n",
    "    .describe(percentiles=[0.9, 0.95, 0.98, 0.99, 0.999])\n",
    "    )"
   ]
  },
  {
   "cell_type": "markdown",
   "metadata": {},
   "source": [
    "We see that the distributions don't look much different between CCSs with and without additional alignments, so the internal deletion explanation doesn't appear to explain most of the clipping.\n",
    "We will discard CCSs with more than 50 nt of trimming at the query end as almost certainly spurious, but keep those with less than 50 nt in case there is transcription past the polyA and/or problems calling the polyA.\n",
    "Looking at the table above, we can see that this means we are discarding about 5% of the CCSs:"
   ]
  },
  {
   "cell_type": "code",
   "execution_count": null,
   "metadata": {},
   "outputs": [],
   "source": [
    "fail_index = df_ccs.query('pass_QC & (gene_aligned_n_trimmed_query_end > 50)').index\n",
    "df_ccs.loc[fail_index, 'pass_QC'] = False\n",
    "df_ccs.loc[fail_index, 'QC_fail_reason'] = 'excessive trimming of query end'"
   ]
  },
  {
   "cell_type": "markdown",
   "metadata": {},
   "source": [
    "#### Trimming target ends\n",
    "If transcription proceeds all the way to the target end, there should also not be trimming of the target ends.\n",
    "Here are some actual tabulated statistics:"
   ]
  },
  {
   "cell_type": "code",
   "execution_count": null,
   "metadata": {},
   "outputs": [],
   "source": [
    "(df_ccs\n",
    "    .query('pass_QC')\n",
    "    [['gene_aligned_n_trimmed_target_end']]\n",
    "    .describe(percentiles=[0.75, 0.85, 0.9, 0.95, 0.99, 0.999])\n",
    "    )"
   ]
  },
  {
   "cell_type": "markdown",
   "metadata": {},
   "source": [
    "It's important to make sure that the target trimming doesn't tend to occur on the same sequences with query trimming, as this might indicate that the end of the query just failed to align because it's too short of a final chunk after a deletion.\n",
    "The plot below shows this is **not** the case, which alleviates the concern that the query and target end trimming involves deletions where the 3' end is just too short to align:"
   ]
  },
  {
   "cell_type": "code",
   "execution_count": null,
   "metadata": {},
   "outputs": [],
   "source": [
    "(df_ccs\n",
    "    .assign(substantial_query_trimming=lambda x: x.gene_aligned_n_trimmed_query_end > 10)\n",
    "    .groupby('substantial_query_trimming')\n",
    "    .gene_aligned_n_trimmed_target_end\n",
    "    .describe(percentiles=[0.75, 0.85, 0.9, 0.95, 0.99, 0.999])\n",
    "    )"
   ]
  },
  {
   "cell_type": "markdown",
   "metadata": {},
   "source": [
    "So overall, the table two above shows that there is substantial trimming of the target ends in 5-15% of CCSs.\n",
    "\n",
    "There are plausible legitimate and artifactual explanations:\n",
    "  - *legitimate*: premature poly-adenylation of the flu transcripts leading to truncation of the query, or some form of internal deletion in the vRNA moving the polyA signal up in the transcript.\n",
    "  - *artifactual*: the polyA primer anneals in an A rich stretch internal to the gene.\n",
    "  \n",
    "We can't really distinguish between these without prior work, but some loose analyses not shown here favor the artifactual explanation.\n",
    "Also, it is thought that at least at the vRNA level, both termini are needed for viral transcription, so if premature polyadenylation is occuring, then it is *probably* not a genetic feature of the viruses but rather a transcriptional feature of some mRNAs--and our current downstream analysis is focused more on genetic features of the virus.\n",
    "\n",
    "Therefore, we will filtering any alignments with more than 10 nucleotides of trimming for now (but this probably deserves further study at some point):"
   ]
  },
  {
   "cell_type": "code",
   "execution_count": null,
   "metadata": {},
   "outputs": [],
   "source": [
    "fail_index = df_ccs.query('pass_QC & (gene_aligned_n_trimmed_target_end > 10)').index\n",
    "df_ccs.loc[fail_index, 'pass_QC'] = False\n",
    "df_ccs.loc[fail_index, 'QC_fail_reason'] = 'excessive trimming of target end'"
   ]
  },
  {
   "cell_type": "markdown",
   "metadata": {},
   "source": [
    "### Get QC-ed alignments\n",
    "Now we tabulate the number of alignments that failed QC for each reason:"
   ]
  },
  {
   "cell_type": "code",
   "execution_count": null,
   "metadata": {},
   "outputs": [],
   "source": [
    "(df_ccs\n",
    "    .assign(number=1)\n",
    "    .groupby(['pass_QC', 'QC_fail_reason'])\n",
    "    [['number']]\n",
    "    .agg('count')\n",
    "    )"
   ]
  },
  {
   "cell_type": "markdown",
   "metadata": {},
   "source": [
    "As the table above shows, less than 25% of the alignments fail the filters, and most of the failures are due to excessive trimming of the query end or target end.\n",
    "\n",
    "We keep just the QC-ed aligned CCSs for subsequent work:"
   ]
  },
  {
   "cell_type": "code",
   "execution_count": null,
   "metadata": {},
   "outputs": [],
   "source": [
    "df_ccs = df_ccs.query('pass_QC')"
   ]
  },
  {
   "cell_type": "markdown",
   "metadata": {},
   "source": [
    "## Summary of QC-ed alignments\n",
    "We are now going to analyze how many QC-ed alignments we have for each gene, and the length distribution of these alignments.\n",
    "\n",
    "First, make the aligned genes a categorical variable so gene names are displayed in the desired order:"
   ]
  },
  {
   "cell_type": "code",
   "execution_count": null,
   "metadata": {},
   "outputs": [],
   "source": [
    "targetnames = list(mapper.targetseqs.keys())\n",
    "df_ccs['gene_aligned_target'] = pandas.Categorical(\n",
    "        df_ccs.gene_aligned_target, targetnames)"
   ]
  },
  {
   "cell_type": "markdown",
   "metadata": {},
   "source": [
    "### Number of alignments per gene\n",
    "Now we examine the number of QC-ed aligned CCSs for each gene.\n",
    "We do this both aggregating over all sequencing runs and looking at the runs individually:"
   ]
  },
  {
   "cell_type": "code",
   "execution_count": null,
   "metadata": {},
   "outputs": [],
   "source": [
    "# base plot of number of sequences per gene\n",
    "plot_nseqs = (\n",
    "    ggplot(df_ccs, aes('gene_aligned_target')) +\n",
    "        geom_bar() +\n",
    "        theme(axis_text_x=element_text(angle=90, hjust=0.5)) +\n",
    "        xlab(\"flu gene\") +\n",
    "        ylab(\"QC-ed aligned sequences\")\n",
    "    )\n",
    "\n",
    "# plot total for all runs and by run\n",
    "ncol = 3\n",
    "for plottype, facet, n in [\n",
    "        ('all_runs', geom_blank(), 1),\n",
    "        ('by_run', facet_wrap('~samplename', ncol=3), len(seqruns))]:\n",
    "    print(\"\\nNumber of alignments, {0}:\".format(plottype.replace('_', ' ')))\n",
    "    nseqs_plot = os.path.join(aligndir, 'nsequences_{0}.pdf'.format(plottype))\n",
    "    (plot_nseqs + facet).save(nseqs_plot, height=1 + 1.8 * math.ceil(n / ncol), \n",
    "                              width=0.8 + 2 * min(n, ncol))\n",
    "    showPDF(nseqs_plot, width=80 + 200 * min(n, ncol))"
   ]
  },
  {
   "cell_type": "markdown",
   "metadata": {},
   "source": [
    "The plots above show the different distributions of genes per run, as expected as some runs tried to heavily load polymerase genes while others tried to load the other genes.\n",
    "This is because the polymerase genes were rare when everything was loaded equally (2017-06-08 run), so all the other ones were attempting to balance things out.\n",
    "But see the caveat about polymerase deletions that becomes apparent below...\n",
    "\n",
    "Also, we see that there are many fewer alignments for M2 than M1, and for NS2 than NS1. \n",
    "This is as expected based on the known ratios of these splice forms."
   ]
  },
  {
   "cell_type": "markdown",
   "metadata": {},
   "source": [
    "### Distribution of alignment lengths\n",
    "Not all of the alignments necessarily cover the entire gene, as there are often deletions in flu segments.\n",
    "So we also plot the distribution of alignments by length for each segment, where we define the *alignment length* as the total number of aligned nucleotides, which can be either identities or mismatches (but not indels).\n",
    "We plot this both across all sequencing runs, and for each run individually:"
   ]
  },
  {
   "cell_type": "code",
   "execution_count": null,
   "metadata": {},
   "outputs": [],
   "source": [
    "# add columnn with alignment lengths\n",
    "df_ccs['alignment_length'] = df_ccs.gene_aligned_alignment.apply(\n",
    "        lambda a: dms_tools2.minimap2.numAligned(a.cigar_str))\n",
    "\n",
    "# base plot of alignment lengths\n",
    "plot_align_len = (\n",
    "    ggplot(df_ccs, aes('alignment_length')) +\n",
    "        geom_histogram(aes(x='alignment_length'), bins=15) +\n",
    "        theme(axis_text_x=element_text(angle=90, hjust=0.5)) +\n",
    "        ylab(\"relative number of alignments\") +\n",
    "        xlab(\"alignment length\")\n",
    "        )\n",
    "\n",
    "# plot for all runs and by run\n",
    "for plottype, facet, n in [\n",
    "        ('all_runs', facet_wrap('~ gene_aligned_target', nrow=1), 1),\n",
    "        ('by_run', facet_grid('samplename ~ gene_aligned_target'), len(seqruns))]:\n",
    "    print(\"\\nAlignment lengths, {0}:\".format(plottype.replace('_', ' ')))\n",
    "    align_len_plot = os.path.join(aligndir, 'alignment_len_{0}.pdf'.format(plottype))\n",
    "    (plot_align_len + facet).save(align_len_plot, width=15, height=2 * n)\n",
    "    showPDF(align_len_plot)"
   ]
  },
  {
   "cell_type": "markdown",
   "metadata": {},
   "source": [
    "As can be seen above, for most genes the alignments are strongly peaked at the length expected for the full-length gene.\n",
    "But for the polymerase genes (PB2, PB1, and PA), most of the reads are actually deletions that are much smaller than the full-length size.\n",
    "The enrichment of deletions for the polymerase probably exceeds their actual biological frequency due to amplification bias that prefers shorter segments during PCR.\n",
    "However, the size-selected open PCR reaction for the polymerase genes did do a better job of getting more full-length material.\n",
    "\n",
    "For HA, there are also prominent peaks at smaller sizes."
   ]
  },
  {
   "cell_type": "markdown",
   "metadata": {},
   "source": [
    "### Near full-length alignments\n",
    "Given the plots above that show that for some genes, many of the alignments are for partially deleted genes, we also plot the number \"near full-length\" alignments.\n",
    "We define an alignment as \"full-length\" if the alignment length (as defined immediately above) is no more than 20 nucleotides less than the expected length of the alignment target."
   ]
  },
  {
   "cell_type": "code",
   "execution_count": null,
   "metadata": {},
   "outputs": [],
   "source": [
    "# assign target lengths and near full-length status\n",
    "target_lengths = {name:len(seq) for name, seq in mapper.targetseqs.items()}\n",
    "df_ccs = (\n",
    "    df_ccs\n",
    "    .assign(target_length=lambda x: x.gene_aligned_target.map(target_lengths))\n",
    "    .assign(full_length=lambda x: (x.target_length <= 20 + x.alignment_length))\n",
    "    )\n",
    "\n",
    "plot_nseqs_full = (\n",
    "    ggplot(df_ccs, aes('gene_aligned_target')) +\n",
    "        geom_bar(aes(fill='full_length')) +\n",
    "        theme(axis_text_x=element_text(angle=90, hjust=0.5)) +\n",
    "        xlab(\"flu gene\") +\n",
    "        ylab(\"QC-ed aligned sequences\") +\n",
    "        scale_fill_manual(COLOR_BLIND_PALETTE_GRAY[1 : ],\n",
    "                          name='full length')\n",
    "    )\n",
    "\n",
    "# plot total for all runs and by run\n",
    "ncol = 3\n",
    "for plottype, facet, n in [\n",
    "        ('all_runs', geom_blank(), 1),\n",
    "        ('by_run', facet_wrap('~samplename', ncol=ncol), len(seqruns))]:\n",
    "    print(\"\\nNumber of alignments, {0}:\".format(plottype.replace('_', ' ')))\n",
    "    nseqs_plot = os.path.join(aligndir, 'nseqs_full_len_{0}.pdf'.format(plottype))\n",
    "    (plot_nseqs_full + facet).save(nseqs_plot,\n",
    "            height=0.5 + 2 * math.ceil(n / ncol), width=2 * (min(n, ncol) + 0.8))\n",
    "    showPDF(nseqs_plot, width=220 * (min(n, ncol) + 0.8))"
   ]
  },
  {
   "cell_type": "markdown",
   "metadata": {},
   "source": [
    "We see basically what is expected from the sets of plots in the previous two subsections.\n",
    "Although we have many alignments for the polymerase genes, these are highly biased towards short fragments.\n",
    "We have good numbers of full-length segments for all other genes.\n",
    "Note that we have relatively little for M2 / NS2, but these sequences are contained within the M1 / NS1, so it's probably OK to have less for these."
   ]
  },
  {
   "cell_type": "markdown",
   "metadata": {},
   "source": [
    "### Passes/accuracy for alignments\n",
    "Back at the initial running of `ccs`, we set thresholds for how many passes of sequencing and the minimum accuracy required for our CCSs.\n",
    "Are these limiting?\n",
    "For instance, when we look at the full-length alignments of the long polymerase genes, are we losing lots of sequences because of overly stringent thresholds?\n",
    "We can address this by looking at the actual distribution of number of passes and CCS accuracy for our QC-ed aligned genes, both for full-length and non-full-length (e.g., with deletions) viral genes.\n",
    "Below we plot these, using dashed green lines to show the minimum cutoffs:"
   ]
  },
  {
   "cell_type": "code",
   "execution_count": null,
   "metadata": {},
   "outputs": [],
   "source": [
    "ncol = 3\n",
    "\n",
    "npasses_plot = os.path.join(aligndir, 'npasses.pdf')\n",
    "(ggplot(df_ccs, aes('gene_aligned_target', 'passes', fill='full_length')) +\n",
    "    geom_boxplot(outlier_size=0.2) +\n",
    "    scale_y_log10(limits=(minpasses, df_ccs.passes.max())) +\n",
    "    scale_fill_manual(COLOR_BLIND_PALETTE_GRAY[1 : ]) +\n",
    "    facet_wrap('~ samplename') +\n",
    "    theme(axis_text_x=element_text(angle=90, hjust=0.5)) +\n",
    "    geom_hline(yintercept=minpasses, linetype='dashed',\n",
    "        color=COLOR_BLIND_PALETTE_GRAY[3])\n",
    "    ).save(npasses_plot, height=0.5 + 2 * math.ceil(len(seqruns) / ncol),\n",
    "            width=1.8 * (1 + min(ncol, len(seqruns))))\n",
    "showPDF(npasses_plot)\n",
    "\n",
    "error_rate_plot = os.path.join(aligndir, 'error_rate.pdf')\n",
    "(ggplot(df_ccs, aes('gene_aligned_target', 'CCS_accuracy', fill='full_length')) +\n",
    "    geom_boxplot(outlier_size=0.2) +\n",
    "    scale_y_continuous(limits=(ccsminaccuracy, 1)) +\n",
    "    scale_fill_manual(COLOR_BLIND_PALETTE_GRAY[1 : ]) +\n",
    "    facet_wrap('~ samplename') +\n",
    "    theme(axis_text_x=element_text(angle=90, hjust=0.5)) +\n",
    "    geom_hline(yintercept=ccsminaccuracy, linetype='dashed',\n",
    "        color=COLOR_BLIND_PALETTE_GRAY[3])\n",
    "    ).save(error_rate_plot, height=0.5 + 2 * math.ceil(len(seqruns) / ncol),\n",
    "            width=1.8 * (1 + min(ncol, len(seqruns))))\n",
    "showPDF(error_rate_plot)"
   ]
  },
  {
   "cell_type": "markdown",
   "metadata": {},
   "source": [
    "As is apparent from these plots, the vast majority of sequences are well above both minimum thresholds.\n",
    "Although the full-length polymerase genes do tend to have less passes and lower accuracy, most of them are still well above the threshold.\n",
    "This suggests that we are **not** losing lots of fairly good sequences to overly stringent thresholds."
   ]
  },
  {
   "cell_type": "markdown",
   "metadata": {},
   "source": [
    "## Analyze viral barcodes\n",
    "Each viral gene is either fully wildtype or \"doubly synonymously barcoded\" by a pair of synonymous mutations near each termini.\n",
    "Note that these viral barcodes are distinct from the cell barcodes added by the 10X system.\n",
    "These viral barcodes were called during the alignment using the `dms_tools2.minimap2.TargetVariants` initialized above.\n",
    "\n",
    "Here we examine these barcodes. \n",
    "The most important reason to do this is to test for strand exchange during PCR, or pairing of different variants into the same dsDNA molecule during library preparation.\n",
    "These would manifest as CCSs in which the different ends are assigned to different viral barcode variants, or in which the viral barcode sites are low accuracy.\n",
    "\n",
    "### Inspect viral barcodes by gene\n",
    "First we just plot the viral barcodes that are called for each gene in each sequencing run.\n",
    "This plot is below.\n",
    "In addition to faceting on sequencing run, we also facet on all QC-ed aligned sequences, and just those that correspond to full-length viral genes."
   ]
  },
  {
   "cell_type": "code",
   "execution_count": null,
   "metadata": {},
   "outputs": [],
   "source": [
    "# create a directory for the CCS analysis\n",
    "analysisdir = os.path.join(pacbioresultsdir, 'variant_and_mutation_analysis')\n",
    "os.makedirs(analysisdir, exist_ok=True)\n",
    "\n",
    "# order viral barcode categories from most to least for plotting\n",
    "viralbarcode_cats = (\n",
    "    df_ccs\n",
    "    .groupby(['gene_aligned_target_variant'])\n",
    "    .CCS\n",
    "    .agg('count')\n",
    "    .sort_values(ascending=False)\n",
    "    .index\n",
    "    )\n",
    "df_ccs['gene_aligned_target_variant'] = pandas.Categorical(\n",
    "        df_ccs['gene_aligned_target_variant'], viralbarcode_cats)\n",
    "\n",
    "viralbarcode_plot = os.path.join(analysisdir, 'viralbarcodeplot.pdf')\n",
    "(ggplot(pandas.concat([\n",
    "            df_ccs.assign(full_length='any length'),\n",
    "            df_ccs.query('full_length').assign(full_length='full length')]),\n",
    "        aes('gene_aligned_target')) +\n",
    "    geom_bar(aes(fill='gene_aligned_target_variant')) +\n",
    "    facet_grid('samplename ~ full_length', scales='free_y') +\n",
    "    scale_fill_manual(COLOR_BLIND_PALETTE_GRAY, name='viral barcode') +\n",
    "    theme(axis_text_x=element_text(angle=90, hjust=0.5), panel_spacing_x=0.5) +\n",
    "    ylab('QC-ed aligned sequences\\n') +\n",
    "    xlab('flu gene')\n",
    "    ).save(viralbarcode_plot, width=8, height=1.9 * (len(seqruns) + 0.5))\n",
    "showPDF(viralbarcode_plot, width=700)"
   ]
  },
  {
   "cell_type": "markdown",
   "metadata": {},
   "source": [
    "These plots look pretty good.\n",
    "We want to avoid are *mixed* barcodes (indicating chimeras) or *low accuracy* barcodes (indicating possible chimeric dsDNA during library preparation).\n",
    "These states are very rare for all genes on all sequencing runs.\n",
    "With the exception of PB2 / PB1 / PA, things look very consistent across genes and sequencing runs, with most barcodes either assigned to fully *wildtype* or fully *synonymously barcoded*.\n",
    "The *synonymously barcoded* variant is clearly more common.\n",
    "\n",
    "Things are a bit more complicated for the polymerase genes, where we can only partially call many of the barcodes. \n",
    "This is because there are lots of internal deletions, some of which remove barcode variant sites.\n",
    "In addition, the PCR enrichment selectively favored these deletions, so there is skewing in abundance.\n",
    "But if we limit to just full-length genes, things look fairly similar for the polymerase as for other genes."
   ]
  },
  {
   "cell_type": "markdown",
   "metadata": {},
   "source": [
    "### Estimate rate of PCR strand exchange\n",
    "We will now use the above data to estimate the rate of PCR strand exchange.\n",
    "In principle, this rate could (and probably does to some degree) vary among molecules and sequencing runs. \n",
    "However, the plots in the previous subsection suggest that this variation is fairly small.\n",
    "So will just make a single \"average\" estimate over all the data.\n",
    "\n",
    "We make the estimate just using the counts of the full *wildtype* and *synonymously barcoded* variants, and ignore the partially barcoded ones.\n",
    "The reason that we ignore the partially barcoded ones is that they often represent calling of the barcodes at only one end of the molecule, which might not identify strand exchange.\n",
    "We consider variants to be *chimeric* if their barcoded sites are **either** *mixed* or *low accuracy*, since *low accuracy* can indicate mixed variants in the CCS sequencing.\n",
    "\n",
    "First, we get and display these statistics:"
   ]
  },
  {
   "cell_type": "code",
   "execution_count": null,
   "metadata": {},
   "outputs": [],
   "source": [
    "chimera_stats = (\n",
    "    df_ccs\n",
    "    .rename(columns={'gene_aligned_target_variant':'viral_barcode'})\n",
    "    .replace({'viral_barcode':{'mixed':'chimeric', 'low accuracy':'chimeric'}})\n",
    "    .query('viral_barcode in [\"chimeric\", \"wildtype\", \"synonymously barcoded\"]')\n",
    "    .assign(number=1) # dummy variable to count in `agg`\n",
    "    .groupby(['viral_barcode'])\n",
    "    .agg({'number':'count'})\n",
    "    .assign(fraction=lambda x: x.number / x.number.sum())\n",
    "    )\n",
    "\n",
    "display(HTML(chimera_stats.to_html()))"
   ]
  },
  {
   "cell_type": "markdown",
   "metadata": {},
   "source": [
    "Obviously, we don't expect to observe all the chimeric CCSs, because some will be chimeras of a wildtype with wildtype, or synonymously barcoded with synonymously barcoded.\n",
    "The amplification was done using emulsion PCR, which places each molecule in its own droplet.\n",
    "We can therefore use the equation for calculating the multiplet frequency described in [Bloom (2018, DOI 10.1101/293639)](https://doi.org/10.1101/293639).\n",
    "Below we take the function described there, and then calculate the multiplet frequency:"
   ]
  },
  {
   "cell_type": "code",
   "execution_count": null,
   "metadata": {},
   "outputs": [],
   "source": [
    "def multipletFreq(n1, n2, n12):\n",
    "    \"\"\"Estimated multiplet frequency from cell-type mixing experiment.\n",
    "\n",
    "    `n1`, `n2`, `n12` (`int` or `numpy.ndarray` of integers)\n",
    "        Number of droplets with at least one cell of type 1,\n",
    "        at least one cell of type 2, or cells of both types.\n",
    "    \"\"\"\n",
    "    n = numpy.array(n1 * n2 / n12).astype('float')\n",
    "    mu1 = -numpy.log((n - n1) / n)\n",
    "    mu2 = -numpy.log((n - n2) / n)\n",
    "    mu = mu1 + mu2\n",
    "    return 1 - mu * numpy.exp(-mu) / (1 - numpy.exp(-mu))\n",
    "\n",
    "print(\"The estimated rate at which CCSs are chimeric is {0:.4f}\".format(\n",
    "        multipletFreq(chimera_stats.number.ix['wildtype'],\n",
    "                      chimera_stats.number.ix['synonymously barcoded'],\n",
    "                      chimera_stats.number.ix['chimeric'])))"
   ]
  },
  {
   "cell_type": "markdown",
   "metadata": {},
   "source": [
    "So we see that about 7% of the molecules are estimated to be chimeras.\n",
    "Of these, about half are chimeric between different barcodes, and so can be explicitly excluded as is done in the subsection that immediately follows.\n",
    "That leaves about 3.5% of CCSs that will still be un-identified chimeras."
   ]
  },
  {
   "cell_type": "markdown",
   "metadata": {},
   "source": [
    "### Filter chimeras, assign viral barcodes\n",
    "We now remove any of the aligned CCSs with chimeric or low accuracy barcodes.\n",
    "We also assign each CCS its *viral_barcode* as *wt_flu* if it is either fully or partially wildtype barcoded, and *flu_syn* if it is either fully or partially synonymously barcoded.\n",
    "This *viral_barcode* is therefore an indication of which viral variant gave rise to this CCS:"
   ]
  },
  {
   "cell_type": "code",
   "execution_count": null,
   "metadata": {},
   "outputs": [],
   "source": [
    "nstart = len(df_ccs)\n",
    "\n",
    "df_ccs = (\n",
    "    df_ccs.assign(viral_barcode=lambda x: x.gene_aligned_target_variant.str\n",
    "        .replace(re.compile('(partial ){0,1}wildtype'), 'flu_wt')\n",
    "        .replace(re.compile('(partial ){0,1}synonymously barcoded'), 'flu_syn'))\n",
    "    .query('viral_barcode in [\"flu_wt\", \"flu_syn\"]')\n",
    "    )\n",
    "\n",
    "print(\"Retained the {0} of {1} ({2:.2f}%) QC-ed aligned CCSs with valid viral barcodes.\"\n",
    "      .format(len(df_ccs), nstart, 100 * len(df_ccs) / nstart))"
   ]
  },
  {
   "cell_type": "markdown",
   "metadata": {},
   "source": [
    "## 10X cell barcodes / UMIs\n",
    "Now we examine the 10X cell barcodes and UMIs that were called for the aligned genes.\n",
    "Recall that the cell barcode reports which cell the sequence came from, and the UMI is a unique identifier for molecules.\n",
    "\n",
    "### Get valid cell barcodes\n",
    "Only some of the cell barcodes are actually assigned to cells that are called by the 10X `cellranger` pipeline, with the others typically being GEMs with no actual cell (or perhaps sometimes sequencing errors).\n",
    "\n",
    "We have already called the valid cells with the [align_and_annotate.ipynb](align_and_annotate.ipynb) notebook, and written them to `results/cellgenecounts/merged_humanplusflu_cells.tsv`. \n",
    "First, we read in those barcodes, filtering for the ones from the *IFN_enriched* sample and removing the suffix `-IFN_enriched` from them.\n",
    "These represent our set of *valid* cell barcodes:"
   ]
  },
  {
   "cell_type": "code",
   "execution_count": null,
   "metadata": {},
   "outputs": [],
   "source": [
    "cellbarcodesfile = 'results/cellgenecounts/merged_humanplusflu_cells.tsv'\n",
    "sample = 'IFN_enriched' # only keep barcodes for this sample\n",
    "\n",
    "valid_cellbarcodes = set(\n",
    "    pandas.read_csv(cellbarcodesfile, sep='\\t')\n",
    "    .query('Sample == @sample')\n",
    "    .CellBarcode.str.replace('-' + sample, '')\n",
    "    )\n",
    "\n",
    "print(\"Read {0} valid cell barcodes for sample {1} from {2}\"\n",
    "        .format(len(valid_cellbarcodes), sample, cellbarcodesfile))"
   ]
  },
  {
   "cell_type": "markdown",
   "metadata": {},
   "source": [
    "### Filter alignments from valid cells\n",
    "We really only care about the alignments that correspond to valid cells, so now we filter for those.\n",
    "First, we annotate CCS alignments that correspond to a valid cell:"
   ]
  },
  {
   "cell_type": "code",
   "execution_count": null,
   "metadata": {},
   "outputs": [],
   "source": [
    "df_ccs['valid_cell'] = df_ccs.barcode.isin(valid_cellbarcodes)"
   ]
  },
  {
   "cell_type": "markdown",
   "metadata": {},
   "source": [
    "Next we plot the fraction of aligned CCSs that correspond to valid cells:"
   ]
  },
  {
   "cell_type": "code",
   "execution_count": null,
   "metadata": {},
   "outputs": [],
   "source": [
    "valid_cells_plots = []\n",
    "for pos, label in [('stack', 'number'), ('fill', 'fraction')]:\n",
    "    valid_cells_plot = os.path.join(analysisdir, 'valid_cells_{0}.pdf'.format(label))\n",
    "    (ggplot(df_ccs, aes('gene_aligned_target')) +\n",
    "        geom_bar(aes(fill='valid_cell'), position=pos) +\n",
    "        scale_fill_manual(COLOR_BLIND_PALETTE_GRAY[1 : ], name='valid cell') +\n",
    "        xlab(\"flu gene\") +\n",
    "        ylab(label + ' aligned CCSs') +\n",
    "        theme(axis_text_x=element_text(angle=90, hjust=0.5))\n",
    "        ).save(valid_cells_plot, width=3, height=2.25)\n",
    "    valid_cells_plots.append(valid_cells_plot)\n",
    "showPDF(valid_cells_plots)"
   ]
  },
  {
   "cell_type": "markdown",
   "metadata": {},
   "source": [
    "As can be seen above, a bit over half of the aligned CCSs correspond to valid cells, and there do not appear to be large differences among the flu genes.\n",
    "The fact that almost half aren't in valid cells isn't too surprising, as there are many empty GEMs that have some RNA but aren't called as cells.\n",
    "\n",
    "From here on out, we work just with the aligned CCSs in valid cells, so retain only those:"
   ]
  },
  {
   "cell_type": "code",
   "execution_count": null,
   "metadata": {},
   "outputs": [],
   "source": [
    "df_ccs = df_ccs.query('valid_cell')"
   ]
  },
  {
   "cell_type": "markdown",
   "metadata": {},
   "source": [
    "### Per-gene barcodes / UMI sampling\n",
    "We now want to examine how many times the typical cell barcode and UMI is observed, and also see if we expect to gain additional cell barcodes / UMIs if we sequence more.\n",
    "\n",
    "The UMIs are shorter than the cell barcodes, and in reality the cell barcodes can be thought of as an addition to the UMI since individual molecules must come from the same cell **and** have the same UMI.\n",
    "So we create a new variable called *UMI_long* that is the concatenation of the UMI and the cell barcode, and use this in place of just the UMI for identifying molecules:"
   ]
  },
  {
   "cell_type": "code",
   "execution_count": null,
   "metadata": {},
   "outputs": [],
   "source": [
    "df_ccs['UMI_long'] = df_ccs.UMI + df_ccs.barcode"
   ]
  },
  {
   "cell_type": "markdown",
   "metadata": {},
   "source": [
    "Now for both these longer UMIs and the cell barcodes, we plot how many times each is observed and rarefaction plots of the saturation for each:"
   ]
  },
  {
   "cell_type": "code",
   "execution_count": null,
   "metadata": {},
   "outputs": [],
   "source": [
    "max_obs = 4 # plot up to this many observations\n",
    "\n",
    "for prop, proplabel in [('barcode', 'cell barcode'), ('UMI_long', 'UMI')]:\n",
    "    \n",
    "    print(\"Number of times each {0} observed:\".format(proplabel))\n",
    "    df = (df_ccs\n",
    "         .groupby(['gene_aligned_target', prop], as_index=False)\n",
    "         .agg({'CCS':'count'})\n",
    "         .rename(columns={'CCS':'times_observed', prop:'number'})\n",
    "         .groupby(['gene_aligned_target', 'times_observed'], as_index=False)\n",
    "         .agg('count')\n",
    "         .assign(times_observed=lambda x:\n",
    "                 x.times_observed\n",
    "                 .clip(0, max_obs)\n",
    "                 .map(lambda n: str(n) if n < max_obs else '{0}+'.format(max_obs)))\n",
    "        )\n",
    "    nobservedplot = os.path.join(analysisdir, '{0}_nobserved.pdf'.format(proplabel))\n",
    "    (ggplot(df, aes('times_observed', 'number')) +\n",
    "        geom_bar(stat='identity') +\n",
    "        facet_wrap('gene_aligned_target', nrow=1) +\n",
    "        xlab('times {0} observed'.format(proplabel)) +\n",
    "        ylab('number of {0}s'.format(proplabel))\n",
    "        ).save(nobservedplot, width=13, height=3)\n",
    "    showPDF(nobservedplot)\n",
    "    \n",
    "    print(\"Rarefaction plot for {0}s:\".format(proplabel))\n",
    "    rarefyplot = os.path.join(analysisdir, '{0}_rarefaction.pdf'.format(proplabel))\n",
    "    dms_tools2.plot.plotRarefactionCurves(df_ccs, prop,\n",
    "            rarefyplot, facet_col='gene_aligned_target',\n",
    "            ylabel='number of {0}s'.format(proplabel), xlabel='number of CCSs',\n",
    "            nrow=2)\n",
    "    showPDF(rarefyplot)"
   ]
  },
  {
   "cell_type": "markdown",
   "metadata": {},
   "source": [
    "These plots make clear that we are nowhere near saturation of the UMIs: very few are observed more than once and the rarefaction plots indicate no saturation.\n",
    "Therefore, we aren't going to use the UMIs going forward, as typically very few are sample multiple time.\n",
    "\n",
    "But for the cell barcodes, it appears that a majority of the barcodes that we observe are observed multiple times.\n",
    "However, we are still not all that close to saturation of cell barcodes in the rarefaction plots--things are flattening off, but we could still clearly get more barcodes for all genes if we sequenced more.\n",
    "Also, we would like multiple UMIs for individual cells to give error correction on calling that viral genotype."
   ]
  },
  {
   "cell_type": "markdown",
   "metadata": {},
   "source": [
    "### Get just one sequence per UMI\n",
    "Although the subsection below shows that most UMIs are only observed once, some are observed multiple times.\n",
    "When we have multiple sequences for a UMI and we treat them all independently, this could skew our estimates since many of the sources of error (reverse transcription, PCR, etc) will be shared by all members of a UMI class.\n",
    "We therefore want to get just **one** of each UMI for subsequent analysis.\n",
    "\n",
    "Probably the best way to do this would be to take the consensus of the UMIs for each duplicated UMI.\n",
    "However, we are going to take a simpler approach which should also work fine provided the PacBio sequencing accuracy is high:\n",
    "  1. If some of the UMIs correspond to full-length alignments and others don't, subset to the full-length alignment ones. The reason is that if anything is spuriously enriched during PCR, it will likely be a shorter segment.\n",
    "  2. After performing step 1, keep the one with the highest accuracy over the aligned gene.\n",
    "\n",
    "Note that we do this on the *UMI_long* variable (concatenated UMI and cell barcode) defined above, and only group shared *UMI_long*s for the same alignment target and viral barcode.\n",
    "\n",
    "First, we tag the duplicate UMIs and plot the number of CCSs that correspond to the duplicate UMIs for each gene:"
   ]
  },
  {
   "cell_type": "code",
   "execution_count": null,
   "metadata": {},
   "outputs": [],
   "source": [
    "df_ccs = (\n",
    "    df_ccs\n",
    "    .sort_values(['full_length', 'gene_accuracy'], ascending=False)\n",
    "    .assign(duplicate_UMI=lambda x: x.duplicated(\n",
    "            ['gene_aligned_target', 'viral_barcode', 'UMI_long']))\n",
    "    )\n",
    "\n",
    "duplicate_UMI_plot = os.path.join(analysisdir, 'duplicate_UMIs.pdf')\n",
    "(ggplot(df_ccs, aes('gene_aligned_target', fill='duplicate_UMI')) +\n",
    "    geom_bar(position=position_dodge()) +\n",
    "    scale_fill_manual(COLOR_BLIND_PALETTE_GRAY[1 : ]) +\n",
    "    theme(axis_text_x=element_text(angle=90, hjust=0.5)) +\n",
    "    ylab('number of aligned CCSs')\n",
    "    ).save(duplicate_UMI_plot, height=2.5, width=4)\n",
    "showPDF(duplicate_UMI_plot, width=500)\n",
    "\n",
    "df_ccs.assign(number=1).groupby('duplicate_UMI').aggregate({'number':'count'})"
   ]
  },
  {
   "cell_type": "markdown",
   "metadata": {},
   "source": [
    "We see that most UMIs are not duplicated, but a non-negligible number are.\n",
    "Now we remove these duplicated UMIs from further analysis, meaning we will just keep the first CCS for each UMI (above we sorted so that highest accuracy full-length sequences are first for each UMI):"
   ]
  },
  {
   "cell_type": "code",
   "execution_count": null,
   "metadata": {},
   "outputs": [],
   "source": [
    "df_ccs = df_ccs.query('not duplicate_UMI')"
   ]
  },
  {
   "cell_type": "markdown",
   "metadata": {},
   "source": [
    "### Genes sequenced per cell\n",
    "We will now examine how completely the different genes are sequenced in each cell.\n",
    "\n",
    "Specifically, we want to determine how many genes are captured per cell, and which genes tend to be present or missing.\n",
    "Note that this analysis is limited to only cells in which at least one gene is captured.\n",
    "\n",
    "The M2 and NS2 isoforms are at very low abundance, and their sequences are actually included within the longer unspliced major M1 and NS2 isoforms.\n",
    "We therefore perform the analysis both on all isoforms and just the major isoforms:"
   ]
  },
  {
   "cell_type": "code",
   "execution_count": null,
   "metadata": {},
   "outputs": [],
   "source": [
    "# analyze all flu genes, and just major isoforms\n",
    "all_isoforms = set(mapper.targetseqs.keys())\n",
    "major_isoforms = {sorted(isoforms)[0] for isoforms in mapper.target_isoforms.values()}\n",
    "print(\"Analyzing all {0} flu genes and just the {1} major isoforms ({2}).\"\n",
    "      .format(len(all_isoforms), len(major_isoforms), ', '.join(major_isoforms)))"
   ]
  },
  {
   "cell_type": "code",
   "execution_count": null,
   "metadata": {},
   "outputs": [],
   "source": [
    "for isoforms, isoform_desc in [\n",
    "        (all_isoforms, 'all'), (major_isoforms, 'major')]:\n",
    "\n",
    "    print(\"\\nAnalysis of {0} isoforms ({1} genes):\"\n",
    "          .format(isoform_desc, len(isoforms)))\n",
    "    \n",
    "    # calculate genes per cell\n",
    "    genes_per_cell = (\n",
    "        df_ccs\n",
    "        .query('gene_aligned_target in @isoforms')\n",
    "        .groupby(['barcode'])\n",
    "        .agg({'gene_aligned_target':lambda x: len(x.unique())})\n",
    "        .rename(columns={'gene_aligned_target':'number of flu genes'})\n",
    "        )\n",
    "    # calculate genes per cell conditioned on presence of each gene\n",
    "    genes_per_cell_by_gene = (\n",
    "        df_ccs\n",
    "        .query('gene_aligned_target in @isoforms')\n",
    "        .assign(has_gene=True,\n",
    "                gene_aligned_target=lambda x: \n",
    "                    x.gene_aligned_target.cat.remove_unused_categories())\n",
    "        [['barcode', 'gene_aligned_target', 'has_gene']]\n",
    "        .groupby(['barcode', 'gene_aligned_target'])\n",
    "        .agg('any').fillna(False)\n",
    "        .join(genes_per_cell)\n",
    "        .reset_index()\n",
    "        )\n",
    "\n",
    "    # plot distribution of genes per cell\n",
    "    plotwidth = 1 + 0.2 * len(isoforms)\n",
    "    genes_per_cell_plot = os.path.join(analysisdir,\n",
    "            '{0}_genes_per_cell.pdf'.format(isoform_desc))\n",
    "    (ggplot(genes_per_cell, aes('number of flu genes')) +\n",
    "        geom_histogram(binwidth=1) +\n",
    "        scale_x_continuous(breaks=range(1, len(isoforms) + 1)) +\n",
    "        ylab('number of cells')\n",
    "        ).save(genes_per_cell_plot, height=2.25, width=plotwidth)\n",
    "    showPDF(genes_per_cell_plot, 80 * plotwidth)\n",
    "    \n",
    "    # plot distribution of genes per cell faceted by gene presence\n",
    "    genes_per_cell_by_gene_plot = os.path.join(analysisdir,\n",
    "            '{0}_genes_per_cell_by_gene.pdf'.format(isoform_desc))\n",
    "    plotwidth=1 + len(isoforms)**2 * 0.1\n",
    "    (ggplot(genes_per_cell_by_gene,\n",
    "            aes('number of flu genes', fill='has_gene')) +\n",
    "        geom_histogram(binwidth=1) +\n",
    "        scale_x_continuous(breaks=range(1, len(isoforms) + 1)) +\n",
    "        ylab('number of cells') +\n",
    "        facet_wrap('~gene_aligned_target', nrow=2) +\n",
    "        scale_fill_manual(COLOR_BLIND_PALETTE_GRAY, name='has gene')\n",
    "        ).save(genes_per_cell_by_gene_plot, height=4.25, width=plotwidth)\n",
    "    showPDF(genes_per_cell_by_gene_plot, 80 * plotwidth)"
   ]
  },
  {
   "cell_type": "markdown",
   "metadata": {},
   "source": [
    "## Call mutations\n",
    "We have already technically called mutations far above when we passed a `dms_tools2.minimap2.MutationCaller` to the `dms_tools2.pacbio.matchAndAlignSeqs` method used to create the data frame holding the results.\n",
    "We now want to examine these mutations and impose criteria (such as being observed in multiple sequences) to determine which ones are real.\n",
    "\n",
    "### Number of mutations per gene\n",
    "First, we simply calculate and plot the number of mutations called per aligned sequence for each gene and mutation type, also stratifying by the viral barcode:"
   ]
  },
  {
   "cell_type": "code",
   "execution_count": null,
   "metadata": {},
   "outputs": [],
   "source": [
    "max_muts = 3 # plot up to this many mutations\n",
    "\n",
    "nmuts_df = (\n",
    "    df_ccs\n",
    "    .assign(substitution=lambda x: x.gene_aligned_mutations.apply(\n",
    "                    dms_tools2.minimap2.Mutations.substitutions),\n",
    "            insertion=lambda x: x.gene_aligned_mutations.apply(\n",
    "                    dms_tools2.minimap2.Mutations.insertions),\n",
    "            deletion=lambda x: x.gene_aligned_mutations.apply(\n",
    "                    dms_tools2.minimap2.Mutations.deletions))\n",
    "    .melt(id_vars=['gene_aligned_target', 'viral_barcode'],\n",
    "          value_vars=['substitution', 'insertion', 'deletion'],\n",
    "          var_name='mutation_type', value_name='mutation_list')\n",
    "    # workaround melt / categorical bug: https://github.com/pandas-dev/pandas/issues/15853\n",
    "    .assign(gene_aligned_target=lambda x: pandas.Categorical(\n",
    "            x.gene_aligned_target, targetnames))\n",
    "    .assign(number=lambda x: x.mutation_list.map(len).clip(0, max_muts)\n",
    "            .map(lambda n: str(n) if n < max_muts else '{0}+'.format(max_muts)))\n",
    "    .assign(nseqs=1) # dummy variable for counting\n",
    "    .groupby(['gene_aligned_target', 'viral_barcode', 'mutation_type', 'number'])\n",
    "    .agg({'nseqs':'count'})\n",
    "    .assign(fraction=lambda x: # see https://stackoverflow.com/a/23377155\n",
    "                x.div(df_ccs.assign(nseqs=1)\n",
    "                              .groupby('gene_aligned_target')\n",
    "                              .agg({'nseqs':'count'}),\n",
    "                      'gene_aligned_target'))\n",
    "    .reset_index()\n",
    "    )\n",
    "\n",
    "nmuts_plot = os.path.join(analysisdir, 'nmuts_plot.pdf')\n",
    "(ggplot(nmuts_df, aes('number', 'fraction', fill='viral_barcode')) +\n",
    "    geom_bar(stat='identity') + \n",
    "    facet_grid('mutation_type ~ gene_aligned_target') +\n",
    "    xlab('number of mutations') +\n",
    "    ylab('fraction of sequences') +\n",
    "    scale_fill_manual(COLOR_BLIND_PALETTE_GRAY[1 : ])\n",
    "    ).save(nmuts_plot, width=12, height=7)\n",
    "showPDF(nmuts_plot)"
   ]
  },
  {
   "cell_type": "markdown",
   "metadata": {},
   "source": [
    "We see above that we often call at least one deletion for PB2, PB1, and PA.\n",
    "This is expected since these genes often have internal deletions. \n",
    "We also call a lot of deletions for HA, which is less expected.\n",
    "For the other genes, deletions are rarely called.\n",
    "\n",
    "We don't see many insertions (as perhaps expected).\n",
    "\n",
    "We see quite a few point substitutions, with the number probably about proportional to gene length (recalling that the polymerase genes are actually usually internally deleted in our data, and so not all that long). \n",
    "At our sequencing accuracy of 99.9% cutoff, we would expect about 1.5 point substitutions per gene for genes like HA, NP, and NA. \n",
    "In reality it is a bit higher, but of course some of this is probably due to their also being **real** point substitutions.\n",
    "In any case, the high substitution rate indicates that the sequences probably have an appreciable degree of errors from sequencing or PCR that we will need to correct somehow...\n",
    "\n",
    "The behavior of the two different viral barcodes generally looks comparable in terms of the distribution of mutations for all genes except the polymerase ones (where we already have observed that selective enrichment of certain deletions leads to some biases) and M2 / NS2 (where the counts are very low)."
   ]
  },
  {
   "cell_type": "markdown",
   "metadata": {},
   "source": [
    "### Lengths of indels\n",
    "Now we look at the length distribution of the insertion and deletion mutations, again stratifying by gene and viral barcode.\n",
    "*A priori*, we might expect two kinds of mutations: very short indels (possibly due to sequencing errors), and longer internal deletions that are real."
   ]
  },
  {
   "cell_type": "code",
   "execution_count": null,
   "metadata": {},
   "outputs": [],
   "source": [
    "indel_len_df = (\n",
    "    df_ccs\n",
    "    .assign(insertion=lambda x: x.gene_aligned_mutations.apply(\n",
    "                    dms_tools2.minimap2.Mutations.insertions, returnval='length'),\n",
    "            deletion=lambda x: x.gene_aligned_mutations.apply(\n",
    "                    dms_tools2.minimap2.Mutations.deletions, returnval='length'))\n",
    "    .melt(id_vars=['gene_aligned_target', 'viral_barcode'],\n",
    "          value_vars=['insertion', 'deletion'],\n",
    "          var_name='mutation_type', value_name='mutation_length')\n",
    "    .groupby(['gene_aligned_target', 'viral_barcode', 'mutation_type'])\n",
    "    .mutation_length\n",
    "    .sum()\n",
    "    # column of lists to long form: https://stackoverflow.com/a/27266225\n",
    "    .apply(pandas.Series)\n",
    "    .stack()\n",
    "    .rename('length')\n",
    "    .reset_index()\n",
    "    # workaround melt / categorical bug: https://github.com/pandas-dev/pandas/issues/15853\n",
    "    .assign(gene_aligned_target=lambda x: pandas.Categorical(\n",
    "            x.gene_aligned_target, targetnames))\n",
    "    ) \n",
    "    \n",
    "indel_len_plot = os.path.join(analysisdir, 'indel_len_plot.pdf')\n",
    "(ggplot(indel_len_df, aes('length', fill='viral_barcode')) +\n",
    "    geom_histogram(aes(y='..density..')) +\n",
    "    facet_grid('mutation_type ~ gene_aligned_target') +\n",
    "    ylab('relative fraction') +\n",
    "    scale_y_continuous(breaks=None) +\n",
    "    scale_x_log10(labels=lambda x: x.astype('int') \n",
    "                  if all(x.astype('int') == x) else x) +\n",
    "    scale_fill_manual(COLOR_BLIND_PALETTE_GRAY[1 : ])\n",
    "    ).save(indel_len_plot, width=14, height=4)\n",
    "showPDF(indel_len_plot)"
   ]
  },
  {
   "cell_type": "markdown",
   "metadata": {},
   "source": [
    "These plots are consistent with virtually all of the insertions being very short, plausibly due to sequencing errors.\n",
    "For most genes, the deletions are also very short and plausibly due to sequencing errors.\n",
    "However, for some genes (especially the polymerase genes but also to some extent HA and a few others), many of the deletions are very long and unlikely to be sequencing errors."
   ]
  },
  {
   "cell_type": "markdown",
   "metadata": {},
   "source": [
    "### Accuracy of mutations\n",
    "Below we compute the distributions of accuracies for mutations from the Q-values, and then plot the error rate (1 minus the accuracy) for these mutations.\n",
    "We also do this for **all** sites in the genes.\n",
    "The goal here is to determine if the mutations are enriched at low accuracy sites where sequencing errors are more probable.\n",
    "\n",
    "First, plot the accuracy of all sites in the aligned genes:"
   ]
  },
  {
   "cell_type": "code",
   "execution_count": null,
   "metadata": {},
   "outputs": [],
   "source": [
    "min_error_rate = 1e-6 # plot error rates down to this low\n",
    "\n",
    "# data frame with accuracies of all sites\n",
    "all_acc_df = (\n",
    "    pandas.DataFrame({\n",
    "        'accuracy':dms_tools2.pacbio.qvalsToAccuracy(df_ccs\n",
    "                    .gene_qvals.apply(pandas.Series).stack().values,\n",
    "                    no_avg=True)})\n",
    "    .assign(error_rate=lambda x: 1 - x.accuracy.clip(upper=1 - min_error_rate))\n",
    "    )\n",
    "\n",
    "# cumulative fraction plot\n",
    "all_acc_plot = os.path.join(analysisdir, 'all_acc_plot.pdf')\n",
    "(ggplot(all_acc_df, aes('error_rate')) +\n",
    "    stat_ecdf() +\n",
    "    ylab('cumulative fraction') +\n",
    "    scale_x_log10() +\n",
    "    scale_y_continuous(limits=(0.5, 1)) \n",
    "    ).save(all_acc_plot, width=3, height=2)\n",
    "showPDF(all_acc_plot, width=300)"
   ]
  },
  {
   "cell_type": "markdown",
   "metadata": {},
   "source": [
    "As can be seen from the above plot, the vast majority of sites have very high accuracies.\n",
    "\n",
    "Specifically, we will only consider mutations that have accuracies of at least 0.999 (error rates < 0.001).\n",
    "This is the following fraction of all site calls:"
   ]
  },
  {
   "cell_type": "code",
   "execution_count": null,
   "metadata": {},
   "outputs": [],
   "source": [
    "mut_acc_threshold = 0.999\n",
    "print(\"{0} of all called identities meet the accuracy threshold.\"\n",
    "        .format(len(all_acc_df.accuracy[all_acc_df.accuracy >= mut_acc_threshold])\n",
    "        / len(all_acc_df)))"
   ]
  },
  {
   "cell_type": "markdown",
   "metadata": {},
   "source": [
    "Now we make the same plot for just the accuracy of the mutated sites (not yet applying the accuracy filter in the cell above):"
   ]
  },
  {
   "cell_type": "code",
   "execution_count": null,
   "metadata": {},
   "outputs": [],
   "source": [
    "mut_acc_df = (\n",
    "    df_ccs\n",
    "    .assign(insertion=lambda x: x.gene_aligned_mutations.apply(\n",
    "                    dms_tools2.minimap2.Mutations.insertions, returnval='accuracy'),\n",
    "            deletion=lambda x: x.gene_aligned_mutations.apply(\n",
    "                    dms_tools2.minimap2.Mutations.deletions, returnval='accuracy'),\n",
    "            substitution=lambda x: x.gene_aligned_mutations.apply(\n",
    "                    dms_tools2.minimap2.Mutations.substitutions, returnval='accuracy'))\n",
    "    .melt(id_vars=['gene_aligned_target', 'viral_barcode'],\n",
    "          value_vars=['insertion', 'deletion', 'substitution'],\n",
    "          var_name='mutation_type', value_name='accuracy')\n",
    "    .groupby(['gene_aligned_target', 'viral_barcode', 'mutation_type'])\n",
    "    .accuracy\n",
    "    .sum()\n",
    "    # column of lists to long form: https://stackoverflow.com/a/27266225\n",
    "    .apply(pandas.Series)\n",
    "    .stack()\n",
    "    .rename('accuracy')\n",
    "    .reset_index()\n",
    "    # workaround melt / categorical bug: https://github.com/pandas-dev/pandas/issues/15853\n",
    "    .assign(gene_aligned_target=lambda x: pandas.Categorical(\n",
    "            x.gene_aligned_target, targetnames))\n",
    "    .assign(error_rate=lambda x: 1 - x.accuracy.clip(upper=1 - min_error_rate))\n",
    "    )\n",
    "\n",
    "mut_acc_plot = os.path.join(analysisdir, 'mut_acc_plot.pdf')\n",
    "(ggplot(mut_acc_df, aes('error_rate', color='viral_barcode')) +\n",
    "    stat_ecdf() +\n",
    "    facet_grid('mutation_type ~ gene_aligned_target') +\n",
    "    ylab('cumulative fraction') +\n",
    "    scale_x_log10() +\n",
    "    scale_y_continuous(limits=(0.5, 1)) +\n",
    "    scale_color_manual(COLOR_BLIND_PALETTE_GRAY[1 : ])\n",
    "    ).save(mut_acc_plot, width=16, height=4)\n",
    "showPDF(mut_acc_plot)"
   ]
  },
  {
   "cell_type": "markdown",
   "metadata": {},
   "source": [
    "As can be seen above, for many types of mutations the accuracies of the mutations are clearly lower than for all sites.\n",
    "This is the case for the insertions, the deletions in most genes other than the polymerase genes (which probably have long real deletions), and to a lesser degree for the substitution mutations.\n",
    "\n",
    "This provides evidence that at least a reasonable fraction of sites that we call as having mutations really are lower accuracy mis-calls, and so justifies imposing an accuracy threshold to avoid getting lots of signal for the low quality mutation calls."
   ]
  },
  {
   "cell_type": "markdown",
   "metadata": {},
   "source": [
    "## Analyze flu sequences at cell level\n",
    "Now we want to analyze the results at the level of cells.\n",
    "In particular, we want to try to build up accurate calls of the full sequences of the flu genes in individual infected cells.\n",
    "Because it appears that individual CCSs may not be sufficiently accurate to call these, we in particular look for cells where we have multiple CCSs to take the consensus of these for the cell.\n",
    "\n",
    "Of course, this approach of building consensus of CCSs from the same cell depends on the assumption that the cell was only infected by a single virion (only sometimes true based on [monocle_analysis.ipynb](monocle_analysis.ipynb)...) and that _de novo_ mutations did not arise rapidly in the first few rounds of genome replication after infection (probably usually true given what is known about the virus's mutation rate)."
   ]
  },
  {
   "cell_type": "markdown",
   "metadata": {},
   "source": [
    "### Aggregate data at the cell level\n",
    "First, we aggregate the information for each cell barcode, flu gene, and viral barcode into a new data frame called *df_cells*.\n",
    "We aggregate by cell barcode and flu gene because we would like to build the consensus for each flu gene for each cell, and we aggregate by viral barcode because if genes come from different viral barcodes then we know that the cell must have been infected by multiple virions, one of each viral barcode (note that there could also be some cells infected by multiple virions of the same barcode that we won't catch).\n",
    "\n",
    "For each cell barcode, flu gene, and viral barcode we calculate the number of valid aligned sequences and a list of the mutations called in each of these CCSs.\n",
    "We also calculate the number of valid aligned sequences that are also **full length**, using the criterion for full length sequences defined earlier in this notebook (this is important since for some genes such as the polymerase ones, our sequencing may be highly biased against full-length sequences).\n",
    "\n",
    "Also, because we know that we have very low levels of the minor isoforms M2 and NS2, and because sequences of the major isoforms M1 and NS1 contain the full sequences of M2 and NS2 as well, we also make a column called *major_isoform* which is true only if a flu gene is a major isoform.\n",
    "We will then perform many of our operations only on these major isoforms."
   ]
  },
  {
   "cell_type": "code",
   "execution_count": null,
   "metadata": {},
   "outputs": [],
   "source": [
    "df_cells = (\n",
    "    df_ccs\n",
    "    .groupby(['barcode', 'gene_aligned_target', 'viral_barcode'])\n",
    "    .apply(lambda x: pandas.Series({ # following https://stackoverflow.com/a/47103408\n",
    "        'n_sequences':x.gene.count(),\n",
    "        'n_sequences_full_length':x.full_length.sum(),\n",
    "        'mutation_list':list(x.gene_aligned_mutations)\n",
    "        }))\n",
    "    .query('n_sequences > 0')\n",
    "    .reset_index()\n",
    "    .assign(major_isoform=lambda x: x.gene_aligned_target.isin(major_isoforms))\n",
    "    )"
   ]
  },
  {
   "cell_type": "markdown",
   "metadata": {},
   "source": [
    "### Genes sequenced per cell\n",
    "Now for each cell and viral barcode, we tally how many genes are observed at least N times for several values of the threshold N.\n",
    "We do this counting **only** for the major isoforms, so the most genes that can be observed are eight.\n",
    "The reason that we tally the number of genes observed for several thresholds is to figure out how many cells we'll retain if we impose various different criterion for how many sequences we take the consensus of to call mutations.\n",
    "\n",
    "We do this both for all sequences and for full-length sequences only."
   ]
  },
  {
   "cell_type": "code",
   "execution_count": null,
   "metadata": {},
   "outputs": [],
   "source": [
    "# tally how many genes observed >= this many times for each cell\n",
    "n_obs = [1, 2, 3]\n",
    "n_obs_labels = ['at least {0} sequence{1}'.format(\n",
    "        n, 's' if n > 1 else '') for n in n_obs]\n",
    "n_obs_cols = {\n",
    "    'all_lengths':['n_genes_ge_{0}'.format(n) for n in n_obs],\n",
    "    'full_length':['n_genes_ge_{0}_full_length'.format(n) for n in n_obs]\n",
    "    }\n",
    "\n",
    "for nseq_col, cols in [\n",
    "        ('n_sequences', n_obs_cols['all_lengths']),\n",
    "        ('n_sequences_full_length', n_obs_cols['full_length'])]:\n",
    "    for nobs, col in zip(n_obs, cols):\n",
    "        df_cells[col] = (\n",
    "            df_cells\n",
    "            .assign(count_gene=lambda x: # major isoform observed enough? \n",
    "                    x.major_isoform & (x[nseq_col] >= nobs))\n",
    "            .groupby(['barcode', 'viral_barcode'])\n",
    "            .count_gene\n",
    "            .transform('sum')\n",
    "            .astype('int')\n",
    "            )"
   ]
  },
  {
   "cell_type": "markdown",
   "metadata": {},
   "source": [
    "Now plot the number of cells with a given number of genes sequenced for several thresholds for how many sequences we require per gene.\n",
    "We make these plots both for any sequence, and requiring full-length sequences."
   ]
  },
  {
   "cell_type": "code",
   "execution_count": null,
   "metadata": {},
   "outputs": [],
   "source": [
    "# dataframe with number of gene and full-length genes per cell\n",
    "gene_counts_df = (\n",
    "    df_cells\n",
    "    .melt(id_vars=['barcode', 'viral_barcode'],\n",
    "          value_vars=n_obs_cols['all_lengths'] + n_obs_cols['full_length'],\n",
    "          var_name='minimum_observations',\n",
    "          value_name='number of flu genes')\n",
    "    .assign(full_length_only=lambda x: numpy.where(\n",
    "          x.minimum_observations.isin(n_obs_cols['full_length']),\n",
    "          'full length only', 'all lengths'))\n",
    "    .assign(minimum_observations=lambda x: x.minimum_observations\n",
    "          .replace(dict(zip(n_obs_cols['all_lengths'], n_obs_labels)))\n",
    "          .replace(dict(zip(n_obs_cols['full_length'], n_obs_labels))))\n",
    "    )\n",
    "\n",
    "gene_counts_plot = os.path.join(analysisdir, 'gene_counts.pdf')\n",
    "(ggplot(gene_counts_df, aes('number of flu genes', fill='viral_barcode')) +\n",
    "    geom_bar(position=position_dodge()) +\n",
    "    facet_grid('full_length_only ~ minimum_observations') +\n",
    "    scale_x_continuous(limits=(0.5, len(major_isoforms) + 0.5),\n",
    "        breaks=list(range(1, len(major_isoforms) + 1))) +\n",
    "    ylab(\"number of cells\") +\n",
    "    scale_fill_manual(COLOR_BLIND_PALETTE_GRAY[1 : ])\n",
    "    ).save(gene_counts_plot, height=4.25, width=2 * (1 + len(n_obs)))\n",
    "showPDF(gene_counts_plot)"
   ]
  },
  {
   "cell_type": "markdown",
   "metadata": {},
   "source": [
    "We see that for a reasonable number of cells, we have all 8 genes sequenced multiple times.\n",
    "This might be even better than it initially seems, since (as detailed more in [monocle_analysis.ipynb](monocle_analysis.ipynb)) some cells don't express all viral genes.\n",
    "This bodes well for calling viral genome sequences from these cells using the consensus of multiple CCSs."
   ]
  },
  {
   "cell_type": "markdown",
   "metadata": {},
   "source": [
    "## Call mutations for viruses in cells\n",
    "Now we try to call the \"consensus\" sequence for cells from the sequences we have observed from that cell.\n",
    "We are trying to take advantage of the fact that we often have multiple CCSs for the same cell barcode for a gene."
   ]
  },
  {
   "cell_type": "markdown",
   "metadata": {},
   "source": [
    "### Call consensus mutations\n",
    "First, we use a `dms_tools2.minimap2.MutationConsensus` object to call mutations for each cell barcode.\n",
    "Note that this calls substitutions, deletions, and insertions separately.\n",
    "We impose the accuracy threshold of 0.999 described above."
   ]
  },
  {
   "cell_type": "code",
   "execution_count": null,
   "metadata": {},
   "outputs": [],
   "source": [
    "# object to call mutation consensus\n",
    "mutcons = dms_tools2.minimap2.MutationConsensus(min_acc=mut_acc_threshold)\n",
    "\n",
    "mutation_types = ['substitutions', 'deletions', 'insertions']\n",
    "\n",
    "# call mutations with stats on number of sequences in which observed\n",
    "for mutation_type in mutation_types:\n",
    "    df_cells[mutation_type] = df_cells.mutation_list.apply(\n",
    "            mutcons.callConsensus, mutation_type=mutation_type, include_stats=True)"
   ]
  },
  {
   "cell_type": "markdown",
   "metadata": {},
   "source": [
    "Sequences are called as *unknown* if they are not wildtype and don't have enough sequences.\n",
    "We see how many barcode / gene combinations are called *unknown*:"
   ]
  },
  {
   "cell_type": "code",
   "execution_count": null,
   "metadata": {},
   "outputs": [],
   "source": [
    "df_cells['unknown'] = (df_cells[mutation_types] == 'unknown').any(axis=1)\n",
    "\n",
    "unknown_seq_plot = os.path.join(analysisdir, 'unknown_seqs.pdf')\n",
    "(ggplot(df_cells\n",
    "        .query('major_isoform')\n",
    "        .assign(n=lambda x: numpy.where(x.n_sequences > 1, '>1', '1')),\n",
    "        aes('n', fill='unknown')) +\n",
    "    geom_bar() +\n",
    "    facet_wrap('~gene_aligned_target', nrow=1) +\n",
    "    xlab('number of sequences for gene in cell') +\n",
    "    scale_fill_manual(COLOR_BLIND_PALETTE_GRAY[1 :])\n",
    "    ).save(unknown_seq_plot, height=1.8, width=8)\n",
    "showPDF(unknown_seq_plot)"
   ]
  },
  {
   "cell_type": "markdown",
   "metadata": {},
   "source": [
    "As expected, when there is just one sequence for a cell in a gene, most of the time it is called *unknown* since it typically isn't wildtype and our prior is to not believe any mutation if we only see it once.\n",
    "This is almost completely true for the longer genes, and mostly true for the shorter ones.\n",
    "This last fact makes sense, as longer genes have more opportunity for mutations.\n",
    "\n",
    "We will ignore from further consideration any *unknown* genes / cell barcodes, since we can't call mutations in these in a useful way."
   ]
  },
  {
   "cell_type": "markdown",
   "metadata": {},
   "source": [
    "### Frequency of mutations\n",
    "Now we look at the frequency of the consensus mutations in each segment:"
   ]
  },
  {
   "cell_type": "code",
   "execution_count": null,
   "metadata": {},
   "outputs": [],
   "source": [
    "mutfreq_df = (\n",
    "    df_cells\n",
    "    .query('major_isoform & (not unknown)')\n",
    "    .melt(id_vars=['gene_aligned_target', 'viral_barcode', 'n_sequences'],\n",
    "          value_vars=mutation_types,\n",
    "          var_name='mutation_type',\n",
    "          value_name='mutations')\n",
    "    .assign(n_mutations=lambda x: x.mutations.str.split().apply(len))\n",
    "    .assign(n_mutations_ceil=lambda x: x.n_mutations.clip(0, 3).map(\n",
    "            lambda n: str(n) if n < 3 else '3+'))\n",
    "    .assign(n_sequences_ceil=lambda x: x.n_sequences.clip(0, 9).astype('int')\n",
    "            .map(lambda n: str(n) if n < 9 else '9+'))\n",
    "    .assign(mutated=lambda x: x.mutations.astype('bool'))\n",
    "    # workaround melt / categorical bug: https://github.com/pandas-dev/pandas/issues/15853\n",
    "    .assign(gene_aligned_target=lambda x: pandas.Categorical(\n",
    "            x.gene_aligned_target, targetnames))\n",
    "    )\n",
    "\n",
    "n_consensus_muts_plot = os.path.join(analysisdir, 'n_consensus_muts.pdf')\n",
    "(ggplot(mutfreq_df, aes('n_mutations_ceil')) +\n",
    "    geom_bar() +\n",
    "    facet_grid('gene_aligned_target ~ mutation_type') \n",
    "    ).save(n_consensus_muts_plot, width=4, height=10)\n",
    "showPDF(n_consensus_muts_plot, width=400)"
   ]
  },
  {
   "cell_type": "markdown",
   "metadata": {},
   "source": [
    "The plots above show that, as expected, mutations are quite rare.\n",
    "The most common type of mutation is deletions in the polymerase genes and to a lesser extent HA.\n",
    "\n",
    "Above we see that most cells don't have deletions even in the polymerase genes.\n",
    "At first, this seems surprising given the results way above showing that a large majority of the polymerase sequences have large deletions.\n",
    "We reconcile this by plotting the number of sequences per cell for those with and without deletions.\n",
    "We see that the cells with deletions have their polymerase genes sequenced far more often than those without deletions, explaining the preponderance of deletions among the sequences even though there isn't a preponderance among the cells."
   ]
  },
  {
   "cell_type": "code",
   "execution_count": null,
   "metadata": {},
   "outputs": [],
   "source": [
    "nseqs_per_cell_by_del_plot = os.path.join(analysisdir, 'nseqs_per_cell_by_del_plot.pdf')\n",
    "(ggplot(df_cells\n",
    "            .query('not unknown')\n",
    "            .assign(deletion=lambda x: x.deletions.astype('bool'))\n",
    "            .groupby(['gene_aligned_target', 'deletion'])\n",
    "            .aggregate({'barcode':'count', 'n_sequences':'sum'})\n",
    "            .assign(seqs_per_cell=lambda x: x.n_sequences / x.barcode)\n",
    "            .reset_index(),\n",
    "        aes('gene_aligned_target', 'seqs_per_cell', fill='deletion')) +\n",
    "    geom_col(position=position_dodge()) +\n",
    "    scale_fill_manual(COLOR_BLIND_PALETTE_GRAY[1 : ]) +\n",
    "    theme(axis_text_x=element_text(angle=90, hjust=0.5))\n",
    "    ).save(nseqs_per_cell_by_del_plot, width=3.5, height=2)\n",
    "showPDF(nseqs_per_cell_by_del_plot, width=500)"
   ]
  },
  {
   "cell_type": "markdown",
   "metadata": {},
   "source": [
    "### Mutations vs number of sequences\n",
    "A crucial issue is the criteria we use to call consensus mutations.\n",
    "If these are too lax, you might imagine that we would call more mutations if we have fewer sequences, due to some just being errors.\n",
    "\n",
    "To look at this, we plot the fraction of genes that are called that are mutated versus the number of sequences for that gene in that cell:"
   ]
  },
  {
   "cell_type": "code",
   "execution_count": null,
   "metadata": {},
   "outputs": [],
   "source": [
    "mutated_vs_nseqs_plots = os.path.join(analysisdir,'mutated_vs_nseqs.pdf')\n",
    "(ggplot(mutfreq_df, aes('n_sequences_ceil', fill='mutated')) +\n",
    "    geom_bar(position='fill') +\n",
    "    facet_grid('gene_aligned_target ~ mutation_type') +\n",
    "    xlab('number of sequences') +\n",
    "    ylab('fraction') +\n",
    "    scale_fill_manual(COLOR_BLIND_PALETTE_GRAY[1 : ]) +\n",
    "    theme(legend_position='top')\n",
    "    ).save(mutated_vs_nseqs_plots, width=6, height=9)\n",
    "showPDF(mutated_vs_nseqs_plots, width=400)"
   ]
  },
  {
   "cell_type": "markdown",
   "metadata": {},
   "source": [
    "For substitutions and insertions, we see no evidence that there is any bias in our calling related to the number of sequences. \n",
    "There is no trend to call more substitutions or insertions when there are fewer sequences.\n",
    "For deletions in the polymerase genes, we may call more deletions when we have more reads.\n",
    "This probably relates to the aforementioned issue that the cells for which we really get large numbers of reads are the ones with deletions that amplify well."
   ]
  },
  {
   "cell_type": "markdown",
   "metadata": {},
   "source": [
    "## Add to cell-gene matrix annotations\n",
    "As mentioned above have already called the valid cells with the [align_and_annotate.ipynb](align_and_annotate.ipynb) notebook, and written these cells with a bit of annotations to `results/cellgenecounts/merged_humanplusflu_cells.tsv`. \n",
    "(Note that we are working with the *IFN_enriched* sample, so in the file they barcodes all have the suffix `-IFN_enriched`).\n",
    "Now we want to add the genotypes / mutations that we have called by PacBio to these cell annotations:\n",
    "\n",
    "First, we read in the existing cell annotations"
   ]
  },
  {
   "cell_type": "code",
   "execution_count": null,
   "metadata": {},
   "outputs": [],
   "source": [
    "print(\"Reading cell annotations from {0}\".format(cellbarcodesfile))\n",
    "annotations = pandas.read_csv(cellbarcodesfile, sep='\\t').set_index('CellBarcode')   \n",
    "print(\"Read {0} annotated cells for the {1} sample.\".format(\n",
    "        len(annotations.query('Sample == @sample')), sample))\n",
    "assert not annotations.isna().any().any(), \"can't fill NaN values\""
   ]
  },
  {
   "cell_type": "markdown",
   "metadata": {},
   "source": [
    "Now we merge our PacBio into these existing annotations.\n",
    "First, we add the number of PacBio sequences for each flu gene (**all** isoforms), broken down by viral barcode."
   ]
  },
  {
   "cell_type": "code",
   "execution_count": null,
   "metadata": {},
   "outputs": [],
   "source": [
    "cell_nseqs = (\n",
    "    df_cells\n",
    "    .assign(colname=lambda x: x.gene_aligned_target.astype('str') + \n",
    "            x.viral_barcode.str.replace('flu', '') + '_n_PacBio_seqs')\n",
    "    .assign(CellBarcode=lambda x: x.barcode + '-' + sample)\n",
    "    .pivot(index='CellBarcode', columns='colname', values='n_sequences')\n",
    "    .fillna(0)\n",
    "    )"
   ]
  },
  {
   "cell_type": "markdown",
   "metadata": {},
   "source": [
    "Next, we add the consensus mutations for each flu gene (just major isoforms), broken down by viral barcode, breaking mutations down into substitutions, deletions, and insertions. \n",
    "We harmonize the naming of the genes with those in the existing cell annotations by renaming the major isoforms NS1 to NS and M1 to M, since the rest of the cell-gene matrix doesn't do more than 3' counting.\n",
    "Also, when there are no mutations we put the string *WT*, and when there is no data the entry is *None*."
   ]
  },
  {
   "cell_type": "code",
   "execution_count": null,
   "metadata": {},
   "outputs": [],
   "source": [
    "cell_mutations = (\n",
    "    pandas.concat([\n",
    "        df_cells\n",
    "        .query('(not unknown) & major_isoform')\n",
    "        .assign(CellBarcode=lambda x: x.barcode + '-' + sample)\n",
    "        .assign(colname=lambda x: x.gene_aligned_target.str\n",
    "                .replace('fluM1', 'fluM').replace('fluNS1', 'fluNS') + \n",
    "                x.viral_barcode.str.replace('flu', '') + '_' + mut)\n",
    "        .pivot(index='CellBarcode', columns='colname', values=mut)\n",
    "        for mut in mutation_types[ : 3]], axis=1)\n",
    "    .replace('', 'WT')\n",
    "    )"
   ]
  },
  {
   "cell_type": "markdown",
   "metadata": {},
   "source": [
    "Finally, we merge the original cell annotations and these new ones into a single new `*.tsv` file that is appropriate for use as input `Monocle`.\n",
    "This file is used in the [monocle_analysis.ipynb](monocle_analysis.ipynb) notebook."
   ]
  },
  {
   "cell_type": "code",
   "execution_count": null,
   "metadata": {},
   "outputs": [],
   "source": [
    "annotatedfile = os.path.join(\n",
    "        os.path.dirname(cellbarcodesfile),\n",
    "        'PacBio_annotated_' + os.path.basename(cellbarcodesfile))\n",
    "print(\"Writing PacBio annotated cell information to {0}\".format(annotatedfile))\n",
    "\n",
    "(annotations\n",
    "    .join(cell_nseqs).fillna(0)\n",
    "    .join(cell_mutations).fillna('None')\n",
    "    ).to_csv(annotatedfile, sep='\\t')"
   ]
  },
  {
   "cell_type": "markdown",
   "metadata": {},
   "source": [
    "## Should we sequence an existing sample more?\n",
    "The [monocle_analysis.ipynb](monocle_analysis.ipynb) notebook makes clear that we would pick up additional cells, including at least a dozen more IFN+ ones, if we could get more coverage of the polymerase genes.\n",
    "It appears that we especially need better coverage of the full-length polymerase genes. \n",
    "Which sequence runs get these the best?"
   ]
  },
  {
   "cell_type": "code",
   "execution_count": null,
   "metadata": {},
   "outputs": [],
   "source": [
    "sequence_more_plot = os.path.join(analysisdir, 'sequence_more.pdf')\n",
    "(ggplot(df_ccs\n",
    "            .query('gene_aligned_target in [\"fluPB2\", \"fluPB1\", \"fluPA\"]')\n",
    "            .query('full_length')\n",
    "            .groupby(['gene_aligned_target', 'samplename'])\n",
    "            .aggregate({'CCS':'count'})\n",
    "            .reset_index(),\n",
    "        aes('samplename', 'CCS')) +\n",
    "    geom_col() +\n",
    "    facet_wrap('gene_aligned_target') +\n",
    "    theme(axis_text_x=element_text(angle=90, hjust=0.5))\n",
    "    ).save(sequence_more_plot, width=7, height=3.5)\n",
    "showPDF(sequence_more_plot, width=500)"
   ]
  },
  {
   "cell_type": "markdown",
   "metadata": {},
   "source": [
    "It's pretty clear that sequencing the *2018-06-22_Pol_open* reaction is the best way to get more PB1 and PA.\n",
    "Unfortunately, it's less clear that this will get as many more PB2, which are less well represented in that run..."
   ]
  },
  {
   "cell_type": "code",
   "execution_count": null,
   "metadata": {},
   "outputs": [],
   "source": []
  }
 ],
 "metadata": {
  "kernelspec": {
   "display_name": "Python 3",
   "language": "python",
   "name": "python3"
  },
  "language_info": {
   "codemirror_mode": {
    "name": "ipython",
    "version": 3
   },
   "file_extension": ".py",
   "mimetype": "text/x-python",
   "name": "python",
   "nbconvert_exporter": "python",
   "pygments_lexer": "ipython3",
   "version": "3.6.5"
  },
  "toc": {
   "nav_menu": {},
   "number_sections": false,
   "sideBar": true,
   "skip_h1_title": false,
   "toc_cell": true,
   "toc_position": {
    "height": "1117.5px",
    "left": "0px",
    "right": "1214px",
    "top": "110.5px",
    "width": "271px"
   },
   "toc_section_display": "block",
   "toc_window_display": true
  }
 },
 "nbformat": 4,
 "nbformat_minor": 2
}
