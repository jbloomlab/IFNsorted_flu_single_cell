{
 "cells": [
  {
   "cell_type": "markdown",
   "metadata": {
    "toc": true
   },
   "source": [
    "<h1>Table of Contents<span class=\"tocSkip\"></span></h1>\n",
    "<div class=\"toc\" style=\"margin-top: 1em;\"><ul class=\"toc-item\"><li><span><a href=\"#Analysis-of-full-length-PacBio-sequencing-of-influenza-mRNAs\" data-toc-modified-id=\"Analysis-of-full-length-PacBio-sequencing-of-influenza-mRNAs-1\">Analysis of full-length PacBio sequencing of influenza mRNAs</a></span><ul class=\"toc-item\"><li><span><a href=\"#Set-up-for-analysis\" data-toc-modified-id=\"Set-up-for-analysis-1.1\">Set up for analysis</a></span><ul class=\"toc-item\"><li><span><a href=\"#Import-Python-modules\" data-toc-modified-id=\"Import-Python-modules-1.1.1\">Import Python modules</a></span></li><li><span><a href=\"#Define-/-create-directories\" data-toc-modified-id=\"Define-/-create-directories-1.1.2\">Define / create directories</a></span></li><li><span><a href=\"#How-many-CPUs-to-use\" data-toc-modified-id=\"How-many-CPUs-to-use-1.1.3\">How many CPUs to use</a></span></li></ul></li><li><span><a href=\"#Build-CCS's-from-PacBio-data\" data-toc-modified-id=\"Build-CCS's-from-PacBio-data-1.2\">Build CCS's from PacBio data</a></span><ul class=\"toc-item\"><li><span><a href=\"#Get-subreads-files-for-each-sequencing-run\" data-toc-modified-id=\"Get-subreads-files-for-each-sequencing-run-1.2.1\">Get subreads files for each sequencing run</a></span></li><li><span><a href=\"#Run-ccs\" data-toc-modified-id=\"Run-ccs-1.2.2\">Run <code>ccs</code></a></span></li></ul></li><li><span><a href=\"#Process-CCS's\" data-toc-modified-id=\"Process-CCS's-1.3\">Process CCS's</a></span><ul class=\"toc-item\"><li><span><a href=\"#Features-of-barcoded-CCSs\" data-toc-modified-id=\"Features-of-barcoded-CCSs-1.3.1\">Features of barcoded CCSs</a></span></li><li><span><a href=\"#Flu-mRNA-alignment-targets\" data-toc-modified-id=\"Flu-mRNA-alignment-targets-1.3.2\">Flu mRNA alignment targets</a></span></li><li><span><a href=\"#Match-and-align-barcoded-CCSs\" data-toc-modified-id=\"Match-and-align-barcoded-CCSs-1.3.3\">Match and align barcoded CCSs</a></span></li><li><span><a href=\"#Examine-unmatched-CCSs\" data-toc-modified-id=\"Examine-unmatched-CCSs-1.3.4\">Examine unmatched CCSs</a></span></li></ul></li><li><span><a href=\"#Now-align-to-flu-genes\" data-toc-modified-id=\"Now-align-to-flu-genes-1.4\">Now align to flu genes</a></span><ul class=\"toc-item\"><li><span><a href=\"#Specify-target-flu-sequences-to-which-we-align\" data-toc-modified-id=\"Specify-target-flu-sequences-to-which-we-align-1.4.1\">Specify target flu sequences to which we align</a></span></li><li><span><a href=\"#Perform-the-alignments\" data-toc-modified-id=\"Perform-the-alignments-1.4.2\">Perform the alignments</a></span></li></ul></li></ul></li></ul></div>"
   ]
  },
  {
   "cell_type": "markdown",
   "metadata": {},
   "source": [
    "# Analysis of full-length PacBio sequencing of influenza mRNAs\n",
    "The material from the 10X libraries for the *IFN_enriched* sample was enriched for viral mRNAs by semi-specific PCR, and then sequenced by PacBio.\n",
    "Here we analyze those data.\n",
    "\n",
    "## Set up for analysis\n",
    "First, we do some things to set up the parameters of the analysis.\n",
    "\n",
    "### Import Python modules\n",
    "We import the Python modules used.\n",
    "\n",
    "Note we use some functions from [dms_tools2](https://jbloomlab.github.io/dms_tools2/).\n",
    "\n",
    "We import [plotnine](https://plotnine.readthedocs.io/en/latest/) for plotting using a ggplot2-like syntax."
   ]
  },
  {
   "cell_type": "code",
   "execution_count": 1,
   "metadata": {},
   "outputs": [
    {
     "name": "stdout",
     "output_type": "stream",
     "text": [
      "Using dms_tools2 version 2.3.dev0\n"
     ]
    }
   ],
   "source": [
    "import os\n",
    "import glob\n",
    "import subprocess\n",
    "import shutil\n",
    "import multiprocessing\n",
    "import warnings\n",
    "import collections\n",
    "warnings.simplefilter('ignore')\n",
    "\n",
    "import pandas\n",
    "from IPython.display import display, HTML\n",
    "import Bio.SeqIO\n",
    "\n",
    "import dms_tools2\n",
    "print(\"Using dms_tools2 version {0}\".format(dms_tools2.__version__))\n",
    "from dms_tools2.ipython_utils import showPDF\n",
    "from dms_tools2.plot import COLOR_BLIND_PALETTE_GRAY\n",
    "\n",
    "# import plotnine for plotting\n",
    "from plotnine import *\n",
    "_ = theme_set(theme_bw(base_size=12))"
   ]
  },
  {
   "cell_type": "markdown",
   "metadata": {},
   "source": [
    "### Define / create directories\n",
    "We define the names of key directories for input and output, and create these directories if needed:"
   ]
  },
  {
   "cell_type": "code",
   "execution_count": 2,
   "metadata": {},
   "outputs": [],
   "source": [
    "# top results directory\n",
    "resultsdir = './results/'\n",
    "\n",
    "# directory for PacBio results\n",
    "pacbioresultsdir = os.path.join(resultsdir, 'pacbio')\n",
    "os.makedirs(pacbioresultsdir, exist_ok=True)"
   ]
  },
  {
   "cell_type": "markdown",
   "metadata": {},
   "source": [
    "### How many CPUs to use\n",
    "Specify max number to use:"
   ]
  },
  {
   "cell_type": "code",
   "execution_count": 3,
   "metadata": {},
   "outputs": [],
   "source": [
    "max_cpus = 14 # max number of CPUs to use\n",
    "ncpus = max(multiprocessing.cpu_count(), max_cpus)"
   ]
  },
  {
   "cell_type": "markdown",
   "metadata": {},
   "source": [
    "## Build CCS's from PacBio data\n",
    "First, we build the circular consensus sequences (CCSs).\n",
    "\n",
    "### Get subreads files for each sequencing run\n",
    "We have multiple sequencing runs:\n",
    "  - A run from June-8-2017 done at the UW PacBio core. This run used a PacBio RSII machine.\n",
    "  - A run from December-7-2017 done at the Fred Hutch Genomics core. This run used a PacBio Sequel machine.\n",
    "  \n",
    "Note that the material sequenced for these two runs was **not** identical. \n",
    "The balance of genes that were mixed differed, as well as the size selection and the way that the libraries were loaded.\n",
    "Therefore, we do not expect the same balance of different reads in the two runs.\n",
    "\n",
    "In addition, the data were processed differently.\n",
    "For the Hutch Genomics Core runs, the data are already processed into a `*.subreads.bam` file, while for UW PacBio core runs it is still in the `*.bas.h5` file."
   ]
  },
  {
   "cell_type": "code",
   "execution_count": 4,
   "metadata": {},
   "outputs": [],
   "source": [
    "seqruns = ['2017-06-08', '2017-12-07']\n",
    "\n",
    "seqdirs = {\n",
    "        '2017-06-08':'/fh/fast/bloom_j/SR/ngs/pacbio_UW/170608 Pacbio single cell/Emulsion Reaction/ABR_C_MACS.AR_0kb',\n",
    "        '2017-12-07':'/fh/fast/bloom_j/SR/ngs/pacbio/171207_bloom_j/r54228_20171201_171054/1_A01',\n",
    "        }\n",
    "\n",
    "bam_already = {'2017-06-08':False, '2017-12-07':True}"
   ]
  },
  {
   "cell_type": "markdown",
   "metadata": {},
   "source": [
    "Now we get the `*.subreads.bam` file for each run.\n",
    "If they already exist (e.g., if data were returned by the Fred Hutch Genomics Core), we just need to get the name of the file.\n",
    "But if they don't exist (e.g., if data were returned from UW PacBio Core), we need to run the PacBio [bax2bam](https://github.com/PacificBiosciences/bax2bam) software to create the `*subreads.bam` files from the `*.bas.h5` files."
   ]
  },
  {
   "cell_type": "code",
   "execution_count": 5,
   "metadata": {},
   "outputs": [
    {
     "name": "stdout",
     "output_type": "stream",
     "text": [
      "\n",
      "Getting subreads for 2017-06-08 sequencing run\n",
      "Subreads file already exists: ./results/pacbio/subreads/2017-06-08.subreads.bam\n",
      "\n",
      "Getting subreads for 2017-12-07 sequencing run\n",
      "Subreads file already exists: ./results/pacbio/subreads/2017-12-07.subreads.bam\n"
     ]
    }
   ],
   "source": [
    "# put or copy subreads into this directory\n",
    "subreadsdir = os.path.join(pacbioresultsdir, 'subreads')\n",
    "os.makedirs(subreadsdir, exist_ok=True)\n",
    "\n",
    "# store name of subreads files for each sequencing run\n",
    "subreads = dict([(seqrun, os.path.join(subreadsdir, seqrun + '.subreads.bam'))\n",
    "                 for seqrun in seqruns])\n",
    "\n",
    "# get subreads files\n",
    "for (seqrun, subreadsfile) in subreads.items():\n",
    "    print(\"\\nGetting subreads for {0} sequencing run\".format(seqrun))\n",
    "    \n",
    "    if os.path.isfile(subreadsfile):\n",
    "        print(\"Subreads file already exists: {0}\".format(subreadsfile))\n",
    "    \n",
    "    elif bam_already[seqrun]:\n",
    "        print(\"Looking for existing subreads file...\")\n",
    "        filepattern = os.path.join(seqdirs[seqrun], '*.subreads.bam')\n",
    "        existingfiles = glob.glob(filepattern)\n",
    "        assert existingfiles, \"No file matching expected pattern of {0}\".format(filepattern)\n",
    "        assert len(existingfiles) == 1, \"Expected one file, but found multiple:\\n{0}\".format(\n",
    "                '\\n'.join(existingfiles))\n",
    "        print(\"Copying subreads file {0} to {1}...\".format(existingfiles[0], subreadsfile))\n",
    "        shutil.copy(existingfiles[0], subreadsfile)\n",
    "        shutil.copy(existingfiles[0] + '.pbi', subreadsfile + '.pbi')\n",
    "        print(\"Completed copying file.\")\n",
    "    \n",
    "    else:\n",
    "        print(\"Building subreads using `bax2bam` version {0}\".format(\n",
    "                subprocess.check_output(['bax2bam', '--version']).decode('utf-8').strip()))\n",
    "        baxfiles = []\n",
    "        for (dpath, dirnames, fnames) in os.walk(seqdirs[seqrun]):\n",
    "            baxfiles += [os.path.join(dpath, fname) for fname in fnames if fname.endswith('.bax.h5')] \n",
    "        assert len(baxfiles) > 0, \"found no `*.bax.h5` files\"\n",
    "        print(\"Will build subreads from the following `*.bax.h5` files:\\n\\t{0}\".format(\n",
    "                '\\n\\t'.join(baxfiles)))\n",
    "        print(\"Now running `bax2bam`...\")\n",
    "        ! bax2bam \\\n",
    "                {' '.join(['\"' + x + '\"' for x in baxfiles])} \\\n",
    "                -o {subreadsfile.replace('.subreads.bam', '')} \\\n",
    "                --subread\n",
    "        print(\"Completed running `bax2bam` to create {0}\".format(subreadsfile))\n",
    "        assert os.path.isfile(subreadsfile)"
   ]
  },
  {
   "cell_type": "markdown",
   "metadata": {},
   "source": [
    "### Run `ccs` \n",
    "We build CCS's using PacBio's algorithm as implemented in the [ccs program](https://github.com/PacificBiosciences/unanimity/blob/develop/doc/PBCCS.md).\n",
    "\n",
    "We only want reasonably high-quality CCSs.\n",
    "The [ccs program](https://github.com/PacificBiosciences/unanimity/blob/master/doc/PBCCS.md) provides two ways to control the \"accuracy\" of reads.\n",
    "The first is the `--minPasses` option, which corresponds to how many subreads we require to call a circular consensus sequence.\n",
    "The second is the `--minPredictedAccuracy` option, which provides an explicit estimate of the accuracy.\n",
    "We will further post-process the CCSs, so we set reasonably high but not extremely stringent values: 3 passes, and at least 99.9% accuracy:"
   ]
  },
  {
   "cell_type": "code",
   "execution_count": 6,
   "metadata": {},
   "outputs": [
    {
     "name": "stdout",
     "output_type": "stream",
     "text": [
      "\n",
      "Running `ccs` for sequencing run 2017-06-08\n",
      "The `ccs` output already exists, so using that existing output.\n",
      "\n",
      "Running `ccs` for sequencing run 2017-12-07\n",
      "The `ccs` output already exists, so using that existing output.\n",
      "\n",
      "Here are statistics on the `ccs` results:\n"
     ]
    },
    {
     "data": {
      "image/png": "[encoded data removed]",
      "text/plain": [
       "<IPython.core.display.Image object>"
      ]
     },
     "metadata": {},
     "output_type": "display_data"
    },
    {
     "data": {
      "text/html": [
       "<table border=\"1\" class=\"dataframe\">\n",
       "  <thead>\n",
       "    <tr style=\"text-align: right;\">\n",
       "      <th>sample</th>\n",
       "      <th>status</th>\n",
       "      <th>number</th>\n",
       "      <th>fraction</th>\n",
       "    </tr>\n",
       "  </thead>\n",
       "  <tbody>\n",
       "    <tr>\n",
       "      <td>2017-12-07</td>\n",
       "      <td>Success -- CCS generated</td>\n",
       "      <td>209930</td>\n",
       "      <td>0.4428</td>\n",
       "    </tr>\n",
       "    <tr>\n",
       "      <td>2017-12-07</td>\n",
       "      <td>Failed -- Not enough full passes</td>\n",
       "      <td>152429</td>\n",
       "      <td>0.3215</td>\n",
       "    </tr>\n",
       "    <tr>\n",
       "      <td>2017-12-07</td>\n",
       "      <td>Failed -- CCS below minimum predicted accuracy</td>\n",
       "      <td>110974</td>\n",
       "      <td>0.2341</td>\n",
       "    </tr>\n",
       "    <tr>\n",
       "      <td>2017-06-08</td>\n",
       "      <td>Failed -- Not enough full passes</td>\n",
       "      <td>36289</td>\n",
       "      <td>0.3371</td>\n",
       "    </tr>\n",
       "    <tr>\n",
       "      <td>2017-06-08</td>\n",
       "      <td>Failed -- Below SNR threshold</td>\n",
       "      <td>24052</td>\n",
       "      <td>0.2235</td>\n",
       "    </tr>\n",
       "    <tr>\n",
       "      <td>2017-06-08</td>\n",
       "      <td>Failed -- CCS below minimum predicted accuracy</td>\n",
       "      <td>22063</td>\n",
       "      <td>0.2050</td>\n",
       "    </tr>\n",
       "    <tr>\n",
       "      <td>2017-06-08</td>\n",
       "      <td>Success -- CCS generated</td>\n",
       "      <td>18063</td>\n",
       "      <td>0.1678</td>\n",
       "    </tr>\n",
       "    <tr>\n",
       "      <td>2017-06-08</td>\n",
       "      <td>Failed -- No usable subreads</td>\n",
       "      <td>6810</td>\n",
       "      <td>0.0633</td>\n",
       "    </tr>\n",
       "  </tbody>\n",
       "</table>"
      ],
      "text/plain": [
       "<IPython.core.display.HTML object>"
      ]
     },
     "metadata": {},
     "output_type": "display_data"
    }
   ],
   "source": [
    "ccsdir = os.path.join(pacbioresultsdir, 'ccs')\n",
    "os.makedirs(ccsdir, exist_ok=True)\n",
    "\n",
    "ccslist = []\n",
    "for (seqrun, subreadsfile) in subreads.items():\n",
    "    print(\"\\nRunning `ccs` for sequencing run {0}\".format(seqrun))\n",
    "        \n",
    "    reportfile = os.path.join(ccsdir, seqrun + '_report.csv')\n",
    "    bamfile = os.path.join(ccsdir, seqrun + '_ccs.bam')\n",
    "    logfile = os.path.join(ccsdir, seqrun + '_log.txt')\n",
    "        \n",
    "    if all(map(os.path.isfile, [reportfile, bamfile])):\n",
    "        print(\"The `ccs` output already exists, so using that existing output.\")\n",
    "    else:  \n",
    "        print(\"Running {0}...\".format(\n",
    "                subprocess.check_output(['ccs', '--version']).decode(\n",
    "                'utf-8').strip()))\n",
    "        ! ccs \\\n",
    "            --minLength 100 \\\n",
    "            --maxLength 5000 \\\n",
    "            --minPasses 3 \\\n",
    "            --minPredictedAccuracy 0.999 \\\n",
    "            --logFile {logfile} \\\n",
    "            --reportFile {reportfile} \\\n",
    "            --polish \\\n",
    "            --numThreads {ncpus} \\\n",
    "            {subreadsfile} \\\n",
    "            {bamfile}\n",
    "        print(\"Completed `ccs` run.\")\n",
    "        \n",
    "    ccslist.append(dms_tools2.pacbio.CCS(seqrun, bamfile, reportfile))\n",
    "\n",
    "print(\"\\nHere are statistics on the `ccs` results:\")\n",
    "zmw_plot = os.path.join(ccsdir, 'ZMW_plot.pdf')\n",
    "showPDF(zmw_plot)\n",
    "\n",
    "ccs_report = dms_tools2.pacbio.summarizeCCSreports(\n",
    "                ccslist, 'zmw', zmw_plot)\n",
    "display(HTML(ccs_report.query('fraction > 0.005').to_html(index=False)))"
   ]
  },
  {
   "cell_type": "markdown",
   "metadata": {},
   "source": [
    "## Process CCS's\n",
    "The PacBio sequencing was performed on PCR-amplified product.\n",
    "This PCR product was amplified off the 10X barcoded material using semi-specific PCR with one end specifically annealing to flu transcripts.\n",
    "We want to identify the CCS's that represent properly barcoded 10X material from influenza genes, and then call the barcodes and align the genes to the influenza genome.\n",
    "\n",
    "### Features of barcoded CCSs\n",
    "This [10X technical note](https://teichlab.github.io/scg_lib_structs/data/CG000108_AssayConfiguration_SC3v2.pdf) outlines the sequences appended by the v2 10X single-cell 3' kit used in these experiments. \n",
    "Specifically:\n",
    "![./data/images/10Xschematic.png](./data/images/10Xschematic.png)\n",
    "\n",
    "Zooming in on the 3' adaptor sequence, it is:\n",
    "`CTACACGACGCTCTTCCGATCT-NNNNNNNNNNNNNNNN-NNNNNNNNNN-TTTTTTTTTTTTTTTTTTTTTTTTTTTTTTVN` where the dash-delimited sequences are the read-1 priming site, the 16XN cell barcode, the 10XN UMI, the 30XT oligo-dT primer, followed by `V` (anything but `T`) and `N` (nominally, first nucleotide of upstream of mRNA polyA tail).\n",
    "\n",
    "For the PCR to enrich the 10X product, Alistair used a 3' primer that anneals to this adaptor, namely:"
   ]
  },
  {
   "cell_type": "code",
   "execution_count": 7,
   "metadata": {},
   "outputs": [
    {
     "name": "stdout",
     "output_type": "stream",
     "text": [
      "The length of the 3' primer is 22 nt\n"
     ]
    }
   ],
   "source": [
    "primer3 = 'CTACACGACGCTCTTCCGATCT'\n",
    "print(\"The length of the 3' primer is {0} nt\".format(len(primer3)))"
   ]
  },
  {
   "cell_type": "markdown",
   "metadata": {},
   "source": [
    "For the 5' primer, Alistair used a mix of primers that covered each of the 8 flu gene segments:"
   ]
  },
  {
   "cell_type": "code",
   "execution_count": 8,
   "metadata": {},
   "outputs": [
    {
     "name": "stdout",
     "output_type": "stream",
     "text": [
      "The length of the 5' primer ranges from 22 to 34 nt\n"
     ]
    }
   ],
   "source": [
    "primer5_mix = {'PB2':'GCGAAAGCAGGTCAATTATATTCAATATGGAAAG',\n",
    "               'PB1':'GCGAAAGCAGGCAAACCATTTG',\n",
    "               'PA':'GCGAAAGCAGGTACTGATTCAAAATGG',\n",
    "               'HA':'GCAAAAGCAGGGGAAAATAAAAACAACC',\n",
    "               'NP':'GCAAAAGCAGGGTAGATAATCACTCAC',\n",
    "               'NA':'GCGAAAGCAGGAGTTTAAATGAATCCAAAC',\n",
    "               'M':'GCAAAAGCAGGTAGATATTGAAAGATGAGTC',\n",
    "               'NS':'GCAAAAGCAGGGTGACAAAGACATAATG',\n",
    "              }\n",
    "print(\"The length of the 5' primer ranges from {0} to {1} nt\".format(\n",
    "        min(map(len, primer5_mix.values())), max(map(len, primer5_mix.values()))))"
   ]
  },
  {
   "cell_type": "markdown",
   "metadata": {},
   "source": [
    "### Flu mRNA alignment targets\n",
    "We want to align the barcoded sequences to the flu mRNAs.\n",
    "We will just align to the wildtype flu sequences, and then call the synonymous barcodes later.\n",
    "The flu mRNA sequences are in [./data/flu_sequences/flu-wsn-mRNA.fasta](./data/flu_sequences/flu-wsn-mRNA.fasta).\n",
    "We want to align to the sequence **interior** to the primer binding sites defined above: the region between the custom 5' primer and the polyA tail.\n",
    "We therefore read in the mRNAs, and then trim each from the 5' termini to the end of the primer binding site, and then write these to a file to use as the alignment targets:"
   ]
  },
  {
   "cell_type": "code",
   "execution_count": 9,
   "metadata": {},
   "outputs": [
    {
     "name": "stdout",
     "output_type": "stream",
     "text": [
      "Aligning to a 2285 nt region of fluPB2\n",
      "Aligning to a 2297 nt region of fluPB1\n",
      "Aligning to a 2183 nt region of fluPA\n",
      "Aligning to a 1725 nt region of fluHA\n",
      "Aligning to a 1516 nt region of fluNP\n",
      "Aligning to a 1357 nt region of fluNA\n",
      "Aligning to a 973 nt region of fluM1\n",
      "Aligning to a 285 nt region of fluM2\n",
      "Aligning to a 839 nt region of fluNS1\n",
      "Aligning to a 367 nt region of fluNS2\n"
     ]
    }
   ],
   "source": [
    "targets = []\n",
    "for full_mRNA in Bio.SeqIO.parse('./data/flu_sequences/flu-wsn-mRNA.fasta', 'fasta'):\n",
    "    full_mRNA_seq = str(full_mRNA.seq)\n",
    "    primer = [p for p in primer5_mix.values() if full_mRNA_seq.count(p)]\n",
    "    assert len(primer) == 1, \"matched multiple primers in {0}\".format(full_mRNA.name)\n",
    "    targetseq = full_mRNA_seq[full_mRNA_seq.index(primer[0]) + len(primer[0]) : ]\n",
    "    print(\"Aligning to a {0} nt region of {1}\".format(len(targetseq), full_mRNA.name))\n",
    "    targets.append((full_mRNA.name, targetseq))\n",
    "\n",
    "aligndir = os.path.join(pacbioresultsdir, 'alignments')\n",
    "os.makedirs(aligndir, exist_ok=True)\n",
    "targetfile = os.path.join(aligndir, 'targets.fasta')\n",
    "with open(targetfile, 'w') as f:\n",
    "    f.write('\\n'.join('>{0}\\n{1}'.format(*tup) for tup in targets))"
   ]
  },
  {
   "cell_type": "markdown",
   "metadata": {},
   "source": [
    "### Match and align barcoded CCSs\n",
    "We use the function `dms_tools2.pacbio.matchAndAlignCCS` to go through the CCS's, find the ones that are \"barcoded\" (have the proper elements), and the align these barcoded genes.\n",
    "All the results go into a pandas data frame.\n",
    "\n",
    "Specifically, we look for CCS's that have:\n",
    "  - Any 5' primer from Alistair's mix, trimmed a bit at the start since the first few nucleotides in the CCS might be off. We call this *termini5*.\n",
    "  - The mRNA itself, which we call the *gene*.\n",
    "  - The polyA tail, which is effectively a spacer between the *gene* and the *UMI* / *barcode*. We allow the polyA to be somewhat longer / shorter than the expected 30 `A`'s from 10X primer. We call this the *spacer*.\n",
    "  - The 10-nucleotide UMI from the 10X primer, which we call *UMI*.\n",
    "  - The 16-nucleotide cell barcode from the 10X primer, which we call *barcode*.\n",
    "  - The 3' primer that Alistair used, which anneals in the read 1 primer binding site on the 10X primer. We call this *termini3*.\n",
    "  \n",
    "We don't require a match to the first 5 nt of each termini, as sometimes the ends of the CCS's can be \"sloppy\":"
   ]
  },
  {
   "cell_type": "code",
   "execution_count": 22,
   "metadata": {},
   "outputs": [
    {
     "name": "stdout",
     "output_type": "stream",
     "text": [
      "Performing alignments with minimap2 version 2.10-r761\n"
     ]
    }
   ],
   "source": [
    "mapper = dms_tools2.minimap2.Mapper(targetfile,\n",
    "        dms_tools2.minimap2.OPTIONS_VIRUS_W_DEL)\n",
    "print(\"Performing alignments with minimap2 version {0}\".format(mapper.version))\n",
    "\n",
    "trim_ends = 5 # trim this many off each termini\n",
    "\n",
    "df = dms_tools2.pacbio.matchAndAlignCCS(\n",
    "        ccslist=ccslist,\n",
    "        mapper=mapper,\n",
    "        termini5='|'.join([s[trim_ends : ] for s in primer5_mix.values()]),\n",
    "        gene='N+',\n",
    "        spacer='A{25,35}',\n",
    "        umi='N{10}',\n",
    "        barcode='N{16}',\n",
    "        termini3=dms_tools2.utils.reverseComplement(primer3)[ : trim_ends]\n",
    "        )"
   ]
  },
  {
   "cell_type": "code",
   "execution_count": 23,
   "metadata": {},
   "outputs": [
    {
     "data": {
      "text/plain": [
       "gene_aligned  CCS_aligned  samplename\n",
       "False         False        2017-06-08     13608\n",
       "                           2017-12-07    162724\n",
       "              True         2017-06-08       912\n",
       "                           2017-12-07     10876\n",
       "True          True         2017-06-08      3543\n",
       "                           2017-12-07     36330\n",
       "dtype: int64"
      ]
     },
     "execution_count": 23,
     "metadata": {},
     "output_type": "execute_result"
    }
   ],
   "source": [
    "df.groupby(['gene_aligned', 'CCS_aligned', 'samplename']).size()"
   ]
  }
 ],
 "metadata": {
  "kernelspec": {
   "display_name": "Python 3",
   "language": "python",
   "name": "python3"
  },
  "language_info": {
   "codemirror_mode": {
    "name": "ipython",
    "version": 3
   },
   "file_extension": ".py",
   "mimetype": "text/x-python",
   "name": "python",
   "nbconvert_exporter": "python",
   "pygments_lexer": "ipython3",
   "version": "3.6.4"
  },
  "toc": {
   "nav_menu": {},
   "number_sections": false,
   "sideBar": true,
   "skip_h1_title": false,
   "toc_cell": true,
   "toc_position": {},
   "toc_section_display": "block",
   "toc_window_display": true
  }
 },
 "nbformat": 4,
 "nbformat_minor": 2
}
